{
 "cells": [
  {
   "cell_type": "code",
   "execution_count": 2,
   "metadata": {},
   "outputs": [],
   "source": [
    "# prepare libraries\n",
    "import networkx as nx\n",
    "import pandas as pd\n",
    "import numpy as np\n",
    "from urllib import request # read files\n",
    "import re\n",
    "import os\n",
    "import matplotlib.pyplot as plt\n",
    "import nltk\n",
    "from nltk.corpus import stopwords\n",
    "from nltk.corpus import state_union\n",
    "from nltk.corpus import brown\n",
    "from nltk.corpus import stopwords\n",
    "from nltk.tokenize import word_tokenize\n",
    "from nltk.corpus import words\n",
    "from ast import literal_eval # transform data type\n",
    "from collections import Counter\n",
    "from wordcloud import WordCloud, STOPWORDS # wordcloud\n",
    "import json # parse json file"
   ]
  },
  {
   "cell_type": "code",
   "execution_count": 3,
   "metadata": {},
   "outputs": [],
   "source": [
    "df_characters = pd.read_csv(\"./ZeldaBotW_nodes_w_attributes_enriched.csv\")\n",
    "name_lst = list(df_characters.Name)"
   ]
  },
  {
   "cell_type": "code",
   "execution_count": null,
   "metadata": {},
   "outputs": [],
   "source": []
  },
  {
   "cell_type": "markdown",
   "metadata": {},
   "source": [
    "# Part A: Communities TF-IDF word-clouds"
   ]
  },
  {
   "cell_type": "markdown",
   "metadata": {},
   "source": [
    "## _Exercise 1_\n",
    "### calculating at the TF list for each community.\n",
    "Use the same code you've written in ex. 7."
   ]
  },
  {
   "cell_type": "code",
   "execution_count": 5,
   "metadata": {},
   "outputs": [],
   "source": [
    "undir_larG = nx.read_gpickle(\"./zelda_undirGCC.pkl\")"
   ]
  },
  {
   "cell_type": "markdown",
   "metadata": {},
   "source": [
    "**Get communities**"
   ]
  },
  {
   "cell_type": "code",
   "execution_count": 6,
   "metadata": {},
   "outputs": [],
   "source": [
    "import community.community_louvain as community_louvain\n",
    "partition = community_louvain.best_partition(undir_larG)\n",
    "\n",
    "size = float(len(set(partition.values())))\n",
    "pos = nx.spring_layout(undir_larG)\n",
    "count = 0.\n",
    "# bulid a list contains graphs of each community.\n",
    "btow_communities = []\n",
    "for com in set(partition.values()) :\n",
    "    count = count + 1.\n",
    "    # get characters in the same community\n",
    "    list_nodes = [nodes for nodes in partition.keys()\n",
    "                                if partition[nodes] == com]\n",
    "    # append each community's graph to the list\n",
    "    btow_communities.append(undir_larG.subgraph(list_nodes))"
   ]
  },
  {
   "cell_type": "markdown",
   "metadata": {},
   "source": [
    "**Creating Nc documents**<br>\n",
    "(Nc:the number of communities have found)"
   ]
  },
  {
   "cell_type": "markdown",
   "metadata": {},
   "source": [
    "Dictionaries we need:\n",
    "1. key: characters, value: description tokens\n",
    "2. key: communities, value: description tokesn This can be achieved by graphs."
   ]
  },
  {
   "cell_type": "code",
   "execution_count": 44,
   "metadata": {},
   "outputs": [],
   "source": [
    "# count TF of given graph and return a list\n"
   ]
  },
  {
   "cell_type": "markdown",
   "metadata": {},
   "source": [
    "**Find the top 5 terms within each community.**"
   ]
  },
  {
   "cell_type": "code",
   "execution_count": null,
   "metadata": {},
   "outputs": [],
   "source": []
  },
  {
   "cell_type": "markdown",
   "metadata": {},
   "source": [
    "### calculate IDF for every word in every list "
   ]
  },
  {
   "cell_type": "code",
   "execution_count": null,
   "metadata": {},
   "outputs": [],
   "source": []
  },
  {
   "cell_type": "markdown",
   "metadata": {},
   "source": [
    "# Part B - Topic Modeling"
   ]
  },
  {
   "cell_type": "code",
   "execution_count": null,
   "metadata": {},
   "outputs": [],
   "source": []
  },
  {
   "cell_type": "markdown",
   "metadata": {},
   "source": [
    "# Part C - Sentiment analysis"
   ]
  },
  {
   "cell_type": "markdown",
   "metadata": {},
   "source": [
    "## Exercise 4: Dictionary-based sentiment within the communities data."
   ]
  },
  {
   "cell_type": "markdown",
   "metadata": {},
   "source": [
    "**Explaintion**\n",
    "A dataset containing words, average happiness score (polarity), standard deviations, and rankings.\n",
    "* word. The word.\n",
    "* happiness_rank. Happiness ranking of words based on average happiness scores.\n",
    "* happiness_average. Average happiness score.\n",
    "* happiness_standard_deviation. Standard deviations of the happiness scores.\n",
    "* twitter_rank. Twitter ranking of the word.\n",
    "* google_rank. Google ranking of the word.\n",
    "* nyt_rank. New York Times ranking of the word.\n",
    "* lyrics_rank. lyrics ranking of the word."
   ]
  },
  {
   "cell_type": "code",
   "execution_count": 7,
   "metadata": {
    "scrolled": false
   },
   "outputs": [
    {
     "data": {
      "text/html": [
       "<div>\n",
       "<style scoped>\n",
       "    .dataframe tbody tr th:only-of-type {\n",
       "        vertical-align: middle;\n",
       "    }\n",
       "\n",
       "    .dataframe tbody tr th {\n",
       "        vertical-align: top;\n",
       "    }\n",
       "\n",
       "    .dataframe thead th {\n",
       "        text-align: right;\n",
       "    }\n",
       "</style>\n",
       "<table border=\"1\" class=\"dataframe\">\n",
       "  <thead>\n",
       "    <tr style=\"text-align: right;\">\n",
       "      <th></th>\n",
       "      <th>word</th>\n",
       "      <th>happiness_rank</th>\n",
       "      <th>happiness_average</th>\n",
       "      <th>happiness_standard_deviation</th>\n",
       "      <th>twitter_rank</th>\n",
       "      <th>google_rank</th>\n",
       "      <th>nyt_rank</th>\n",
       "      <th>lyrics_rank</th>\n",
       "    </tr>\n",
       "  </thead>\n",
       "  <tbody>\n",
       "    <tr>\n",
       "      <th>0</th>\n",
       "      <td>laughter</td>\n",
       "      <td>1</td>\n",
       "      <td>8.50</td>\n",
       "      <td>0.9313</td>\n",
       "      <td>3600</td>\n",
       "      <td>--</td>\n",
       "      <td>--</td>\n",
       "      <td>1728</td>\n",
       "    </tr>\n",
       "    <tr>\n",
       "      <th>1</th>\n",
       "      <td>happiness</td>\n",
       "      <td>2</td>\n",
       "      <td>8.44</td>\n",
       "      <td>0.9723</td>\n",
       "      <td>1853</td>\n",
       "      <td>2458</td>\n",
       "      <td>--</td>\n",
       "      <td>1230</td>\n",
       "    </tr>\n",
       "    <tr>\n",
       "      <th>2</th>\n",
       "      <td>love</td>\n",
       "      <td>3</td>\n",
       "      <td>8.42</td>\n",
       "      <td>1.1082</td>\n",
       "      <td>25</td>\n",
       "      <td>317</td>\n",
       "      <td>328</td>\n",
       "      <td>23</td>\n",
       "    </tr>\n",
       "    <tr>\n",
       "      <th>3</th>\n",
       "      <td>happy</td>\n",
       "      <td>4</td>\n",
       "      <td>8.30</td>\n",
       "      <td>0.9949</td>\n",
       "      <td>65</td>\n",
       "      <td>1372</td>\n",
       "      <td>1313</td>\n",
       "      <td>375</td>\n",
       "    </tr>\n",
       "    <tr>\n",
       "      <th>4</th>\n",
       "      <td>laughed</td>\n",
       "      <td>5</td>\n",
       "      <td>8.26</td>\n",
       "      <td>1.1572</td>\n",
       "      <td>3334</td>\n",
       "      <td>3542</td>\n",
       "      <td>--</td>\n",
       "      <td>2332</td>\n",
       "    </tr>\n",
       "  </tbody>\n",
       "</table>\n",
       "</div>"
      ],
      "text/plain": [
       "        word  happiness_rank  happiness_average  happiness_standard_deviation  \\\n",
       "0   laughter               1               8.50                        0.9313   \n",
       "1  happiness               2               8.44                        0.9723   \n",
       "2       love               3               8.42                        1.1082   \n",
       "3      happy               4               8.30                        0.9949   \n",
       "4    laughed               5               8.26                        1.1572   \n",
       "\n",
       "  twitter_rank google_rank nyt_rank lyrics_rank  \n",
       "0         3600          --       --        1728  \n",
       "1         1853        2458       --        1230  \n",
       "2           25         317      328          23  \n",
       "3           65        1372     1313         375  \n",
       "4         3334        3542       --        2332  "
      ]
     },
     "execution_count": 7,
     "metadata": {},
     "output_type": "execute_result"
    }
   ],
   "source": [
    "labMIT = pd.read_csv('./LabMIT-1.0.txt',header=2,sep='\\t')\n",
    "labMIT.head()"
   ]
  },
  {
   "cell_type": "code",
   "execution_count": 8,
   "metadata": {
    "scrolled": true
   },
   "outputs": [],
   "source": [
    "# read file\n",
    "with open('CharactersDialogue.json',mode='r',encoding='utf-8') as f:\n",
    "    text = f.read()\n",
    "\n",
    "# parse file\n",
    "dialogues = json.loads(text)"
   ]
  },
  {
   "cell_type": "markdown",
   "metadata": {},
   "source": [
    "**`dialogues` is a dictionary with character names as key and their dialogues(list) as value**"
   ]
  },
  {
   "cell_type": "code",
   "execution_count": 9,
   "metadata": {},
   "outputs": [],
   "source": [
    "# Preprocess: get rid of weird letters\n",
    "for key,value in dialogues.items():\n",
    "    for i,sentence in enumerate(value):\n",
    "        value[i] = re.sub(\"[^a-zA-Z0-9， \\，\\']+\", \"\",sentence)"
   ]
  },
  {
   "cell_type": "code",
   "execution_count": 10,
   "metadata": {},
   "outputs": [
    {
     "name": "stdout",
     "output_type": "stream",
     "text": [
      "475 characters have dialogues\n"
     ]
    }
   ],
   "source": [
    "print(len(dialogues),'characters have dialogues')"
   ]
  },
  {
   "cell_type": "markdown",
   "metadata": {},
   "source": [
    "Not all characters in the network have data (especially enemies and bosses). Thus, **we will consider just communities with nodes having some dialogue in the following.**"
   ]
  },
  {
   "cell_type": "markdown",
   "metadata": {},
   "source": [
    "###  calculates sentiment given a list of tokens"
   ]
  },
  {
   "cell_type": "code",
   "execution_count": 11,
   "metadata": {},
   "outputs": [],
   "source": [
    "# get a name list so to exclude them in our text\n",
    "# collecting names with word_tokenize which will differentiate first name and second name while remaining special characters\n",
    "splited_name_lst = []\n",
    "for i in name_lst:\n",
    "    tokens = nltk.word_tokenize(i)\n",
    "    if len(tokens) < 4:\n",
    "        splited_name_lst.extend(tokens)\n",
    "    # for names with '()' e.g. XXX(Breath of the wind),XXX(Hylian)\n",
    "    elif '(' in tokens:\n",
    "        if len(tokens) > 6:\n",
    "            splited_name_lst.extend(tokens[0:-6])\n",
    "        else:\n",
    "            splited_name_lst.extend(tokens[0:-3])"
   ]
  },
  {
   "cell_type": "code",
   "execution_count": 12,
   "metadata": {},
   "outputs": [],
   "source": [
    "# def a function that calculates sentiment given a list of tokens\n",
    "def calculate_sentiment(dialogue_list):\n",
    "    # Firstly,turn dialogue lists to tokens——这部分可以拿出来见get_dialogue_tokens()\n",
    "    # Step1: tokenize the sentences.\n",
    "    # combine each list element to text, seperated with space\n",
    "    raw_tokens = nltk.wordpunct_tokenize(' '.join(dialogue_list))\n",
    "    # exclude names\n",
    "    name_excluded_tokens = [i for i in raw_tokens if i.lower() not in splited_name_lst]\n",
    "    # Step2: lemmatize\n",
    "    wnl = nltk.WordNetLemmatizer()\n",
    "    stpwds = stopwords.words('english')\n",
    "    lemma_dialogues = [wnl.lemmatize(t) for t in name_excluded_tokens \\\n",
    "                           if t.lower() not in stpwds and t.isalpha()]\n",
    "    # Step3: set each token to lower case\n",
    "    lower_dialogues = [w.lower() for w in lemma_dialogues]\n",
    "    \n",
    "    # Secondly, calculate sentiment based on LabMIT\n",
    "    # Step1: generate a freq dict of these tokens\n",
    "    fdist = nltk.FreqDist(nltk.Text(lower_dialogues))\n",
    "    # Step2: match existing tokens in labMIT txt so to calculate sentiment score\n",
    "    dict_sentiment = {}\n",
    "    for token in fdist.keys():\n",
    "        if token in labMIT['word'].values:\n",
    "            # calculate each token's sentiment score and save word with it to our dict\n",
    "            # get corresponding word's happiness_average score within labMIT df\n",
    "            weights = fdist[token]\n",
    "            score = float(labMIT.happiness_average[labMIT['word'].isin([token])])\n",
    "            dict_sentiment[token] = weights*score\n",
    "            \n",
    "    # calculate weighted mean of sentiment for all tokens\n",
    "    weighted_mean = sum(dict_sentiment.values())/len(lower_dialogues)\n",
    "    return weighted_mean"
   ]
  },
  {
   "cell_type": "code",
   "execution_count": null,
   "metadata": {},
   "outputs": [],
   "source": [
    "# enter a list of dialogues return its processed token list\n",
    "def get_dialogue_tokens():\n",
    "    # Firstly,turn dialogue lists to tokens — 这个部分可以拿出来单独设一个更方便,见3.3.1\n",
    "    # Step1: tokenize the sentences.\n",
    "    # combine each list element to text, seperated with space\n",
    "    raw_tokens = nltk.wordpunct_tokenize(' '.join(dialogue_list))\n",
    "    # exclude names\n",
    "    name_excluded_tokens = [i for i in raw_tokens if i.lower() not in splited_name_lst]\n",
    "    # Step2: lemmatize\n",
    "    wnl = nltk.WordNetLemmatizer()\n",
    "    stpwds = stopwords.words('english')\n",
    "    lemma_dialogues = [wnl.lemmatize(t) for t in name_excluded_tokens \\\n",
    "                           if t.lower() not in stpwds and t.isalpha()]\n",
    "    # Step3: set each token to lower case\n",
    "    lower_dialogues = [w.lower() for w in lemma_dialogues]"
   ]
  },
  {
   "cell_type": "markdown",
   "metadata": {},
   "source": [
    "### Iterate over the nodes in your network, tokenize each sentence, and calculate the average sentiment of every character.Have sentiment as a new nodal property."
   ]
  },
  {
   "cell_type": "code",
   "execution_count": 13,
   "metadata": {
    "scrolled": false
   },
   "outputs": [],
   "source": [
    "# Iterate over the nodes in your network\n",
    "for node in undir_larG.nodes():\n",
    "    if node in dialogues.keys():\n",
    "        # have sentiment as a new nodal property\n",
    "        undir_larG.add_node(node,\\\n",
    "                            sentiment=calculate_sentiment(dialogues[node]))"
   ]
  },
  {
   "cell_type": "markdown",
   "metadata": {},
   "source": [
    "**Since we add new attribute to our nodes so we need to reload communities as well to update nodes attributes within our communities**"
   ]
  },
  {
   "cell_type": "code",
   "execution_count": 16,
   "metadata": {},
   "outputs": [],
   "source": [
    "import community.community_louvain as community_louvain\n",
    "partition = community_louvain.best_partition(undir_larG)\n",
    "\n",
    "count = 0.\n",
    "# bulid a list contains graphs of each community.\n",
    "btow_communities = []\n",
    "for com in set(partition.values()) :\n",
    "    count = count + 1.\n",
    "    # get characters in the same community\n",
    "    list_nodes = [nodes for nodes in partition.keys()\n",
    "                                if partition[nodes] == com]\n",
    "    # append each community's graph to the list\n",
    "    btow_communities.append(undir_larG.subgraph(list_nodes))"
   ]
  },
  {
   "cell_type": "markdown",
   "metadata": {},
   "source": [
    "### Create a histogram of all character's associated dialogue-sentiments."
   ]
  },
  {
   "cell_type": "code",
   "execution_count": 19,
   "metadata": {
    "scrolled": false
   },
   "outputs": [
    {
     "data": {
      "text/plain": [
       "Text(0.5, 0, 'character counts')"
      ]
     },
     "execution_count": 19,
     "metadata": {},
     "output_type": "execute_result"
    },
    {
     "data": {
      "text/plain": [
       "<Figure size 1080x720 with 0 Axes>"
      ]
     },
     "metadata": {},
     "output_type": "display_data"
    },
    {
     "data": {
      "image/png": "[encoded data removed]",
      "text/plain": [
       "<Figure size 432x288 with 1 Axes>"
      ]
     },
     "metadata": {
      "needs_background": "light"
     },
     "output_type": "display_data"
    }
   ],
   "source": [
    "y = np.array(list((btow_sentiment).values()))\n",
    "x = range(len(btow_sentiment))\n",
    "\n",
    "plt.figure(figsize=(15,10))\n",
    "fig, ax = plt.subplots()\n",
    "# add error bars \n",
    "std_error = np.std(y, ddof=1) / np.sqrt(len(y))\n",
    "ax.bar(x=np.arange(len(y)), #x-coordinates of bars\n",
    "       height=y, #height of bars\n",
    "       yerr=std_error, #error bar width\n",
    "       capsize=4) #length of error bar caps\n",
    "# add average line\n",
    "plt.axhline(y=y.mean(), color='blue', linewidth=2)\n",
    "# add more details\n",
    "plt.title('Zelda BtoW character\\'s associated dialogue-sentiments')\n",
    "plt.ylabel('dialogue-sentiments')\n",
    "plt.xlabel('character counts')"
   ]
  },
  {
   "cell_type": "markdown",
   "metadata": {},
   "source": [
    "### What are the 10 characters with happiest and saddest pages?\n"
   ]
  },
  {
   "cell_type": "code",
   "execution_count": 18,
   "metadata": {},
   "outputs": [],
   "source": [
    "btow_sentiment = nx.get_node_attributes(undir_larG,'sentiment')\n",
    "# sort sentiment from high to low\n",
    "btow_sentiment = dict(sorted(btow_sentiment.items(), key=lambda x: x[1], reverse=True))"
   ]
  },
  {
   "cell_type": "markdown",
   "metadata": {},
   "source": [
    "**The 10 characters with happiest pages**"
   ]
  },
  {
   "cell_type": "code",
   "execution_count": 21,
   "metadata": {},
   "outputs": [
    {
     "data": {
      "text/plain": [
       "['Toren',\n",
       " 'Canni',\n",
       " 'Breen',\n",
       " 'Piaffe',\n",
       " 'Shamae',\n",
       " 'Kish',\n",
       " 'Ozunda',\n",
       " 'Padok',\n",
       " 'Tulin',\n",
       " 'Tenne']"
      ]
     },
     "execution_count": 21,
     "metadata": {},
     "output_type": "execute_result"
    }
   ],
   "source": [
    "top10_happiest_characters_labMIT = list(btow_sentiment.keys())[:10]\n",
    "top10_happiest_characters_labMIT"
   ]
  },
  {
   "cell_type": "markdown",
   "metadata": {},
   "source": [
    "**The 10 characters with saddest pages**"
   ]
  },
  {
   "cell_type": "code",
   "execution_count": 22,
   "metadata": {
    "scrolled": true
   },
   "outputs": [
    {
     "data": {
      "text/plain": [
       "['Walton',\n",
       " 'Palme',\n",
       " 'Chaas Qeta',\n",
       " 'Muwo Jeem',\n",
       " 'Soh Kofi',\n",
       " 'Mozo Shenno',\n",
       " 'Hia Miu',\n",
       " 'Goma Asaagh',\n",
       " 'Sasa Kai',\n",
       " 'Kema Kosassa']"
      ]
     },
     "execution_count": 22,
     "metadata": {},
     "output_type": "execute_result"
    }
   ],
   "source": [
    "top10_saddest_characters_labMIT = list(btow_sentiment.keys())[-1:-11:-1]\n",
    "top10_saddest_characters_labMIT"
   ]
  },
  {
   "cell_type": "markdown",
   "metadata": {},
   "source": [
    "### Create a bar plot showing the average sentiment of each community and add error-bars using the standard deviation for both methods."
   ]
  },
  {
   "cell_type": "markdown",
   "metadata": {},
   "source": [
    "**Firstly, we calculate the sentiment of each node in a community and average the sum to get a sentiment score for this community.**"
   ]
  },
  {
   "cell_type": "code",
   "execution_count": 52,
   "metadata": {},
   "outputs": [],
   "source": [
    "sentiments_of_communities = {}\n",
    "for i in range(len(btow_communities)):\n",
    "    sum_sentiment = sum(nx.get_node_attributes(btow_communities[i],'sentiment').values())\n",
    "    length = len(btow_communities[i].nodes())\n",
    "    single_sentiment = sum_sentiment/length\n",
    "    sentiments_of_communities[i] = single_sentiment"
   ]
  },
  {
   "cell_type": "code",
   "execution_count": 51,
   "metadata": {
    "scrolled": false
   },
   "outputs": [
    {
     "data": {
      "text/plain": [
       "Text(0.5, 0, 'Community')"
      ]
     },
     "execution_count": 51,
     "metadata": {},
     "output_type": "execute_result"
    },
    {
     "data": {
      "image/png": "[encoded data removed]",
      "text/plain": [
       "<Figure size 720x360 with 1 Axes>"
      ]
     },
     "metadata": {
      "needs_background": "light"
     },
     "output_type": "display_data"
    }
   ],
   "source": [
    "y = np.array(list((sentiments_of_communities).values()))\n",
    "x = range(len(sentiments_of_communities))\n",
    "\n",
    "fig, ax = plt.subplots(figsize=(10,5))\n",
    "# add error bars \n",
    "std_error = np.std(y, ddof=1) / np.sqrt(len(y))\n",
    "ax.bar(x=np.arange(len(y)), #x-coordinates of bars\n",
    "       height=y, #height of bars\n",
    "       yerr=std_error, #error bar width\n",
    "       capsize=4) #length of error bar caps\n",
    "# add average line\n",
    "plt.axhline(y=y.mean(), color='blue', linewidth=2)\n",
    "# add more details\n",
    "# set xticks by community names which is defined in 3.1.6\n",
    "plt.xticks([i for i in range(len(sentiments_of_communities))], communities_name, rotation = '90')\n",
    "plt.title('Zelda BtoW community\\'s associated dialogue-sentiments based on labMIT')\n",
    "plt.ylabel('community sentiments')\n",
    "plt.xlabel('Community')"
   ]
  },
  {
   "cell_type": "markdown",
   "metadata": {},
   "source": [
    "### Name each community by its three most connected characters."
   ]
  },
  {
   "cell_type": "markdown",
   "metadata": {},
   "source": [
    "Previously, I have set my community number in a dictionary with its sentimnet score according to its index saved in the network subgraphs of communities. So we can continue indexing them by these numbers"
   ]
  },
  {
   "cell_type": "code",
   "execution_count": 25,
   "metadata": {},
   "outputs": [],
   "source": [
    "# def a function to name a community by its three most connected characters(found by rank node degrees)\n",
    "# parameter: the index number of a community within our btow network\n",
    "def name_community(number):\n",
    "    node_degrees = dict(sorted(btow_communities[number].degree(), key=lambda x: x[1], reverse=True))\n",
    "    top3_connected_nodes = list(node_degrees.keys())[:3]\n",
    "    name = '_'.join(top3_connected_nodes)\n",
    "    # variable cannot be seperated by space\n",
    "    if ' ' in name:\n",
    "        name = name.replace(' ','_')\n",
    "    return name"
   ]
  },
  {
   "cell_type": "code",
   "execution_count": 39,
   "metadata": {
    "scrolled": true
   },
   "outputs": [],
   "source": [
    "communities_name = []\n",
    "for i in range(len(btow_communities)):\n",
    "    communities_name.append(name_community(i))"
   ]
  },
  {
   "cell_type": "code",
   "execution_count": 27,
   "metadata": {},
   "outputs": [
    {
     "data": {
      "text/plain": [
       "['Savelle_Baddek_Nazbi',\n",
       " 'Banji_Canni_Chork',\n",
       " 'Impa_Purah_Princess_Zelda',\n",
       " 'Bokoblin_Lizalfos_Moblin',\n",
       " 'Water_Octorok_Snow_Octorok_Treasure_Octorok',\n",
       " 'Guardian_Stalker_Guardian_Turret_Guardian_Skywatcher',\n",
       " 'Steen_Olkin_Ollie',\n",
       " 'Chumin_Spinch_(Hylian)_Spinch_(Horse)',\n",
       " 'Riju_Traysi_Naydra',\n",
       " 'Link_Vilia_Darton']"
      ]
     },
     "execution_count": 27,
     "metadata": {},
     "output_type": "execute_result"
    }
   ],
   "source": [
    "# this list contains the name for all communities and it's order aligned with corresponding community index\n",
    "communities_name[:10]"
   ]
  },
  {
   "cell_type": "code",
   "execution_count": 45,
   "metadata": {},
   "outputs": [],
   "source": [
    "# assign variable name to each community\n",
    "count = 0\n",
    "nm = locals()\n",
    "for i in communities_name:\n",
    "    nm[i] = btow_communities[count]\n",
    "    count+=1"
   ]
  },
  {
   "cell_type": "code",
   "execution_count": 46,
   "metadata": {
    "scrolled": false
   },
   "outputs": [
    {
     "data": {
      "text/plain": [
       "<networkx.classes.graph.Graph at 0x1c56d477c40>"
      ]
     },
     "execution_count": 46,
     "metadata": {},
     "output_type": "execute_result"
    }
   ],
   "source": [
    "# Test: call community by its name\n",
    "Kiana_Kinov # according to the output it's successful"
   ]
  },
  {
   "cell_type": "markdown",
   "metadata": {},
   "source": [
    "### Top 3 happiest/saddest communities"
   ]
  },
  {
   "cell_type": "code",
   "execution_count": 36,
   "metadata": {},
   "outputs": [],
   "source": [
    "# def a function to find variable name based on its value\n",
    "def retrieve_name(var):\n",
    "    import inspect\n",
    "    callers_local_vars = inspect.currentframe().f_back.f_locals.items()\n",
    "    name_history = [var_name for var_name, var_val in callers_local_vars if var_val is var]\n",
    "    latest_name = name_history[-1]\n",
    "    return latest_name"
   ]
  },
  {
   "cell_type": "code",
   "execution_count": 55,
   "metadata": {},
   "outputs": [],
   "source": [
    "# To get the happiest/saddest communities\n",
    "# We can first sort our communityNo-sentiment dictionary from high to low\n",
    "tempDict = dict(sorted(sentiments_of_communities.items(), key=lambda x: x[1], reverse=True))\n",
    "# And then get their corresponding No.\n",
    "hp_com = list(tempDict.keys())[0:3]\n",
    "sd_com = list(tempDict.keys())[-1:-4:-1]"
   ]
  },
  {
   "cell_type": "markdown",
   "metadata": {},
   "source": [
    "Now we can use the lists of coomunity numbers to query the top3 communities"
   ]
  },
  {
   "cell_type": "markdown",
   "metadata": {},
   "source": [
    "**Top 3 happiest communities**"
   ]
  },
  {
   "cell_type": "code",
   "execution_count": 56,
   "metadata": {
    "scrolled": true
   },
   "outputs": [
    {
     "name": "stdout",
     "output_type": "stream",
     "text": [
      "Community: Cotera_Kaysa_Tera\n",
      "['Kaysa', 'Toren', 'Tera', 'Cotera'] \n",
      "\n",
      "Community: _46\n",
      "['Kiana', 'Kinov'] \n",
      "\n",
      "Community: Azu_Nack_Nikki\n",
      "['Sayge', 'Clavia', 'Nack', 'Narah', 'Karin', 'Teebo', 'Nebb', 'Pruce', 'Reede', 'Medda', 'Nikki', 'Ivee', 'Amira', 'Azu', 'Horned Statue', 'Sefaro', 'Senna', 'Aster'] \n",
      "\n"
     ]
    }
   ],
   "source": [
    "for i in hp_com:\n",
    "    print('Community:',retrieve_name(btow_communities[i]))\n",
    "    print(btow_communities[i].nodes(),'\\n')"
   ]
  },
  {
   "cell_type": "markdown",
   "metadata": {},
   "source": [
    "**Top 3 saddest communities**"
   ]
  },
  {
   "cell_type": "code",
   "execution_count": 80,
   "metadata": {},
   "outputs": [
    {
     "ename": "KeyError",
     "evalue": "'Chuchu'",
     "output_type": "error",
     "traceback": [
      "\u001b[1;31m---------------------------------------------------------------------------\u001b[0m",
      "\u001b[1;31mKeyError\u001b[0m                                  Traceback (most recent call last)",
      "\u001b[1;32m<ipython-input-80-21794169dd97>\u001b[0m in \u001b[0;36m<module>\u001b[1;34m\u001b[0m\n\u001b[1;32m----> 1\u001b[1;33m \u001b[0mdialogues\u001b[0m\u001b[1;33m[\u001b[0m\u001b[1;34m'Chuchu'\u001b[0m\u001b[1;33m]\u001b[0m\u001b[1;33m\u001b[0m\u001b[1;33m\u001b[0m\u001b[0m\n\u001b[0m",
      "\u001b[1;31mKeyError\u001b[0m: 'Chuchu'"
     ]
    }
   ],
   "source": [
    "dialogues['Chuchu']"
   ]
  },
  {
   "cell_type": "code",
   "execution_count": 68,
   "metadata": {
    "scrolled": true
   },
   "outputs": [
    {
     "name": "stdout",
     "output_type": "stream",
     "text": [
      "Community: Water_Octorok_Snow_Octorok_Treasure_Octorok\n",
      "['Water Octorok', 'Snow Octorok', 'Treasure Octorok', 'Rock Octorok', 'Forest Octorok', 'Sky Octorok'] \n",
      "\n",
      "Community: Fire_Wizzrobe_Blizzrobe_Thunder_Wizzrobe\n",
      "['Ice Keese', 'Ice Chuchu', 'Blizzrobe', 'Electric Chuchu', 'Fire Keese', 'Electric Keese', 'Glendo', 'Thunder Wizzrobe', 'Fire Wizzrobe', 'Meteo Wizzrobe', 'Fire Chuchu', 'Keese', 'Ice Wizzrobe', 'Electric Wizzrobe', 'Chuchu'] \n",
      "\n",
      "Community: Guardian_Stalker_Guardian_Turret_Guardian_Skywatcher\n",
      "['Guardian Skywatcher', 'Guardian Scout IV', 'Garill', 'Guardian Turret', 'Decayed Guardian', 'Guardian Stalker', 'Guardian Scout III', 'Sentry', 'Guardian Scout II', 'Guardian Scout I', 'Brigo'] \n",
      "\n"
     ]
    }
   ],
   "source": [
    "for i in sd_com:\n",
    "    print('Community:',retrieve_name(btow_communities[i]))\n",
    "    print(btow_communities[i].nodes(),'\\n')"
   ]
  },
  {
   "cell_type": "markdown",
   "metadata": {},
   "source": [
    "### Do these results confirm what you can learn about each community by skimming the wikipedia pages?"
   ]
  },
  {
   "cell_type": "markdown",
   "metadata": {},
   "source": [
    "Normally, we can assume that allies are happier than enemies. So we can look at the ratio of allies/enemies in those top3 happies/saddest communities to figure out wether the communities aligned with our assumption."
   ]
  },
  {
   "cell_type": "code",
   "execution_count": 48,
   "metadata": {},
   "outputs": [
    {
     "name": "stdout",
     "output_type": "stream",
     "text": [
      "1.0\n"
     ]
    }
   ],
   "source": [
    "allies = df_characters[df_characters['Role']=='Ally'].Name\n",
    "avg_ratio = 0\n",
    "for i in hp_com:\n",
    "    common_allies = set(btow_communities[i].nodes()).intersection(set(allies))\n",
    "    ratio = len(common_allies)/len(btow_communities[i].nodes())\n",
    "    avg_ratio+=ratio\n",
    "print(avg_ratio/3)"
   ]
  },
  {
   "cell_type": "markdown",
   "metadata": {},
   "source": [
    "We can see that allies account for very high percentages(about 94%) among the top3 happies communities."
   ]
  },
  {
   "cell_type": "code",
   "execution_count": 49,
   "metadata": {},
   "outputs": [
    {
     "name": "stdout",
     "output_type": "stream",
     "text": [
      "0.9171717171717172\n"
     ]
    }
   ],
   "source": [
    "enemies = df_characters[df_characters['Role']=='Enemy'].Name\n",
    "avg_ratio = 0\n",
    "for i in sd_com:\n",
    "    common_allies = set(btow_communities[i].nodes()).intersection(set(enemies))\n",
    "    ratio = len(common_allies)/len(btow_communities[i].nodes())\n",
    "    avg_ratio+=ratio\n",
    "print(avg_ratio/3)"
   ]
  },
  {
   "cell_type": "markdown",
   "metadata": {},
   "source": [
    "We can see that enemies account for more than half (about 64%) among the top3 saddest communities.<br>\n",
    "Basically, it's aligned with our assumption."
   ]
  },
  {
   "cell_type": "markdown",
   "metadata": {},
   "source": [
    "## Exercise 5: (dictionary & rule)-based sentiment within the communities data."
   ]
  },
  {
   "cell_type": "markdown",
   "metadata": {},
   "source": [
    "### Explore the VADER lexicon data.\n",
    "**What are the top 10 words by polarity. And the bottom 10?**"
   ]
  },
  {
   "cell_type": "code",
   "execution_count": 578,
   "metadata": {
    "scrolled": true
   },
   "outputs": [
    {
     "data": {
      "text/html": [
       "<div>\n",
       "<style scoped>\n",
       "    .dataframe tbody tr th:only-of-type {\n",
       "        vertical-align: middle;\n",
       "    }\n",
       "\n",
       "    .dataframe tbody tr th {\n",
       "        vertical-align: top;\n",
       "    }\n",
       "\n",
       "    .dataframe thead th {\n",
       "        text-align: right;\n",
       "    }\n",
       "</style>\n",
       "<table border=\"1\" class=\"dataframe\">\n",
       "  <thead>\n",
       "    <tr style=\"text-align: right;\">\n",
       "      <th></th>\n",
       "      <th>TOKEN</th>\n",
       "      <th>MEAN-SENTIMENT-RATING</th>\n",
       "      <th>STANDARD DEVIATION</th>\n",
       "      <th>RAW-HUMAN-SENTIMENT-RATINGS</th>\n",
       "    </tr>\n",
       "  </thead>\n",
       "  <tbody>\n",
       "    <tr>\n",
       "      <th>0</th>\n",
       "      <td>$:</td>\n",
       "      <td>-1.5</td>\n",
       "      <td>0.80623</td>\n",
       "      <td>[-1, -1, -1, -1, -3, -1, -3, -1, -2, -1]</td>\n",
       "    </tr>\n",
       "    <tr>\n",
       "      <th>1</th>\n",
       "      <td>%)</td>\n",
       "      <td>-0.4</td>\n",
       "      <td>1.01980</td>\n",
       "      <td>[-1, 0, -1, 0, 0, -2, -1, 2, -1, 0]</td>\n",
       "    </tr>\n",
       "    <tr>\n",
       "      <th>2</th>\n",
       "      <td>%-)</td>\n",
       "      <td>-1.5</td>\n",
       "      <td>1.43178</td>\n",
       "      <td>[-2, 0, -2, -2, -1, 2, -2, -3, -2, -3]</td>\n",
       "    </tr>\n",
       "    <tr>\n",
       "      <th>3</th>\n",
       "      <td>&amp;-:</td>\n",
       "      <td>-0.4</td>\n",
       "      <td>1.42829</td>\n",
       "      <td>[-3, -1, 0, 0, -1, -1, -1, 2, -1, 2]</td>\n",
       "    </tr>\n",
       "    <tr>\n",
       "      <th>4</th>\n",
       "      <td>&amp;:</td>\n",
       "      <td>-0.7</td>\n",
       "      <td>0.64031</td>\n",
       "      <td>[0, -1, -1, -1, 1, -1, -1, -1, -1, -1]</td>\n",
       "    </tr>\n",
       "  </tbody>\n",
       "</table>\n",
       "</div>"
      ],
      "text/plain": [
       "  TOKEN  MEAN-SENTIMENT-RATING  STANDARD DEVIATION  \\\n",
       "0    $:                   -1.5             0.80623   \n",
       "1    %)                   -0.4             1.01980   \n",
       "2   %-)                   -1.5             1.43178   \n",
       "3   &-:                   -0.4             1.42829   \n",
       "4    &:                   -0.7             0.64031   \n",
       "\n",
       "                RAW-HUMAN-SENTIMENT-RATINGS  \n",
       "0  [-1, -1, -1, -1, -3, -1, -3, -1, -2, -1]  \n",
       "1       [-1, 0, -1, 0, 0, -2, -1, 2, -1, 0]  \n",
       "2    [-2, 0, -2, -2, -1, 2, -2, -3, -2, -3]  \n",
       "3      [-3, -1, 0, 0, -1, -1, -1, 2, -1, 2]  \n",
       "4    [0, -1, -1, -1, 1, -1, -1, -1, -1, -1]  "
      ]
     },
     "execution_count": 578,
     "metadata": {},
     "output_type": "execute_result"
    }
   ],
   "source": [
    "# There is no header in txt we need to add it manually \n",
    "vader = pd.read_csv('./vader_lexicon.txt',sep='\\t',\n",
    "            header=None,names=['TOKEN', 'MEAN-SENTIMENT-RATING', 'STANDARD DEVIATION', 'RAW-HUMAN-SENTIMENT-RATINGS'])\n",
    "vader.head()"
   ]
  },
  {
   "cell_type": "markdown",
   "metadata": {},
   "source": [
    "**TOP 10 POSTITIVE TOKENS**"
   ]
  },
  {
   "cell_type": "code",
   "execution_count": 581,
   "metadata": {
    "scrolled": true
   },
   "outputs": [
    {
     "data": {
      "text/html": [
       "<div>\n",
       "<style scoped>\n",
       "    .dataframe tbody tr th:only-of-type {\n",
       "        vertical-align: middle;\n",
       "    }\n",
       "\n",
       "    .dataframe tbody tr th {\n",
       "        vertical-align: top;\n",
       "    }\n",
       "\n",
       "    .dataframe thead th {\n",
       "        text-align: right;\n",
       "    }\n",
       "</style>\n",
       "<table border=\"1\" class=\"dataframe\">\n",
       "  <thead>\n",
       "    <tr style=\"text-align: right;\">\n",
       "      <th></th>\n",
       "      <th>TOKEN</th>\n",
       "      <th>MEAN-SENTIMENT-RATING</th>\n",
       "    </tr>\n",
       "  </thead>\n",
       "  <tbody>\n",
       "    <tr>\n",
       "      <th>271</th>\n",
       "      <td>ilu</td>\n",
       "      <td>3.4</td>\n",
       "    </tr>\n",
       "    <tr>\n",
       "      <th>273</th>\n",
       "      <td>ily</td>\n",
       "      <td>3.4</td>\n",
       "    </tr>\n",
       "    <tr>\n",
       "      <th>4551</th>\n",
       "      <td>magnificently</td>\n",
       "      <td>3.4</td>\n",
       "    </tr>\n",
       "    <tr>\n",
       "      <th>207</th>\n",
       "      <td>aml</td>\n",
       "      <td>3.4</td>\n",
       "    </tr>\n",
       "    <tr>\n",
       "      <th>6553</th>\n",
       "      <td>sweetheart</td>\n",
       "      <td>3.3</td>\n",
       "    </tr>\n",
       "  </tbody>\n",
       "</table>\n",
       "</div>"
      ],
      "text/plain": [
       "              TOKEN  MEAN-SENTIMENT-RATING\n",
       "271             ilu                    3.4\n",
       "273             ily                    3.4\n",
       "4551  magnificently                    3.4\n",
       "207             aml                    3.4\n",
       "6553     sweetheart                    3.3"
      ]
     },
     "execution_count": 581,
     "metadata": {},
     "output_type": "execute_result"
    }
   ],
   "source": [
    "vader[['TOKEN', 'MEAN-SENTIMENT-RATING']].sort_values(\\\n",
    "                        by= 'MEAN-SENTIMENT-RATING',ascending=False).head()"
   ]
  },
  {
   "cell_type": "markdown",
   "metadata": {},
   "source": [
    "**TOP 10 NEGATIVE TOKENS**"
   ]
  },
  {
   "cell_type": "code",
   "execution_count": 582,
   "metadata": {
    "scrolled": false
   },
   "outputs": [
    {
     "data": {
      "text/html": [
       "<div>\n",
       "<style scoped>\n",
       "    .dataframe tbody tr th:only-of-type {\n",
       "        vertical-align: middle;\n",
       "    }\n",
       "\n",
       "    .dataframe tbody tr th {\n",
       "        vertical-align: top;\n",
       "    }\n",
       "\n",
       "    .dataframe thead th {\n",
       "        text-align: right;\n",
       "    }\n",
       "</style>\n",
       "<table border=\"1\" class=\"dataframe\">\n",
       "  <thead>\n",
       "    <tr style=\"text-align: right;\">\n",
       "      <th></th>\n",
       "      <th>TOKEN</th>\n",
       "      <th>MEAN-SENTIMENT-RATING</th>\n",
       "    </tr>\n",
       "  </thead>\n",
       "  <tbody>\n",
       "    <tr>\n",
       "      <th>5478</th>\n",
       "      <td>rapist</td>\n",
       "      <td>-3.9</td>\n",
       "    </tr>\n",
       "    <tr>\n",
       "      <th>6105</th>\n",
       "      <td>slavery</td>\n",
       "      <td>-3.8</td>\n",
       "    </tr>\n",
       "    <tr>\n",
       "      <th>5477</th>\n",
       "      <td>raping</td>\n",
       "      <td>-3.8</td>\n",
       "    </tr>\n",
       "    <tr>\n",
       "      <th>4731</th>\n",
       "      <td>murder</td>\n",
       "      <td>-3.7</td>\n",
       "    </tr>\n",
       "    <tr>\n",
       "      <th>4262</th>\n",
       "      <td>kill</td>\n",
       "      <td>-3.7</td>\n",
       "    </tr>\n",
       "  </tbody>\n",
       "</table>\n",
       "</div>"
      ],
      "text/plain": [
       "        TOKEN  MEAN-SENTIMENT-RATING\n",
       "5478   rapist                   -3.9\n",
       "6105  slavery                   -3.8\n",
       "5477   raping                   -3.8\n",
       "4731   murder                   -3.7\n",
       "4262     kill                   -3.7"
      ]
     },
     "execution_count": 582,
     "metadata": {},
     "output_type": "execute_result"
    }
   ],
   "source": [
    "vader[['TOKEN', 'MEAN-SENTIMENT-RATING']].sort_values(\\\n",
    "                        by= 'MEAN-SENTIMENT-RATING').head()"
   ]
  },
  {
   "cell_type": "markdown",
   "metadata": {},
   "source": [
    "VADER's mean-sentiment-rating ranges from -3.9 to 3.4,"
   ]
  },
  {
   "cell_type": "markdown",
   "metadata": {},
   "source": [
    "**Plot the distribution of polarity according to the VADER Lexicon data.** What are the differences compared to the labMT data? Is it to be expected?"
   ]
  },
  {
   "cell_type": "code",
   "execution_count": null,
   "metadata": {},
   "outputs": [],
   "source": []
  },
  {
   "cell_type": "markdown",
   "metadata": {},
   "source": [
    "### Go through the example sentences in the vaderSentiment documentation page (Section Code Examples). Compute the compund polarity for each sentence."
   ]
  },
  {
   "cell_type": "code",
   "execution_count": 588,
   "metadata": {},
   "outputs": [],
   "source": [
    "from vaderSentiment.vaderSentiment import SentimentIntensityAnalyzer"
   ]
  },
  {
   "cell_type": "code",
   "execution_count": 87,
   "metadata": {
    "scrolled": true
   },
   "outputs": [
    {
     "name": "stdout",
     "output_type": "stream",
     "text": [
      "VADER is smart, handsome, and funny.----------------------------- {'neg': 0.0, 'neu': 0.254, 'pos': 0.746, 'compound': 0.8316}\n",
      "VADER is smart, handsome, and funny!----------------------------- {'neg': 0.0, 'neu': 0.248, 'pos': 0.752, 'compound': 0.8439}\n",
      "VADER is very smart, handsome, and funny.------------------------ {'neg': 0.0, 'neu': 0.299, 'pos': 0.701, 'compound': 0.8545}\n",
      "VADER is VERY SMART, handsome, and FUNNY.------------------------ {'neg': 0.0, 'neu': 0.246, 'pos': 0.754, 'compound': 0.9227}\n",
      "VADER is VERY SMART, handsome, and FUNNY!!!---------------------- {'neg': 0.0, 'neu': 0.233, 'pos': 0.767, 'compound': 0.9342}\n",
      "VADER is VERY SMART, uber handsome, and FRIGGIN FUNNY!!!--------- {'neg': 0.0, 'neu': 0.294, 'pos': 0.706, 'compound': 0.9469}\n",
      "VADER is not smart, handsome, nor funny.------------------------- {'neg': 0.646, 'neu': 0.354, 'pos': 0.0, 'compound': -0.7424}\n",
      "The book was good.----------------------------------------------- {'neg': 0.0, 'neu': 0.508, 'pos': 0.492, 'compound': 0.4404}\n",
      "At least it isn't a horrible book.------------------------------- {'neg': 0.0, 'neu': 0.678, 'pos': 0.322, 'compound': 0.431}\n",
      "The book was only kind of good.---------------------------------- {'neg': 0.0, 'neu': 0.697, 'pos': 0.303, 'compound': 0.3832}\n",
      "The plot was good, but the characters are uncompelling and the dialog is not great. {'neg': 0.327, 'neu': 0.579, 'pos': 0.094, 'compound': -0.7042}\n",
      "Today SUX!------------------------------------------------------- {'neg': 0.779, 'neu': 0.221, 'pos': 0.0, 'compound': -0.5461}\n",
      "Today only kinda sux! But I'll get by, lol----------------------- {'neg': 0.127, 'neu': 0.556, 'pos': 0.317, 'compound': 0.5249}\n",
      "Make sure you :) or :D today!------------------------------------ {'neg': 0.0, 'neu': 0.294, 'pos': 0.706, 'compound': 0.8633}\n",
      "Catch utf-8 emoji such as such as 💘 and 💋 and 😁------------------ {'neg': 0.0, 'neu': 0.615, 'pos': 0.385, 'compound': 0.875}\n",
      "Not bad at all--------------------------------------------------- {'neg': 0.0, 'neu': 0.513, 'pos': 0.487, 'compound': 0.431}\n"
     ]
    }
   ],
   "source": [
    "from vaderSentiment.vaderSentiment import SentimentIntensityAnalyzer\n",
    "#note: depending on how you installed (e.g., using source code download versus pip install), you may need to import like this:\n",
    "#from vaderSentiment import SentimentIntensityAnalyzer\n",
    "\n",
    "# --- examples -------\n",
    "sentences = [\"VADER is smart, handsome, and funny.\",  # positive sentence example\n",
    "             \"VADER is smart, handsome, and funny!\",  # punctuation emphasis handled correctly (sentiment intensity adjusted)\n",
    "             \"VADER is very smart, handsome, and funny.\", # booster words handled correctly (sentiment intensity adjusted)\n",
    "             \"VADER is VERY SMART, handsome, and FUNNY.\",  # emphasis for ALLCAPS handled\n",
    "             \"VADER is VERY SMART, handsome, and FUNNY!!!\", # combination of signals - VADER appropriately adjusts intensity\n",
    "             \"VADER is VERY SMART, uber handsome, and FRIGGIN FUNNY!!!\", # booster words & punctuation make this close to ceiling for score\n",
    "             \"VADER is not smart, handsome, nor funny.\",  # negation sentence example\n",
    "             \"The book was good.\",  # positive sentence\n",
    "             \"At least it isn't a horrible book.\",  # negated negative sentence with contraction\n",
    "             \"The book was only kind of good.\", # qualified positive sentence is handled correctly (intensity adjusted)\n",
    "             \"The plot was good, but the characters are uncompelling and the dialog is not great.\", # mixed negation sentence\n",
    "             \"Today SUX!\",  # negative slang with capitalization emphasis\n",
    "             \"Today only kinda sux! But I'll get by, lol\", # mixed sentiment example with slang and constrastive conjunction \"but\"\n",
    "             \"Make sure you :) or :D today!\",  # emoticons handled\n",
    "             \"Catch utf-8 emoji such as such as 💘 and 💋 and 😁\",  # emojis handled\n",
    "             \"Not bad at all\"  # Capitalized negation\n",
    "             ]\n",
    "\n",
    "analyzer = SentimentIntensityAnalyzer()\n",
    "for sentence in sentences:\n",
    "    vs = analyzer.polarity_scores(sentence)\n",
    "    print(\"{:-<65} {}\".format(sentence, str(vs)))"
   ]
  },
  {
   "cell_type": "markdown",
   "metadata": {},
   "source": [
    "Typical threshold values (used in the literature cited on this page) are:<br>\n",
    "\n",
    ">1. positive sentiment: `compound` score >= 0.05\n",
    ">2. neutral sentiment: (`compound` score > -0.05) and (`compound` score < 0.05)\n",
    ">3. negative sentiment: `compound` score <= -0.05"
   ]
  },
  {
   "cell_type": "markdown",
   "metadata": {},
   "source": [
    "### Try VADER on your own sentences. Can you find a sentence where VADER gets wrong (the polarity has opposite sign compared to what one would expect)? You can have a look at VADER set of rules in the paper linked above"
   ]
  },
  {
   "cell_type": "code",
   "execution_count": 615,
   "metadata": {
    "scrolled": true
   },
   "outputs": [
    {
     "name": "stdout",
     "output_type": "stream",
     "text": [
      "You are damn right {'neg': 0.474, 'neu': 0.526, 'pos': 0.0, 'compound': -0.4019}\n"
     ]
    }
   ],
   "source": [
    "wrong_sentence = ['You are damn right'] # to emphasize agreement can be positive\n",
    "vs = analyzer.polarity_scores(wrong_sentence)\n",
    "print(\"{} {}\".format(wrong_sentence[0], str(vs)))"
   ]
  },
  {
   "cell_type": "markdown",
   "metadata": {},
   "source": [
    "In real social platforms or daily conversations, some comments or words can be negative or positive based on the context. VADER works well given enough sentences. However, if the input is quite short, VADER sometimes can't tell the real sentiment behind short sentences."
   ]
  },
  {
   "cell_type": "markdown",
   "metadata": {},
   "source": [
    "### Explain the difference between the two methods and compare the results you have obtained above.\n",
    "What is the advantage of using a rule-based method over the dictionary-based approach?"
   ]
  },
  {
   "cell_type": "markdown",
   "metadata": {},
   "source": [
    "1. VANDER combines lexical features with consideration for five general rules that embody grammatical and syntactical conventions for expressing and emphasizing sentiment intensity."
   ]
  },
  {
   "cell_type": "markdown",
   "metadata": {},
   "source": [
    "## Exercise 6: VADER and BotW Sentiment"
   ]
  },
  {
   "cell_type": "markdown",
   "metadata": {},
   "source": [
    "Now use the BotW sentences from Exercise 4. Apply VADER to each individual sentence (i.e. list of tokens). Then compute the average polarity for each character. (hint remember that now it is important to keep punctuation, ALL-CAPS words, etc.)"
   ]
  },
  {
   "cell_type": "markdown",
   "metadata": {},
   "source": [
    "### What are the 10 characters with happiest and saddest pages according to VADER?"
   ]
  },
  {
   "cell_type": "code",
   "execution_count": 88,
   "metadata": {},
   "outputs": [],
   "source": [
    "vader_character_score = {}\n",
    "# loop each characters\n",
    "for i in dialogues.keys():\n",
    "    sentences = dialogues[i]\n",
    "    avg_vs = 0\n",
    "    # calculate sentiment for each dialogue of this character\n",
    "    sentence_count = 0\n",
    "    for sentence in sentences:\n",
    "        vs = analyzer.polarity_scores(sentence)\n",
    "        # extract the compound score we only need it\n",
    "        avg_vs+=vs['compound']\n",
    "        sentence_count+=1\n",
    "    vader_character_score[i] = avg_vs/sentence_count"
   ]
  },
  {
   "cell_type": "markdown",
   "metadata": {},
   "source": [
    "We can transform the score dictionary to dataframe for convenience use."
   ]
  },
  {
   "cell_type": "code",
   "execution_count": 89,
   "metadata": {},
   "outputs": [],
   "source": [
    "# sort our dictionary based on compound value from high to low\n",
    "vader_character_score = dict(sorted(vader_character_score.items(), key=lambda x: x[1], reverse=True))"
   ]
  },
  {
   "cell_type": "markdown",
   "metadata": {},
   "source": [
    "**The 10 happiest characters**"
   ]
  },
  {
   "cell_type": "code",
   "execution_count": 90,
   "metadata": {
    "scrolled": true
   },
   "outputs": [
    {
     "data": {
      "text/plain": [
       "['Toren',\n",
       " 'Canni',\n",
       " 'Breen',\n",
       " 'Piaffe',\n",
       " 'Shamae',\n",
       " 'Kish',\n",
       " 'Ozunda',\n",
       " 'Padok',\n",
       " 'Tulin',\n",
       " 'Tenne']"
      ]
     },
     "execution_count": 90,
     "metadata": {},
     "output_type": "execute_result"
    }
   ],
   "source": [
    "top10_happiest_characters_vd = list(btow_sentiment.keys())[:10]\n",
    "top10_happiest_characters_vd"
   ]
  },
  {
   "cell_type": "code",
   "execution_count": 91,
   "metadata": {},
   "outputs": [
    {
     "name": "stdout",
     "output_type": "stream",
     "text": [
      "top10 happiest character based on labMIT \n",
      " ['Toren', 'Canni', 'Breen', 'Piaffe', 'Shamae', 'Kish', 'Ozunda', 'Padok', 'Tulin', 'Tenne']\n",
      "They have 10 characters in common\n"
     ]
    }
   ],
   "source": [
    "# vader top10 characters intersection with labMIT \n",
    "inter_num = len(set(top10_happiest_characters_labMIT).intersection(set(top10_happiest_characters_vd)))\n",
    "print('top10 happiest character based on labMIT','\\n',top10_happiest_characters_labMIT)\n",
    "print('They have',inter_num,'characters in common')"
   ]
  },
  {
   "cell_type": "markdown",
   "metadata": {},
   "source": [
    "**The 10 saddest characters**"
   ]
  },
  {
   "cell_type": "code",
   "execution_count": 92,
   "metadata": {
    "scrolled": true
   },
   "outputs": [
    {
     "data": {
      "text/plain": [
       "['Walton',\n",
       " 'Palme',\n",
       " 'Chaas Qeta',\n",
       " 'Muwo Jeem',\n",
       " 'Soh Kofi',\n",
       " 'Mozo Shenno',\n",
       " 'Hia Miu',\n",
       " 'Goma Asaagh',\n",
       " 'Sasa Kai',\n",
       " 'Kema Kosassa']"
      ]
     },
     "execution_count": 92,
     "metadata": {},
     "output_type": "execute_result"
    }
   ],
   "source": [
    "top10_saddest_characters_vd = list(btow_sentiment.keys())[-1:-11:-1]\n",
    "top10_saddest_characters_vd"
   ]
  },
  {
   "cell_type": "code",
   "execution_count": 85,
   "metadata": {
    "scrolled": false
   },
   "outputs": [
    {
     "name": "stdout",
     "output_type": "stream",
     "text": [
      "top10 happiest character based on labMIT \n",
      " ['Walton', 'Palme', 'Chaas Qeta', 'Muwo Jeem', 'Soh Kofi', 'Mozo Shenno', 'Hia Miu', 'Goma Asaagh', 'Sasa Kai', 'Kema Kosassa']\n",
      "They have 10 characters in common\n"
     ]
    }
   ],
   "source": [
    "# vader top10 characters intersection with labMIT \n",
    "inter_num = len(set(top10_saddest_characters_labMIT).intersection(set(top10_saddest_characters_vd)))\n",
    "print('top10 happiest character based on labMIT','\\n',top10_saddest_characters_labMIT)\n",
    "print('They have',inter_num,'characters in common')"
   ]
  },
  {
   "cell_type": "markdown",
   "metadata": {},
   "source": [
    "They both identified the same top 10 happiest/saddest characters. But these characters present with different orders within two methods."
   ]
  },
  {
   "cell_type": "markdown",
   "metadata": {},
   "source": [
    "### Aggregate by community and compute the average community compund polarity. Create a bar plot showing the average compound polarity of each community and add error-bars using the standard deviation."
   ]
  },
  {
   "cell_type": "markdown",
   "metadata": {},
   "source": [
    "**Name each community by its three most connected characters.**"
   ]
  },
  {
   "cell_type": "markdown",
   "metadata": {},
   "source": [
    "This has been done in 3.1.6"
   ]
  },
  {
   "cell_type": "code",
   "execution_count": 93,
   "metadata": {
    "scrolled": false
   },
   "outputs": [
    {
     "data": {
      "text/plain": [
       "['Savelle_Baddek_Nazbi',\n",
       " 'Banji_Canni_Chork',\n",
       " 'Impa_Purah_Princess_Zelda',\n",
       " 'Bokoblin_Lizalfos_Moblin',\n",
       " 'Water_Octorok_Snow_Octorok_Treasure_Octorok',\n",
       " 'Guardian_Stalker_Guardian_Turret_Guardian_Skywatcher',\n",
       " 'Steen_Olkin_Ollie',\n",
       " 'Chumin_Spinch_(Hylian)_Spinch_(Horse)',\n",
       " 'Riju_Traysi_Naydra',\n",
       " 'Link_Vilia_Darton']"
      ]
     },
     "execution_count": 93,
     "metadata": {},
     "output_type": "execute_result"
    }
   ],
   "source": [
    "communities_name[:10]"
   ]
  },
  {
   "cell_type": "markdown",
   "metadata": {},
   "source": [
    "**What are the three happiest communities according to VADER?**"
   ]
  },
  {
   "cell_type": "code",
   "execution_count": 94,
   "metadata": {},
   "outputs": [],
   "source": [
    "# Iterate over the nodes in your network\n",
    "for node in undir_larG.nodes():\n",
    "    if node in dialogues.keys():\n",
    "        # have vader's compound value of each character as a new nodal property\n",
    "        undir_larG.add_node(node,\\\n",
    "                            compound=vader_character_score[node])\n",
    "\n",
    "# get a dictionary in which keys are the community no.,values are its compound value\n",
    "vader_sentiments_of_communities = {}\n",
    "for i in range(len(btow_communities)):\n",
    "    sum_compound_value = sum(nx.get_node_attributes(btow_communities[i],'compound').values())\n",
    "    length = len(btow_communities[i].nodes())\n",
    "    avg_compound = sum_compound_value/length\n",
    "    vader_sentiments_of_communities[i] = avg_compound"
   ]
  },
  {
   "cell_type": "code",
   "execution_count": 95,
   "metadata": {},
   "outputs": [],
   "source": [
    "# To get the happiest/saddest communities\n",
    "# We can first sort our communityNo-sentiment dictionary from high to low\n",
    "tempDict = dict(sorted(vader_sentiments_of_communities.items(), key=lambda x: x[1], reverse=True))\n",
    "\n",
    "# And then get their corresponding No.\n",
    "hp_com_vader = list(tempDict.keys())[0:3]\n",
    "sd_com_vader = list(tempDict.keys())[-1:-4:-1]"
   ]
  },
  {
   "cell_type": "code",
   "execution_count": 96,
   "metadata": {},
   "outputs": [
    {
     "name": "stdout",
     "output_type": "stream",
     "text": [
      "Community: Calamity_Ganon_Hylia_Ze_Kasho\n",
      "['Ze Kasho', 'Noya Neha', 'Katah Chuki', \"Tu Ka'loh\", 'Takama Shiri', 'Qaza Tokki', \"Tahno O'ah\", 'Rohta Chigah', 'Kihiro Moh', 'Tawa Jinn', 'Qukah Nata', 'Etsu Korima', \"Korsh O'hu\", 'Kiah Toza', 'Noe Rajee', 'Keeha Yoog', 'Dagah Keek', \"Jitan Sa'mi\", 'Dila Maag', 'Lanno Kooh', 'Raqa Zunzo', 'Suma Sahma', 'Katosa Aug', 'Shira Gomar', 'Keive Tala', 'Kema Kosassa', 'Tho Kayu', 'Shoqa Tatone', 'To Quomo', \"Tena Ko'sah\", 'Shai Yota', 'Muwo Jeem', 'Calamity Ganon', 'Ketoh Wawai', 'Yowaka Ita', 'Gorae Torr', 'Rona Kachta', 'Soh Kofi', 'Maag Halan', \"Saas Ko'sah\", 'Daag Chokah', \"Maag No'rah\", 'Tutsuwa Nima', 'Pumaag Nitae', 'Shae Katha', 'Ritaag Zumo', 'Namika Ozz', 'Sasa Kai', 'Goma Asaagh', 'Lakna Rokee', 'Hia Miu', 'Chaas Qeta', 'Mozo Shenno', 'Dah Kaso', 'Kuhn Sidajj', 'Zuna Kai', 'Misae Suma', 'Korgu Chideh', 'Kah Mael', \"Ke'nai Shakah\", 'Hylia', 'Mijah Rokee', 'Ruvo Korbah'] \n",
      "\n",
      "Community: Savelle_Baddek_Nazbi\n",
      "['Yammo', 'Nazbi', 'Savelle', 'Dauntless', 'Baddek'] \n",
      "\n",
      "Community: Cotera_Kaysa_Tera\n",
      "['Kaysa', 'Toren', 'Tera', 'Cotera'] \n",
      "\n"
     ]
    }
   ],
   "source": [
    "for i in hp_com_vader:\n",
    "    print('Community:',retrieve_name(btow_communities[i]))\n",
    "    print(btow_communities[i].nodes(),'\\n')"
   ]
  },
  {
   "cell_type": "markdown",
   "metadata": {},
   "source": [
    "**what are the three saddest communities according to VADER?**"
   ]
  },
  {
   "cell_type": "code",
   "execution_count": 97,
   "metadata": {},
   "outputs": [
    {
     "name": "stdout",
     "output_type": "stream",
     "text": [
      "Community: Mary_(Breath_of_the_Wild)_Harry_(Breath_of_the_Wild)_Monkton\n",
      "['Mary (Breath of the Wild)', 'Harry (Breath of the Wild)', 'Monkton'] \n",
      "\n",
      "Community: Water_Octorok_Snow_Octorok_Treasure_Octorok\n",
      "['Water Octorok', 'Snow Octorok', 'Treasure Octorok', 'Rock Octorok', 'Forest Octorok', 'Sky Octorok'] \n",
      "\n",
      "Community: Fire_Wizzrobe_Blizzrobe_Thunder_Wizzrobe\n",
      "['Ice Keese', 'Ice Chuchu', 'Blizzrobe', 'Electric Chuchu', 'Fire Keese', 'Electric Keese', 'Glendo', 'Thunder Wizzrobe', 'Fire Wizzrobe', 'Meteo Wizzrobe', 'Fire Chuchu', 'Keese', 'Ice Wizzrobe', 'Electric Wizzrobe', 'Chuchu'] \n",
      "\n"
     ]
    }
   ],
   "source": [
    "for i in sd_com_vader:\n",
    "    print('Community:',retrieve_name(btow_communities[i]))\n",
    "    print(btow_communities[i].nodes(),'\\n')"
   ]
  },
  {
   "cell_type": "markdown",
   "metadata": {},
   "source": [
    "### Do the bar plot and results from the previous step look different to the one you obtained in Exercise 4? How do you explain it?"
   ]
  },
  {
   "cell_type": "code",
   "execution_count": 795,
   "metadata": {},
   "outputs": [
    {
     "data": {
      "text/plain": [
       "Text(0.5, 0, 'Community')"
      ]
     },
     "execution_count": 795,
     "metadata": {},
     "output_type": "execute_result"
    },
    {
     "data": {
      "image/png": "[encoded data removed]",
      "text/plain": [
       "<Figure size 720x360 with 1 Axes>"
      ]
     },
     "metadata": {
      "needs_background": "light"
     },
     "output_type": "display_data"
    }
   ],
   "source": [
    "y = np.array(list((vader_sentiments_of_communities).values()))\n",
    "x = range(len(vader_sentiments_of_communities))\n",
    "\n",
    "fig, ax = plt.subplots(figsize=(10,5))\n",
    "# add error bars \n",
    "std_error = np.std(y, ddof=1) / np.sqrt(len(y))\n",
    "ax.bar(x=np.arange(len(y)), #x-coordinates of bars\n",
    "       height=y, #height of bars\n",
    "       yerr=std_error, #error bar width\n",
    "       capsize=4) #length of error bar caps\n",
    "# add average line\n",
    "plt.axhline(y=y.mean(), color='blue', linewidth=2)\n",
    "# add more details\n",
    "# set xticks by community names\n",
    "plt.xticks([i for i in range(len(vader_sentiments_of_communities))], communities_name, rotation = '90')\n",
    "plt.title('Zelda BtoW community\\'s associated dialogue-sentiments based on VENDAR')\n",
    "plt.ylabel('community sentiments')\n",
    "plt.xlabel('Community')"
   ]
  },
  {
   "cell_type": "markdown",
   "metadata": {},
   "source": [
    "1. Firsly, Y-axis range is different between the two plots. The reason is that VANDAR has token features rated on a scale from \"[–4] Extremely Negative\" to \"[4] Extremely Positive\", with allowance for \"[0] Neutral (or Neither, N/A)\". In the plot, we use  'normalized, weighted composite score' `compound` between -1 (most extreme negative) and +1 (most extreme positive) to measure community sentiment.Typical threshold values (used in the literature cited on this page) are:1. positive sentiment: compound score >= 0.05 2. neutral sentiment: (compound score > -0.05) and 3. (compound score < 0.05)negative sentiment: compound score <= -0.05. By contrast, labMIT txt rank tokens according to their sentiment scores from 0(negative) to 8.5(postitive).\n",
    "2. The average sentiment of each community is clearly more centred within plot based on VENDAR. This is because VENDAR kept every lexical feature with the standard deviation doesn't exceed 2.5. Overall, the distribution of this plot is more 'even' than the one based on labMIT. The polarity values are more distinct on VENDAR which is easier to detect. "
   ]
  },
  {
   "cell_type": "markdown",
   "metadata": {},
   "source": [
    "### What is the advantage of using a rule-based method over the simple dictionary-based approach?"
   ]
  },
  {
   "cell_type": "code",
   "execution_count": null,
   "metadata": {},
   "outputs": [],
   "source": []
  }
 ],
 "metadata": {
  "kernelspec": {
   "display_name": "Python 3",
   "language": "python",
   "name": "python3"
  },
  "language_info": {
   "codemirror_mode": {
    "name": "ipython",
    "version": 3
   },
   "file_extension": ".py",
   "mimetype": "text/x-python",
   "name": "python",
   "nbconvert_exporter": "python",
   "pygments_lexer": "ipython3",
   "version": "3.8.8"
  },
  "toc": {
   "base_numbering": 1,
   "nav_menu": {},
   "number_sections": true,
   "sideBar": true,
   "skip_h1_title": false,
   "title_cell": "Table of Contents",
   "title_sidebar": "Contents",
   "toc_cell": false,
   "toc_position": {},
   "toc_section_display": true,
   "toc_window_display": true
  }
 },
 "nbformat": 4,
 "nbformat_minor": 4
}
