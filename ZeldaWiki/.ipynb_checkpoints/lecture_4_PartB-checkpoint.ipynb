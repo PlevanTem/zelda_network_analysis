{
 "cells": [
  {
   "cell_type": "markdown",
   "id": "acfb57ab",
   "metadata": {},
   "source": [
    "## Part B: Building the network"
   ]
  },
  {
   "cell_type": "code",
   "execution_count": 1,
   "id": "f81f6b89",
   "metadata": {},
   "outputs": [],
   "source": [
    "import pandas as pd\n",
    "import re"
   ]
  },
  {
   "cell_type": "code",
   "execution_count": 2,
   "id": "2472cc9b",
   "metadata": {
    "scrolled": false
   },
   "outputs": [
    {
     "data": {
      "text/html": [
       "<div>\n",
       "<style scoped>\n",
       "    .dataframe tbody tr th:only-of-type {\n",
       "        vertical-align: middle;\n",
       "    }\n",
       "\n",
       "    .dataframe tbody tr th {\n",
       "        vertical-align: top;\n",
       "    }\n",
       "\n",
       "    .dataframe thead th {\n",
       "        text-align: right;\n",
       "    }\n",
       "</style>\n",
       "<table border=\"1\" class=\"dataframe\">\n",
       "  <thead>\n",
       "    <tr style=\"text-align: right;\">\n",
       "      <th></th>\n",
       "      <th>Name</th>\n",
       "      <th>Role</th>\n",
       "    </tr>\n",
       "  </thead>\n",
       "  <tbody>\n",
       "    <tr>\n",
       "      <th>0</th>\n",
       "      <td>Baddek</td>\n",
       "      <td>Ally</td>\n",
       "    </tr>\n",
       "    <tr>\n",
       "      <th>1</th>\n",
       "      <td>Bamboo</td>\n",
       "      <td>Ally</td>\n",
       "    </tr>\n",
       "    <tr>\n",
       "      <th>2</th>\n",
       "      <td>Banji</td>\n",
       "      <td>Ally</td>\n",
       "    </tr>\n",
       "    <tr>\n",
       "      <th>3</th>\n",
       "      <td>Baumar</td>\n",
       "      <td>Ally</td>\n",
       "    </tr>\n",
       "    <tr>\n",
       "      <th>4</th>\n",
       "      <td>Bayge</td>\n",
       "      <td>Ally</td>\n",
       "    </tr>\n",
       "  </tbody>\n",
       "</table>\n",
       "</div>"
      ],
      "text/plain": [
       "     Name  Role\n",
       "0  Baddek  Ally\n",
       "1  Bamboo  Ally\n",
       "2   Banji  Ally\n",
       "3  Baumar  Ally\n",
       "4   Bayge  Ally"
      ]
     },
     "execution_count": 2,
     "metadata": {},
     "output_type": "execute_result"
    }
   ],
   "source": [
    "# take the first column as index\n",
    "df_characters = pd.read_csv('./BotW_characters.csv',index_col = 0)\n",
    "df_characters.head()"
   ]
  },
  {
   "cell_type": "code",
   "execution_count": 5,
   "id": "f1b57dfe",
   "metadata": {},
   "outputs": [
    {
     "ename": "SyntaxError",
     "evalue": "cannot assign to function call (<ipython-input-5-0adbf716d5db>, line 6)",
     "output_type": "error",
     "traceback": [
      "\u001b[1;36m  File \u001b[1;32m\"<ipython-input-5-0adbf716d5db>\"\u001b[1;36m, line \u001b[1;32m6\u001b[0m\n\u001b[1;33m    \"{}_description\".format(node) = f.read()\u001b[0m\n\u001b[1;37m    ^\u001b[0m\n\u001b[1;31mSyntaxError\u001b[0m\u001b[1;31m:\u001b[0m cannot assign to function call\n"
     ]
    }
   ],
   "source": [
    "# get each character's page\n",
    "for i in (0,df_characters.shape[0]):\n",
    "    node = df_characters.Name.values[i]\n",
    "    pages_path = \"./CharacterDescription/\"\n",
    "    with open(pages_path+node+\".txt\",\"r\") as f:\n",
    "        exec(\"{}_description = {}\".format(node,f.read()))"
   ]
  },
  {
   "cell_type": "code",
   "execution_count": 7,
   "id": "c33a0191",
   "metadata": {
    "scrolled": true
   },
   "outputs": [
    {
     "data": {
      "text/plain": [
       "'{\"batchcomplete\": \"\", \"query\": {\"pages\": {\"110712\": {\"pageid\": 110712, \"ns\": 0, \"title\": \"Baddek\", \"revisions\": [{\"slots\": {\"main\": {\"contentmodel\": \"wikitext\", \"contentformat\": \"text/x-wiki\", \"*\": \"{{Infobox Character\\\\n|image= File:BotW Baddek Model.png\\\\n|caption= \\\\n|pronunciation= \\\\n|title= \\\\n|alias= \\\\n|race= {{Term|BotW|Hylian|link}}\\\\n|gender= Male<ref name=\\\\\"Guy\\\\\"/>\\\\n|game= {{BotW}}\\\\n|other= \\\\n|era= {{Term|BotW|Era of the Wilds|link}}\\\\n|family= Unnamed wife <small>(estranged)</small><ref name=\\\\\"Wife\\\\\">{{Cite|I talk about horses so much that my wife left me...for a horse.|Baddek|BotW}}</ref>\\\\n|voiceactor= \\\\n|theme= \\\\n|counter= \\\\n}}\\\\n{{Term/Store|Baddek||Series, BotW}} is a character in {{BotW}}.<ref>{{Cite|Baddek|N/A|BotW}}</ref>\\\\n\\\\n==Biography==\\\\nBaddek is a {{Term|BotW|Hylian|link}} who rides a {{Term|BotW|Horse}}, carrying a {{Term|BotW|Wooden Shield|link}} and {{Term|BotW|Traveler\\'s Sword|link}}. He travels along the road from [[Serenne Stable]] all the way to [[Tabantha Bridge Stable]] and back. Once he reaches a Stable, he\\'ll rest nearby with his Horse for a moment before leaving again.\\\\n\\\\nWhen spoken to, Baddek will reveal that he has a great appreciation for Horses, claiming he sees the world through \\\\\"horse-tinted glasses\\\\\".<ref name=\\\\\"Guy\\\\\">{{Cite|I\\'m the kind of guy who sees everything in his life through horse-tinted glasses.|Baddek|BotW}}</ref> He also tells {{Term|BotW|Link|link}} that he only talks about Horses.<ref>{{Cite|I\\'ll tell you now, you\\'d best give up hope of hearing about anything other than horses from me.|Baddek|BotW}}</ref><ref>{{Cite|I\\'m glad you wanted to chat with me, but I really only like to talk about horses. So...|Baddek|BotW}}</ref><ref>{{Cite|If you came to ask me about Hyrule Castle, you\\'re barking up the wrong tree. Horses, horses, horses. That\\'s all I care about|Baddek|BotW}}</ref><ref>{{Cite|If you get me started about horses, you\\'ll be here for a while. I can go on about horses longer than a horse\\'s face.|Baddek|BotW}}</ref> While he has difficulties speaking with others, he finds that Horses love him.<ref>{{Cite|I\\'m terrible at communicating with other people, but horses love me.|Baddek|BotW}}</ref> Due to how much he talks about Horses, his wife left him for one.<ref name=\\\\\"Wife\\\\\"/> He doesn\\'t mind, though, as it gives him more time to talk about Horses.<ref>{{Cite|But it\\'s not all bad. Gives me more time to talk about horses.|Baddek|BotW}}</ref>\\\\n\\\\nTo Baddek, taming wild Horses is like adopting a new family member that you can sit on.<ref>{{Cite|Finding and taming a wild horse is like adopting a new family member... that you can sit on.|Baddek|BotW}}</ref><ref>{{Cite|Once you tame a wild horse, it becomes family. Register it at a stable to make it official.|Baddek|BotW}}</ref> He says that registered Horse companions will always be by your side, until they die.<ref>{{Cite|Once you register your horse companion at a stable, it\\'ll always be by your side. Forever. Unless it dies.|Baddek|BotW}}</ref> Baddek\\'s Horse is the one thing he can\\'t travel without.<ref>{{Cite|The thing I absolutely can\\'t travel without is my horse.|Baddek|BotW}}</ref><ref>{{Cite|There\\'s one thing I absolutely can\\'t travel without. Know what it is? It\\'s my horse.|Baddek|BotW}}</ref> As long as he has his Horse, Baddek says he doesn\\'t need anything else, and he believes the Horse is more important than he is.<ref>{{Cite|As long as I have my horse, I don\\'t need anything else. He\\'s more important than I am, to be honest!|Baddek|BotW}}</ref> In addition, he states that his Horse\\'s saddle fits both him and the Horse perfectly.<ref>{{Cite|This saddle fits my horse\\'s back perfectly, and it also fits my rear end perfectly. I\\'m mighty happy with it.|Baddek|BotW}}</ref> The Horse\\'s bridle is also easy to grasp and elastic.<ref>{{Cite|This bridle is easy to grasp, and it\\'s pretty elastic, so it\\'s easy to handle.|Baddek|BotW}}</ref>\\\\n\\\\nOccasionally, Baddek will give Link tips for handling Horses, saying to pet them when they follow directions and work hard, as praising them reinforces good behavior.<ref>{{Cite|Pet your horse when it follows directions. Pet it when it works hard. Praise your horse at the right time to reinforce good behavior.|Baddek|BotW}}</ref> In addition, he tells Link that he can\\'t expect a horse to ride hard for him without a meaningful connection,<ref>{{Cite|You can\\'t expect a horse to ride hard for you if you don\\'t have a meaningful connection with it.|Baddek|BotW}}</ref> and that he should spend time with his Horse to form a bond.<ref>{{Cite|Spending time with your horse is the best way to establish a connection.|Baddek|BotW}}</ref> He also recite Horse facts, stating that Horses can swim if they need to.<ref>{{Cite|Did you know that horses can swim in a pinch?|Baddek|BotW}}</ref> After this, he\\'ll ask Link to name another animal that swims, but says it\\'s a trick question as there aren\\'t any.<ref>{{Cite|Name another animal that can swim. Trick question\\\\u2014you can\\'t. But horses have it down cold. BOOM.|Baddek|BotW}}</ref> He also informs Link that {{Plural|BotW|Stable|link}} fit registered Horses with saddles and bridles.<ref>{{Cite|When you register a wild horse at a stable, they\\'ll fit it with a saddle and bridle.|Baddek|BotW}}</ref>\\\\n\\\\nOne type of Horse Baddek likes the most is the {{Term|BotW|White Horse|link}}, claiming he\\'s heard of a special Horse in the [[Sanidin Park Ruins]] fit for a king.<ref>{{Cite|I heard that there\\'s something special near Satori Mountain northwest of the Great Plateau. To the east of the mountain, you\\'ll find Sanidin Park Ruins, and near there... is a special horse fit for a king.|Baddek|BotW}}</ref> While girls dream about princes on White Horses, Baddek only cares about the White Horse.<ref>{{Cite|Girls often talk dreamily about princes on white horses or some odd nonsense... But I couldn\\'t care less about some stuffy prince. Give me the horse!|Baddek|BotW}}</ref> Though Horses come in many colors, White Horses take his breath away.<ref>{{Cite|Pinto, chestnut, black... Horse coats come in many different colors, but white horses take my breath away.|Baddek|BotW}}</ref>\\\\n\\\\nBaddek has also ridden a {{Term|BotW|Stalhorse|link}} in the [[Hebra Mountains]].<ref>{{Cite|Speaking of bones, I once rode a horse made of nothing but bones! No lie! It was up in the snowy mountains.|Baddek|BotW}}</ref> Since he could never be afraid of a Horse, Baddek claims he wasn\\'t scared of it.<ref>{{Cite|Was I scared, you ask? Nope. I could never be scared of a horse.|Baddek|BotW}}</ref> He describes the Stalhorse as running well and being surprisingly comfortable.<ref>{{Cite|The horse made of bones that I rode up in the snowy mountains was surprisingly comfortable to mount.|Baddek|BotW}}</ref><ref>{{Cite|That bony horse ran really well, and it was actually a surprisingly comfortable ride.|Baddek|BotW}}</ref>\\\\n\\\\nBaddek tells {{Term|BotW|Link|link}} that there are four different {{Plural|BotW|Stable|link}} that have different {{Term|BotW|Bridle|link}} and {{Term|BotW|Saddle|link}} styles,<ref>{{Cite|Did you know that some of the stables in Hyrule have slightly different bridle and saddle styles?|Baddek|BotW}}</ref> these being [[Woodland Stable]], [[Highland Stable]], [[Outskirt Stable]], and [[South Akkala Stable]].<ref>{{Cite|I know of four for sure: Woodland Stable, Highland Stable, Outskirt Stable, and South Akkala Stable...|Baddek|BotW}}</ref><ref>{{Cite|I know of four stables in Hyrule that have slightly different bridle and saddle styles: Woodland Stable, Highland Stable, Outskit Stable, and South Akkala Stable.|Baddek|BotW}}</ref> This, however, is false, and these are simply the Stables where Link can have a worker change the gear of his Horses.\\\\n\\\\nWhen it\\'s raining, Baddek will seek shelter for himself and his horse, commenting that it\\'s raining \\\\\"like stallions and mares\\\\\".<ref>{{Cite|It\\'s raining stallions and mares!|Baddek|BotW}}</ref> During this time, he\\'ll give Link a quiz on Horses.<ref>{{Cite|I\\'m bored and it\\'s raining, so how about I give you a little horse quiz.|Baddek|BotW}}</ref> He lists four different types of Horses\\\\u2014the White Horse, the [[Giant Horse]], the [[Master Cycle Zero|mechanical horse]], and the bone Horse\\\\u2014and asks Link which one doesn\\'t exist.<ref>{{Cite|White horse... Giant horse... Mechanical horse... Bone horse... Now, which of these horses doesn\\'t exist in this world?|Baddek|BotW}}</ref> He says that the answer will be revealed someday, somewhere, and that Link may already know it.<ref>{{Cite|The answer will be revealed someday, somewhere. It may even have already been revealed to you.|Baddek|BotW}}</ref> Occasionally, Baddek will make dismissive comments about the existence of mechanical horses.<ref>{{Cite|Mechanical horses? Bah!|Baddek|BotW}}</ref>\\\\n\\\\nDespite his addiction to Horses, he also wonders about [[Paraglider]]s and {{Plural|BotW|Carrot|link}}.<ref>{{Cite|Paraglider? I wonder...|Baddek|BotW}}</ref><ref>{{Cite|Carrots...|Baddek|BotW}}</ref>\\\\n\\\\n==Nomenclature==\\\\n{{Nomenclature}}\\\\n\\\\n==See Also==\\\\n* [[Nazbi]]\\\\n* [[Savelle]]\\\\n* [[Yammo]]\\\\n* [[Serenne Stable]]\\\\n* [[Breach of Demise]]\\\\n* [[Tabantha Bridge Stable]]\\\\n\\\\n{{Ref}}\\\\n\\\\n{{Categories\\\\n |Hylians, Hyruleans\\\\n |characters= BotW\\\\n}}\"}}}]}}}}'"
      ]
     },
     "execution_count": 7,
     "metadata": {},
     "output_type": "execute_result"
    }
   ],
   "source": [
    "node_description"
   ]
  },
  {
   "cell_type": "code",
   "execution_count": 11,
   "id": "5282a825",
   "metadata": {},
   "outputs": [
    {
     "data": {
      "text/plain": [
       "['Hylian|link',\n",
       " 'Era of the Wilds|link',\n",
       " 'Hylian|link',\n",
       " 'Horse',\n",
       " 'Wooden Shield|link',\n",
       " \"Traveler's Sword|link\",\n",
       " 'Link|link',\n",
       " 'White Horse|link',\n",
       " 'Stalhorse|link',\n",
       " 'Link|link',\n",
       " 'Bridle|link',\n",
       " 'Saddle|link']"
      ]
     },
     "execution_count": 11,
     "metadata": {},
     "output_type": "execute_result"
    }
   ],
   "source": [
    "# catch everything things in [], but to exclude the name after |\n",
    "# \\?: match but not inlude\n",
    "pattern1 = \"\\[\\[(.*?)(?:\\|.*?)?\\]\\]\"\n",
    "pattern2 = \"\\{\\{Term\\|BotW\\|(.*?)\\}\\}\"\n",
    "\n",
    "re.findall(pattern2,node_description)"
   ]
  },
  {
   "cell_type": "code",
   "execution_count": null,
   "id": "fbdcc3f1",
   "metadata": {},
   "outputs": [],
   "source": [
    "'[[name|]]' or [[name#Breath of the WOl]]"
   ]
  },
  {
   "cell_type": "markdown",
   "id": "0f9ca64a",
   "metadata": {},
   "source": [
    "### Exercise 1: Build the network of BotW Characters"
   ]
  },
  {
   "cell_type": "markdown",
   "id": "b36dd865",
   "metadata": {},
   "source": [
    "### Find the Race and Gender of a character"
   ]
  },
  {
   "cell_type": "markdown",
   "id": "4af26b0c",
   "metadata": {},
   "source": [
    "**extract all outgoing links**"
   ]
  },
  {
   "cell_type": "code",
   "execution_count": null,
   "id": "168ea32d",
   "metadata": {},
   "outputs": [],
   "source": [
    "def find_character_outgoing_links(character):\n",
    "    di_link_pattern = \"\"\n",
    "    re.findall(pattern2,node_description)"
   ]
  },
  {
   "cell_type": "markdown",
   "id": "c0dd2352",
   "metadata": {},
   "source": [
    "**Use  NetworkX DiGraph to store the network.**"
   ]
  },
  {
   "cell_type": "code",
   "execution_count": null,
   "id": "5b14faef",
   "metadata": {},
   "outputs": [],
   "source": []
  },
  {
   "cell_type": "markdown",
   "id": "c1b33142",
   "metadata": {},
   "source": [
    "**discard isolated links**"
   ]
  },
  {
   "cell_type": "code",
   "execution_count": null,
   "id": "cf15e3b6",
   "metadata": {},
   "outputs": [],
   "source": []
  },
  {
   "cell_type": "markdown",
   "id": "751e8fb1",
   "metadata": {},
   "source": [
    "###  find all the hyperlinks in a character's page that link to another node of the network "
   ]
  },
  {
   "cell_type": "code",
   "execution_count": null,
   "id": "3de16e8b",
   "metadata": {},
   "outputs": [],
   "source": []
  },
  {
   "cell_type": "markdown",
   "id": "5c20fd4f",
   "metadata": {},
   "source": [
    "### Exercise 2: Simple network statistics and analysis"
   ]
  },
  {
   "cell_type": "markdown",
   "id": "0604ecdb",
   "metadata": {},
   "source": [
    "What is the number of nodes in the network?\n",
    "More importantly, what is the number of links?\n",
    "Plot the distributions of Role, Race, and Gender.\n",
    "Plot the total (in+out), in and out-degree distributions. What do you observe? Can you explain why the in-degree distribution is different from the out-degree distribution?\n",
    "Compare the degree distribution to a random network with the same number of nodes and p\n",
    "Compare the degree distribution to a scale-free network with the same number of nodes.\n",
    "Who is the top connected character in BotW? (Report results for the undirected network, in-degrees and out-degrees). Comment on your findings. Is this what you would have expected?\n",
    "Who are the top 5 most connected allies (again in terms of all edges, and in/out-degree)?\n",
    "Who are the top 5 most connected enemies -- bosses included -- (again in terms of all edges in/out-degree)?"
   ]
  },
  {
   "cell_type": "code",
   "execution_count": null,
   "id": "5fca6b21",
   "metadata": {},
   "outputs": [],
   "source": []
  },
  {
   "cell_type": "markdown",
   "id": "bfe5667c",
   "metadata": {},
   "source": [
    "**The total degree distribution**"
   ]
  },
  {
   "cell_type": "code",
   "execution_count": null,
   "id": "271e91a0",
   "metadata": {},
   "outputs": [],
   "source": []
  }
 ],
 "metadata": {
  "kernelspec": {
   "display_name": "Python 3",
   "language": "python",
   "name": "python3"
  },
  "language_info": {
   "codemirror_mode": {
    "name": "ipython",
    "version": 3
   },
   "file_extension": ".py",
   "mimetype": "text/x-python",
   "name": "python",
   "nbconvert_exporter": "python",
   "pygments_lexer": "ipython3",
   "version": "3.8.8"
  },
  "toc": {
   "base_numbering": 1,
   "nav_menu": {},
   "number_sections": true,
   "sideBar": true,
   "skip_h1_title": false,
   "title_cell": "Table of Contents",
   "title_sidebar": "Contents",
   "toc_cell": false,
   "toc_position": {},
   "toc_section_display": true,
   "toc_window_display": false
  }
 },
 "nbformat": 4,
 "nbformat_minor": 5
}
