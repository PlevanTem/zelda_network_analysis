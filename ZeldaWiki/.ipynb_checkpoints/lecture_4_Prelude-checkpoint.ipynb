{
 "cells": [
  {
   "cell_type": "markdown",
   "id": "e6e4b8d8",
   "metadata": {},
   "source": [
    "# Prelude part 1: Regular expressions"
   ]
  },
  {
   "cell_type": "markdown",
   "id": "54caed0e",
   "metadata": {},
   "source": [
    "## what are regular expressions?"
   ]
  },
  {
   "cell_type": "markdown",
   "id": "f1b002b9",
   "metadata": {},
   "source": [
    "Regular expressions are patterns used to match character combinations in strings."
   ]
  },
  {
   "cell_type": "markdown",
   "id": "c555190a",
   "metadata": {},
   "source": [
    "## 1. match 4 digits numbers"
   ]
  },
  {
   "cell_type": "code",
   "execution_count": 1,
   "id": "acde6b22",
   "metadata": {},
   "outputs": [],
   "source": [
    "import requests\n",
    "import re"
   ]
  },
  {
   "cell_type": "code",
   "execution_count": 2,
   "id": "1cd6ea75",
   "metadata": {},
   "outputs": [
    {
     "name": "stdout",
     "output_type": "stream",
     "text": [
      "Tousled try-hard blog Carles, typewriter fap hella salvia fanny pack selvage mlkshk crucifix. Next level retro quinoa post-ironic. Heirloom keffiyeh synth street art meggings, drinking vinegar Schlitz actually raw denim. 1234 Normcore freegan post-ironic meggings cred, cardigan yr locavore 3 wolf moon. Bitters ennui ugh superpolaroid, artisan scenester distillery kale chips wolf pork belly keffiyeh. Actually Tumblr twee [[drinking vinegar]], squid pickled cronut banh mi taxidermy deep v 8-bit narwhal Odd Future. Sriracha bicycle rights listicle, keffiyeh typewriter authentic selvage cred selfies.\n",
      "\n",
      "Ugh lo-fi tattooed chambray, DIY Marfa banh mi whatever narwhal jean shorts photo booth keytar listicle. Chambray Truffaut cardigan skateboard, hashtag disrupt next level. Normcore Blue Bottle yr, Odd Future skateboard chillwave iPhone slow-carb sriracha letterpress meditation cronut. IPhone fashion axe Neutra fingerstache tofu gluten-free [[gentrify]], wolf before they sold out pork belly retro Vice skateboard DIY Marfa. Mustache supertaxidermy cliche 9999 fashion axe Pitchfork, iPhone cred literally McSweeney's normcore. Health goth meggings skateboard 90's 3 wolf moon, PBR&B kale chips biodiesel fashion axe. Sartorial crucifix retro, four dollar toast kogi forage swag deep v wayfarers tilde.\n",
      "\n",
      "Synth typewriter messenger bag health goth scenester pour-over. Pour-over Truffaut 90's fashion axe post-ironic, Portland Wes Anderson forage occupy sartorial gentrify hashtag beard kitsch quinoa. Occupy [[hashtag]] street art 3 wolf moon, Echo Park quinoa Tumblr Pitchfork fanny pack High Life. Helvetica banjo gentrify authentic mumblecore, tote bag blog. Scenester +1 American Apparel organic literally, Intelligentsia butcher bitters. Seitan lumbersexual fanny pack organic, letterpress umami ethical wayfarers. Cronut biodiesel Wes Anderson, jean shorts lo-fi keffiyeh Carles.\n",
      "\n",
      "Bushwick health goth chambray gluten-free distillery. Keytar selvage Shoreditch, seitan YOLO tote bag listicle Marfa farm-to-table keffiyeh meditation tilde. Narwhal freegan meditation, Pitchfork XOXO Brooklyn 23456 whatever photo booth pork belly Blue Bottle gluten-free. Semiotics fashion axe 3 wolf moon, selfies brunch skateboard shabby chic organic wayfarers yr whatever kitsch Thundercats tilde bespoke. [[Bicycle|Bicycle(two-wheeled type)]] rights seitan mlkshk Marfa, church-key cray mustache sartorial banh mi food truck chillwave Echo Park bitters. Craft superbeer bespoke street art, slow-carb pop-up Kickstarter typewriter Etsy try-hard [[Pitchfork|Pitchfork Magazine]] aesthetic keytar Tumblr. 8-bit bitters fanny pack, Portland Odd Future yr selvage crucifix narwhal polaroid sriracha Thundercats.\n"
     ]
    }
   ],
   "source": [
    "url_1 = 'https://raw.githubusercontent.com/SocialComplexityLab/socialgraphs2021/main/files/regex_exercise.txt'\n",
    "res_1 = requests.get(url_1)\n",
    "print(res_1.text) "
   ]
  },
  {
   "cell_type": "code",
   "execution_count": 3,
   "id": "e4715170",
   "metadata": {},
   "outputs": [],
   "source": [
    "regex = re.compile('(?<!\\d)\\d{4}(?!\\d)')"
   ]
  },
  {
   "cell_type": "code",
   "execution_count": 4,
   "id": "92f8ce01",
   "metadata": {},
   "outputs": [
    {
     "name": "stdout",
     "output_type": "stream",
     "text": [
      "['1234', '9999']\n"
     ]
    }
   ],
   "source": [
    "print(regex.findall(res_1.text))"
   ]
  },
  {
   "cell_type": "markdown",
   "id": "8e2945e0",
   "metadata": {},
   "source": [
    "## 2.match words starting with \"super\""
   ]
  },
  {
   "cell_type": "code",
   "execution_count": 5,
   "id": "2b898de1",
   "metadata": {},
   "outputs": [
    {
     "name": "stdout",
     "output_type": "stream",
     "text": [
      "['superpolaroid', 'supertaxidermy', 'superbeer']\n"
     ]
    }
   ],
   "source": [
    "regex = re.compile('super[\\w.-]+')\n",
    "print(regex.findall(res_1.text))"
   ]
  },
  {
   "cell_type": "markdown",
   "id": "40014884",
   "metadata": {},
   "source": [
    "## 3. extract the direct Zelda wiki links"
   ]
  },
  {
   "cell_type": "code",
   "execution_count": 6,
   "id": "51c5c53f",
   "metadata": {},
   "outputs": [
    {
     "name": "stdout",
     "output_type": "stream",
     "text": [
      "Zelda is not only the princess of Hyrule, she is also an aspiring scholar who is very curious. She is also the leader of the [[Champion]]s of Hyrule. Zelda is the mysterious voice that guides {{Term|BotW|Link|link}} throughout his journey while she contains Calamity Ganon inside of Hyrule Castle. Zelda has been training to unlock her sealing powers passed down the royal family since she was 7 years old, one year after her mother unexpectedly passed away. With her mother gone there was nobody else around with the sacred power who could teach her how to use it, leaving Zelda to figure it out on her own. 100 years prior to the events of BotW, Zelda met with the Champions. After meeting with them, she left the Castle to research ancient technology, but she did not come across anything of note. During this time, she felt the presence of {{Term|BotW|Calamity Ganon|link|display=Ganon}} and devoted herself to learning all she could about ancient relics in order to stop him. She then met with a fortune teller who told her a prophecy, to which Zelda felt that there was not much time left. The following day, Link was appointed as Zelda\\'s knight, to Zelda\\'s chagrin. During the ceremony, [[Urbosa]] explains that Link is a living reminder of Zelda\\'s own failures. Link and Zelda then set out to [[Goron City]] to make adjustments to the {{Term|BotW|Divine Beast Vah Rudania|link}} to make it easier for [[Daruk]] to control. During their journey to [[Eldin (Region)|Eldin]], Zelda comes to a stop and asks him how proficient he is wielding his [[Master Sword|Sword]] and asks him if he can hear the voice within the blade.\n"
     ]
    }
   ],
   "source": [
    "url_2 = 'https://raw.githubusercontent.com/SocialComplexityLab/socialgraphs2021/main/files/Zelda_regex_exercise.txt'\n",
    "res_2 = requests.get(url_2)\n",
    "print(res_2.text) "
   ]
  },
  {
   "cell_type": "code",
   "execution_count": 7,
   "id": "7b168718",
   "metadata": {},
   "outputs": [],
   "source": [
    "regex = re.compile('\\{\\{.*?\\}\\}')"
   ]
  },
  {
   "cell_type": "code",
   "execution_count": 8,
   "id": "3927d1a8",
   "metadata": {
    "scrolled": true
   },
   "outputs": [
    {
     "data": {
      "text/plain": [
       "['{{Term|BotW|Link|link}}',\n",
       " '{{Term|BotW|Calamity Ganon|link|display=Ganon}}',\n",
       " '{{Term|BotW|Divine Beast Vah Rudania|link}}']"
      ]
     },
     "execution_count": 8,
     "metadata": {},
     "output_type": "execute_result"
    }
   ],
   "source": [
    "regex.findall(res_2.text)"
   ]
  }
 ],
 "metadata": {
  "kernelspec": {
   "display_name": "Python 3",
   "language": "python",
   "name": "python3"
  },
  "language_info": {
   "codemirror_mode": {
    "name": "ipython",
    "version": 3
   },
   "file_extension": ".py",
   "mimetype": "text/x-python",
   "name": "python",
   "nbconvert_exporter": "python",
   "pygments_lexer": "ipython3",
   "version": "3.8.8"
  },
  "toc": {
   "base_numbering": 1,
   "nav_menu": {},
   "number_sections": true,
   "sideBar": true,
   "skip_h1_title": false,
   "title_cell": "Table of Contents",
   "title_sidebar": "Contents",
   "toc_cell": false,
   "toc_position": {},
   "toc_section_display": true,
   "toc_window_display": false
  }
 },
 "nbformat": 4,
 "nbformat_minor": 5
}
