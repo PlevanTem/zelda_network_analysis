{
 "cells": [
  {
   "cell_type": "code",
   "execution_count": 2,
   "id": "522f28ab",
   "metadata": {},
   "outputs": [],
   "source": [
    "# prepare libraries\n",
    "import nltk\n",
    "import pandas as pd\n",
    "import numpy as np\n",
    "import urllib\n",
    "import re\n",
    "import json\n",
    "import os\n",
    "import matplotlib.pyplot as plt\n",
    "import pylab\n",
    "from nltk.corpus import state_union\n",
    "from nltk.corpus import brown\n",
    "from nltk.corpus import stopwords\n",
    "from nltk.tokenize import word_tokenize"
   ]
  },
  {
   "cell_type": "code",
   "execution_count": 680,
   "id": "d19c946f",
   "metadata": {},
   "outputs": [
    {
     "name": "stdout",
     "output_type": "stream",
     "text": [
      "*** Introductory Examples for the NLTK Book ***\n",
      "Loading text1, ..., text9 and sent1, ..., sent9\n",
      "Type the name of the text or sentence to view it.\n",
      "Type: 'texts()' or 'sents()' to list the materials.\n",
      "text1: Moby Dick by Herman Melville 1851\n",
      "text2: Sense and Sensibility by Jane Austen 1811\n",
      "text3: The Book of Genesis\n",
      "text4: Inaugural Address Corpus\n",
      "text5: Chat Corpus\n",
      "text6: Monty Python and the Holy Grail\n",
      "text7: Wall Street Journal\n",
      "text8: Personals Corpus\n",
      "text9: The Man Who Was Thursday by G . K . Chesterton 1908\n"
     ]
    }
   ],
   "source": [
    "from nltk.book import *"
   ]
  },
  {
   "cell_type": "markdown",
   "id": "4d5bb4e7",
   "metadata": {},
   "source": [
    "# Part 2: Installing and the basics"
   ]
  },
  {
   "cell_type": "markdown",
   "id": "c483f8d2",
   "metadata": {},
   "source": [
    "## Introduction to NLTK"
   ]
  },
  {
   "cell_type": "code",
   "execution_count": 3,
   "id": "b35d0ab7",
   "metadata": {
    "scrolled": false
   },
   "outputs": [
    {
     "data": {
      "text/html": [
       "<div>\n",
       "<style scoped>\n",
       "    .dataframe tbody tr th:only-of-type {\n",
       "        vertical-align: middle;\n",
       "    }\n",
       "\n",
       "    .dataframe tbody tr th {\n",
       "        vertical-align: top;\n",
       "    }\n",
       "\n",
       "    .dataframe thead th {\n",
       "        text-align: right;\n",
       "    }\n",
       "</style>\n",
       "<table border=\"1\" class=\"dataframe\">\n",
       "  <thead>\n",
       "    <tr style=\"text-align: right;\">\n",
       "      <th></th>\n",
       "      <th>Name</th>\n",
       "      <th>Role</th>\n",
       "      <th>Race</th>\n",
       "      <th>Gender</th>\n",
       "    </tr>\n",
       "  </thead>\n",
       "  <tbody>\n",
       "    <tr>\n",
       "      <th>0</th>\n",
       "      <td>Baddek</td>\n",
       "      <td>Ally</td>\n",
       "      <td>Hylian</td>\n",
       "      <td>Male</td>\n",
       "    </tr>\n",
       "    <tr>\n",
       "      <th>1</th>\n",
       "      <td>Bamboo</td>\n",
       "      <td>Ally</td>\n",
       "      <td>Horse</td>\n",
       "      <td>Unknown</td>\n",
       "    </tr>\n",
       "    <tr>\n",
       "      <th>2</th>\n",
       "      <td>Banji</td>\n",
       "      <td>Ally</td>\n",
       "      <td>Hylian</td>\n",
       "      <td>Female</td>\n",
       "    </tr>\n",
       "    <tr>\n",
       "      <th>3</th>\n",
       "      <td>Baumar</td>\n",
       "      <td>Ally</td>\n",
       "      <td>Hylian</td>\n",
       "      <td>Male</td>\n",
       "    </tr>\n",
       "    <tr>\n",
       "      <th>4</th>\n",
       "      <td>Bayge</td>\n",
       "      <td>Ally</td>\n",
       "      <td>Goron</td>\n",
       "      <td>Male</td>\n",
       "    </tr>\n",
       "  </tbody>\n",
       "</table>\n",
       "</div>"
      ],
      "text/plain": [
       "     Name  Role    Race   Gender\n",
       "0  Baddek  Ally  Hylian     Male\n",
       "1  Bamboo  Ally   Horse  Unknown\n",
       "2   Banji  Ally  Hylian   Female\n",
       "3  Baumar  Ally  Hylian     Male\n",
       "4   Bayge  Ally   Goron     Male"
      ]
     },
     "execution_count": 3,
     "metadata": {},
     "output_type": "execute_result"
    }
   ],
   "source": [
    "# read the csv file of the characters with pandas pd.read_csv()\n",
    "df_characters = pd.read_csv(\"./ZeldaBotW_nodes_w_attributes_enriched.csv\")\n",
    "df_characters.head()"
   ]
  },
  {
   "cell_type": "markdown",
   "id": "e2066830",
   "metadata": {},
   "source": [
    "### retrive a copy of all BotW characters's text"
   ]
  },
  {
   "cell_type": "code",
   "execution_count": 1,
   "id": "6c6a2b5b",
   "metadata": {},
   "outputs": [],
   "source": [
    "def getquery(character):\n",
    "    if ' ' in character:\n",
    "        character = character.replace(\" \", \"_\")\n",
    "    elif character == 'Cherry':\n",
    "        character = 'Ancient_Oven'\n",
    "    elif 'é' or '\\'' in character:\n",
    "        character = urllib.parse.quote_plus(character)\n",
    "        \n",
    "    baseurl = \"https://zelda.fandom.com/api.php?\"\n",
    "    action = \"action=query\"\n",
    "    title = \"titles={}\".format(character)\n",
    "    content = \"prop=extracts&exlimit=1&explaintext\"\n",
    "    dataformat =\"format=json\"\n",
    "    query = \"{}{}&{}&{}&{}\".format(baseurl, action, content, title, dataformat)\n",
    "\n",
    "    return query"
   ]
  },
  {
   "cell_type": "code",
   "execution_count": 16,
   "id": "107559bb",
   "metadata": {},
   "outputs": [],
   "source": [
    "def save_character_page(character): \n",
    "    query = getquery(character)\n",
    "    wikiresponse = urllib.request.urlopen(query, timeout=5)\n",
    "    wikidata = wikiresponse.read()\n",
    "    wikitext = wikidata.decode('utf-8')\n",
    "    wikijson = json.loads(wikitext)\n",
    "    \n",
    "    # get right key from nested json file \n",
    "    pageid = list(wikijson['query']['pages'])[0]\n",
    "    text = wikijson['query']['pages'][pageid]['extract']\n",
    "    \n",
    "    filename = './CharacterExplainText/{}.txt'.format(character)\n",
    "    with open(filename,mode='w',encoding='utf-8') as f:\n",
    "        f.write(text)\n",
    "        f.close()"
   ]
  },
  {
   "cell_type": "code",
   "execution_count": 17,
   "id": "e0cb1921",
   "metadata": {},
   "outputs": [],
   "source": [
    "for character in df_characters.Name:\n",
    "    save_character_page(character)"
   ]
  },
  {
   "cell_type": "markdown",
   "id": "a895cffa",
   "metadata": {},
   "source": [
    "### create our own corpus"
   ]
  },
  {
   "cell_type": "markdown",
   "id": "b9f45f3e",
   "metadata": {},
   "source": [
    "**create a list of file names file_list and order them with the same order in df_characters**"
   ]
  },
  {
   "cell_type": "code",
   "execution_count": 5,
   "id": "14b12b3e",
   "metadata": {
    "scrolled": true
   },
   "outputs": [
    {
     "name": "stdout",
     "output_type": "stream",
     "text": [
      "['Baddek.txt', 'Bamboo.txt', 'Banji.txt', 'Baumar.txt', 'Bayge.txt', 'Beedle.txt', 'Bolson.txt', 'Brigo.txt', 'Cambo.txt', 'Chabi.txt', 'Chork.txt', 'Chumin.txt', 'Dabi.txt', 'Daruk.txt', 'Dauntless.txt', 'Dinraal.txt', 'Ena.txt', 'Endai.txt', 'Epona.txt', 'Farosh.txt', 'Fyson.txt', 'Goflam.txt', 'Greyson.txt', 'Heehl.txt', 'Hestu.txt', 'Hudson.txt', 'Hylia.txt', 'Kabetta.txt', 'Kanny.txt', 'Kapson.txt', 'Karson.txt', 'Kass.txt', 'Kenyo.txt', 'Kilton.txt', 'Leekah.txt', 'Link.txt', 'Meeshy.txt', 'Meghyn.txt', 'Mei.txt', 'Mils.txt', 'Mina.txt', 'Mipha.txt', 'Misko.txt', 'Nat.txt', 'Naydra.txt', 'Nazbi.txt', 'Pelison.txt', 'Pikango.txt', 'Regan.txt', 'Revali.txt', 'Rhondson.txt', 'Rik.txt', 'Ronn.txt', 'Savelle.txt', 'Sherfin.txt', 'Sho.txt', 'Sorelia.txt', 'Spoone.txt', 'Toren.txt', 'Totsuna.txt', 'Tye.txt', 'Urbosa.txt', 'Yammo.txt', 'Princess Zelda.txt', 'Zyle.txt', 'Laroba.txt', 'Naddon.txt', 'Pitar.txt', 'Dah Hesho.txt', 'Dmitri.txt', 'Gleema.txt', 'Jana.txt', 'Kah Mael.txt', 'Kaifa.txt', \"Ke'nai Shakah.txt\", 'Lonni.txt', 'Nell.txt', 'Rex.txt', 'Stamm.txt', 'Tenne.txt', 'Tutsuwa Nima.txt', 'Ze Kasho.txt', 'Granté.txt', 'Hagie.txt', 'Hunnie.txt', 'Moggs.txt', 'Monari.txt', 'Ruli.txt', 'Ritaag Zumo.txt', \"Tu Ka'loh.txt\", 'Aya.txt', 'Cherry.txt', 'Hoz.txt', 'Jerrin.txt', 'Katosa Aug.txt', 'Khini.txt', 'Nobo.txt', 'Robbie.txt', 'Rudi.txt', 'Zuna Kai.txt', 'Glendo.txt', 'King Rhoam.txt', 'Etsu Korima.txt', 'Ja Baij.txt', 'Keh Namut.txt', 'Old Man.txt', 'Oman Au.txt', 'Owa Daim.txt', 'Rohta Chigah.txt', 'Ruvo Korbah.txt', 'Yowaka Ita.txt', 'Aliza.txt', 'Benny.txt', 'Bosh Kala.txt', 'Botrick.txt', 'Canni.txt', 'Dah Kaso.txt', 'Dai.txt', 'Gotter.txt', 'Haite.txt', \"Kaam Ya'tak.txt\", 'Katah Chuki.txt', 'Monya Toma.txt', 'Myti.txt', 'Namika Ozz.txt', 'Noya Neha.txt', 'Parcy.txt', 'Rota Ooh.txt', \"Saas Ko'sah.txt\", 'Toffa.txt', 'Trott.txt', 'Wahgo Katta.txt', 'Zalta Wa.txt', 'Branli.txt', 'Konba.txt', \"Maag No'rah.txt\", 'Mijah Rokee.txt', 'Mogg Latan.txt', 'Shira Gomar.txt', 'Toh Yahsa.txt', 'Yunobo.txt', 'Ashe.txt', 'Axyl.txt', 'Bladon.txt', 'Bohrin.txt', 'Boldon.txt', 'Breen.txt', 'Daqa Koh.txt', 'Dayto.txt', 'Dorill.txt', 'Douma.txt', 'Drak.txt', 'Dugby.txt', 'Fin.txt', 'Gaile.txt', 'Gonguron.txt', 'Gorae Torr.txt', 'Grapp.txt', 'Jengo.txt', 'Kairo.txt', 'Karsh.txt', 'Kayra Mah.txt', 'Kima.txt', 'Kish.txt', 'Mayro.txt', 'Mirro Shaz.txt', \"Mo'a Keet.txt\", 'Molo.txt', 'Offrak.txt', 'Ozunda.txt', 'Qua Raym.txt', 'Russ.txt', 'Sah Dahaj.txt', 'Shamae.txt', 'Shora Hah.txt', 'Tah Muhl.txt', 'Zorona.txt', 'Aji.txt', 'Bargoh.txt', 'Bludo.txt', 'Fugo.txt', 'Krane.txt', 'Pyle.txt', 'Ramella.txt', 'Rogaro.txt', 'Rohan.txt', \"Shae Mo'sah.txt\", 'Slergo.txt', 'Tanko.txt', 'Tray.txt', 'Volcon.txt', 'Akrah.txt', 'Daag Chokah.txt', 'Garshon.txt', 'Ketoh Wawai.txt', 'Kuhn Sidajj.txt', 'Maag Halan.txt', 'Oaki.txt', 'Onya.txt', 'Sprinn.txt', 'Tasho.txt', 'Zooki.txt', 'Zumi.txt', 'Chio.txt', 'Damia.txt', 'Daz.txt', 'Keo Ruug.txt', 'Kula.txt', 'Maca.txt', 'Natie.txt', 'Peeks.txt', 'Pepp.txt', 'The Great Deku Tree.txt', 'Walton.txt', 'Blynne.txt', 'Jini.txt', \"Ka'o Makagh.txt\", 'Loone.txt', 'Malanya.txt', 'Padok.txt', 'Perosa.txt', 'Phanna.txt', 'Pumaag Nitae.txt', 'Roscoe.txt', 'Shae Katha.txt', 'Shoqa Tatone.txt', 'Straia.txt', 'Suzuna.txt', 'Ya Naga.txt', 'Barta.txt', 'Calisa.txt', 'Eighth Heroine.txt', 'Gartan.txt', 'Lukan.txt', 'Seven Heroines.txt', 'Anche.txt', 'Benja.txt', 'Dako Tah.txt', 'Daqo Chisay.txt', 'Dila Maag.txt', 'Dillie.txt', 'Hawa Koth.txt', 'Jee Noh.txt', 'Jora.txt', 'Kay Noh.txt', 'Keive Tala.txt', 'Kema Zoos.txt', 'Konora.txt', \"Korsh O'hu.txt\", 'Kyra.txt', 'Misae Suma.txt', 'Patricia.txt', 'Pokki.txt', 'Raqa Zunzo.txt', 'Riju.txt', 'Shabonne.txt', 'Strade.txt', 'Sudrey.txt', 'Takama Shiri.txt', 'Tali.txt', 'Tera.txt', 'Tho Kayu.txt', 'Ardin.txt', 'Ashai.txt', 'Aurie Taamu.txt', 'Babi.txt', 'Bertri.txt', 'Bozai.txt', 'Buliara.txt', 'Calyban.txt', 'Cara.txt', 'Dalia.txt', 'Danda.txt', 'Deltan.txt', 'Dina.txt', 'Dorrah.txt', 'Essa.txt', 'Estan.txt', 'Fegran.txt', 'Frelly.txt', 'Frita.txt', 'Furosa.txt', 'Greta.txt', 'Isha.txt', 'Jules.txt', 'Kalani.txt', 'Katta.txt', 'Kohm.txt', 'Kotta.txt', 'Laine.txt', 'Lashley.txt', 'Leena.txt', 'Liana.txt', 'Lorn.txt', 'Lyndae.txt', 'Makure.txt', 'Malena.txt', 'Marta.txt', 'Merina.txt', 'Muava.txt', 'Nali.txt', 'Nellie.txt', 'Olu.txt', 'Padda.txt', 'Pasha.txt', 'Pearle.txt', 'Ploka.txt', 'Pritana.txt', 'Pyra.txt', 'Reeza.txt', 'Rima.txt', 'Risa.txt', 'Romah.txt', 'Rotana.txt', 'Saula.txt', 'Smaude.txt', 'Spera.txt', 'Sumati.txt', 'Tauma.txt', 'Teake.txt', 'Traysi.txt', 'Yaido.txt', 'Emri.txt', 'Guy.txt', 'Kachoo.txt', 'Maike.txt', 'Nobiro.txt', 'Ripp.txt', 'Robsten.txt', 'Shaillu.txt', 'Vilia.txt', 'Canolo.txt', 'Flaxel.txt', 'Ishto Soh.txt', 'Joloo Nah.txt', 'Keeha Yoog.txt', 'Kema Kosassa.txt', 'Kihiro Moh.txt', 'Kuh Takkar.txt', 'Maypin.txt', 'Moza.txt', 'Oliff.txt', 'Palme.txt', 'Piaffe.txt', 'Pirou.txt', 'Sasa Kai.txt', 'Sesami.txt', 'Sho Dantu.txt', 'Suma Sahma.txt', 'Falmark.txt', 'Teba.txt', 'Tulin.txt', 'Goma Asaagh.txt', 'Hia Miu.txt', 'Kiah Toza.txt', 'Maka Rah.txt', 'Mozo Shenno.txt', 'Noe Rajee.txt', 'Qaza Tokki.txt', 'Rok Uwog.txt', 'Selmie.txt', 'Sha Warvo.txt', 'Shada Naw.txt', 'To Quomo.txt', 'Danton.txt', 'Harlow.txt', 'Harry (Breath of the Wild).txt', 'Juannelle.txt', 'Mary (Breath of the Wild).txt', 'Monkton.txt', 'Rin Oyaa.txt', 'Sha Gehma.txt', 'Varke.txt', 'Ariane.txt', 'Bareeda Naag.txt', 'Cree.txt', 'Dunba Taag.txt', 'Galli.txt', \"Gee Ha'rah.txt\", 'Geggle.txt', 'Genli.txt', 'Gesane.txt', 'Kah Okeo.txt', 'Kaysa.txt', 'Kheel.txt', 'Kotts.txt', 'Lanno Kooh.txt', 'Lester.txt', 'Modar.txt', 'Molli.txt', 'Notts.txt', 'Pondo.txt', 'Ponthos.txt', 'Rona Kachta.txt', 'Shae Loya.txt', 'Sheem Dagoze.txt', \"Tena Ko'sah.txt\", 'Voo Lota.txt', \"Akh Va'quot.txt\", 'Amali.txt', 'Bedoli.txt', 'Cecili.txt', 'Harth.txt', 'Huck.txt', 'Jogo.txt', 'Juney.txt', 'Kaneli.txt', 'Laissa.txt', 'Mazli.txt', 'Misa.txt', 'Nekk.txt', 'Saki.txt', 'Verla.txt', 'Gruve.txt', 'Ledo.txt', 'Tona.txt', 'Tottika.txt', 'Tula.txt', 'Eryck.txt', 'Dagah Keek.txt', 'Mezza Lo.txt', 'Rucco Maag.txt', 'Sidon.txt', 'Soh Kofi.txt', 'Torfeau.txt', 'Bazz.txt', 'Cleff.txt', 'Dento.txt', 'Dunma.txt', 'Finley.txt', 'Fronk.txt', 'Gaddison.txt', 'Jiahto.txt', 'Kayden.txt', 'Keye.txt', 'King Dorephan.txt', 'Kodah.txt', 'Laflat.txt', 'Laruta.txt', 'Marot.txt', 'Muzu.txt', \"Ne'ez Yohma.txt\", 'Reagah.txt', 'Rivan.txt', 'Seggin.txt', 'Trello.txt', 'Tumbo.txt', 'Shai Yota.txt', 'Ami.txt', 'Daka Tuss.txt', 'Izra.txt', 'Kaya Wan.txt', 'Lawdon.txt', 'Quince.txt', 'Satty.txt', 'Sheh Rata.txt', 'Yolero.txt', \"Jitan Sa'mi.txt\", \"Tahno O'ah.txt\", 'Agus.txt', 'Celessa.txt', 'Garill.txt', 'Joute.txt', 'Letty.txt', 'Spinch (Horse).txt', 'Spinch (Hylian).txt', 'Toma.txt', 'Calip.txt', \"Dow Na'eh.txt\", 'Flavi.txt', 'Garini.txt', 'Kah Yah.txt', 'Kam Urog.txt', 'Mimos.txt', 'Muwo Jeem.txt', 'Perda.txt', 'Tawa Jinn.txt', 'Teli.txt', 'Wabbin.txt', 'Amira.txt', 'Aster.txt', 'Azu.txt', 'Clavia.txt', 'Dantz.txt', 'Horned Statue.txt', 'Ivee.txt', 'Karin.txt', 'Koyin.txt', 'Leop.txt', 'Manny (Breath of the Wild).txt', 'Medda.txt', 'Myahm Agana.txt', 'Nack.txt', 'Narah.txt', 'Nebb.txt', 'Nikki.txt', 'Prima.txt', 'Pruce.txt', 'Purah.txt', 'Ralera.txt', 'Reede.txt', 'Rhodes.txt', 'Sayge.txt', 'Sefaro.txt', 'Seldon.txt', 'Senna.txt', 'Sophie.txt', 'Symin.txt', 'Tamana.txt', 'Teebo.txt', 'Thadd.txt', 'Tokk.txt', 'Uma.txt', 'Worten.txt', 'Armes.txt', 'Chessica.txt', 'Cloyne.txt', 'Kiana.txt', 'Kinov.txt', 'Mubs.txt', 'Numar.txt', 'Rozel.txt', 'Sebasto.txt', 'Yah Rin.txt', 'Zuta.txt', 'Chaas Qeta.txt', 'Korgu Chideh.txt', 'Mimo.txt', 'Anly.txt', 'Brokka.txt', 'Bugut.txt', 'Cima.txt', 'Cotera.txt', 'Darton.txt', 'Domidak.txt', 'Giro.txt', 'Ha Dahamar.txt', 'Hila Rao.txt', 'Hino.txt', 'Kampo.txt', 'Magda.txt', 'Prissen.txt', 'Qukah Nata.txt', 'Ree Dahee.txt', 'Rensa.txt', 'Sagessa.txt', 'Shai Utoh.txt', 'Shay.txt', 'Shee Vaneer.txt', 'Shee Venath.txt', 'Shibo.txt', 'Shoda Sah.txt', 'Tasseren.txt', 'Toto Sah.txt', 'Cado.txt', 'Claree.txt', 'Cottla.txt', 'Dorian.txt', 'Impa.txt', 'Koko.txt', 'Lakna Rokee.txt', 'Lasli.txt', 'Mellie.txt', 'Nanna.txt', 'Olkin.txt', 'Ollie.txt', 'Paya.txt', 'Rola.txt', 'Steen.txt', \"Ta'loh Naeg.txt\", 'Trissa.txt', 'Black Bokoblin.txt', 'Black Lizalfos.txt', 'Black Moblin.txt', 'Blizzrobe.txt', 'Blue Bokoblin.txt', 'Blue Lizalfos.txt', 'Blue-Maned Lynel.txt', 'Blue Moblin.txt', 'Bokoblin.txt', 'Chuchu.txt', 'Cursed Bokoblin.txt', 'Cursed Lizalfos.txt', 'Cursed Moblin.txt', 'Decayed Guardian.txt', 'Electric Chuchu.txt', 'Electric Keese.txt', 'Electric Lizalfos.txt', 'Electric Wizzrobe.txt', 'Fire-Breath Lizalfos.txt', 'Fire Chuchu.txt', 'Fire Keese.txt', 'Fire Wizzrobe.txt', 'Forest Octorok.txt', 'Frost Pebblit.txt', 'Golden Bokoblin.txt', 'Golden Lizalfos.txt', 'Golden Lynel.txt', 'Golden Moblin.txt', 'Guardian Stalker.txt', 'Guardian Scout I.txt', 'Guardian Scout II.txt', 'Guardian Scout III.txt', 'Guardian Scout IV.txt', 'Guardian Skywatcher.txt', 'Guardian Turret.txt', 'Ice Chuchu.txt', 'Ice Keese.txt', 'Ice-Breath Lizalfos.txt', 'Ice Wizzrobe.txt', 'Igneo Pebblit.txt', 'Keese.txt', 'Lizalfos.txt', 'Lynel.txt', 'Meteo Wizzrobe.txt', 'Moblin.txt', 'Rock Octorok.txt', 'Sentry.txt', 'Silver Bokoblin.txt', 'Silver Lizalfos.txt', 'Silver Lynel.txt', 'Silver Moblin.txt', 'Sky Octorok.txt', 'Snow Octorok.txt', 'Stalizalfos.txt', 'Stalkoblin.txt', 'Stalmoblin.txt', 'Stone Pebblit.txt', 'Thunder Wizzrobe.txt', 'Treasure Octorok.txt', 'Water Octorok.txt', 'White-Maned Lynel.txt', 'Yiga Blademaster.txt', 'Yiga Footsoldier.txt', 'Stone Talus.txt', 'Stone Talus (Junior).txt', 'Stone Talus (Senior).txt', 'Stone Talus (Luminous).txt', 'Stone Talus (Rare).txt', 'Igneo Talus.txt', 'Frost Talus.txt', 'Hinox.txt', 'Blue Hinox.txt', 'Black Hinox.txt', 'Stalnox.txt', 'Molduga.txt', 'Igneo Talus Titan.txt', 'Molduking.txt', 'Windblight Ganon.txt', 'Fireblight Ganon.txt', 'Thunderblight Ganon.txt', 'Waterblight Ganon.txt', 'Master Kohga.txt', 'Monk Maz Koshia.txt', 'Calamity Ganon.txt', 'Dark Beast Ganon.txt']\n"
     ]
    }
   ],
   "source": [
    "# solution1\n",
    "file_list = []\n",
    "for i in df_characters.Name:\n",
    "    i = '{}.{}'.format(i,'txt')\n",
    "    file_list.append(i)\n",
    "print(file_list)"
   ]
  },
  {
   "cell_type": "code",
   "execution_count": 97,
   "id": "0a3b9e5b",
   "metadata": {},
   "outputs": [],
   "source": [
    "# filePath = './CharacterExplainText'\n",
    "# file_lst=os.listdir(filePath)       get file list from directory\n",
    "# file_lst.sort(key=file_list.index)  return TRUE"
   ]
  },
  {
   "cell_type": "markdown",
   "id": "0c62ebfc",
   "metadata": {},
   "source": [
    "**use the function PlaintextCorpusReader from nltk.corpus to create the ZeldaWiki corpus.**"
   ]
  },
  {
   "cell_type": "code",
   "execution_count": 6,
   "id": "a07ff730",
   "metadata": {},
   "outputs": [],
   "source": [
    "from nltk.corpus import PlaintextCorpusReader\n",
    "corpus_root = './CharacterExplainText/'\n",
    "# 1st corpus_root:the path of your files; 2nd file_ids: the name of the files\n",
    "zelda_corpus = PlaintextCorpusReader(corpus_root, '.*.txt')"
   ]
  },
  {
   "cell_type": "code",
   "execution_count": 176,
   "id": "c3d341b0",
   "metadata": {},
   "outputs": [
    {
     "data": {
      "text/plain": [
       "<Text: \" Baddek is a character in Breath of...>"
      ]
     },
     "execution_count": 176,
     "metadata": {},
     "output_type": "execute_result"
    }
   ],
   "source": [
    "nltk.Text(zelda_corpus.words('Baddek.txt'))"
   ]
  },
  {
   "cell_type": "markdown",
   "id": "1b61ba8b",
   "metadata": {},
   "source": [
    "## Exercises: NLPP Chapter 1"
   ]
  },
  {
   "cell_type": "markdown",
   "id": "a9a2dbb0",
   "metadata": {},
   "source": [
    "### Exercise 1: Exploratory analysis"
   ]
  },
  {
   "cell_type": "markdown",
   "id": "d99dd6d3",
   "metadata": {},
   "source": [
    "**Try out ```concordance``` method**<br>\n",
    "split a sentence into words by breaking each word with punctuation.This method shows us every occurrence of a given word, together with some context."
   ]
  },
  {
   "cell_type": "code",
   "execution_count": 571,
   "id": "70b749cb",
   "metadata": {},
   "outputs": [],
   "source": [
    "zelda_text = nltk.Text(zelda_corpus.words())"
   ]
  },
  {
   "cell_type": "code",
   "execution_count": 336,
   "id": "5a539e2f",
   "metadata": {
    "scrolled": true
   },
   "outputs": [
    {
     "name": "stdout",
     "output_type": "stream",
     "text": [
      "Displaying 25 of 4353 matches:\n",
      ". He will offer to sell his stock to Link or purchase items from him , as well\n",
      "e calls his Donkey his buddy , which Link is apparently confused by .\\ nOn his\n",
      "l grow nervous , being frightened if Link approaches him . He ' ll be relieved\n",
      "hes him . He ' ll be relieved so see Link is a regular person and apologize . \n",
      "ll keep an eye on this tree , asking Link if it ' s actually moving or if his \n",
      "yes are playing tricks on him .\\ nIf Link saves Agus from an enemy attack , he\n",
      "om an enemy attack , he might ask if Link is a famous swordsman , saying he sh\n",
      "r what would have happened to him if Link hadn ' t come along , but soon dismi\n",
      " He can also comment that he thought Link was strong the first time he say him\n",
      "ht . In all scenarios , he will give Link a reward of either Food or a Cooking\n",
      ", and Seafood Meuni \\ u00e8re .\\ nIf Link buys from him while it ' s raining ,\n",
      "en losing customers as a result . If Link decides to buy something , Aji becom\n",
      " very long time . He ' ll also allow Link to sell items to him .\\ nLike most m\n",
      "bles , such as Fyson or Pelison , if Link stands on the cooking platform , he \n",
      " appearing over his head asking that Link get down . Speaking to him in this s\n",
      "ing to him in this state has him beg Link to get down or question Link ' s upb\n",
      "him beg Link to get down or question Link ' s upbringing and lack of manners .\n",
      " where to find them . Akrah will ask Link if he ' s willing to travel to these\n",
      " is located in the region of Eldin . Link can take a photo of it with the Came\n",
      "ory about the volcanic eruption . If Link hasn ' t delivered pictures to Onya \n",
      "me he speaks to him , Akrah will ask Link to assist in their research as well \n",
      "livered , he will be the one to give Link his reward .\\ nAfter the quest is co\n",
      "xplain that he ' s using the picture Link provided to his theory about the lev\n",
      "d , whom she is smitten with . Until Link speaks with her , she will stand ben\n",
      "dless of Weather or Time of day . If Link approaches her , she will preemptive\n"
     ]
    }
   ],
   "source": [
    "zelda_text.concordance('Link')"
   ]
  },
  {
   "cell_type": "markdown",
   "id": "770794b4",
   "metadata": {},
   "source": [
    "**Try out the ```similar``` methods**<br>\n",
    "other words appear in a similar range of contexts"
   ]
  },
  {
   "cell_type": "code",
   "execution_count": 181,
   "id": "c32a2f5b",
   "metadata": {
    "scrolled": true
   },
   "outputs": [
    {
     "name": "stdout",
     "output_type": "stream",
     "text": [
      "him he she it her zelda them they this time hyrule mipha ganon herself\n",
      "impa there attack ganondorf and himself\n",
      "None\n"
     ]
    }
   ],
   "source": [
    "print(zelda_text.similar('Link'))"
   ]
  },
  {
   "cell_type": "markdown",
   "id": "6db0ca54",
   "metadata": {},
   "source": [
    "**Try out the ```common_contexts```  methods**<br>\n",
    "examine just the contexts that are shared by two or more words"
   ]
  },
  {
   "cell_type": "code",
   "execution_count": 182,
   "id": "a870d5ac",
   "metadata": {},
   "outputs": [
    {
     "name": "stdout",
     "output_type": "stream",
     "text": [
      "tells_that that_is asks_if of_s in_s to_that for_to that_has to_s on_s\n",
      "when_asks n_s after_has for_s from_s and_s give_the with_s towards_and\n",
      "tells_not\n"
     ]
    }
   ],
   "source": [
    "zelda_text.common_contexts(['Link','Zelda'])"
   ]
  },
  {
   "cell_type": "markdown",
   "id": "a454fdfe",
   "metadata": {},
   "source": [
    "**Create the ZeldaWiki version of a dispersion plot**"
   ]
  },
  {
   "cell_type": "markdown",
   "id": "9bce09d1",
   "metadata": {},
   "source": [
    "_1.try with the words ['attack','help']. What do you observe? (hint: we ordered characters as they appear in df_characters)_"
   ]
  },
  {
   "cell_type": "code",
   "execution_count": 186,
   "id": "0af311b9",
   "metadata": {
    "scrolled": true
   },
   "outputs": [
    {
     "data": {
      "image/png": "[encoded data removed]",
      "text/plain": [
       "<Figure size 432x288 with 1 Axes>"
      ]
     },
     "metadata": {
      "needs_background": "light"
     },
     "output_type": "display_data"
    }
   ],
   "source": [
    "# A utility for displaying lexical dispersion.\n",
    "zelda_text.dispersion_plot(['attack','help'])"
   ]
  },
  {
   "cell_type": "markdown",
   "id": "6c50745e",
   "metadata": {},
   "source": [
    "The dispersion plot illustrates the homogeneity of a word (or set of words) across the documents of a corpus. 'attack' shows regularly among our corpus library and 'help' relevant info appears intensively. This dispersion to some extend indicates Zelda world is full of risks and fights."
   ]
  },
  {
   "cell_type": "markdown",
   "id": "68e0fed1",
   "metadata": {},
   "source": [
    "_2.find the top 6 races of allies by counting how many characters of each race there are in df_characters. Save the list of races and use it to create a new dispersion plot. What do you observe?_"
   ]
  },
  {
   "cell_type": "code",
   "execution_count": 203,
   "id": "539aecec",
   "metadata": {
    "scrolled": true
   },
   "outputs": [
    {
     "data": {
      "text/plain": [
       "Hylian     215\n",
       "Sheikah    142\n",
       "Gerudo      78\n",
       "Goron       36\n",
       "Zora        30\n",
       "Rito        27\n",
       "Name: Race, dtype: int64"
      ]
     },
     "execution_count": 203,
     "metadata": {},
     "output_type": "execute_result"
    }
   ],
   "source": [
    "#  counting how many characters of each race there are in df_characters\n",
    "race_count = df_characters['Race'].value_counts()\n",
    "race_count[0:6]"
   ]
  },
  {
   "cell_type": "code",
   "execution_count": 208,
   "id": "cbe90933",
   "metadata": {},
   "outputs": [
    {
     "data": {
      "image/png": "[encoded data removed]",
      "text/plain": [
       "<Figure size 432x288 with 1 Axes>"
      ]
     },
     "metadata": {
      "needs_background": "light"
     },
     "output_type": "display_data"
    }
   ],
   "source": [
    "zelda_text.dispersion_plot(list(race_count.index))"
   ]
  },
  {
   "cell_type": "markdown",
   "id": "9e1fd0bf",
   "metadata": {},
   "source": [
    "The dispersion plot shows the lexical dispersion of words. The top 6 races have considerably more lines than the rest,which indicates they appear more frequently in our corpus.And the story is more centred in 3 races 'Hylian', 'Sheikan' and 'Gerudo'."
   ]
  },
  {
   "cell_type": "markdown",
   "id": "87b363d2",
   "metadata": {},
   "source": [
    "_3.try your own version of the dispersion plot (use any set of words you like but remember to explain what you observe)._"
   ]
  },
  {
   "cell_type": "code",
   "execution_count": 214,
   "id": "92d24775",
   "metadata": {
    "scrolled": false
   },
   "outputs": [
    {
     "data": {
      "image/png": "[encoded data removed]",
      "text/plain": [
       "<Figure size 432x288 with 1 Axes>"
      ]
     },
     "metadata": {
      "needs_background": "light"
     },
     "output_type": "display_data"
    }
   ],
   "source": [
    "gender_list = ['Link','Hylia','Ganon']\n",
    "zelda_text.dispersion_plot(gender_list)"
   ]
  },
  {
   "cell_type": "markdown",
   "id": "ae018df8",
   "metadata": {},
   "source": [
    "From week5 exercises, we found top 3 in-degree nodes 'Link','Hylia','Calamity Ganon'.Plot their dispersion, Link has the most in-degree and is active through the whole corpus, so he is the main character in the BtoW for sure. Hylia shows up intervally, I guess she plays an important role in guiding Link and pushing the story process.Ganon debuts after Link coming out for a while, which gives players time to be familiar with game operation. Gradually, in the medium to later term, Ganon appears frequently, the game plot is pushed to climax."
   ]
  },
  {
   "cell_type": "markdown",
   "id": "75834047",
   "metadata": {},
   "source": [
    "**What is a bigram? How does it relate to ```collocations```. Explain in your own words.**"
   ]
  },
  {
   "cell_type": "markdown",
   "id": "1259eae4",
   "metadata": {},
   "source": [
    "A collocation is a sequence of words that occur together unusually often, while bigrams are like word pairs. Collocations are essentially just frequent bigrams, except that we want to pay more attention to the cases that involve rare words. In particular, we want to find bigrams that occur more often than we would expect based on the frequency of the individual words. The ```collocations()``` function does this for us."
   ]
  },
  {
   "cell_type": "code",
   "execution_count": 215,
   "id": "ee091a2b",
   "metadata": {},
   "outputs": [
    {
     "name": "stdout",
     "output_type": "stream",
     "text": [
      "References ==\"; Nomenclature ==\\; Biography ==\\; See Also; Divine\n",
      "Beast; Also ==\\; Gerudo Town; Ancient Shrine; Beast Vah; Calamity\n",
      "Ganon; Side Quest; Link speaks; Princess Zelda; Gallery ==\\; Sheikah\n",
      "Slate; Hyrule Castle; Zelda series; Wind Waker; years prior; 000 years\n"
     ]
    }
   ],
   "source": [
    "zelda_text.collocations()"
   ]
  },
  {
   "cell_type": "markdown",
   "id": "483e5316",
   "metadata": {},
   "source": [
    "**Review the discussion of conditionals in Sec. 4. Find all words in the ZeldaWiki Text starting with the letter b. Show the first 5 in alphabetical order.**"
   ]
  },
  {
   "cell_type": "code",
   "execution_count": 225,
   "id": "ae53b8e0",
   "metadata": {},
   "outputs": [
    {
     "data": {
      "text/plain": [
       "['baby', 'baby', 'back', 'back', 'back']"
      ]
     },
     "execution_count": 225,
     "metadata": {},
     "output_type": "execute_result"
    }
   ],
   "source": [
    "b_list = [i for i in zelda_text if i.startswith('b')]\n",
    "sorted(b_list)[0:5]"
   ]
  },
  {
   "cell_type": "markdown",
   "id": "a2059aa1",
   "metadata": {},
   "source": [
    "**Use .index() to find the index of the word Cherry. You'll need to insert this word as an argument between the parentheses. By a process of trial and error, find the slice for the complete sentence that contains this word.**"
   ]
  },
  {
   "cell_type": "code",
   "execution_count": 226,
   "id": "6741fbba",
   "metadata": {},
   "outputs": [
    {
     "data": {
      "text/plain": [
       "34166"
      ]
     },
     "execution_count": 226,
     "metadata": {},
     "output_type": "execute_result"
    }
   ],
   "source": [
    "zelda_text.index('Cherry')"
   ]
  },
  {
   "cell_type": "code",
   "execution_count": 233,
   "id": "77d07eec",
   "metadata": {},
   "outputs": [
    {
     "data": {
      "text/plain": [
       "['Cherry', ',', 'is', 'a', 'character', 'in', 'Breath', 'of', 'the', 'Wild']"
      ]
     },
     "execution_count": 233,
     "metadata": {},
     "output_type": "execute_result"
    }
   ],
   "source": [
    "text[34166:34176]"
   ]
  },
  {
   "cell_type": "markdown",
   "id": "7c209f32",
   "metadata": {},
   "source": [
    "**Review the discussion of looping with conditions in Sec 4. Use a combination of for and if statements to loop over the words of the ZeldaWiki Text and print the 5 longest uppercase words, one per line.**"
   ]
  },
  {
   "cell_type": "code",
   "execution_count": 284,
   "id": "92ec9280",
   "metadata": {},
   "outputs": [
    {
     "data": {
      "text/plain": [
       "[('CRAAAAACK', 9),\n",
       " ('BOOOOOM', 7),\n",
       " ('BZZBZZT', 7),\n",
       " ('3000HP', 6),\n",
       " ('BZZBZZ', 6)]"
      ]
     },
     "execution_count": 284,
     "metadata": {},
     "output_type": "execute_result"
    }
   ],
   "source": [
    "upwds = {}\n",
    "for i in zelda_text:\n",
    "    if i.isupper():\n",
    "        upwds[i] = len(i)\n",
    "\n",
    "sorted(upwds.items(),key=lambda x:x[1],reverse=True)[:5]\n",
    "\n",
    "# solution 2\n",
    "# sorted(upwds,key=len,reverse=True)[:5]"
   ]
  },
  {
   "cell_type": "markdown",
   "id": "bc9ceac0",
   "metadata": {},
   "source": [
    "### Exercise 2: Basic stats"
   ]
  },
  {
   "cell_type": "markdown",
   "id": "c6b94fcd",
   "metadata": {},
   "source": [
    "**How many tokens are there in the ZeldaWiki Text? How many distinct tokens are there?**"
   ]
  },
  {
   "cell_type": "code",
   "execution_count": 337,
   "id": "35e99545",
   "metadata": {},
   "outputs": [
    {
     "name": "stdout",
     "output_type": "stream",
     "text": [
      "Tokens: 235539\n",
      "Distinct tokens(Type) 11657\n"
     ]
    }
   ],
   "source": [
    "print('Tokens:',len(zelda_text))\n",
    "print('Distinct tokens(Type)',len(set(zelda_text)))"
   ]
  },
  {
   "cell_type": "markdown",
   "id": "ce1190c2",
   "metadata": {},
   "source": [
    "**Explain in your own words what aspect of language lexical diversity describes.**"
   ]
  },
  {
   "cell_type": "markdown",
   "id": "8373ab2f",
   "metadata": {},
   "source": [
    "_1.Compute the lexical diversity of the ZeldaWiki Text;_"
   ]
  },
  {
   "cell_type": "code",
   "execution_count": 137,
   "id": "bd31190d",
   "metadata": {},
   "outputs": [],
   "source": [
    "def lexical_diversity(text):\n",
    "    return len(set(text)) / len(text)"
   ]
  },
  {
   "cell_type": "code",
   "execution_count": 338,
   "id": "939f5533",
   "metadata": {
    "scrolled": true
   },
   "outputs": [
    {
     "data": {
      "text/plain": [
       "0.049490742509732996"
      ]
     },
     "execution_count": 338,
     "metadata": {},
     "output_type": "execute_result"
    }
   ],
   "source": [
    "lexical_diversity(zelda_text)"
   ]
  },
  {
   "cell_type": "markdown",
   "id": "28052e2c",
   "metadata": {},
   "source": [
    "The function has an input of text and returns the result of ```len(set(text)) / len(text)```. It evaluates the percentage of distinct words of the total number of words."
   ]
  },
  {
   "cell_type": "markdown",
   "id": "9f16a478",
   "metadata": {},
   "source": [
    "_2.Compute the lexical diversity related to allies and enemies (bosses inlcuded). Comment your results_"
   ]
  },
  {
   "cell_type": "code",
   "execution_count": 57,
   "id": "0e4fabf7",
   "metadata": {
    "scrolled": true
   },
   "outputs": [],
   "source": [
    "allies_corpus = PlaintextCorpusReader(corpus_root, '.*.txt')\n",
    "enemies_corpus = PlaintextCorpusReader(corpus_root, '.*.txt')"
   ]
  },
  {
   "cell_type": "code",
   "execution_count": 53,
   "id": "78eed405",
   "metadata": {},
   "outputs": [],
   "source": [
    "allies_list = []\n",
    "enemies_list = []\n",
    "for i in df_characters.Name:\n",
    "    if df_characters.loc[df_characters.Name == i].Role.values == 'Ally':\n",
    "        i = '{}.{}'.format(i,'txt')\n",
    "        allies_list.append(i)\n",
    "    elif df_characters[df_characters.Name == i].Role.values == ('Enemy' or 'Boss'):\n",
    "        i = '{}.{}'.format(i,'txt')\n",
    "        enemies_list.append(i)"
   ]
  },
  {
   "cell_type": "code",
   "execution_count": 54,
   "id": "5805ddd5",
   "metadata": {},
   "outputs": [],
   "source": [
    "allies_corpus = PlaintextCorpusReader(corpus_root, allies_list)\n",
    "enemies_corpus = PlaintextCorpusReader(corpus_root, enemies_list)"
   ]
  },
  {
   "cell_type": "code",
   "execution_count": 55,
   "id": "29bb8f64",
   "metadata": {
    "scrolled": true
   },
   "outputs": [],
   "source": [
    "allies_text = nltk.Text(allies_corpus.words())\n",
    "anemies_text = nltk.Text(enemies_corpus.words())"
   ]
  },
  {
   "cell_type": "code",
   "execution_count": 56,
   "id": "bc15b05c",
   "metadata": {},
   "outputs": [
    {
     "name": "stdout",
     "output_type": "stream",
     "text": [
      "Lexical diversity related to allies: 0.05386694937715346\n",
      "Lexical diversity related to enemies: 0.09111953470875893\n"
     ]
    }
   ],
   "source": [
    "print('Lexical diversity related to allies:',lexical_diversity(allies_text))\n",
    "print('Lexical diversity related to enemies:',lexical_diversity(anemies_text))"
   ]
  },
  {
   "cell_type": "markdown",
   "id": "eeaec217",
   "metadata": {},
   "source": [
    "There ratio of distinct words to tokens are 5.3%(allies) and 9.1%(enemies) respectively. So the lexical richness related to enemies is larger, which shows that the names of enemies are more unique."
   ]
  },
  {
   "cell_type": "markdown",
   "id": "0f8c7de8",
   "metadata": {},
   "source": [
    "**Create frequency distributions for the ZeldaWiki Text, including the cumulative frequency plot for the 75 most common tokens.**"
   ]
  },
  {
   "cell_type": "code",
   "execution_count": 61,
   "id": "be595857",
   "metadata": {
    "scrolled": true
   },
   "outputs": [
    {
     "name": "stdout",
     "output_type": "stream",
     "text": [
      "<FreqDist with 11657 samples and 235539 outcomes>\n"
     ]
    }
   ],
   "source": [
    "fdist = nltk.FreqDist(text)\n",
    "print(fdist)"
   ]
  },
  {
   "cell_type": "code",
   "execution_count": 112,
   "id": "0b677394",
   "metadata": {
    "scrolled": true
   },
   "outputs": [
    {
     "data": {
      "image/png": "[encoded data removed]",
      "text/plain": [
       "<Figure size 1080x576 with 1 Axes>"
      ]
     },
     "metadata": {
      "needs_background": "light"
     },
     "output_type": "display_data"
    },
    {
     "data": {
      "text/plain": [
       "<AxesSubplot:xlabel='Samples', ylabel='Cumulative Counts'>"
      ]
     },
     "execution_count": 112,
     "metadata": {},
     "output_type": "execute_result"
    }
   ],
   "source": [
    "plt.figure(figsize=(15,8))\n",
    "fdist.plot(75, cumulative=True)"
   ]
  },
  {
   "cell_type": "markdown",
   "id": "eb8f445c",
   "metadata": {},
   "source": [
    "**Find all the four-letter tokens in the ZeldaWiki Text. With the help of a frequency distribution (FreqDist), show these tokens in decreasing order of frequency.**"
   ]
  },
  {
   "cell_type": "code",
   "execution_count": 126,
   "id": "f088e5a2",
   "metadata": {
    "scrolled": true
   },
   "outputs": [
    {
     "data": {
      "text/plain": [
       "['.\\\\\"\\\\',\n",
       " '====',\n",
       " '====\\\\',\n",
       " '===\\\\',\n",
       " 'Abandoned',\n",
       " 'According',\n",
       " 'Additionally',\n",
       " 'Adventure',\n",
       " 'Adventures',\n",
       " 'After',\n",
       " 'Afterwards',\n",
       " 'Agahnim',\n",
       " 'Ages',\n",
       " 'Agus',\n",
       " 'Akkala',\n",
       " 'Akrah',\n",
       " 'Aliza',\n",
       " 'Also',\n",
       " 'Although',\n",
       " 'Amali',\n",
       " 'Amber',\n",
       " 'Amira',\n",
       " 'Anche',\n",
       " 'Ancient',\n",
       " 'Anjean',\n",
       " 'Anly',\n",
       " 'Appearances',\n",
       " 'Armor',\n",
       " 'Arrow',\n",
       " 'Arrows',\n",
       " 'Asaagh',\n",
       " 'Ashai',\n",
       " 'Asking',\n",
       " 'Aster',\n",
       " 'Attack',\n",
       " 'Awakening',\n",
       " 'Babi',\n",
       " 'Baddek',\n",
       " 'Ballad',\n",
       " 'Bananas',\n",
       " 'Banji',\n",
       " 'Barrels',\n",
       " 'Barta',\n",
       " 'Battle',\n",
       " 'Baumar',\n",
       " 'Bayge',\n",
       " 'Bazaar',\n",
       " 'Bazz',\n",
       " 'Beast',\n",
       " 'Beasts',\n",
       " 'Because',\n",
       " 'Bedoli',\n",
       " 'Beedle',\n",
       " 'Beetle',\n",
       " 'Before',\n",
       " 'Benja',\n",
       " 'Between',\n",
       " 'Biography',\n",
       " 'Black',\n",
       " 'Blade',\n",
       " 'Bladon',\n",
       " 'Blood',\n",
       " 'Bludo',\n",
       " 'Blue',\n",
       " 'Blynne',\n",
       " 'Boko',\n",
       " 'Bokoblin',\n",
       " 'Bokoblins',\n",
       " 'Bolson',\n",
       " 'Bomb',\n",
       " 'Bombs',\n",
       " 'Bone',\n",
       " 'Bonus',\n",
       " 'Boomerang',\n",
       " 'Boots',\n",
       " 'Boss',\n",
       " 'Bosses',\n",
       " 'BotW',\n",
       " 'Botrick',\n",
       " 'Bows',\n",
       " 'Bozai',\n",
       " 'Branli',\n",
       " 'Breath',\n",
       " 'Bridge',\n",
       " 'Bridle',\n",
       " 'Brigo',\n",
       " 'Brokka',\n",
       " 'Bros',\n",
       " 'Brothers',\n",
       " 'Buliara',\n",
       " 'Cadence',\n",
       " 'Cado',\n",
       " 'Calamity',\n",
       " 'Calisa',\n",
       " 'Calyban',\n",
       " 'Cannons',\n",
       " 'Canolo',\n",
       " 'Canteen',\n",
       " 'Canyon',\n",
       " 'Captain',\n",
       " 'Carrots',\n",
       " 'Castle',\n",
       " 'Cave',\n",
       " 'Caves',\n",
       " 'Ceremonial',\n",
       " 'Challenge',\n",
       " 'Champion',\n",
       " 'Champions',\n",
       " 'Characteristics',\n",
       " 'Check',\n",
       " 'Cherry',\n",
       " 'Chest',\n",
       " 'Chests',\n",
       " 'Chideh',\n",
       " 'Chief',\n",
       " 'Chio',\n",
       " 'Chokah',\n",
       " 'ChuChu',\n",
       " 'ChuChus',\n",
       " 'Chuchu',\n",
       " 'Chuchus',\n",
       " 'Chuki',\n",
       " 'Chus',\n",
       " 'City',\n",
       " 'Clan',\n",
       " 'Claree',\n",
       " 'Cloyne',\n",
       " 'Club',\n",
       " 'Coliseum',\n",
       " 'Comment',\n",
       " 'Construction',\n",
       " 'Container',\n",
       " 'Cooking',\n",
       " 'Coral',\n",
       " 'Cotera',\n",
       " 'Cottla',\n",
       " 'Courage',\n",
       " 'Cree',\n",
       " 'Crusher',\n",
       " 'Cuccos',\n",
       " 'Cursed',\n",
       " 'Dabi',\n",
       " 'Dalia',\n",
       " 'Damia',\n",
       " 'Danda',\n",
       " 'Dantz',\n",
       " 'Dark',\n",
       " 'Darton',\n",
       " 'Daruk',\n",
       " 'Death',\n",
       " 'Decayed',\n",
       " 'Deku',\n",
       " 'Demise',\n",
       " 'Demon',\n",
       " 'Dento',\n",
       " 'Depending',\n",
       " 'Deposit',\n",
       " 'Desert',\n",
       " 'Despite',\n",
       " 'Diamond',\n",
       " 'Diamonds',\n",
       " 'Diary',\n",
       " 'Dillie',\n",
       " 'Dina',\n",
       " 'Dinraal',\n",
       " 'Divine',\n",
       " 'Dmitri',\n",
       " 'Domain',\n",
       " 'Domidak',\n",
       " 'Donkey',\n",
       " 'Dorephan',\n",
       " 'Dorian',\n",
       " 'Dorrah',\n",
       " 'Dragon',\n",
       " 'Drak',\n",
       " 'Drops',\n",
       " 'Dueling',\n",
       " 'Dungeon',\n",
       " 'Dungeons',\n",
       " 'Dunma',\n",
       " 'During',\n",
       " 'Each',\n",
       " 'Earth',\n",
       " 'East',\n",
       " 'Eighth',\n",
       " 'Eldin',\n",
       " 'Electric',\n",
       " 'Elixir',\n",
       " 'Elixirs',\n",
       " 'Emblem',\n",
       " 'Emri',\n",
       " 'Endai',\n",
       " 'Enemies',\n",
       " 'English',\n",
       " 'Epona',\n",
       " 'Essa',\n",
       " 'Estan',\n",
       " 'Even',\n",
       " 'Fairies',\n",
       " 'Fairy',\n",
       " 'Falmark',\n",
       " 'Family',\n",
       " 'Fang',\n",
       " 'Fangs',\n",
       " 'Faron',\n",
       " 'Farosh',\n",
       " 'Fegran',\n",
       " 'Festival',\n",
       " 'Field',\n",
       " 'Finley',\n",
       " 'Fire',\n",
       " 'Fireblight',\n",
       " 'Fireproof',\n",
       " 'Fish',\n",
       " 'Flame',\n",
       " 'Flamebreaker',\n",
       " 'Flaxel',\n",
       " 'Flight',\n",
       " 'Flint',\n",
       " 'Following',\n",
       " 'Food',\n",
       " 'Foothill',\n",
       " 'Footsoldiers',\n",
       " 'Force',\n",
       " 'Forest',\n",
       " 'Forsaken',\n",
       " 'Fort',\n",
       " 'Fortified',\n",
       " 'Fortress',\n",
       " 'Fountain',\n",
       " 'Four',\n",
       " 'Frelly',\n",
       " 'Frita',\n",
       " 'From',\n",
       " 'Fronk',\n",
       " 'Frontier',\n",
       " 'Frost',\n",
       " 'Fugo',\n",
       " 'Furosa',\n",
       " 'Fury',\n",
       " 'Fyson',\n",
       " 'Gaddison',\n",
       " 'Gallery',\n",
       " 'Galli',\n",
       " 'Game',\n",
       " 'Ganon',\n",
       " 'Ganondorf',\n",
       " 'Garini',\n",
       " 'Gartan',\n",
       " 'Gate',\n",
       " 'Gear',\n",
       " 'Gems',\n",
       " 'General',\n",
       " 'Gerudo',\n",
       " 'Ghirahim',\n",
       " 'Giant',\n",
       " 'Gleema',\n",
       " 'Glendo',\n",
       " 'Goddess',\n",
       " 'Gold',\n",
       " 'Golden',\n",
       " 'Gonguron',\n",
       " 'Goron',\n",
       " 'Gorons',\n",
       " 'Gotter',\n",
       " 'Gourmet',\n",
       " 'Great',\n",
       " 'Green',\n",
       " 'Greta',\n",
       " 'Greyson',\n",
       " 'Ground',\n",
       " 'Gruve',\n",
       " 'Guard',\n",
       " 'Guardian',\n",
       " 'Guardians',\n",
       " 'Gust',\n",
       " 'Guts',\n",
       " 'Halan',\n",
       " 'Harry',\n",
       " 'Hateno',\n",
       " 'Heart',\n",
       " 'Hearts',\n",
       " 'Hearty',\n",
       " 'Hebra',\n",
       " 'Heirloom',\n",
       " 'Helm',\n",
       " 'Hero',\n",
       " 'Heroes',\n",
       " 'Heroine',\n",
       " 'Heroines',\n",
       " 'Hestu',\n",
       " 'Hideout',\n",
       " 'Highland',\n",
       " 'Highlands',\n",
       " 'Hinox',\n",
       " 'Holodrum',\n",
       " 'Honor',\n",
       " 'Horned',\n",
       " 'Horns',\n",
       " 'Horse',\n",
       " 'Horses',\n",
       " 'Hotel',\n",
       " 'Hourglass',\n",
       " 'House',\n",
       " 'However',\n",
       " 'Hudson',\n",
       " 'Hydromelons',\n",
       " 'Hylia',\n",
       " 'Hylian',\n",
       " 'Hylians',\n",
       " 'Hyrule',\n",
       " 'Hyrulean',\n",
       " 'Icehouse',\n",
       " 'Igneo',\n",
       " 'Impa',\n",
       " 'Inogo',\n",
       " 'Inside',\n",
       " 'Inventory',\n",
       " 'Isha',\n",
       " 'Island',\n",
       " 'Items',\n",
       " 'Jana',\n",
       " 'Japanese',\n",
       " 'Jeem',\n",
       " 'Jelly',\n",
       " 'Jerrin',\n",
       " 'Jewel',\n",
       " 'Jewels',\n",
       " 'Jinn',\n",
       " 'Jora',\n",
       " 'Jules',\n",
       " 'Kachta',\n",
       " 'Kakariko',\n",
       " 'Kalani',\n",
       " 'Kara',\n",
       " 'Karson',\n",
       " 'Kaso',\n",
       " 'Kass',\n",
       " 'Katha',\n",
       " 'Kaysa',\n",
       " 'Kayu',\n",
       " 'Keek',\n",
       " 'Keese',\n",
       " 'Kheel',\n",
       " 'Kilton',\n",
       " 'King',\n",
       " 'Kingdom',\n",
       " 'Knight',\n",
       " 'Kodah',\n",
       " 'Kofi',\n",
       " 'Kohga',\n",
       " 'Kokiri',\n",
       " 'Koko',\n",
       " 'Kooh',\n",
       " 'Korok',\n",
       " 'Koroks',\n",
       " 'Kosassa',\n",
       " 'Koshia',\n",
       " 'Kotta',\n",
       " 'Koukot',\n",
       " 'Kyra',\n",
       " 'Lady',\n",
       " 'Laine',\n",
       " 'Lake',\n",
       " 'Lakna',\n",
       " 'Lanayru',\n",
       " 'Laruta',\n",
       " 'Lashley',\n",
       " 'Lasli',\n",
       " 'Later',\n",
       " 'Leaf',\n",
       " 'Leena',\n",
       " 'Legend',\n",
       " 'Liana',\n",
       " 'Light',\n",
       " 'Lightning',\n",
       " 'Lightscale',\n",
       " 'Like',\n",
       " 'Link',\n",
       " 'Links',\n",
       " 'Lizalfos',\n",
       " 'Locations',\n",
       " 'Lookout',\n",
       " 'Lord',\n",
       " 'Lorn',\n",
       " 'Lorule',\n",
       " 'Lost',\n",
       " 'Lover',\n",
       " 'Lukan',\n",
       " 'Luminous',\n",
       " 'Lurelin',\n",
       " 'Lyndae',\n",
       " 'Lynel',\n",
       " 'Lynels',\n",
       " 'Maag',\n",
       " 'Maidens',\n",
       " 'Maike',\n",
       " 'Main',\n",
       " 'Majora',\n",
       " 'Makure',\n",
       " 'Malena',\n",
       " 'Malice',\n",
       " 'Malladus',\n",
       " 'Maned',\n",
       " 'Mary',\n",
       " 'Mask',\n",
       " 'Master',\n",
       " 'Materials',\n",
       " 'Mazli',\n",
       " 'Meat',\n",
       " 'Medal',\n",
       " 'Medoh',\n",
       " 'Mellie',\n",
       " 'Memory',\n",
       " 'Merina',\n",
       " 'Midna',\n",
       " 'Mighty',\n",
       " 'Mimo',\n",
       " 'Mine',\n",
       " 'Minish',\n",
       " 'Mipha',\n",
       " 'Mirror',\n",
       " 'Misko',\n",
       " 'Moblin',\n",
       " 'Moblins',\n",
       " 'Mode',\n",
       " 'Molduga',\n",
       " 'Molduking',\n",
       " 'Monk',\n",
       " 'Monkton',\n",
       " 'Monster',\n",
       " 'Monsters',\n",
       " 'Moon',\n",
       " 'Mount',\n",
       " 'Mountain',\n",
       " 'Mountains',\n",
       " 'Muava',\n",
       " 'Muzu',\n",
       " 'Naboris',\n",
       " 'Naeg',\n",
       " 'Nali',\n",
       " 'Nanna',\n",
       " 'Nata',\n",
       " 'Navi',\n",
       " 'Naydra',\n",
       " 'Nayru',\n",
       " 'Nebb',\n",
       " 'Necluda',\n",
       " 'Neha',\n",
       " 'Nellie',\n",
       " 'Nest',\n",
       " 'Nikki',\n",
       " 'Nima',\n",
       " 'Nitae',\n",
       " 'Nobiro',\n",
       " 'Noble',\n",
       " 'Nomenclature',\n",
       " 'North',\n",
       " 'Notes',\n",
       " 'Oasis',\n",
       " 'Ocarina',\n",
       " 'Octorok',\n",
       " 'Octoroks',\n",
       " 'Olkin',\n",
       " 'Once',\n",
       " 'Oracle',\n",
       " 'Other',\n",
       " 'Outskirt',\n",
       " 'Oven',\n",
       " 'Pack',\n",
       " 'Padda',\n",
       " 'Painting',\n",
       " 'Palace',\n",
       " 'Paraglider',\n",
       " 'Parcy',\n",
       " 'Pasha',\n",
       " 'Past',\n",
       " 'Patricia',\n",
       " 'Paya',\n",
       " 'Peaks',\n",
       " 'Pearle',\n",
       " 'Pebblit',\n",
       " 'Pebblits',\n",
       " 'Pelison',\n",
       " 'Perda',\n",
       " 'Perfect',\n",
       " 'Phantom',\n",
       " 'Picori',\n",
       " 'Picture',\n",
       " 'Pirou',\n",
       " 'Plain',\n",
       " 'Plateau',\n",
       " 'Ploka',\n",
       " 'Pokki',\n",
       " 'Pond',\n",
       " 'Post',\n",
       " 'Potions',\n",
       " 'Power',\n",
       " 'Pricing',\n",
       " 'Prince',\n",
       " 'Princess',\n",
       " 'Prissen',\n",
       " 'Pritana',\n",
       " 'Protection',\n",
       " 'Pruce',\n",
       " 'Pumpkins',\n",
       " 'Purah',\n",
       " 'Purple',\n",
       " 'Pursuit',\n",
       " 'Pyra',\n",
       " 'Qeta',\n",
       " 'Quest',\n",
       " 'Quince',\n",
       " 'Quomo',\n",
       " 'Racing',\n",
       " 'Rain',\n",
       " 'Ranch',\n",
       " 'Range',\n",
       " 'Rare',\n",
       " 'Realm',\n",
       " 'Recipe',\n",
       " 'Recovered',\n",
       " 'Reede',\n",
       " 'Reef',\n",
       " 'Reeza',\n",
       " 'References',\n",
       " 'Region',\n",
       " 'Remote',\n",
       " 'Rensa',\n",
       " 'Restoration',\n",
       " 'Resurrection',\n",
       " 'Revali',\n",
       " 'Rhoam',\n",
       " 'Rhodes',\n",
       " 'Rhondson',\n",
       " 'Ridge',\n",
       " 'Riju',\n",
       " 'Rima',\n",
       " 'Ripp',\n",
       " 'Risa',\n",
       " 'Rito',\n",
       " 'Rivan',\n",
       " 'River',\n",
       " 'Riverside',\n",
       " 'Roast',\n",
       " 'Robbie',\n",
       " 'Robsten',\n",
       " 'Rock',\n",
       " 'Rohan',\n",
       " 'Rokee',\n",
       " 'Rotana',\n",
       " 'Royal',\n",
       " 'Rubies',\n",
       " 'Rudania',\n",
       " 'Ruins',\n",
       " 'Rune',\n",
       " 'Rupee',\n",
       " 'Rupees',\n",
       " 'Rushrooms',\n",
       " 'Ruta',\n",
       " 'Sacred',\n",
       " 'Saddle',\n",
       " 'Sage',\n",
       " 'Sages',\n",
       " 'Sagessa',\n",
       " 'Sahma',\n",
       " 'Saki',\n",
       " 'Sanctuary',\n",
       " 'Sand',\n",
       " 'Sapphires',\n",
       " 'Sasan',\n",
       " 'Satty',\n",
       " 'Saula',\n",
       " 'Savage',\n",
       " 'Scale',\n",
       " 'Scimitar',\n",
       " 'Scout',\n",
       " 'Seal',\n",
       " 'Sealed',\n",
       " 'Seals',\n",
       " 'Seasons',\n",
       " 'Secret',\n",
       " 'Sefaro',\n",
       " 'Seldon',\n",
       " 'Selmie',\n",
       " 'Sequel',\n",
       " 'Serenne',\n",
       " 'Sesami',\n",
       " 'Seven',\n",
       " 'Shabonne',\n",
       " 'Shadow',\n",
       " 'Shae',\n",
       " 'Shaillu',\n",
       " 'Shakah',\n",
       " 'Shard',\n",
       " 'Sheik',\n",
       " 'Sheikah',\n",
       " 'Shenno',\n",
       " 'Shibo',\n",
       " 'Shield',\n",
       " 'Shields',\n",
       " 'Shock',\n",
       " 'Shop',\n",
       " 'Should',\n",
       " 'Shrine',\n",
       " 'Shrines',\n",
       " 'Sidajj',\n",
       " 'Side',\n",
       " 'Sidon',\n",
       " 'Silver',\n",
       " 'Since',\n",
       " 'Skeleton',\n",
       " 'Skull',\n",
       " 'Skyloft',\n",
       " 'Skyward',\n",
       " 'Skywatcher',\n",
       " 'Skywatchers',\n",
       " 'Slate',\n",
       " 'Slumber',\n",
       " 'Smash',\n",
       " 'Snow',\n",
       " 'Snowfield',\n",
       " 'Snowquill',\n",
       " 'Soldier',\n",
       " 'Some',\n",
       " 'Song',\n",
       " 'South',\n",
       " 'Southern',\n",
       " 'Speaking',\n",
       " 'Spear',\n",
       " 'Spirit',\n",
       " 'Spirits',\n",
       " 'Spring',\n",
       " 'Springs',\n",
       " 'Stable',\n",
       " 'Stalker',\n",
       " 'Stalkers',\n",
       " 'Stalkoblins',\n",
       " 'Stalnox',\n",
       " 'Stamina',\n",
       " 'Stasis',\n",
       " 'Statue',\n",
       " 'Steen',\n",
       " 'Stone',\n",
       " 'Stones',\n",
       " 'Store',\n",
       " 'Strade',\n",
       " 'Suma',\n",
       " 'Sumati',\n",
       " 'Summit',\n",
       " 'Super',\n",
       " 'Surface',\n",
       " 'Surfing',\n",
       " 'Swift',\n",
       " 'Sword',\n",
       " 'Swords',\n",
       " 'Symin',\n",
       " 'Taamu',\n",
       " 'Tabantha',\n",
       " 'Tala',\n",
       " 'Tali',\n",
       " 'Talus',\n",
       " 'Taluses',\n",
       " 'Tarrey',\n",
       " 'Tasseren',\n",
       " 'Tatone',\n",
       " 'Teake',\n",
       " 'Teba',\n",
       " 'Tech',\n",
       " 'Temple',\n",
       " 'Test',\n",
       " 'Tetra',\n",
       " 'Their',\n",
       " 'There',\n",
       " 'These',\n",
       " 'They',\n",
       " 'This',\n",
       " 'Though',\n",
       " 'Thunder',\n",
       " 'Thunderblight',\n",
       " 'Time',\n",
       " 'Timeline',\n",
       " 'Titan',\n",
       " 'Toffa',\n",
       " 'Tokk',\n",
       " 'Tokki',\n",
       " 'Topaz',\n",
       " 'Torr',\n",
       " 'Tower',\n",
       " 'Town',\n",
       " 'Tracks',\n",
       " 'Traveler',\n",
       " 'Traysi',\n",
       " 'Treasure',\n",
       " 'Tree',\n",
       " 'Trello',\n",
       " 'Trial',\n",
       " 'Trials',\n",
       " 'Tribe',\n",
       " 'Trident',\n",
       " 'Triforce',\n",
       " 'Trissa',\n",
       " 'Trivia',\n",
       " 'Trott',\n",
       " 'Tula',\n",
       " 'Tulin',\n",
       " 'Turret',\n",
       " 'Turrets',\n",
       " 'Twilight',\n",
       " 'Ultimate',\n",
       " 'Unlike',\n",
       " 'Upon',\n",
       " 'Urbosa',\n",
       " 'Using',\n",
       " 'Vaati',\n",
       " 'Veran',\n",
       " 'Vilia',\n",
       " 'Village',\n",
       " 'Wabbin',\n",
       " 'Waker',\n",
       " 'Warbler',\n",
       " 'Wares',\n",
       " 'Warriors',\n",
       " 'Water',\n",
       " 'Waterblight',\n",
       " 'Wawai',\n",
       " 'Weapon',\n",
       " 'Weapons',\n",
       " 'West',\n",
       " 'Wetland',\n",
       " 'When',\n",
       " 'Whenever',\n",
       " 'While',\n",
       " 'White',\n",
       " 'Wild',\n",
       " 'Wildberries',\n",
       " 'Wind',\n",
       " 'Windblight',\n",
       " 'Wisdom',\n",
       " 'With',\n",
       " 'Wizzrobe',\n",
       " 'Wizzrobes',\n",
       " 'Wood',\n",
       " 'Wooden',\n",
       " 'Woodland',\n",
       " 'Woods',\n",
       " 'World',\n",
       " 'Worlds',\n",
       " 'Yaido',\n",
       " 'Yellow',\n",
       " 'Yiga',\n",
       " 'Yoog',\n",
       " 'Yota',\n",
       " 'Yuga',\n",
       " 'Yunobo',\n",
       " 'Zant',\n",
       " 'Zelda',\n",
       " 'Zora',\n",
       " 'Zumo',\n",
       " 'Zunzo',\n",
       " 'Zyle',\n",
       " '\\\\\".\\\\',\n",
       " 'abandoned',\n",
       " 'abilities',\n",
       " 'ability',\n",
       " 'able',\n",
       " 'about',\n",
       " 'above',\n",
       " 'accept',\n",
       " 'accepts',\n",
       " 'access',\n",
       " 'across',\n",
       " 'acting',\n",
       " 'actions',\n",
       " 'activated',\n",
       " 'active',\n",
       " 'actually',\n",
       " 'addition',\n",
       " 'additional',\n",
       " 'adds',\n",
       " 'admit',\n",
       " 'admits',\n",
       " 'adult',\n",
       " 'adventure',\n",
       " 'advice',\n",
       " 'advises',\n",
       " 'afar',\n",
       " 'afraid',\n",
       " 'after',\n",
       " 'afterwards',\n",
       " 'again',\n",
       " 'against',\n",
       " 'agrees',\n",
       " 'ahead',\n",
       " 'allow',\n",
       " 'allowed',\n",
       " 'allowing',\n",
       " 'allows',\n",
       " 'almost',\n",
       " 'alone',\n",
       " 'along',\n",
       " 'alongside',\n",
       " 'already',\n",
       " 'also',\n",
       " 'although',\n",
       " 'always',\n",
       " 'amiibo',\n",
       " 'among',\n",
       " 'amount',\n",
       " 'ancient',\n",
       " 'angry',\n",
       " 'animals',\n",
       " 'another',\n",
       " 'answer',\n",
       " 'answers',\n",
       " 'anymore',\n",
       " 'anyone',\n",
       " 'anything',\n",
       " 'apologize',\n",
       " 'apologizes',\n",
       " 'apparently',\n",
       " 'appear',\n",
       " 'appearance',\n",
       " 'appearances',\n",
       " 'appeared',\n",
       " 'appearing',\n",
       " 'appears',\n",
       " 'appeased',\n",
       " 'appointed',\n",
       " 'approach',\n",
       " 'approached',\n",
       " 'approaches',\n",
       " 'area',\n",
       " 'areas',\n",
       " 'armor',\n",
       " 'arms',\n",
       " 'army',\n",
       " 'around',\n",
       " 'arrives',\n",
       " 'arrow',\n",
       " 'arrows',\n",
       " 'article',\n",
       " 'articles',\n",
       " 'asked',\n",
       " 'asking',\n",
       " 'asks',\n",
       " 'asleep',\n",
       " 'assist',\n",
       " 'assistance',\n",
       " 'assures',\n",
       " 'atop',\n",
       " 'attack',\n",
       " 'attacked',\n",
       " 'attacking',\n",
       " 'attacks',\n",
       " 'attempt',\n",
       " 'attempted',\n",
       " 'attempting',\n",
       " 'attempts',\n",
       " 'attention',\n",
       " 'available',\n",
       " 'avoid',\n",
       " 'awake',\n",
       " 'awaken',\n",
       " 'awakened',\n",
       " 'awakening',\n",
       " 'aware',\n",
       " 'away',\n",
       " 'back',\n",
       " 'balls',\n",
       " 'barracks',\n",
       " 'base',\n",
       " 'based',\n",
       " 'bats',\n",
       " 'battle',\n",
       " 'bearing',\n",
       " 'beast',\n",
       " 'beat',\n",
       " 'beautiful',\n",
       " 'became',\n",
       " 'because',\n",
       " 'become',\n",
       " 'becomes',\n",
       " 'beds',\n",
       " 'been',\n",
       " 'before',\n",
       " 'begin',\n",
       " 'beginning',\n",
       " 'begins',\n",
       " 'behave',\n",
       " 'behavior',\n",
       " 'behind',\n",
       " 'being',\n",
       " 'believe',\n",
       " 'believes',\n",
       " 'believing',\n",
       " 'below',\n",
       " 'beneath',\n",
       " 'beside',\n",
       " 'best',\n",
       " 'better',\n",
       " 'between',\n",
       " 'beyond',\n",
       " 'bids',\n",
       " 'bigger',\n",
       " 'blast',\n",
       " 'blessing',\n",
       " 'bloodline',\n",
       " 'blow',\n",
       " 'blue',\n",
       " 'board',\n",
       " 'bodies',\n",
       " 'body',\n",
       " 'bones',\n",
       " 'book',\n",
       " 'born',\n",
       " 'boss',\n",
       " 'both',\n",
       " 'boulders',\n",
       " 'break',\n",
       " 'breaks',\n",
       " 'bridge',\n",
       " 'briefly',\n",
       " 'bring',\n",
       " 'bringing',\n",
       " 'brings',\n",
       " 'broken',\n",
       " 'brother',\n",
       " 'brothers',\n",
       " 'brought',\n",
       " 'brown',\n",
       " 'buried',\n",
       " 'business',\n",
       " 'busy',\n",
       " 'buys',\n",
       " 'call',\n",
       " 'called',\n",
       " 'calling',\n",
       " 'calls',\n",
       " 'calm',\n",
       " 'calmed',\n",
       " 'calming',\n",
       " 'calms',\n",
       " 'came',\n",
       " 'cannot',\n",
       " 'capable',\n",
       " 'captain',\n",
       " 'captured',\n",
       " 'care',\n",
       " 'careful',\n",
       " 'caring',\n",
       " 'carried',\n",
       " 'carries',\n",
       " 'carry',\n",
       " 'carrying',\n",
       " 'case',\n",
       " 'castle',\n",
       " 'catch',\n",
       " 'catches',\n",
       " 'catching',\n",
       " 'caught',\n",
       " 'cause',\n",
       " 'caused',\n",
       " 'causes',\n",
       " 'causing',\n",
       " 'cave',\n",
       " 'center',\n",
       " 'century',\n",
       " 'ceremony',\n",
       " 'certain',\n",
       " 'challenge',\n",
       " 'champion',\n",
       " 'chance',\n",
       " 'change',\n",
       " 'changed',\n",
       " 'character',\n",
       " 'characters',\n",
       " 'charge',\n",
       " 'charges',\n",
       " 'charging',\n",
       " 'check',\n",
       " 'chief',\n",
       " 'child',\n",
       " 'childhood',\n",
       " 'children',\n",
       " 'choice',\n",
       " 'chooses',\n",
       " 'chose',\n",
       " 'chosen',\n",
       " 'chronologically',\n",
       " 'citation',\n",
       " 'claim',\n",
       " 'claiming',\n",
       " 'claims',\n",
       " 'class',\n",
       " 'clear',\n",
       " 'climb',\n",
       " 'climbing',\n",
       " 'clock',\n",
       " 'close',\n",
       " ...]"
      ]
     },
     "execution_count": 126,
     "metadata": {},
     "output_type": "execute_result"
    }
   ],
   "source": [
    "# find frequently occurring long words\n",
    "# FreqDist helps eliminate frequent short words\n",
    "# longer than 3 characters, that occur more than 7 times:\n",
    "sorted(w for w in set(text) if len(w) > 3 and fdist[w] > 7)"
   ]
  },
  {
   "cell_type": "markdown",
   "id": "7eac5b88",
   "metadata": {},
   "source": [
    "**What does the following code do? ```sum(len(w) for w in ZeldaWiki)``` Can you use it to work out the average token length of the ZeldaWiki Text?**"
   ]
  },
  {
   "cell_type": "markdown",
   "id": "09e651e6",
   "metadata": {},
   "source": [
    "This code calculate the sum of total token lengths of the ZeldaWiki Text."
   ]
  },
  {
   "cell_type": "code",
   "execution_count": 132,
   "id": "caf70a24",
   "metadata": {},
   "outputs": [
    {
     "name": "stdout",
     "output_type": "stream",
     "text": [
      "The average token length is 3.8360186635758833\n"
     ]
    }
   ],
   "source": [
    "avg_token_len = sum(len(w) for w in text)/len(text)\n",
    "print('The average token length is',avg_token_len)"
   ]
  },
  {
   "cell_type": "markdown",
   "id": "b2443394",
   "metadata": {},
   "source": [
    "**Define a function:**"
   ]
  },
  {
   "cell_type": "markdown",
   "id": "020291b6",
   "metadata": {},
   "source": [
    "_called `vocab_size(text)` that has a single parameter for the `text`, and which returns the vocabulary size of the text. Apply it to the ZeldaWiki Text;_"
   ]
  },
  {
   "cell_type": "code",
   "execution_count": null,
   "id": "912ef2ff",
   "metadata": {},
   "outputs": [],
   "source": [
    "def vocab_size(text):\n",
    "    vocab = set(text)\n",
    "    vocab_size = len(vocab)\n",
    "    return vocab_size"
   ]
  },
  {
   "cell_type": "code",
   "execution_count": 136,
   "id": "fcc9c602",
   "metadata": {},
   "outputs": [
    {
     "data": {
      "text/plain": [
       "11657"
      ]
     },
     "execution_count": 136,
     "metadata": {},
     "output_type": "execute_result"
    }
   ],
   "source": [
    "vocab_size(text)"
   ]
  },
  {
   "cell_type": "markdown",
   "id": "89196c2a",
   "metadata": {},
   "source": [
    "_```percent(word, text)``` that calculates how often a given ```word``` occurs in a `text`, and expresses the result as a percentage. Apply it to the ZeldaWiki Text to compute the percentage for Link (our beloved hero)_"
   ]
  },
  {
   "cell_type": "code",
   "execution_count": 150,
   "id": "a1088cba",
   "metadata": {},
   "outputs": [],
   "source": [
    "def percent(word, text):\n",
    "    return 100 * text.count(word) / len(set(text))"
   ]
  },
  {
   "cell_type": "code",
   "execution_count": 151,
   "id": "c25cde5f",
   "metadata": {},
   "outputs": [
    {
     "data": {
      "text/plain": [
       "37.265162563266706"
      ]
     },
     "execution_count": 151,
     "metadata": {},
     "output_type": "execute_result"
    }
   ],
   "source": [
    "percent('Link',text)"
   ]
  },
  {
   "cell_type": "markdown",
   "id": "9fef0510",
   "metadata": {},
   "source": [
    "# Part 3: Working with NLTK and other types of text"
   ]
  },
  {
   "cell_type": "markdown",
   "id": "c9d526fb",
   "metadata": {},
   "source": [
    "## exercise 4, 8, 11, 15, 16, 17, 18"
   ]
  },
  {
   "cell_type": "markdown",
   "id": "e99b6f11",
   "metadata": {},
   "source": [
    "**4. Read in the texts of the State of the Union addresses, using the `state_union` corpus reader. Count occurrences of `men`, `women`, and `people` in each document. What has happened to the usage of these words over time?**"
   ]
  },
  {
   "cell_type": "code",
   "execution_count": 179,
   "id": "8ab44d2e",
   "metadata": {},
   "outputs": [
    {
     "data": {
      "text/plain": [
       "['PRESIDENT', 'HARRY', 'S', '.', 'TRUMAN', \"'\", 'S', ...]"
      ]
     },
     "execution_count": 179,
     "metadata": {},
     "output_type": "execute_result"
    }
   ],
   "source": [
    "state_union.words()"
   ]
  },
  {
   "cell_type": "code",
   "execution_count": 183,
   "id": "e19a9f96",
   "metadata": {
    "scrolled": false
   },
   "outputs": [
    {
     "data": {
      "image/png": "[encoded data removed]",
      "text/plain": [
       "<Figure size 864x360 with 1 Axes>"
      ]
     },
     "metadata": {
      "needs_background": "light"
     },
     "output_type": "display_data"
    },
    {
     "data": {
      "text/plain": [
       "<AxesSubplot:xlabel='Samples', ylabel='Counts'>"
      ]
     },
     "execution_count": 183,
     "metadata": {},
     "output_type": "execute_result"
    }
   ],
   "source": [
    "# record the number of times each sample occurred\n",
    "# given the condition under which the experiment was run.\n",
    "cfd = nltk.ConditionalFreqDist(\n",
    "    (target, fileid[:4])                 #[:4] match the Year\n",
    "    for fileid in state_union.fileids() #filename: Year-Name.txt\n",
    "    for w in state_union.words(fileid)\n",
    "    for target in ['men', 'women', 'people']\n",
    "    if w.lower().startswith(target))\n",
    "plt.figure(figsize=(12,5))\n",
    "cfd.plot()"
   ]
  },
  {
   "cell_type": "markdown",
   "id": "87a21a46",
   "metadata": {},
   "source": [
    "* This plot starts from post war period to 2006. \n",
    "* In 1963, the counts of people and men went down and reached in the same level in 1964, only a little higher than that of women. \n",
    "* But after 1964, the usages of men and people rose remarkably may out of conscription for Vietnam war and Civil Rights Movement and then fell fiercely from 1966 to 1969 due to antiwar revelution.\n",
    "* In 1969, The Counterculture Revolution brought public eyesights on people.\n",
    "* Since 1971, the usages of men and women were almost equal thanks to nationwide success of women right campaigns.\n",
    "* After 1991, it's post-cold war era, the US experienced a series of natural disasters, wars, attacks, Northridge earthquake, Chicago heat wave, terrorist attacks,resulting in public focus on people's lives, which indicate some top points of the plot.\n",
    "* Generally, when there were wars and political campaigns, the usages of people always rose."
   ]
  },
  {
   "cell_type": "markdown",
   "id": "561eb463",
   "metadata": {},
   "source": [
    "**8.Define a conditional frequency distribution over the Names corpus that allows you to see which initial letters are more frequent for males vs. females (cf. 4.4).**"
   ]
  },
  {
   "cell_type": "code",
   "execution_count": 203,
   "id": "de41d7ea",
   "metadata": {
    "scrolled": false
   },
   "outputs": [
    {
     "data": {
      "image/png": "[encoded data removed]",
      "text/plain": [
       "<Figure size 720x576 with 1 Axes>"
      ]
     },
     "metadata": {
      "needs_background": "light"
     },
     "output_type": "display_data"
    },
    {
     "data": {
      "text/plain": [
       "<AxesSubplot:xlabel='Samples', ylabel='Counts'>"
      ]
     },
     "execution_count": 203,
     "metadata": {},
     "output_type": "execute_result"
    }
   ],
   "source": [
    "names = nltk.corpus.names\n",
    "\n",
    "cfd = nltk.ConditionalFreqDist(\n",
    "    (fileid, name[-1])\n",
    "    for fileid in names.fileids()\n",
    "    for name in names.words(fileid))\n",
    "plt.figure(figsize=(10,8))\n",
    "cfd.plot()"
   ]
  },
  {
   "cell_type": "markdown",
   "id": "1a553f51",
   "metadata": {},
   "source": [
    "For felmale.txt, 'a' was the most used initial letter, while 'e' and 'n' for male.txt. However, female's most frequent letters('a'&'e') were far more used than male's. Plus, 'n' and 's' were more used by men and 'y' was more used by women."
   ]
  },
  {
   "cell_type": "markdown",
   "id": "a8c2cce1",
   "metadata": {},
   "source": [
    "**11. Investigate the table of modal distributions and look for other patterns. Try to explain them in terms of your own impressionistic understanding of the different genres. Can you find other closed classes of words that exhibit significant differences across different genres?**"
   ]
  },
  {
   "cell_type": "code",
   "execution_count": 210,
   "id": "8623f0b8",
   "metadata": {},
   "outputs": [
    {
     "name": "stdout",
     "output_type": "stream",
     "text": [
      "                  can could   may might  must  will \n",
      "           news    93    86    66    38    50   389 \n",
      "       religion    82    59    78    12    54    71 \n",
      "        hobbies   268    58   131    22    83   264 \n",
      "science_fiction    16    49     4    12     8    16 \n",
      "        romance    74   193    11    51    45    43 \n",
      "          humor    16    30     8     8     9    13 \n"
     ]
    }
   ],
   "source": [
    "# The Brown Corpus is a convenient resource for \n",
    "# studying systematic differences between genres\n",
    "cfd = nltk.ConditionalFreqDist(\n",
    "    (genre, word)\n",
    "    for genre in brown.categories()\n",
    "    for word in brown.words(categories=genre))\n",
    "modals = ['can', 'could', 'may', 'might', 'must', 'will']\n",
    "genres = ['news', 'religion', 'hobbies', 'science_fiction', 'romance', 'humor']\n",
    "# tabulation limited to the specified samples and conditions\n",
    "cfd.tabulate(conditions=genres, samples=modals)"
   ]
  },
  {
   "cell_type": "markdown",
   "id": "c57a3dd2",
   "metadata": {},
   "source": [
    "**15.Write a program to find all words that occur at least three times in the Brown Corpus.**"
   ]
  },
  {
   "cell_type": "code",
   "execution_count": 221,
   "id": "27ed7224",
   "metadata": {
    "scrolled": true
   },
   "outputs": [
    {
     "name": "stdout",
     "output_type": "stream",
     "text": [
      "['availability', 'anchor', 'NBS', 'excitatory', 'Cliburn', 'willy-nilly', 'Clark', 'Whoever', 'Commissioner', 'recommended', 'Golden', 'tonight', 'believes', 'microscopic', 'practice', 'Horn', '28th', 'anticipations', 'slid', 'novelist', 'conditioners', 'announcing', 'i', 'achieved', 'strung', 'irregularities', 'complicity', 'greens', 'incepting', 'wealthy', 'dating', 'teams', 'presumptuous', 'Larkin', 'horse', 'plaster', 'Sandburg', 'Warren', 'silhouette', 'involutorial', 'Legion', 'vectors', 'masks', 'alcoves', 'craft', 'stirred', 'buzz', 'thicker', 'Ado', 'beside', 'woo', 'it', 'valley', '1959-1960', 'whir', 'Kenneth', 'choked', 'Machine', 'blithely', 'Roleplaying', 'Trial', 'ambivalent', 'vanishing', 'competing', 'Congolese', 'irritable', 'difficult', 'steep', 'fragrant', 'Emancipation', 'maintains', 'ray', 'thousand', 'totalled', 'Q', '$37', 'cf.', 'Yankee', 'Providence', 'doorstep', 'questionnaire', 'tungsten', 'Stevie', 'relation', 'Laboratories', 'averaging', 'dispensation', 'subsided', 'cellulose', 'faintest', 'poorest', 'phones', 'outdoor', 'Still', 'Typically', 'worms', 'blindness', 'examinations', \"Christ's\", 'Newark', 'outlet', 'put', 'overwhelmingly', 'vocational', 'unions', 'cow', 'fresco', 'approximation', 'Barnett', 'ham', 'impoverished', 'beaches', 'hardened', 'Speaking', 'rises', \"driver's\", 'twenty-six', 'trust', 'enforce', 'Zen', 'pacifism', 'stink', 'battle', 'ring', 'Broadcasting', \"goin'\", 'pasture', \"Kornbluth's\", 'Late', 'Presbyterian', 'terrain', '$800', 'threatened', \"nation's\", 'Gratt', 'continues', 'woolen', 'maneuvers', 'pills', 'reputation', 'behind', '5.5', 'other', 'deep', 'lapses', 'shuffling', 'Buckley', 'terrestrial', 'outlawed', 'justifiably', 'Plan', 'Canterbury', '97', 'bale', 'completeness', 'resentment', 'extra', 'localities', 'motive', 'Prague', \"Pip's\", 'linear', 'invent', 'overwhelmed', 'straddling', 'depravity', 'Jimmy', 'Working', \"Remarque's\", 'refreshing', 'doctrine', 'mine', 'Peter', 'Declaration', 'vividly', 'submission', 'downpour', 'convention', 'customary', 'honeymoon', 'protruded', 'omissions', 'impressive', 'collegiate', 'Cincinnati', 'springtime', 'frighten', \"Gardner's\", 'tasted', 'rectangle', 'housewives', 'Mercer', 'unrelated', 'Goulding', 'Parker', 'bloodless', 'stampede', 'tact', 'wart', 'prescribed', 'obtainable', 'spice', 'French', 'reticulate', 'thanking', \"Manning's\", 'pinched', 'Couperin', 'recognized', 'Barnes', 'Occasionally', 'readily', 'packaging', 'thud', 'listeners', 'quill', 'traveler', 'ponds', \"China's\", 'accelerating', 'shoved', 'rely', 'endorse', 'heroic', 'clamped', 'intently', 'protruding', 'Islam', 'aiming', 'Africa', 'appetite', 'tenant', 'available', 'smuggled', 'programming', 'debentures', 'Illustrations', 'relevance', 'snort', 'simplicity', \"God's\", 'machine', 'institution', 'Cultural', 'nightly', \"Patchen's\", 'formulating', 'uptake', '126', 'often', 'specialist', 'productivity', 'slate', 'discussing', 'agreements', 'whichever', 'instances', 'choices', 'gains', 'Beardens', 'carefree', 'triple', 'entering', 'abdomen', 'help', 'toothbrush', 'half-hearted', 'twenty', 'decisive', 'atoms', 'all-white', 'elongated', 'veneration', 'Glendora', 'detergents', 'Grabski', 'Evadna', 'Earth', '5', 'noting', 'swarthy', 'described', 'client', 'Petitioner', 'everyone', 'showing', 'arenas', 'valued', 'message', 'comb', 'net', 'destructive', 'Kodiak', 'Griggs', '50-megaton', 'delays', 'drifting', 'numbered', 'gaily', 'delighted', 'urbanization', 'good-looking', 'cheerfully', 'detonation', 'treacherous', 'Among', 'debut', 'eccentric', 'Lead', 'unrest', 'ornament', 'temporarily', 'Nov.', 'Shafer', 'sung', 'Ramey', 'sock', 'denomination', 'noose', 'graces', 'fully', 'materialize', 'matches', 'clasped', 'droplets', 'unthinkable', 'receptionist', 'Historians', 'Wright', 'howling', 'distinctions', 'pedal', 'Gloucester', 'pass', 'impelled', 'Heights', 'Trafton', 'tense', 'boredom', 'prominence', 'assets', 'gathering', 'obscured', 'rebels', 'thieving', 'bother', '21', 'plow', 'awaits', 'unconventional', 'Tests', 'Oslo', 'pa', 'linearly', 'chants', 'string', 'depart', 'manuscript', 'cohesive', 'unseen', 'she', 'Quint', 'Lincoln', 'lukewarm', 'Berry', 'Dickens', 'Marv', 'Chase', 'deluded', 'Section', 'retained', 'invisible', 'preposterous', 'jewelry', 'processes', 'concentrating', 'doubled', 'enthusiasm', 'extend', 'tribal', 'gun', 'first-hand', 'processor', 'Tell', 'slipping', 'whites', 'affect', 'interim', 'silly', 'crushed', 'sponsorship', 'advisers', 'similitude', 'generous', 'Kent', 'sportsmen', 'increases', 'Swift', 'uttered', 'drugs', 'hard', 'phalanx', 'suffused', 'Mme', 'expense', 'Case', 'ground', 'marijuana', 'disliked', 'scandals', \"horses'\", 'poultice', 'programs', 'stirs', 'season', 'grumble', 'dreadful', 'indifference', 'Taft-Hartley', 'wagons', 'stunned', 'Bong', 'rifles', 'integer', 'youngest', 'physics', 'solid', 'school', 'Albania', 'thriving', 'ammo', 'Scene', 'various', 'Laramie', \"public's\", 'Mahayana', 'investments', \"Truman's\", 'slumber', 'temptations', 'scarf', 'conformed', 'white', 'Beaumont', 'answering', 'hosses', 'routines', 'Travel', 'rampant', 'cork', 'camera', 'scandalized', 'partners', 'fella', 'paved', 'mineral', 'heartbeat', 'minimizing', 'Our', 'boring', 'Sterling', 'measurements', 'huddle', 'effectiveness', 'bunks', 'single', 'snarled', 'Lillian', 'anyhow', 'marketings', 'precarious', 'disintegration', 'Rico', 'perpetually', 'Institute', 'intensive', 'appearing', 'furnishing', 'Donald', 'disruption', 'concern', 'situs', 'Thy', 'glove', 'gracious', 'edged', 'legally', 'Favre', 'Erich', 'forests', 'revise', 'applicants', 'banging', 'depressed', 'Rimanelli', 'explorers', 'mimetic', 'floods', 'ionizing', 'grandiose', 'emphysema', 'stately', 'gulf', 'arousing', 'Angel', 'dispassionately', 'called', 'developing', 'possess', 'liberty', 'anatomical', 'Shy', 'mechanism', 'Nearly', 'walk', 'vertebral', 'Andre', 'effective', 'attainment', 'personification', 'separates', 'Adios', 'nebulous', 'war', 'pageants', 'remembered', 'qualify', 'concealed', 'relates', 'compact', 'wake', 'bulb', 'inaugural', 'advice', 'Gascony', 'dialysis', 'investigate', 'joking', 'lay-sisters', 'statutory', 'stallion', 'generated', 'spotless', 'directorate', 'vs', 'venture', 'Breeding', 'confirm', \"Orlick's\", 'thunder', 'ratified', 'bar', 'threads', 'engineering', 'lump', 'acre', 'combustion', 'underneath', 'nourished', 'severe', 'outsider', 'lilting', 'pry', '900', 'revolutions', 'molecular', 'exacerbation', 'Arte', 'green', 'Blasingame', 'borrow', 'Conference', \"West's\", 'improved', 'radial', 'France', 'Jubal', 'leaps', 'TV', '600', 'populated', 'consoles', 'allows', 'comparison', 'Calderone', 'prayed', 'Heritage', 'counts', 'schoolhouse', 'scoring', 'casts', 'embankment', 'Captain', 'mingled', 'Gannett', 'postcard', 'transfusions', 'buddy', 'Rotunda', 'Bobbie', 'willingness', 'deals', 'subway', 'ragged', 'bus', 'Denton', 'all', '0.2', 'gravitation', 'exert', 'Roosevelt', 'oceans', 'triumphant', 'Englishmen', 'creeping', \"Who's\", 'Cost', 'roots', 'Steele', 'surrendered', 'expulsion', 'inflict', 'Barcus', 'Meaning', 'salary', 'bruises', 'Crittenden', 'picking', 'rancher', 'drafting', 'broke', 'Allen', 'allusions', 'creed', 'USP', 'selecting', 'turmoil', '275', 'Garden', 'helplessness', 'drinking', 'Small', 'Anglican', 'resorcinol', 'Ancient', 'axes', '**yb', 'modernizing', 'blasphemous', 'hover', 'Angola', 'steady', 'le', 'fed', 'Russian', 'pounding', '**ya', 'insults', 'rotary', 'proxy', 'sideways', 'depressions', 'ballplayer', 'existent', 'attend', 'said', 'stormed', 'erred', 'uses', 'bubble', \"Young's\", 'bowing', 'accusing', 'refers', 'symbolizes', 'Negro', 'protest', 'Danish', 'partnership', 'supply', 'Koreans', 'succeeds', 'melodrama', 'apples', 'whose', 'closet', 'throbbing', 'iodinated', 'warts', 'statement', 'purchases', 'Sprinkel', 'Styka', 'crusade', 'ton', 'swirling', 'personifies', 'Keeping', 'pressure', '$4', 'urging', 'amenable', 'marker', 'willingly', 'purring', '280', 'Dag', 'anthropology', 'Betty', 'associate', 'ceremony', 'snowstorm', 'Jess', 'S.', 'invaluable', 'deductions', 'Nature', 'minute', 'Denver', \"Can't\", 'murmur', 'scented', 'urbanized', 'Masons', 'Porto', 'guarantee', 'accuracy', 'seat', 'inscription', 'working-class', 'fighters', 'manages', 'monic', 'gin', 'hideous', 'teens', 'Instructions', 'Breath', 'External', \"Sherman's\", \"Moliere's\", 'am', 'demure', 'analyzing', 'unhesitatingly', 'glued', 'Jail', 'compound', \"Didn't\", 'Returning', 'oversimplification', 'rescue', 'Blvd.', 'formally', 'Freeman', 'basketball', 'consisting', 'rear', 'knowingly', 'suicide', 'rests', 'Housing', 'pores', \"Rose's\", 'Big', 'swaggered', 'forcibly', 'shenanigans', 'tangent', 'guest', 'Experiment', 'sections', 'Reich', 'foresee', 'press', 'disorders', 'attempts', 'Reaching', 'conjugal', 'reasonable', 'clean', 'subtle', 'Mollie', \"Angel's\", 'rings', 'Seminary', 'destinies', 'invoked', 'verify', 'Delhi', 'meaningful', 'enter', '1958', 'irritations', 'aberration', 'Pete', 'manifestly', 'belligerent', 'interfere', 'Foods', 'Square', 'comparatively', 'mg/l', 'places', 'Monk', 'Attorneys', 'disobeyed', 'certain', 'beverage', 'strait', 'recognizing', 'miracles', 'Dolores', 'manhours', 'hopes', 'obsolete', 'dip', 'wears', 'discounts', 'Pact', 'solemnly', 'Brandt', 'defender', 'Khrushchev', 'quivering', 'peas', 'TASS', 'complicated', 'virus', 'Overture', 'nearer', 'conference', 'decisions', 'monuments', 'test', 'In', 'allocate', 'Stearns', 'Keith', 'inhabited', 'preserved', 'postscript', 'gathered', 'adolescence', 'capsule', 'eyeglasses', \"society's\", 'visible', 'sobs', 'Francesca', 'aggressions', 'Together', 'Yet', 'Master', 'mice', 'Roman', 'Journal', 'Credit', 'fermented', 'Political', 'autoloader', 'evil', 'swinging', 'freighter', 'Chenoweth', 'derby', 'assuring', 'Lattimer', 'thick', 'fiat', 'condemns', 'threesome', 'repeal', 'Ciudad', 'succumbed', 'symphony', 'Tibetan', 'chord', 'exchanged', 'handled', 'controlling', 'complied', 'nutmeg', 'heaved', 'whistling', 'diagonally', 'Boy', 'successor', 'precede', 'fill', 'adviser', 'fourteen', 'Killingsworth', 'proximity', 'sales', 'astronomical', 'precariously', 'presents', 'hectic', 'Yarrow', 'confronts', 'outward', 'Papa-san', 'phrasing', 'clicked', 'Fish', 'Hotel', 'ruddy', 'feared', 'hides', 'speedily', 'toughness', 'clumsy', 'nymphomaniac', 'affair', 'sleeves', 'jungle', 'pulse', 'homers', 'Andrei', 'ban', 'impact', 'Lizzie', 'Ptolemy', 'response', 'Thereafter', 'Laboratory', 'Preserving', 'nonmetallic', 'breadth', 'streamlined', 'careful', 'renewed', 'personality', 'staunchest', 'peaceful', 'Building', 'weighed', 'pen', 'divided', 'reactivity', 'Lamar', 'O.', 'gained', 'twitched', 'competitor', 'contraceptives', '256', 'transmitted', 'ransom', 'exit', 'Principles', 'Organization', 'prestige', 'travelling', 'utilitarian', 'Bengal', \"Kaiser's\", 'Norman', 'love', 'motivated', 'rounding', 'retail', 'digital', 'Science', 'Pyrex', 'your', 'supremely', 'stomach', 'Midge', 'heater', 'Sweat', 'rugged', 'Eric', 'vaginal', 'salve', 'decision', 'Burton', 'day', \"Doesn't\", 'Poor', 'posters', 'naturally', 'sifted', 'Leon', 'canning', 'position', \"don't\", 'aim', 'statesman', 'herd', 'slaying', 'technicians', 'Germanic', 'Weider', 'masses', 'flair', 'Must', 'believed', 'Slate', 'Montpelier', '$500', 'perpetual', 'Jake', 'needing', 'refrain', 'murders', 'Theorem', 'observational', 'grips', 'bothering', 'Court', 'Leaving', 'Reform', 'Debate', 'overtime', 'Thornburg', 'bathrobe', 'collar', 'variety', 'gray-haired', 'dentists', 'piezoelectric', 'cracked', \"Beckett's\", 'unaware', 'apparition', 'plunging', 'burgeoning', 'Moving', 'W.', 'shakes', 'wreck', 'underwear', 'Purpose', 'expensive', 'wondering', 'Scapin', 'accelerated', 'aerosolized', 'functionally', 'nucleus', \"Montero's\", 'organizational', 'lordship', 'motion', 'Really', \"grandmother's\", 'correlated', 'barley', 'filibuster', 'intelligence', 'selves', 'Linda', 'Christendom', 'runners', 'reactionary', 'can', 'compressed', 'woman', 'pleasures', 'scattered', 'notices', 'Concerts', 'shores', 'mutual', 'official', 'December', 'Yiddish', 'Illustration', 'secondarily', 'Therefore', \"It'll\", 'ornaments', 'Ferguson', 'ultracentrifuge', 'broadening', 'acquisition', 'drafted', 'clover', 'Proof', 'roared', 'emphasis', 'treaty', 'counselor', 'faces', 'severely', 'waited', 'blots', 'Poems', 'unmistakable', '1/2', 'reckon', 'stared', '1', 'argument', 'Maritime', 'solos', 'Baullari', 'interstellar', 'Observatory', 'junk', 'played', 'ordered', 'scalp', 'setbacks', 'mines', 'assistant', 'feminine', 'hymn', 'particles', 'Rules', 'Dunn', 'molds', 'incitement', 'attested', 'River', 'indecent', 'Chemische', 'carelessly', 'ethics', 'Overfall', 'bricks', 'Jean', '19', 'Horowitz', 'absolutes', 'criminal', 'kilowatt-hour', 'solar', 'planets', 'Embassy', 'spare', 'Lao', 'strand', 'disparate', 'underdeveloped', 'crisis', 'merchandising', 'Willard', 'competition', 'unable', 'Model', 'integral', \"Mexico's\", 'acutely', 'Bridges', 'D', 'Inn', 'personalized', 'disorganized', 'mandatory', 'clouds', 'boot', '350', 'Eleanor', 'clamps', 'realistic', 'Jewish', 'Mekong', 'Geneva', 'Reese', 'habitual', 'illicit', 'remedies', 'price-earnings', 'Manu', 'Cerv', 'Landis', 'referral', 'attacks', 'subordinate', 'purity', 'Representative', 'squad', 'lies', 'Most', '1882', 'Annual', 'jungles', 'representative', 'finale', 'entail', 'interviews', \"prisoners'\", 'startled', 'Wollman', 'Serge', 'democracy', 'determines', 'Nero', 'sufferings', 'what', 'empirically', 'prosecuting', 'charges', 'ceased', 'Guard', 'post-World', 'Hengesbach', 'whereby', 'Prohibition', 'espionage', 'peaks', 'redundant', 'tyrosine', 'Cubism', 'knight', 'keelson', 'obtain', 'horses', 'guide', 'Booth', 'segment', 'lay', 'porter', 'greet', 'closed', 'Suite', 'begged', 'petty', 'instead', 'high-spirited', 'Gothic', 'inclination', 'narrowed', 'grammar', 'Netherlands', 'double', 'reined', 'bogey', 'assail', 'expectant', 'reminding', 'pairs', 'helm', 'bigger', 'Lyndon', '1923', 'doubting', 'featured', 'fuzzy', 'Winter', 'Miraculously', 'conservatives', '19th', 'immanent', 'accusations', 'Mantle', 'voltaic', \"individual's\", 'retarded', '$10', 'Southern', 'invasions', 'deux', 'Upton', '45', 'warmth', 'pitched', 'Sturley', '2.6', \"it'd\", 'desperation', 'hillside', 'fifth', 'Fuchs', 'Portugal', 'loyalties', 'uniformly', 'cellular', \"Bang-Jensen's\", '$5,000,000', 'bedside', 'Lappenberg', 'inception', 'rationale', 'lent', 'Ill.', 'enchanting', 'aggrieved', 'Allan', 'exploration', 'Keo', 'Success', 'Assuming', 'contests', 'desired', 'subsections', 'sincerely', 'crippling', 'massive', 'radioactivity', 'ants', 'declaring', 'Morse', 'converted', 'Can', 'streaked', 'plump', 'Coffee', 'jointly', 'claim', 'vagueness', 'shut', 'enzyme', 'littered', 'lather', 'composers', \"mankind's\", 'Warsaw', 'poets', 'unquestionably', 'arrest', 'experiences', 'killed', 'Revelation', 'combat', 'acetonemia', 'Stuart', 'hemoglobin', 'Casey', 'loud', 'leaped', '7', 'lives', 'resonances', 'chloride', 'using', '40', 'wish', 'joints', 'loaded', 'State', 'dense', 'antiserum', 'elbows', \"ladies'\", 'cart', 'lured', 'rendering', 'impress', 'warrants', 'lacked', 'flowing', 'grinned', 'past', 'ours', 'Flint', 'candid', 'facilities', 'subtracted', 'taxed', '1920', 'Heavenly', 'judgments', 'praised', 'face-to-face', 'parameters', 'menarche', 'damage', 'freely', 'recovering', 'pathetic', 'Staff', 'Engineers', 'annals', 'intercourse', 'outline', 'nod', 'provincial', 'Ptolemaic', 'pigments', 'geographical', 'pillows', 'ablaze', 'grave', 'unwanted', 'murderers', 'lengthy', 'somewhat', 'manuscripts', 'Greece', 'retaliation', 'vanished', 'span', 'scaffolding', 'tying', 'Sidney', 'final', '58', 'doomed', 'bodies', 'heaped', 'director', 'Stadium', 'Outing', 'et', 'ended', 'compost', 'keel', 'origins', 'laying', 'experimenters', 'meals', 'cents', 'coverage', 'dialectic', 'grown', 'swatches', 'metaphors', 'happened', '1917', 'vulnerability', 'milligrams', 'fate', 'cereal', 'suppress', 'half-mile', 'wrap', \"mother's\", 'Don', 'micelle', 'crowning', 'everywhere', 'admittedly', 'Women', 'trample', 'weather', 'symposium', 'Politics', 'inflation', 'Association', 'busted', 'oddly', 'ominously', 'indexing', 'Athenians', 'Mark', '83', 'Phoenix', 'aloof', 'Cherry', \"Thompson's\", 'pottery', 'mesh', 'ninth', 'Fair', 'psychiatric', 'patches', 'Cabrini', 'sin', 'saying', 'marketed', 'barring', \"nothin'\", 'DRDW', 'sumptuous', 'Wine', 'prolusions', 'pebbles', 'forgotten', 'cheated', 'di-iodotyrosine', 'mercury', 'neglecting', 'Nagrin', 'Lucia', 'quota', 'rifle', 'resemble', 'vivo', \"He's\", 'tax-free', 'roundup', 'jet', 'Pullen', 'endowed', 'one-fifth', 'Morgan', 'Potemkin', 'ticket', 'gapt', 'Rockefeller', 'blurred', 'encourages', 'watery', 'Comes', 'SR', 'employment', 'ensure', 'prostitution', 'Weather', 'song', 'imputed', 'Frost', 'computer', 'backward', 'Crombie', 'teen-agers', 'Salvation', 'subtly', 'coloring', 'vase', 'stem', 'self-discipline', 'Peninsula', 'potentials', 'Marcus', 'Leadership', 'absurdity', 'Verdi', \"Nations'\", '$900', 'glanced', 'News', 'curse', 'territory', 'Bugs', 'sea', 'Powers', 'refugees', 'radar', 'Bobby', 'backed', 'deadlock', 'preliminary', '(', 'corkscrew', 'Sargent', 'awkward', 'coordinating', 'overnight', 'unpaid', 'periods', 'focus', 'toxic', 'Grand', 'plates', 'Bonn', 'articulate', 'satellite', 'Han', 'seam', \"1950's\", 'booths', 'skip', 'coroner', 'skinless', 'Bang-Jensen', 'Analytical', 'flashes', '05', 'folks', 'Wilmette', 'profundity', 'rodding', 'Tape', 'asserted', 'civic', 'dogs', 'methodically', 'Administrative', 'non-Catholic', 'stylist', 'summation', 'claimed', 'resuspended', 'continent', 'throat', 'Set', 'traditionalist', 'whatsoever', 'tutor', 'orbits', '150', 'stuck', 'catalogues', 'relativistic', 'scheming', 'city', 'self-destruction', 'Pendleton', 'agree', 'ephemeral', 'straightforward', 'Low', 'spiritual', 'Side', 'groaned', 'inadequacy', 'heaven', 'throng', 'tulip', 'Guardian', 'hind', 'T', 'bellowed', 'highlights', 'Stram', 'nice', 'Days', 'Sloane', 'steamship', 'wry', 'along', 'spilled', 'Sacramento', 'buds', 'nostalgic', 'characterizes', \"Jack's\", 'spotted', 'accelerators', 'memories', 'erotic', 'Martinez', 'recruited', 'Mo.', 'shading', 'Fury', 'greeting', 'Abbe', 'bluntly', 'winking', 'generously', 'organized', 'treated', 'tanned', 'emerged', 'out-of-town', 'relish', 'documentation', 'stole', 'appropriately', 'marshes', 'velocities', '1851', 'fever', 'treasure', 'coordinates', 'knot', 'screen', 'edging', 'responsive', 'secrets', 'wanderings', 'deaf', 'cultivate', 'cornerstone', 'tapered', 'bushels', 'wealth', 'therapy', 'Zenith', 'contracts', 'scars', 'Cruz', 'headache', 'Seattle', 'weighty', 'Shayne', 'entitle', 'Pozzatti', 'eagerly', 'became', 'wore', 'Rockfork', 'Investment', 'quarry', 'evaluate', 'worrying', 'daring', 'lure', 'isolating', 'pansies', 'budget', 'invented', 'fiend', 'Ore.', 'ignition', 'slides', 'Harris', 'epic', 'Raphael', 'westward', 'dividend', 'Scientists', 'fought', 'smelling', 'foamy', 'Missionary', 'readiness', 'Record', \"daughter's\", 'corridor', 'lodging', 'fundamentalist', '12%', 'sundown', 'Northfield', 'roles', 'cesium-137', 'India', 'velvet', 'medicines', 'alternately', 'Net', 'liquidation', 'cortical', 'affinity', 'assumptions', 'recommendations', 'backwoods', 'Have', 'Saviour', 'vision', 'affections', 'Returns', 'arbitrate', 'Exploration', 'decided', 'informed', 'tickets', 'swirled', 'of', 'Frank', 'banker', 'rebuilt', 'ash', 'Vieth', 'Beach', 'requirement', 'influences', 'anywhere', 'duration', 'nostrils', '1933', 'allotment', 'paragraphs', 'astounding', 'Lambeth', 'hook', 'Ferrell', 'viability', 'See', 'uncharted', 'lone', 'achieving', 'seventh', 'depletion', 'abstract', 'Directly', 'medieval', 'innumerable', 'adjudication', 'dramatic', 'Iowa', 'owes', 'beyond', 'General', 'mortgages', 'stumbled', 'bidding', 'exist', 'undergoing', 'provoke', 'formula', 'Strategic', 'magnitude', 'Jouvet', 'half-way', 'shortly', 'secant', 'enjoined', 'wavelength', 'fifties', 'Consumer', 'Profile', 'rubbish', 'Gerald', 'gestures', 'Magnums', 'merit', 'blanching', 'strives', '1609', 'parked', 'Pembina', 'surface-active', 'patterns', 'malaise', 'inevitable', 'withstand', 'ashore', 'missionaries', 'revised', 'Roads', 'estimation', 'Span', 'deliver', 'tracing', 'commissions', 'remarkably', 'oral', 'churchgoing', 'stern', 'clarify', 'flax', 'Whole', 'assaults', 'Whigs', 'Cortlandt', 'malaria', 'costs', 'glimpsed', 'paint', 'Pulitzer', 'whistle', 'gushed', 'Adams', '1820', 'linking', 'bell', 'after', 'struggling', 'ski', 'commune', 'feathers', 'resentful', 'helper', 'constitutes', 'dealings', 'Dreadnought', 'acted', 'screeched', 'farms', 'chromatography', 'Promptly', 'instrumentally', 'drunken', 'engine', 'terminal', 'vulnerable', 'decorative', 'Church', 'Julian', 'bathtub', 'unemployment', 'institutions', 'molding', 'unavailable', 'recurrent', 'daughter', 'leaving', 'toes', 'mess', 'resultants', 'fork', 'butyrate', 'kid', 'Traveling', 'Volume', 'demolished', 'vowels', 'starving', 'mailboxes', 'cake', 'Beethoven', 'fluxes', 'chemically', 'congressmen', 'realize', 'Bess', 'diapers', 'creation', 'width', 'casework', 'formulas', 'tall', 'hereby', 'glittering', 'spiritually', 'endless', 'Evidently', 'Test', '1105', 'He', 'slowing', 'suggest', 'Romans', 'issue', 'implied', 'reporter', 'glare', 'canons', 'Violence', 'work', \"Don't\", 'subjective', 'Jossy', 'bridges', 'advise', 'rolling', 'distressed', 'happy', 'bawdy', 'meddling', 'Ellis', 'users', 'Calcutta', 'lacy', 'idiotic', 'retire', 'pants', 'New', 'trapped', 'sustain', 'Reama', 'prosperous', 'Research', 'Command', 'settlement', 'conspiracy', 'revived', 'ever', \"They've\", 'fitted', 'Hamm', 'Faulkner', 'sang', 'drove', 'Pentagon', 'reassurance', 'psychiatry', 'P-20', 'forgive', 'inclusive', 'rates', 'propose', 'prevent', 'psychiatrist', 'Parents', 'negation', 'Kennel', 'constants', \"officers'\", 'Richert', 'sticky', 'Birth', 'birth-control', 'Hanford', 'Actual', 'reward', 'Congregational', 'sensation', 'amendment', 'carpet', 'soaps', 'Lion', 'sewer', 'tourists', 'modify', 'damn', 'postpone', 'dust', 'Lee', 'refuge', 'insisting', 'narratives', 'submachine', 'intermediates', 'ebony', 'marbles', 'sleep', 'Ma', 'gallons', 'God-given', \"book's\", 'engineer', 'Sure', 'crude', 'monarch', 'ambiguities', 'glared', '9', '1966', 'instability', 'hostility', 'Miranda', 'cousin', 'dripped', 'captive', 'Seeds', 'enviable', 'datelined', 'Winston', 'Ledoux', 'enzymes', 'compromising', 'increasing', 'produce', 'contamination', 'vapor', 'experiment', 'duplicate', 'ambiguous', \"Eichmann's\", 'dryer', 'error', 'Nor', 'Taylor', 'analysts', 'essays', 'uptown', 'twofold', 'DC', 'normalcy', \"husband's\", 'Interama', 'insanity', 'countryside', 'Voltaire', 'Freedom', 'transparent', 'indignant', 'Need', 'generate', 'vegetation', 'erratic', 'fastest', 'disruptive', 'Symphony', 'Gin', 'disrupt', 'ordinary', 'drying', 'Inter-American', 'doctrines', 'schematically', 'contributors', \"you've\", 'Boulevard', 'obey', 'configurations', 'Congressional', 'inherited', 'titer', 'freshness', 'Nocturne', 'chill', 'tax', 'court', 'retrieved', 'intends', 'coldness', 'Andrus', 'risen', 'pies', 'serves', 'Minnie', 'frigid', 'DePugh', 'Room', 'Regular', 'intellect', 'illuminating', 'hire', 'Adjusted', 'murdered', 'kidding', 'unworthy', 'shops', 'place', 'dancing', 'raised', '154', 'mistakenly', \"Geraghty's\", 'glances', 'Hwang', 'cliche', 'dissection', 'original', 'Cedric', 'v.', 'mare', 'properties', 'jurisdictional', 'resident', 'Puritans', 'status', 'glorified', 'hangs', 'Stalag', 'shade', 'bosses', 'embassy', 'iodide', 'dose', 'buckle', 'baptized', 'Benny', 'reconciled', 'spectra', 'hospitalization', 'organizing', '1939', 'multiply', 'seated', 'Thom', 'impressions', 'spun', 'linguistic', 'Homer', 'Aerospace', '1040A', 'bankrupt', 'unity', 'bum', 'countless', 'Nicodemus', 'bribed', '1944', 'collections', 'gardens', 'duck', 'syndicate', 'carpeted', 'narrowing', 'fearfully', 'asphalt', 'punctuated', 'bombing', 'balloons', 'constructions', 'campaign', 'deformation', 'summertime', \"York's\", 'Rebels', 'magnified', 'productions', '7070', 'equality', 'accessible', 'chromatic', 'operetta', 'ABO', 'notches', 'Salvador', 'Harvester', 'American', 'section', 'Chicago', 'shriveled', 'lamb', 'corresponding', 'initiating', 'Willis', 'merry', 'develop', 'letter', 'rebut', 'handle', 'fury', 'turbulence', 'ammunition', 'L', 'dares', \"You'll\", 'appreciable', 'sensations', 'peering', 'Honorable', 'intima', 'laminate', 'gestured', 'Closely', 'rooming', 'Greenville', 'glamorous', 'paralysis', 'cord', 'achievements', 'benefited', 'irrelevant', 'inexpensive', 'Dolley', 'complete', 'excused', 'Udall', 'surgery', 'bicycle', 'abode', 'reacting', 'Road', 'Pollock', 'random', 'childish', 'hum', 'Sacred', 'meeting', 'patrol', 'Reuveni', 'camps', 'violations', '4', 'jure', 'acetate', 'Girl', 'benches', 'gentlemen', 'craftsmen', 'Viet', 'disaster', 'believer', 'unhealthy', 'concession', 'lipstick', 'confess', 'batten', 'explosives', 'carryover', 'betrays', 'introduce', \"ship's\", 'supplant', 'tumble', 'attendant', '0', 'spectroscopy', 'testimony', 'Immigration', 'elderly', 'amber', 'pleural', 'fleeing', 'planning', 'planks', 'doom', 'Position', 'admiring', 'celebrities', 'came', 'escort', 'arranged', \"Administration's\", 'taper', 'freedmen', 'aspire', 'nature', 'Serious', 'syllables', 'positively', 'Christopher', 'dizzy', 'curbing', 'eloquent', 'Stoicism', 'sanction', 'congestion', 'Penn', 'Muscle', 'beach', 'recede', 'advancement', 'artificial', 'contained', 'meticulously', 'unusual', 'reconcile', 'arrested', 'encountered', 'cleansing', 'bayonet', 'devout', 'overcoming', 'Knight', 'screw', 'guns', 'production', 'sausages', 'Lucien', 'writes', 'coasts', 'Brussels', 'brackish', 'link', 'self-confident', 'Gran', '``', 'saint', 'Heard', 'occasionally', 'Nicholas', 'print', 'Angeles', 'own', 'timetable', 'canned', 'Heavy', 'neighboring', 'thickness', 'communicated', 'low-cost', 'fashions', 'Barco', 'successfully', 'respondent', 'Fathers', 'Nate', 'penetrated', 'characteristic', 'reaching', 'alter', 'grandfather', 'questioning', 'twirling', 'K', 'historian', 'conform', 'Sands', 'Woodside', 'conspicuously', 'aged', 'BTU', 'richly', 'East', 'Relations', 'interrelations', 'well-educated', 'Lutheran', 'fragments', 'Local', 'Bradford', 'interlude', 'barricades', 'Clifford', 'questionnaires', 'phenothiazine', 'visceral', 'product', 'resolutions', 'campaigned', 'Think', '1600', '8', 'wanton', 'principle', 'Eugenia', 'defeating', 'centrally', 'varieties', 'Medical', 'dispense', 'realization', 'purges', 'trespassed', 'ordinance', \"other's\", 'aerator', 'judged', 'contends', 'defensive', 'fetching', 'meadow', 'down', 'magnetic', 'man', 'versatility', 'Bob', 'chlorine', 'Peony', 'Viola', 'superior', 'imagines', 'quo', 'emission', 'proving', 'Piazza', 'mounting', 'crap', 'Death', 'like', 'divers', 'bushes', 'suitcases', 'Power', 'guilt', 'Lyttleton', 'dozen', 'fell', 'grabbing', 'sinfulness', 'discovers', 'adamant', 'luminous', 'pear', \"She'll\", 'stones', 'Kruger', 'twelve', 'appeals', 'Bird', 'fist', 'emergency', 'accomplishments', 'responds', 'catastrophic', 'marries', 'fallout', 'seeking', 'thoroughfare', 'Renoir', 'quadric', 'jowls', 'kill', 'Mass.', 'inventories', 'progressed', 'respectively', 'eleventh', 'sounds', 'contribution', 'revered', 'reread', 'dia.', 'thereafter', 'whiskers', 'Forsythe', 'prominently', 'external', 'petitioner', 'origin', 'Papa', 'cite', 'Cover', 'displeasure', 'painful', 'stimulating', 'Costaggini', 'rang', 'one-time', 'classmate', 'traceable', 'pond', 'wiry', 'urgently', 'discharges', 'P.', 'preoccupied', \"Kennan's\", 'Without', 'fertilizers', 'shy', 'forego', 'Christiana', 'loads', 'fences', 'Detective', 'abolish', 'horrifying', 'modern', 'weighs', 'intermediate', 'Rexroth', 'Give', 'pleaded', 'Okla.', 'vermilion', 'parish', 'minors', 'ordinarily', 'clothes', 'implement', 'Standing', '3.5', 'science', 'inertial', 'Lumber', 'Rue', 'elements', 'shine', 'curve', 'peers', 'architectural', 'Mackey', 'solved', 'composed', 'overlooked', 'pro', 'deeper', 'Jr.', 'Jews', 'Location', 'collaborated', 'recruitment', 'bronchus', 'translucent', 'disordered', 'jolly', 'command', 'geologists', 'tells', 'second-rate', 'vibration', '68', 'Jeep', 'hypothalamic', 'attacking', 'than', 'fillings', 'breasts', 'showman', 'hero', 'blocking', 'hopelessness', 'introduction', 'phenomena', 'socks', 'generalization', 'stimulate', 'Baroque', \"mind's\", 'symmetry', 'shaping', 'Photos', 'carving', 'definition', 'Du', 'expenditure', 'Chapman', 'purposely', 'Dynasts', 'wayward', 'Governor', 'aging', 'proceeds', 'release', 'Series', 'evolved', 'sickened', 'Circuit', 'gunman', 'sex', 'egotism', 'Good', 'pitching', 'Food', 'calm', 'Hard', 'panes', 'Make', 'Minuteman', 'center', 'beliefs', 'Westinghouse', 'zealous', 'dissent', 'cautiously', 'briefly', 'functioned', 'latch', 'bailiff', 'Harbor', 'carbon', 'concerted', 'Dewey', 'dissimilar', 'inject', 'stimulation', 'Karl', 'prohibited', 'located', 'searched', 'attractive', 'widow', 'mop', 'sweater', 'sufficient', 'Colonial', 'Oil', 'Vesole', 'fleet', 'bronc', 'interpreted', 'sympathetic', 'According', 'refugee', 'appealed', 'fused', 'slogans', 'skipping', 'La.', 'wires', 'Fidel', 'surprisingly', 'Moss', 'marvel', 'legislation', '1700', 'promenade', 'true', 'assemble', 'correspond', 'prostitutes', 'innovations', 'Anyhow', 'pushing', 'concludes', 'cultural', 'Willy', 'students', 'moons', 'supposedly', 'Caldwell', 'Wales', 'file', 'monologue', 'decorator', 'Snelling', 'assessors', 'refuse', 'Peale', 'Utopia', 'affiliated', 'gentleman', 'Please', 'incident', 'Patricia', 'dietary', 'widths', 'Patrol', 'funeral', 'wielded', \"Department's\", 'disgrace', 'dove', 'inning', 'resumed', 'companion', 'Alas', 'courteously', 'developments', 'zero', '1905', 'Kizzie', 'receiving', 'masseur', 'invading', 'Spinco', 'incentives', '$40', 'attention', 'Buddhist', 'loss', 'major', 'biggest', 'lashed', 'unsung', 'asserting', 'preacher', 'openly', \"Ain't\", 'Powell', 'playground', 'fabled', 'Platonic', 'resisting', 'debacle', 'seldom', 'Round', 'potentiality', 'Armstrong', 'damaged', 'hopples', 'Maguire', 'periodicals', 'ideal', 'intangible', 'flights', 'declared', 'noticing', 'seize', 'jumble', 'pseudophloem', 'Nischwitz', 'torture', 'triplets', 'editions', 'symbolically', 'unconcerned', 'driving', 'Kayabashi', 'defeated', 'Lynn', 'strapping', 'graveyard', 'Stars', 'downright', '6-hr.', 'connotations', '1848', 'District', 'Missail', \"George's\", 'organizations', 'dread', 'Evans', 'Ottoman', 'daisies', 'battens', \"Kate's\", 'Frankfurter', 'comparative', 'optimum', 'bricklaying', 'sapped', 'FBI', 'opener', 'individualistic', 'bestowal', 'buckskin', 'sheltered', 'gums', 'cycle', 'plentiful', 'mustache', 'Renaissance', 'brushed', 'rebel', 'enclosure', 'narcotics', 'dazzling', 'crawl', 'extensively', 'sophisticated', 'cars', 'cattle', 'Corn', 'lands', 'ginning', 'shivering', 'review', 'meandering', 'authenticity', 'independently', 'Executive', 'wind', 'electron', 'bereavement', 'lady', 'flames', 'crouch', 'validity', 'perceptive', 'rumors', 'fidelity', 'saliva', 'Wisman', 'Goethe', \"we'd\", 'Los', 'fiber', 'location', 'bop', 'sobered', 'oldest', 'vulgar', 'gilt', 'absent-mindedly', 'cared', 'Ryusenji', 'Helen', 'surprised', \"boys'\", 'alkali', 'Improvement', 'Language', 'Partlow', 'Realtors', 'fundamental', 'pinned', 'marble', 'station', 'Stevens', 'boosted', 'Poe', 'necessitated', 'Pick', 'ingenuity', 'Tokyo', 'reminded', 'offensive', 'relegated', 'sixth', 'victims', 'maturity', 'Orange', 'centimeters', 'girls', 'Regional', \"administration's\", 'Headquarters', 'meet', 'warns', 'slaughtered', 'inducing', 'sheer', 'duffel', 'stumbling', 'honeybees', 'member', 'Brevard', 'Nineteen', 'Olga', 'cultures', 'froze', 'pulled', 'heating', 'Christmas', 'couplers', 'jurors', 'gap', 'Center', 'return', 'chronicle', 'Kirby', 'etc.', 'enlisted', 'claiming', 'Dogtown', 'piers', 'lucid', 'Nebraska', 'souls', 'Skolovsky', 'rare', 'receipts', 'sign', 'Hit', 'Hawaiian', 'crumbled', 'bales', 'quarrel', 'intensification', 'virtue', 'imitations', 'arresting', 'want', 'Cooperation', 'mocking', 'Swing', 'elegant', 'undercurrent', 'Institution', 'Lodge', \"N'\", 'U.', 'truck', 'Jesus', '93', 'intrinsic', 'import', 'walnut', 'Plains', 'support', '1950', '7070/7074', 'symmetric', 'good-by', \"1/8''\", 'hallway', 'accurately', 'incite', 'politician', 'canvass', 'Instrument', 'grabbed', 'social-economic', 'Martini', 'federation', 'stains', 'idioms', 'pokes', 'literal', 'farmer', 'corporate', 'Publick', 'running', 'tactical', 'Answer', 'Prokofieff', 'timid', 'misuse', 'Sex', 'palatability', '/', 'Vietnamese', 'hemisphere', 'assignment', 'fencing', 'temperature', 'in-group', 'patch', 'Da', 'fund', 'Spice-Nice', 'toilets', 'Is', 'stormy', 'Fanny', 'yell', 'extent', 'experiential', 'reborn', 'stating', 'janitors', 'Contrary', 'concessions', 'joining', 'avail', 'identifies', 'mimesis', 'Advance', 'trappings', 'Maybe', 'butt', 'gunfire', 'unborn', 'clerical', 'Pons', 'tell', 'Sigmen', '113', \"pool's\", 'prosodic', 'kids', 'Wesleyan', 'confirms', 'minister', 'bandit', 'Imagine', 'early', 'submitted', 'Lauro', 'starting', 'Roger', 'roadside', 'guessing', 'thickened', 'tribute', 'bounce', 'scouring', 'February', 'shrilly', 'spared', 'chocolate', 'Ambiguity', 'enables', 'Greenwich', 'clods', 'classifications', 'deep-set', 'her', 'inversely', 'paradoxical', 'Interior', 'Moise', 'Consulting', 'Nehru', 'Pulley', 'west', 'venerable', 'frantic', 'jeopardize', 'representing', 'earlier', 'Providing', 'tiniest', 'fig.', 'sweaters', 'connective', 'Emile', 'Prime', 'envision', 'Finney', 'Odyssey', 'Analysis', 'Hilprecht', 'national', 'acetone', 'streams', \"They'll\", 'academies', 'Junction', 'anew', 'chimneys', 'Sadie', 'flat-bottomed', 'bases', 'gala', 'exclusive', 'Clifton', 'Fishing', 'politics', 'mathematics', 'Two', 'division', 'unlike', 'clue', 'Clerfayt', 'familiarity', 'torquer', 'fashion', 'gyro-stabilized', 'bald', 'first', 'majestic', 'Afterwards', 'hymen', 'or', 'American-Negro', 'revisions', '$300', 'Socialism', 'noses', 'Moody', 'barely', \"Conant's\", 'stupendous', 'kneel', 'prevailed', \"coroner's\", 'Von', 'madly', 'piety', 'brandishing', 'more', 'Dunkirk', 'An', 'Parkway', 'spectrum', 'sympathies', 'value', 'sets', 'apologies', 'chuckle', 'mystics', 'reaction', 'oval', 'indicator', 'Unit', 'toy', 'excesses', 'proctor', 'border', 'urgent', 'Twice', 'coding', 'textbook', 'commute', \"road's\", 'emotions', 'defied', 'Penny', 'anyone', 'core', 'singing', 'fund-raising', 'consolation', 'simplest', 'china', 'Matson', 'ensued', 'destruction', 'depressing', 'vitro', 'Get', '29', 'motionless', 'background', 'conditioning', 'labeling', 'admonitions', 'Grandma', 'invitations', 'virulence', 'faulty', 'commenced', 'Children', 'components', 'solving', 'softening', 'memorize', 'Alone', 'steaks', \"Mississippi's\", 'persuasive', 'adventurous', 'twinkle', 'secondary', 'orders', 'gives', 'emotion', 'Friends', 'Uniconer', 'Apparently', 'marshal', 'outputs', 'tubing', 'sojourn', 'diminished', 'censure', '1890', 'brow', 'Arnolphe', 'teaspoons', 'gadgets', 'Mercury', '$15,000', 'unaided', 'melody', 'diocesan', 'creatively', 'burial', 'well-being', 'nose', 'snacks', 'passive', 'Shayol', 'Whiteman', 'tiresome', 'showmanship', '1897', 'dolls', 'quacks', 'managerial', 'conjecture', 'Elder', 'riding', 'paper', 'pending', 'plumber', 'bolt-action', '$150', \"author's\", 'Sheeran', 'sampled', 'tomb', 'Which', 'neocortex', 'snapping', 'stoop', 'showed', 'induces', 'Chaplin', 'Westchester', 'aside', 'Vernava', 'bathed', 'maroon', 'Roots', 'acclaimed', 'divorced', \"player's\", 'widest', 'worshiping', 'dome', 'deed', 'fragile', 'gift', 'linguistics', 'ratios', 'confide', 'Amos', 'realtor', 'rejoicing', 'color', 'foregoing', 'flat-bed', 't', 'detected', 'Ray', 'Gibson', 'beneficiaries', 'scores', 'Esquire', 'twenty-four', 'coincidence', 'much', 'skimmed', 'deserted', 'fathom', 'Of', 'presence', 'comprehend', 'conjugate', 'epileptic', 'optimal', 'orthographic', 'lathered', \"Maggie's\", 'taxis', 'occupy', 'racial', 'maids', 'manifestations', 'removing', 'Brief', 'dummy', 'luggage', 'input', 'Brazil', 'merchant', 'Nikolais', 'deny', 'oppressive', 'mechanized', 'constantly', 'Holland', 'accent', 'motorists', 'Karns', 'surplus', 'eclipses', 'delegated', 'Sixty', 'Gross', 'figure', 'James', 'dominant', 'rim', '1962', 'barred', 'undergo', 'yes', 'Jerusalem', 'Spain', 'spades', 'baggy', 'Rusk', 'educated', 'pack', 'Madame', 'Civilization', 'sturdy', 'debating', 'loading', 'Jonathan', 'balance', 'cape', 'skiff', 'wholesome', 'Masaryk', 'byproducts', 'surveyed', 'climb', 'stony', 'afforded', 'punished', 'physician', 'dollars', 'avoided', 'McLish', 'suffice', 'peacocks', 'incest', 'hooked', 'consider', 'lightning', 'vocation', 'Elec', 'epoch', 'earthquakes', 'baby', 'non-supervisory', 'commended', 'secants', 'worry', 'infinite', 'Second', \"White's\", 'melodious', 'investigated', 'reductions', 'Barnard', 'piled', 'Reception', 'Poland', 'Gorboduc', 'censorship', 'contacts', 'coastal', 'sisters', 'intensified', 'Moore', 'Euripides', 'renewal', 'answer', '16th', 'snoring', 'textile', 'flannel', 'Heywood', 'haze', 'Hurrays', 'shake', 'Martha', 'cooking', 'Lolotte', 'month', 'invested', 'financing', 'cursory', 'coincides', 'Kong', 'exploring', 'mule', 'provocation', 'transducer', 'tangents', 'harmonious', 'pressing', 'discouragement', 'Dec.', 'important', 'restrain', 'threat', 'autofluorescence', 'breach', 'elevated', 'Rosa', 'left-handed', 'avoidance', 'regulatory', 'presiding', 'sherry', 'brighter', 'feudal', 'combining', 'newspapers', 'neighborhood', 'rip', 'flakes', 'It', 'misplaced', 'Fiorello', 'fringe', 'oyster', 'returning', \"soul's\", 'downgraded', 'invade', 'good-bye', 'Collins', 'balloon', 'steels', 'liquidated', \"Star's\", 'identify', 'Brassnose', 'Professor', 'hoped', 'Lautner', 'offend', 'horizontally', 'Giovanni', 'brooding', 'slack', 'somebody', 'kind', 'axis', 'explanatory', 'reinforced', 'matters', 'recommendation', 'evaluating', \"'50\", 'deductive', 'areas', 'radical', 'hesitant', 'Brahms', 'whatever', 'meteorites', 'Ideally', 'Fifteen', 'convictions', 'cigarette', 'Doctors', 'farther', \"Bonn's\", '1/4', 'Defoe', 'fiasco', 'Meeting', 'imposed', 'significant', 'Hunter', 'consciousness', 'Polish', 'filling', 'branches', 'North', 'smelled', 'discriminatory', 'empire', 'three-quarters', 'twisted', 'preparation', 'warmly', 'Pittsburgh', 'pale', 'divisible', 'Flemish', 'hevin', 'Dunbar', 'Walk', 'Skyros', 'Colonel', 'veered', 'growl', 'advocated', 'rides', 'veracity', 'imposes', 'proud', 'mg.', 'editing', 'offenses', 'later', 'objections', 'Camp', 'L.', 'bowls', '2-year-old', 'sinking', 'packaged', 'competence', 'complementary', 'Dei', 'Smith', 'mode', 'abject', 'episodes', 'chronological', 'comfortably', 'rim-fires', 'monster', 'Dalloway', 'spring', '1,000', 'Recent', 'Sally', 'sufferer', 'hazard', 'exists', 'voluntary', 'pursed', 'Islands', 'uneasy', 'rightly', 'indignities', 'shipped', 'execution', 'bang', 'elicited', 'details', 'describe', 'officer', 'gladly', 'interrelated', 'relented', 'appearances', 'Consider', 'individual', 'hurry', 'thoughtful', 'melodic', \"We'd\", 'curly', 'placement', 'Pod', 'entirety', 'carve', \"Mahzeer's\", 'stock', '20', 'laughter', 'Furious', 'potentially', 'hurtling', 'doubtful', 'entitles', 'oxidation', 'deposits', 'sensibly', 'Griffith', 'Wait', 'finds', 'magician', 'deviant', 'explaining', 'mailing', 'sharing', 'nail', 'hence', 'remain', 'dipped', 'missionary', 'discusses', 'proscription', 'classical', 'licensed', 'sometimes', 'Cunard', 'Africans', 'manners', 'expansion', 'Shea', 'agreeing', 'FHA', 'drive-in', 'stint', 'downed', 'rapped', 'barbarians', 'characterization', 'posed', 'reproduced', 'advertisers', 'forties', 'deerskins', 'Loneliness', 'physicist', 'skiffs', 'synonymous', 'amazed', 'jury', 'Austria', 'ordeal', 'Ralph', 'dosages', 'abuses', 'Walitzee', 'sponsored', 'brilliantly', 'balcony', 'distal', 'Roy', 'critics', 'restore', 'math', 'favorites', 'relating', 'unimportant', 'scornful', 'compliment', 'Kan.', 'Few', 'understanding', \"Lyford's\", 'stereotype', 'spending', 'mirrors', 'astride', 'baking', 'cracks', 'roaring', 'Railroad', 'exquisitely', 'youngsters', 'Beame', 'athletes', 'synonym', 'shadowing', 'wherever', 'cherished', 'excess', 'undertaking', 'founded', 'British', 'shapes', 'Cathy', 'detonated', 'guy', 'marketing', 'V-shaped', 'Forensic', 'looted', 'suggestions', 'Fifty', 'canvas', 'Folly', 'wit', 'hurl', 'spear', \"D'Artaguette\", 'glow', 'battlefield', 'tunes', 'voices', \"L'Turu\", 'speeded', 'cupful', 'tail', 'drill', 'Crime', 'take-up', 'anti-B', \"France's\", 'Crane', '1913', 'Sixth', 'sultans', 'surviving', 'Go', 'movies', 'create', 'Partly', 'singer', 'Purchasing', \"who'd\", 'disappointing', \"mustn't\", 'Hotei', 'Shaw', 'Better', 'proteases', 'Drifts', 'foreseeable', 'veiled', 'invited', 'Cascading', 'express', 'salesmen', 'conclusion', 'tents', 'Residential', 'chalk', 'weighted', 'depending', 'Regions', 'Already', 'middle-aged', 'courtesy', 'dregs', 'professor', \"Erikson's\", 'sentences', 'procedural', 'impossible', 'Main', 'disgusted', 'Keegan', 'arch', 'jets', 'Miss', 'watches', 'considerably', \"Seward's\", 'raises', 'intersections', 'readers', 'consulted', 'rearrange', 'locations', 'defenses', 'trousers', 'stool', 'Episcopal', 'celebrated', 'flag', 'concessionaires', 'small', 'intensify', '11', 'application', 'hip', 'glancing', 'side', 'If', '74', 'meter', 'country', 'Fifth', 'collectively', 'Leverkuhn', 'choose', 'ourselves', 'Carvey', 'dare', 'Pornsen', 'cave', 'herb', 'Dollar', 'officers', 'additives', 'swear', 'Kasavubu', 'Gosson', 'modifier', 'utilize', 'Tar', 'payroll', 'sober', 'separation', 'clause', 'cortex', 'Courtier', 'textiles', 'campers', '$5,000', 'cottage', 'worded', 'Laurence', 'Gorham', 'roughness', 'Jerry', 'permissive', 'antiseptic', 'self-certainty', 'Moscow', 'contradictions', 'pathology', 'extracted', \"Krutch's\", 'constituted', 'picnics', 'lower-middle', 'Approximately', 'endeared', 'functional', 'Ole', 'Flowers', 'Take', 'assigns', 'Maria', 'outdistanced', 'immensely', 'Fate', 'wakefulness', 'absorbed', 'Funds', 'ballot', 'spirit', 'slashed', 'vitality', 'admired', 'foolish', 'stayed', 'haul', 'offspring', 'grappling', 'Herford', 'Leader', 'long-term', 'ceremonies', 'clearing', 'designating', 'stands', 'interactions', 'pianist', 'pets', 'styles', 'pointing', 'individually', 'dismaying', 'rate', 'cushion', 'Coolidges', 'tend', 'Garson', 'decorated', 'Rawlings', 'compass', 'gaining', 'donated', 'actors', '$7', 'library', 'Marlborough', 'seen', 'artistry', 'humanitarian', 'Using', 'infectious', 'corral', 'pierced', 'Moreover', 'expelled', 'illusions', 'student', 'wooden', 'trustworthy', 'Kate', 'Taiwan', 'caution', 'Technical', 'Herry', 'accountability', 'descend', 'Starbird', 'wreath', 'birdie', 'pedestrian', 'debts', 'Freight', 'excite', 'shades', 'tore', 'Oakwood', 'axe', 'guides', 'eager', 'apostolic', 'Harold', \"Anne's\", 'grokking', 'discovery', 'pitiful', 'strong', 'conductivity', 'amortization', 'desk', 'tradition', '1,500', 'antelope', 'pickoff', 'righteousness', 'Havisham', 'adage', 'industrial', 'Bill', 'patented', 'Indians', 'deployed', 'Autocoder', 'piping', 'never', 'possible', 'lie', \"year's\", 'Christianity', 'wrapped', 'sneaked', 'clump', 'phrased', 'prodigy', 'Elementary', 'ailment', 'intensely', 'rousing', 'conversely', 'Conservation', 'altogether', \"Groth's\", 'experiencing', 'concede', 'mistrust', 'Meltzer', 'wistfully', \"O'Banion\", 'required', 'manifested', 'priceless', 'seriously', 'Owen', 'moist', 'adapting', 'intervention', 'veritable', 'initiative', 'yelling', 'grounds', 'discontinuous', 'entire', 'lower-class', 'dates', 'sidewalk', 'illustrative', 'Alicia', 'steadier', 'altered', 'pasted', 'headaches', 'Inspector', 'shyly', 'discharging', 'lab', 'international', 'liar', 'Following', 'Brown', 'kernel', 'exploratory', 'axle', 'beating', \"Burnside's\", 'freedom', 'Councilman', 'Doctor', 'use', 'brutality', \"men's\", 'kingdom', 'Isaac', 'grow', 'unbreakable', '3,000', 'thyroid', 'naval', 'adversary', 'Quasimodo', 'Brandel', \"Roosevelt's\", 'unarmed', 'tails', 'Buddha', 'television', 'Victory', 'ideals', 'warmer', 'adversaries', '65', 'vitamins', 'caves', 'bulging', 'suburban', 'copy', \"Hetman's\", 'Coach', 'ultimate', 'surprises', 'sane', 'deterrent', 'Handler', 'fatter', 'gamble', \"Madden's\", 'Merchants', 'ever-changing', 'callous', 'golf', 'sawtimber', 'smells', 'Juan', 'emergencies', 'beckons', 'arteries', 'welcoming', 'colonnade', 'suspect', 'prophet', 'civil', 'released', 'logical', 'outside', 'difficulty', 'Frankie', 'plaintiff', 'Fred', 'hopped', 'floors', 'predispositions', 'guttural', 'tubes', 'conveyor', 'Duclos', 'participants', 'Ruger', 'legislature', 'baptism', 'sanctioned', '15', 'reforms', 'native', 'gunmen', 'hierarchy', 'dogmatic', 'Yokuts', 'South', 'carrier', 'resorted', 'chase', 'heights', 'squatted', 'supervise', \"you'd\", 'enlarging', 'Robinson', 'representations', 'pillow', 'sweetness', 'behaving', 'Patterson', 'trials', 'luxuries', 'warfare', 'concept', 'fuss', 'Parisian', 'Perier', 'unmoved', 'separate', 'Auditorium', 'responses', 'insects', 'await', 'Lighting', 'rebelled', 'Pretty', 'Fellowships', 'thinkers', 'specialists', 'days', 'acceleration', 'economical', 'municipal', 'right-hand', 'undressing', 'ran', 'proportions', 'threes', '1949', 'hates', 'hunted', 'insoluble', 'spreading', 'scrub', 'powdered', 'amidst', 'thinly', 'singly', 'mouths', 'thyroid-stimulating', 'Trim', 'printed', 'absence', 'predictive', 'chores', 'Colman', 'dusty', '250,000', 'Titan', 'generators', 'unattractive', 'hurrying', 'Gillespie', 'need', 'constrictor', 'Alsop', 'underfoot', 'unnamed', 'messy', 'Dictator', \"''\", 'War', 'Love', 'photography', 'square', 'gorgeous', 'scepticism', 'sparse', 'estimates', 'overt', 'heroism', 'Frayne', 'nocturnal', \"Meeker's\", 'Michigan', 'ends', 'conspicuous', 'letters', 'thigh', 'modified', 'gave', 'credited', 'Abbey', 'Early', 're-elected', 'cock', 'IOCSIXG', 'wood', 'groomed', 'towne', 'preclude', 'jealous', 'necessities', 'stuffed', 'charcoal', 'McBride', 'Northeast', 'quantities', 'pulp', 'explosive', 'shouted', 'beds', 'flows', 'nausea', 'dilapidated', 'Glenn', 'hay', 'marvelous', 'emphasizes', \"board's\", 'attackers', 'babes', 'interpreter', 'representation', 'Hell', 'parades', 'Interstate', 'segregationist', 'know-how', 'Groggins', 'List', 'slaughter', 'symptomatic', 'suggested', 'en', 'Audubon', 'trademark', 'rolls', 'replaced', 'Rhodes', 'Neither', 'foolishly', 'Concord', 'Mamma', 'nondescript', 'One', 'Meyer', 'hurled', 'diminishes', \"Angeles'\", 'wanna', 'bounds', 'expect', 'Architect', 'depicting', 'stick', 'minor', 'machines', 'delivery', 'phraseology', '37', 'Keene', 'movement', 'cupped', '1797', 'mood', 'magazine', 'subjected', 'improves', 'researchers', 'digging', 'Palfrey', 'pole', 'terrified', 'daughters', 'tablespoons', 'epitomized', 'standards', 'proudly', 'owed', 'contacted', 'cling', 'speculations', 'revolver', 'goodbye', 'balustrade', 'Slim', 'ordinances', 'complaining', 'Mickey', 'postgraduate', 'drown', 'clothed', 'Pay', 'litters', 'craters', 'Lawrence', 'medico-military', 'Pacific', 'Chapter', 'Marquis', 'Shawomet', 'Mad', 'shown', 'divisions', 'diluting', 'Halleck', 'orchard', 'Illustrated', 'trumpet', 'Showmanship', 'Walker', 'corporation', 'supported', 'exposing', 'progress', 'bodybuilder', 'patients', 'hints', 'warehouses', 'well-fed', 'reins', 'indulgence', 'laboratories', 'brain', 'lignite', 'recalls', 'sparks', 'epicycles', 'indecision', 'cell-free', 'Campus', 'scanned', 'easy', '1844', 'departure', 'Lauren', 'bed', 'Mist', 'consistency', 'troubles', 'inaugurated', 'twined', 'champion', 'acts', 'harmful', 'profit', 'viable', 'handspikes', 'cooked', 'long-awaited', 'Senior', 'praying', 'Puerto', ':', 'intercontinental', '1903', 'Historical', 'relaxes', 'labels', 'blows', 'dealt', 'cynicism', 'devise', 'recalling', 'tightening', 'interplay', 'Columbus', 'surrounding', 'spat', 'directing', 'disinterested', 'lose', 'evaluated', 'nowhere', 'elaborate', 'Hall', 'AWOC', 'Englanders', 'inconsistent', 'flurry', 'obnoxious', 'rallies', 'shrine', 'dollar', 'sins', 'advisability', '$75', 'horizontal', 'ironing', 'feeble', 'departments', 'temporary', 'Family', 'B.', 'characterized', 'root', '6%', 'reversible', 'sprinkle', 'inmates', 'displayed', 'clothing', 'ledge', 'subsistence', 'Benedick', 'sewage', 'contracted', 'poignant', 'inert', 'disconnected', 'trailed', 'deadly', 'inquiry', '17', 're-enter', 'Alexander', 'performing', 'making', 'forced', 'thrusts', 'marital', 'Movement', '1927', 'forbids', 'slugs', 'Indiana', 'wage-price', 'graves', 'synthesis', 'permitting', 'serum', 'Buster', 'blazing', 'Further', 'steadily', 'Midwest', 'carefully', 'artery', 'educate', 'competitive', 'experiments', 'raving', 'weatherproof', 'sandals', '1924', \"C'mon\", 'catastrophes', 'Murphy', 'fille', 'Katya', 'propagandists', 'comrade', 'resented', 'Hippodrome', \"Rameau's\", 'diagonal', 'endure', 'corruption', 'beaming', 'strategy', 'majorities', 'surroundings', \"female's\", '1893', 'Sections', 'inventory', 'sulky', 'phonemic', 'bunt', 'chests', 'Ivan', 'sponge', 'Eastwick', 'whispers', 'Work', 'tenth', 'river', 'checklist', 'Savings', 'fans', 'Museum', 'artificially', 'ministers', 'ripe', 'Ham', 'Woman', 'globulin', 'long-run', 'observe', 'chef', 'lays', 'one-half', 'cost-of-living', 'jumped', 'category', 'blighted', 'plaques', 'Sample', 'Chancellor', 'Dale', 'Cumberland', 'Susan', 'protests', 'depicted', 'enforcing', 'grab', 'Stravinsky', 'twin', \"somebody's\", 'boarded', 'theological', 'Animals', 'Dorr', 'quantum', 'simplified', 'Md.', 'Additionally', 'articles', 'miniature', 'forty-five', 'reclining', 'changed', 'Wings', 'supporters', 'projections', 'Behind', 'conversation', 'Perfect', 'non', 'cheaper', 'Fire', 'replaces', 'Loans', 'siding', 'Hartweger', 'friendship', 'exempt', 'groin', 'baseball', 'cafes', 'curiously', 'Oriole', 'harping', 'assassin', 'renovated', 'collective', 'dance', 'Clinico-pathologic', 'conducted', 'anti-intellectual', 'discs', '1582', 'Pa', 'legends', 'indicators', 'assented', 'exclusiveness', 'grown-up', 'yielded', 'blank', 'charter', 'sending', 'ease', 'l', 'invention', 'sparkle', 'ghost', 'curtail', 'unwittingly', 'higher', 'slated', 'calendar', 'patronized', 'saturated', 'Vermont', 'Across', 'Alan', 'typewriter', 'publication', 'Canadian', 'wobble', 'orthodontic', 'enduring', 'Faber', 'chronic', 'coined', 'organs', 'behavior', 'ramp', 'hilar', 'moved', 'Dandy', 'pat', 'Commentary', 'Having', 'failures', 'breakfast', 'Weaver', 'shadows', 'Rhode', 'offer', 'furthered', 'obstacles', 'immediate', 'Hanging', 'Chuck', 'Exchange', 'Maxwell', 'Records', 'Cavalry', 'blister', 'correspondents', 'Aunt', 'smoothed', 'responding', 'rejects', 'sesame', 'plunged', 'appliances', 'unpaired', 'protecting', 'squeeze', 'furniture', 'unafraid', 'Blood', 'Isfahan', 'Douglass', 'drunkard', '1915', '1955', 'soon', 'Crusade', 'arose', 'badge', 'unreconstructed', 'conjunction', 'ion', 'screwed', 'settings', \"Rusk's\", 'privilege', \"Killpath's\", 'paying', 'grokked', 'virile', 'abolition', 'estates', 'dosage', 'tabulated', 'trotted', \"Fosdick's\", 'Cobb', 'destroying', 'industry', 'intellectuals', 'equivalence', 'Monte', 'Vince', 'B-52', 'Lane', 'Copernican', 'Patriot', 'Yesterday', 'flavor', 'forerunner', 'DIOCS', 'Dave', 'gown', 'downward', 'aviator', 'refreshed', '1956', 'fender', 'indicate', 'unrelieved', 'distances', 'Cyrus', 'Clearly', 'advocating', 'flesh', 'cone', 'formulations', 'Federal', 'fool', 'circle', 'article', 'alcohol', 'dependable', 'bristle', 'publishing', 'Concerto', 'applicant', 'tuned', 'Sherlock', 'McIver', 'Fascism', 'havoc', 'instructional', 'Cubans', 'entrenched', 'enchanted', 'motivation', 'absently', 'unabashed', 'Peace', \"People's\", 'answers', 'hafta', 'encounters', 'accompany', 'fined', 'traces', 'colorless', 'Ronald', 'Courcy', 'inexperience', \"Today's\", 'Vivian', 'wrapping', 'Clayton', \"station's\", 'bubbling', 'pencil', 'bathroom', 'Louise', 'optical', 'fiscal', 'polynomial', 'accommodations', 'possibility', 'scrambled', 'variation', 'assigned', 'theory', 'mucosa', 'babies', 'Shirl', 'outer', 'Jorge', 'busts', 'scholars', 'Drink', 'flat', 'nor', 'complaint', 'definitive', 'liberalism', 'contingency', '**yl', 'overpayment', 'bothers', 'reception', 'propriety', 'empirical', 'cathode', 'accustomed', 'savored', 'Press', 'Florentine', 'voice', 'Join', 'Circular', 'Karen', 'laissez-faire', 'nation-wide', 'prospect', 'Put', 'inferior', 'happier', 'aborigines', 'pursuant', 'component', 'atheists', 'overload', 'stove', 'Revenue', 'discharged', 'nationalist', 'hers', 'symphonic', 'occurring', 'applications', 'successors', '29th', 'organize', 'push', 'presently', 'confusion', 'scratched', 'Here', 'cysts', 'Ludwig', 'exposure', 'myself', 'orthodontists', 'racing', 'lower-middle-class', 'rewarding', 'diverse', 'nonreactivity', 'communicator', \"Sam's\", 'delicate', 'Moses', 'Istiqlal', 'lumps', 'Street', 'wrecking', 'unfolds', 'eyes', 'temples', 'vowel', 'dictators', 'glaze', 'abstractions', 'murmuring', 'resided', 'disasters', 'particulate', 'Final', 'demands', 'Morrison', 'denying', 'icebox', 'Bey', 'Ambassador', 'Radiation', 'Sarah', 'bloodshed', 'reappeared', 'embassies', 'Ring', 'struggle', 'Othon', 'becoming', 'adherents', 'discarded', 'furnish', 'Uncle', 'Marie', 'Hamilton', 'enrollment', 'snarling', \"Brenner's\", 'Il', 'contrasting', 'warrant', 'tally', 'eyebrow', '26', 'thee', 'if', 'Under', 'Fink', 'October', 'quarter', 'inquiring', 'intonation', 'liability', 'employees', 'Communism', '1946', 'shortstop', 'bottom', 'Cows', 'occur', 'shipping', 'kidneys', 'plain', 'mechanical', 'glasses', \"town's\", 'prohibition', 'rigorously', 'members', 'Milton', 'liberally', 'violate', 'Leavitt', 'overthrown', 'individuality', 'sod', 'suppositions', 'Grant', 'devoting', 'Trophy', 'brick', 'Huff', 'Bailly', 'Nashville', 'cartoons', 'Lyford', 'cloying', 'resembled', 'Scribe', 'performer', 'deterioration', 'Marlowe', 'discoveries', 'Blockade', 'diversity', 'who', 'wound', 'gubernatorial', 'immortality', 'collects', 'delay', 'their', 'intelligent', 'follows', 'motivates', 'twenty-first', 'mid-thirties', 'Ibrahim', '-78-degrees', 'sandwich', 'humidity', 'mathematical', 'interlobular', 'tunnel', 'Forests', 'Falling', 'Haney', 'let', 'insularity', 'braced', 'political', 'Conrad', 'cups', 'shout', 'Cardinal', 'Frontier', 'whispered', 'supervisors', 'diabetes', 'narrower', 'cliches', 'dramatically', 'mentioned', \"Hitler's\", 'notify', '2.5', 'profession', 'removes', 'Observer', 'two', 'slash', 'connections', 'gaiety', 'complexes', 'self-contained', 'cards', 'artist', \"Washington's\", 'blessed', 'taboo', 'morning', 'gamut', 'late', 'but', 'straight', 'cap', 'minarets', 'drawing', 'offense', 'unifying', 'triumphantly', 'chords', 'leave', 'spontaneous', 'impaired', 'Indian', 'percent', 'cannon', 'anonymous', 'across', 'extinction', 'this', 'mistake', 'rejecting', 'erosion', 'another', '63', 'tragedies', 'closely', 'publishes', 'jeep', 'dystopian', 'childlike', 'crashing', 'diversion', 'Waiting', 'Illinois', \"boss's\", 'orthography', 'circumstance', 'audition', 'appoint', 'folksy', 'speeding', 'celery', \"Tom's\", 'Hutchins', 'spilling', 'just', 'Fosdick', 'sequences', 'qualified', 'Turning', 'Italian', 'interwoven', 'Builder', 'spoiled', 'playwright', 'sharper', 'grazing', 'Obviously', \"so's\", 'Victoria', 'magnificently', 'tag', 'horizons', 'gradually', 'adhere', 'Le', 'deeply', 'petals', 'atop', 'Bermuda', 'stalls', 'smack', 'uncritical', 'sponsors', 'rulers', 'knuckles', 'system', 'justification', 'instant', 'Orders', 'ugliness', 'facets', 'cab', 'choking', 'Sherman', \"guy's\", 'house', 'truly', 'Middle-South', 'brand', 'whirl', 'toilet', 'factories', 'join', 'bundles', 'unfamiliar', 'synonyms', 'antenna', 'delayed', 'springs', 'Whitemarsh', 'Ruth', 'parade', 'hospitals', 'schedule', 'protection', '2:36', \"Prokofieff's\", 'pious', 'Gunny', 'intimate', 'grocers', 'suffer', 'instructor', 'theft', 'Arts', 'optional', 'Cereal', 'greatly', 'squall', 'drawer', 'Congress', 'rung', 'electronic', 'Minutemen', 'flattery', 'Blanche', 'Hurrah', 'associations', 'group', 'Homeric', 'cowhand', 'Through', 'Todman', 'distracted', 'accumulating', 'harbor', '1835', 'rose', 'reports', 'Middletown', 'noisily', 'Rangoni', 'apprentice', 'musical', 'whirled', 'fenced', 'reviewing', 'Fox', 'Eve', 'Houk', 'unofficial', 'Pearson', 'events', 'bit', 'diamond', 'Beckstrom', 'impetus', 'traitors', 'quoted', '69', 'explorer', 'itching', 'close', \"Heidenstam's\", 'describing', 'Says', 'died', 'tends', \"Saturday's\", 'dear', 'Inaugural', 'Honey', 'interested', 'sofa', 'Turnpike', 'condition', 'exemption', 'relinquishing', 'values', 'ratio', 'Gloriana', 'With', 'constitution', 'Chisholm', 'systems', 'Play', 'Joan', 'flanked', 'day-to-day', 'Faust', 'Madden', 'sloping', 'twelfth', 'tailored', 'yrs.', \"leader's\", 'commend', 'its', 'thorough', 'repression', 'Jesse', 'trend', 'girlish', 'fix', 'armaments', 'Circumstance', 'ascertain', '13', 'painter', 'cheekbones', 'Democratic', 'Beckett', 'consciously', 'noises', 'Felice', 'unspoken', 'removal', 'Ford', 'bonds', 'cumulative', 'Reading', \"10''\", 'absorb', 'area', 'restrained', 'Bottom', 'busily', 'pistons', 'soybeans', 'hanging', 'agency', 'grate', 'team', 'Someday', 'epistemology', 'forever', 'ringing', 'Vail', 'Amy', 'virtual', 'attitudes', 'leagues', 'producer', 'snaked', 'sometime', 'Property', 'Buri', 'insistence', 'sky', 'peace', 'houses', 'Gregory', 'Theodore', 'made', 'sugar', 'inch', 'whipping', 'Toward', 'jaws', 'superfluous', 'staggered', 'Skopas', 'gratefully', 'dialyzed', 'Memphis', 'Milstein', 'Even', '86', 'respective', 'enemies', 'phrase', 'Somewhat', 'disappearance', 'E.', 'faiths', 'Shu', 'milieu', 'stupidity', \"Ada's\", 'Expressway', 'halted', 'honor', '1895', 'think', 'Mij', '1861', 'elution', 'roller', 'mid', 'gases', 'rust', 'genteel', 'Needless', 'roleplaying', 'Thompson', 'uninhibited', 'Seen', 'obvious', 'lover', 'incorporation', 'Scott', 'security', 'respond', 'kindly', 'ornamented', 'poncho', 'trucks', 'regulus', 'stepping', 'Athabascan', 'penetrating', 'Sam', 'Delaware', 'dramatize', 'trains', 'Cuba', 'northwest', 'engrossing', 'Eventually', 'Panza', '2%', 'continue', 'admission', 'syntax', 'clapped', 'chagrin', 'distinguishes', 'Deegan', 'cautioned', 'Massachusetts', 'modesty', 'well-kept', 'prose', 'reform', 'injection', 'bordering', 'shaped', 'steer', 'predetermined', 'phenomenon', 'anastomoses', 'record', 'Hills', 'bleeding', 'automobiles', 'piling', 'occupations', 'neither', 'pitfall', 'halls', 'Canal', 'pledged', 'Jerebohms', 'static', 'layout', 'Clubs', 'alternate', 'famous', '2:37', 'provokes', \"Vernon's\", 'homes', 'bright', 'unhappily', 'progressions', 'stages', 'reconstruct', 'mostly', 'Leningrad', 'medal', 'commodities', 'senate', 'establish', 'dialect', 'arable', 'repair', \"Massachusetts'\", 'cowardly', 'unwed', 'incomparable', 'Grey', 'okay', 'Molly', 'forty', 'scriptures', 'hostess', 'Devey', 'polarized', 'ruling', '260', 'cleared', 'matching', 'supplementary', 'Flory', 'measurable', \"Linda's\", 'cuts', 'held', 'author', 'Harcourt', 'cylinder', 'exaggerated', 'Bonner', 'box', 'committee', 'Experimental', 'Dover', 'upwards', 'Cicero', 'significantly', 'inserted', 'hitch', 'characteristically', 'bolt', 'resistors', 'ounces', 'forty-four', '6,000', 'Usually', 'displaying', 'unit', 'adventure', \"Uncle's\", 'farthest', 'omelet', 'cement', 'death', 'Morton', 'Sponsor', 'Palestine', 'dozed', 'repudiated', 'begin', 'Jed', 'logically', 'wasteful', 'imprecisely', 'being', 'mission', '2:35', 'Monel', 'allowance', 'holidays', 'Barnumville', 'twentieth', 'oily', 'Country', 'bellboy', 'preferences', 'approaches', \"Court's\", 'kettle', 'revolt', 'socket', 'territorial', 'anecdote', 'prayers', 'hideously', 'subtype', 'aftermath', 'doubts', 'conveys', \"industry's\", 'tissue', 'pursuits', 'race', 'age-old', 'drugstore', 'champions', 'transaction', 'asked', 'expanding', '$250', 'bomber', 'solace', 'serious', 'tower', 'farewell', 'feel', 'Toys', 'cakes', 'Metro', 'meteorological', '353', 'investigation', 'potent', 'generosity', 'glands', \"person's\", 'contribute', 'Archangel', 'phases', 'Chambers', 'Greek', 'Multiply', 'Rest', 'retirement', 'drastically', 'permits', 'Aristotle', 'bacteria', 'administer', 'dependent', 'mud', 'cytoplasm', 'kindergarten', 'nurses', 'surgeon', 'congratulate', 'Tables', 'How', 'confinement', 'Dickson', 'Question', 'delight', 'Nuclear', 'elections', 'entertain', 'sold', 'oneself', 'Manchester', 'large-scale', 'secretarial', 'inventor', 'quicker', 'compounded', 'Hoover', 'eminence', 'D.', 'AM', 'utterly', 'blue', 'wolves', 'genuinely', 'impacts', 'visited', \"boy's\", 'succeed', 'movers', 'bogus', 'beloved', 'routes', 'carping', 'unloading', 'atomic', 'restless', 'restorative', 'feat', 'regards', '85', 'loving', 'gleam', '10-year-old', '1980', 'wonderful', 'frequently', 'repository', 'Casbah', 'Hodges', 'holster', 'futility', 'bouncing', 'giveaways', 'blur', 'pick-up', 'tractors', 'Race', 'Several', 'lowest', 'shared', 'human', 'Seward', 'Prayer', 'Masters', 'advanced', 'locating', 'stepped', 'undergraduate', \"She's\", 'irregular', 'Strange', 'followed', 'propagandist', '50-foot', 'invaders', 'roam', 'spend', 'ten', 'aristocratic', 'abandoned', 'informs', 'distributed', 'microseconds', 'overall', 'seeing', 'lovers', 'W', 'Sinatra', 'classes', 'Different', 'footsteps', 'filtering', 'compiling', 'focusing', 'needless', 'Strong', 'applied', 'helplessly', 'blinds', 'tallyho', 'stems', 'doubt', 'Parts', 'folk', 'argue', 'hear', 'DEAE-cellulose', 'McNamara', 'Spahn', 'description', 'motels', 'utilizes', 'failing', \"Wisman's\", 'commendable', 'notation', 'mercy', 'sustenance', 'cubes', 'complement', 'powder', 'gamma', 'uneconomical', 'Thomas', 'assist', 'Norm', \"patient's\", 'assaulted', '72', 'resource', 'Brodie', '46', 'established', 'delirium', 'smell', 'overcome', 'affects', 'niche', 'pages', 'send', 'cycles', 'perched', 'Monroe', 'tobacco', 'proclaims', \"Man's\", 'barriers', 'Around', 'cargo', 'wall', 'rotation', 'memoirs', 'Remove', 'god', 'creations', 'guests', 'qualities', 'Lauderdale', 'nightingale', 'VA', 'Teen', 'company', 'blasts', 'repaired', 'societies', 'specific', 'tiny', 'geographic', 'truncated', 'Table', 'fibrosis', 'couple', 'Turkey', 'Korean', 'blonde', 'touchdown', 'Sixties', 'composer', 'finance', 'further', 'guerrillas', 'Hero', 'Rawlins', 'courageous', \"California's\", 'Excuse', 'ballroom', 'pelts', 'Simmons', 'fastidious', 'consonants', 'has', 'rod', 'fall', 'torque', \"bull's-eye\", 'Metal', 'foggy', 'lounging', 'pretentious', 'siege', 'Athletics', 'terms', 'neckline', 'Letters', 'purpose', 'breaking', 'infringement', 'tedious', 'short-lived', 'millidegree', 'needed', 'Wheeler', 'intake', 'stance', '4:30', 'accessories', 'timely', 'amounts', 'Anyone', 'cunningly', 'citizenship', 'Maris', 'recalled', \"Plato's\", 'restraining', 'apt', 'unfitting', 'tolerate', 'disposal', 'entitled', \"Clayton's\", 'despise', 'gratified', 'becomes', 'rewrite', 'yards', 'officials', 'swam', 'below', 'ebullient', 'Murder', 'Oakes', 'Pont', 'husbands', 'someone', 'exploited', 'frivolous', 'Lipton', 'Chestnut', 'phonograph', 'isotonic', 'reply', 'Highway', 'commercial', 'half-closed', 'contemptuous', 'instructions', 'troopers', 'clouded', 'packet', 'shaken', 'barn', 'crafts', 'frankfurter', 'afraid', 'famed', 'instructive', 'terrace', 'glistening', 'comedy', 'i.d.', 'Cliff', 'discontinued', 'lecture', 'pans', 'odds', 'thirty-four', 'boiled', 'doing', 'robbers', 'groundwork', 'Dipylon', 'hibachi', 'boycott', 'Hoot', 'airports', 'planer', 'soul', 'affected', 'Django', 'mercifully', 'Pohl', 'oaths', \"party's\", 'lift', 'idle', 'faction', 'stops', 'Swim', 'Mityukh', 'emptied', 'Principal', 'black-body', 'hebephrenic', 'sighted', 'enlightening', 'businesses', 'roughcast', 'March', 'discernible', 'prejudice', 'Robbie', 'sinned', 'probed', 'awarding', '$2,000', 'thumb', 'namely', 'listener', 'measures', 'Portago', 'metaphysics', 'Bright', 'Grab', 'beginnings', 'fumbled', 'crouching', 'beauty', \"Greg's\", 'Onset', 'revulsion', 'hitherto', 'formulation', 'inflicted', 'pupil', 'convinced', 'cemetery', 'blend', 'numbering', 'tie', 'comparable', 'scoop', 'embracing', 'evacuation', 'Davidson', 'transfer', 'archaic', 'admitted', 'universities', 'sharp', 'Marr', 'stealth', 'darling', 'mysterious', 'Eternal', 'Trevelyan', 'taxing', 'bandstand', \"We've\", 'Jacqueline', 'different', 'sticking', 'install', 'unambiguous', 'asserts', 'residential', 'real', 'Winchester', '125', 'secede', 'modest', 'Plant', 'Hemus', 'Artists', 'decorations', 'yourself', 'deputies', 'intimacy', 'yard', 'mind', 'facade', 'decrease', 'steal', 'uniform', 'occupancy', 'lurched', 'Dietrich', 'Marx', 'primacy', 'mouthpiece', 'Whenever', 'convince', 'pleasing', 'Darling', 'Melvin', 'Oregon', 'oversimplified', 'driver', 'avocado', 'correlate', 'specializing', 'tell-tale', 'proviso', 'Phillips', 'Lisa', '1883', 'existing', 'lesson', 'Manthey', 'perforated', 'bricklayers', 'A.', 'contour', 'maximizes', 'aroma', 'Levitt', 'tensions', 'prompted', 'venereal', 'enclosed', 'Methods', 'completely', \"Alfred's\", 'Spelman', 'antigen', 'bedtime', 'snuggled', 'free', 'opposed', 'Vienna', 'shotgun', 'weird', 'winter', 'Tumor', 'Interpretation', 'vitally', 'probes', 'terminated', 'repertory', 'minimize', 'depositions', 'Push-Pull', 'vote', 'eighth', 'lore', 'legitimate', 'Theater', 'conserve', 'theirs', 'broods', 'Montero', 'bizarre', 'consideration', 'Gaieties', 'stepwise', 'saddled', 'cocktail', 'Rosenberg', 'membership', 'fondly', 'demonstrate', '90%', 'prairie', 'Force', 'relief', '1920s', 'eighty', '3.15', 'crucifix', 'cough', 'J.', 'Ball', '40%', 'vapor-pressure', 'tender', 'today', 'colossal', 'towards', 'rustic', 'coupled', 'Marketing', 'sidewise', 'interchange', 'engulfed', 'happenings', 'botany', 'domestic', 'tan', 'Too', 'cotton', 'presses', 'for', 'grinning', 'Billy', 'hasten', 'encompass', 'maximum', 'superseded', 'inferiority', 'De', 'Nordmann', 'minutes', 'candidacy', 'opportunities', 'indications', 'replied', 'sinful', 'veranda', 'challenges', 'Summary', 'Greatest', 'products', 'criticism', 'Pezza', 'lots', 'Pops', '98', 'shingles', 'Whitey', 'wedded', 'Moral', 'trunks', 'spoil', 'doctor', 'Denmark', 'fuller', 'limit', 'b', 'rounded', 'contrasts', 'Amendment', 'faintly', 'R', 'clockwise', 'Plastic', 'workbench', 'reluctance', 'microcosm', 'Pauling', 'nursing', 'Szolds', 'independent', 'shift', 'accounted', 'enhance', 'contractor', 'strips', 'Slowly', 'dismal', \"Congress'\", \"aren't\", 'descendants', 'through', 'George', 'conspirators', 'sketches', 'disfigured', 'despite', 'badly', 'rising', 'athlete', \"Francisco's\", 'Judith', 'Communist', 'straw', 'skillfully', 'priced', 'lectures', 'biwa', 'premise', 'shares', 'fit', 'Texas', 'Koehler', 'undisciplined', 'weights', 'excellently', 'Scotty', 'Saledo', 'tricks', 'heaving', '100%', 'apartment', 'S.K.', 'case', 'politeness', '5,000', 'misses', 'persistent', 'Af', 'snatched', 'autopsy', 'pains', 'se', 'Choice', 'shear', 'performs', 'preparative', 'visa', 'tidings', 'Dr.', 'Arms', 'yearly', 'fastened', 'filter', 'template', 'Peralta', 'levers', '1792', 'analytical', 'orchids', 'wailing', \"Wright's\", 'prematurely', 'bayed', 'Every', '$1,500', 'herein', 'electors', 'notice', 'three', 'Berman', 'anacondas', 'half-hour', 'screens', 'Into', 'acquainted', 'unmistakably', 'privacy', 'Abstraction', 'element', 'O', 'Knights', 'tawny', 'versatile', 'cats', 'redcoats', 'rarely', 'plague', 'Evidence', \"Scotty's\", 'eat', 'pretence', 'started', 'Volumes', 'high-energy', 'drama', 'vinegar', 'Controller', 'Stevenson', 'complications', \"12''\", 'placed', 'wrought', 'rules', 'acquaintance', 'tries', 'tap', '1643', 'commercials', \"Respondents'\", 'periodically', 'companions', 'standing', 'sensing', 'reaches', 'ministering', \"Moscow's\", 'alert', 'shocked', 'nation-state', 'involving', 'precinct', 'cloud', 'Rourke', 'distress', 'referring', 'consistent', '24', 'momentarily', 'Gulf', 'umbrella', 'Meynell', 'dining', 'theoretical', 'liking', 'coals', 'misfortune', 'Igbo', 'hammered', 'Experiments', 'Union', 'dangers', 'starved', '1632', 'Mullins', 'framework', 'sonofabitch', 'dispose', 'Chavez', 'embrace', 'Activities', 'Mason', 'loyal', 'prepared', 'Drain', 'warming', 'leads', 'actuality', 'laity', 'drink', 'thyroglobulin', 'yesterday', 'dull', 'inholdings', '1916', 'Loesser', '381', 'barge', 'unlocked', 'embraced', 'course', 'limousine', 'raged', ';', \"Hollywood's\", 'mile', 'flatly', 'constitutional', 'gratifying', 'showcase', 'convert', 'cardboard', 'nations', 'anterior', 'eventual', 'childhood', 'pie', 'adds', 'unlikely', 'communications', 'Mountain', 'rehearsal', 'longed', 'you', 'whereabouts', 'did', 'compare', 'dulled', 'roadway', 'brushes', 'Lord', 'period', 'livres', '13.5', 'Cury', 'filed', 'awakening', 'Reed', 'Anything', 'main', 'Sunnyvale', 'Mile', 'noticed', 'self-evident', 'combines', 'certification', 'graphic', 'Spade', \"else's\", 'essay', 'bulged', 'formulated', 'checked', 'coaxed', 'Mostly', 'snorted', 'belong', 'tonal', 'women', 'optimistic', 'Earl', 'hilum', 'latest', 'Social', 'container', 'securities', 'toad', 'pathological', 'Jefferson', 'speculate', 'scholarly', 'evolution', 'two-day', 'governmental', 'Vientiane', 'bazaar', 'wearily', 'descriptive', 'worries', 'absolutely', 'valve', 'year', 'doubtless', 'puppet', 'Fran', 'scrawny', 'causes', 'Judge', 'foes', 'dangerous', \"I'm\", 'canon', 'antics', 'yours', 'goods', 'legislator', 'voluntarily', 'Hart', 'rpm', 'jockey', 'Twelve', 'thermometer', 'backing', 'jacketed', 'baggage', 'bloom', 'directory', 'Fat', 'provide', 'lurch', 'ballets', 'so-so', 'pp.', 'courageously', 'avoid', 'environments', 'schooling', 'indulged', 'nests', 'Shriver', 'rivalries', 'submarines', 'utility', 'primary', 'Blenheim', 'mounted', 'murdering', 'thirty-six', 'S', 'detrimental', 'sword', 'pretty', \"Ramey's\", 'Hempstead', 'Emergency', 'propped', 'drowned', \"Harper's\", 'jug', 'Turkish', 'witty', 'Siamese', 'speeches', 'unreal', 'punishment', 'Tibet', 'Lo', 'fantasy', 'aperture', 'aloud', 'Rights', 'Berlin', 'absolute', 'goddam', \"Welch's\", 'boarding', 'schema', 'then', 'collaboration', 'mouthful', 'vent', 'entranced', 'detect', 'statesmen', 'Desert', 'Pip', \"president's\", '707', 'Hugh', 'dressed', 'metaphysic', 'idealist', \"You're\", 'councils', 'decreases', 'Democrat', 'rapport', 'recorder', 'DLINE', 'cute', 'amendments', 'walked', 'rags', 'Married', 'African', 'raw', 'antagonist', 'Bern', 'divorce', 'model', 'thing', 'typical', 'fare', 'older', 'Much', 'Song', 'solicitude', 'beckoned', 'Beaverton', 'madrigals', 'mayor', 'unspecified', 'benefit', 'booby', 'willing', 'dismiss', 'escaping', 'unsigned', 'customers', 'coy', 'Martian', 'portion', 'refusal', 'gastrocnemius', 'sketched', 'Czechoslovakia', 'Willings', 'Mama', 'Liston', 'cabins', 'abortion', 'Apaches', 'Stoic', 'importance', 'plausible', 'declare', 'electric', 'wishing', 'bitter', 'Y', 'chapel', 'projection', 'Off', 'unchanged', 'immediately', 'obelisk', 'Calvin', 'capacities', 'King', 'rain', 'And', 'intervened', 'transformed', 'passageway', 'trying', 'sponsor', 'capitalist', 'psychoanalysis', 'Also', 'loans', 'three-dimensional', 'accretion', 'May', 'bow', 'Chickasaws', 'gallant', 'announce', 'juxtaposition', 'Kingston', 'Route', 'Donnay', 'Victor', 'dainty', 'remembers', 'Implementation', 'Lilac', 'desire', 'emerges', 'victim', 'relaxed', 'ponderous', 'Sloan', 'infiltration', 'shearing', 'directed', 'tides', 'demonstrations', 'bonfire', 'stripped', 'scout', 'bludgeon', 'guess', 'Trade', 'score', 'blaze', 'investigations', 'Because', 'Requests', 'deja', 'Alex', 'patron', 'positive', 'furthermore', 'haste', 'Presently', 'ruefully', 'literary', 'Hugo', 'recognizable', 'Detroit', 'Spectra', 'regarded', '1914', 'inflexible', 'absences', 'compassion', 'manipulate', 'bureaucracies', 'criminality', \"'48\", 'deserve', 'dangling', 'idol', 'forbid', 'actually', 'southeast', 'immense', 'proceed', 'mechanic', 'families', 'Blake', \"Rayburn's\", 'dodge', 'detectable', 'furnished', 'Mays', 'irresistible', 'plumbing', 'Barstow', 'terminate', 'conjugated', 'abrupt', 'parasol', 'differentiated', 'everything', 'Likewise', 'farce', 'esthetics', 'blue-green', 'smoking', 'Football', '23d', 'psyllium', 'forum', 'haunting', 'gentle', 'could', 'sadness', 'Alfred', 'vacant', 'Derby', 'ratings', 'Louisville', 'conflicts', 'Seaman', 'Carmer', \"Thor's\", 'gay', 'schoolmaster', 'expenses', 'Arden', 'Radio', 'Ahead', 'attaching', 'officiated', 'cults', 'bold', 'senior', 'coating', 'incarnation', 'McCullough', 'tossing', 'Leesona', 'Hino', 'works', 'Against', 'standardized', 'sinners', 'mountains', 'satisfaction', 'whirling', 'predicament', 'Horse', 'downtown', 'Theological', 'groups', 'divan', 'threading', 'executed', 'emphasized', \"it's\", 'enforced', 'vegetable', 'departed', 'tough', 'billions', 'crawling', 'snap', 'competently', 'Cooper', 'polyphosphates', 'documentary', 'poetic', 'kinship', 'broadly', 'choosing', 'advantage', 'insight', 'CO', 'thereupon', 'arms', 'dynamic', 'cognac', 'burrow', 'ancestral', 'decor', '22nd', 'art', 'nostalgia', 'critic', 'Yugoslavia', 'Their', 'Who', 'solitary', 'matriculated', 'Reports', 'Automobile', 'courage', 'time', 'content', 'pragmatic', 'mentioning', 'insure', 'radicals', 'sought', 'elaborated', 'districts', 'turning', 'Has', 'personally', 'Ben', 'seasoned', 'telegraph', 'celebrate', 'transports', 'curb', 'bedrooms', 'banter', 'phosphate', 'aces', 'strands', \"you'll\", 'strings', 'O.K.', 'exhausting', 'ml', 'Summers', 'Twenties', 'Mines', 'peanut', 'xylem', 'edible', 'splashing', 'thumping', 'Epitaph', 'eleven', \"everybody's\", 'Mar.', 'acclaim', 'gasoline', 'carbine', '1970', 'recognize', 'industrialized', 'forefinger', 'Judson', 'Critical', 'Samuel', 'laundry', 'Fruit', 'sixteenth', 'tapes', 'contradict', 'adopting', 'scheduled', 'wolf', '2d', 'vessels', 'Pedro', 'miserably', 'greatness', 'mashed', 'allegedly', 'amaze', 'linger', 'critters', 'Designs', 'dissatisfied', 'Paper', 'supreme', 'experimenter', 'however', 'varied', 'fewer', 'unscrupulous', 'forming', 'insecurity', 'creativity', 'army', 'impromptu', 'Lower', 'sloppy', 'authorize', 'sophomore', 'caloric', 'sir', 'world', 'assailed', 'Pulling', 'photocathode', 'buying', 'faithfully', 'Except', 'crime', 'specter', 'ketosis', 'wiggled', 'Burma', 'linguist', '81', 'majors', 'Truman', 'Sulzberger', 'accelerometers', 'par', 'bandage', \"Ptolemy's\", 'P.D.I.', 'Arlene', 'provocative', 'dives', 'repetitions', 'hurdle', 'prevents', 'Complete', '1602', 'checks', 'plant', 'ambassador', 'assigning', 'favorable', 'armored', 'Stone', 'combinations', 'token', 'twenty-one', 'bloodstream', 'transpiring', 'Calenda', 'tipped', 'furnishes', 'witnesses', 'stitch', 'allocation', 'Green', 'tightened', 'frontal', 'Budapest', 'Middle', 'encompassed', 'coordinate', 'poise', 'twister', 'subdivision', 'represent', 'outlived', '$20,000', 'Unlike', 'Kelsey', 'Dad', 'drawers', 'everyday', 'staccato', 'shelters', 'affectionately', 'merchandise', 'self-respect', 'louse', 'concurs', 'Top', 'Lou', 'left-hand', '1801', 'breath-taking', 'Whig', 'observations', 'Doolin', 'Plus', 'Failure', 'brothers', 'sufficiently', 'whereas', 'pistols', \"Dartmouth's\", 'Printed', 'Either', 'grains', \"University's\", 'linguists', 'shockingly', 'oxen', 'march', 'subspecies', 'Arch', 'changes', 'Fortunately', 'Sea', 'Hand', 'Sophia', 'move', 'equation', 'changeable', 'vacancy', 'bucket', 'incentive', 'ossification', 'patriot', 'merger', 'exclusion', 'fractions', 'membrane', 'similar', 'drinker', 'dig', 'jewels', 'Albany', 'popped', 'Pike', 'composition', 'already', 'sympathy', 'Writers', 'Byron', 'mobilization', 'Jason', 'neon', 'decree', 'Dirksen', 'culmination', 'Clouds', 'nominated', 'detergent', 'overcoat', 'sprung', \"transferor's\", 'creatures', 'Agreement', 'endearing', 'sprawl', 'appointed', 'pin', 'differential', 'elemental', 'blot', 'attended', 'Lippmann', 'caste', 'honey', 'straightening', 'club', 'voluminous', 'Otis', \"Missouri's\", 'playing', 'maverick', 'Author', \"son's\", 'pip', 'plus', 'Super-Set', 'environs', 'Besides', 'verb', 'wise', \"sheriff's\", 'smaller', 'lofty', 'addicted', 'socialist', 'astonishing', 'cutting', 'luncheon', 'mopped', 'establishments', 'gadfly', 'looks', 'perilously', 'correspondent', 'polish', 'Staten', 'embarrassment', 'Lewisohn', 'boldness', 'Workshop', 'under-achievement', 'formations', 'engages', 'illustrations', 'paralleled', 'Molotov', 'anaconda', 'natures', 'pickup', 'Polaris', 'Breasted', 'ions', 'locales', 'Commodore', 'highest', 'min', 'equal', 'odious', 'football', 'fingers', 'towns', 'tee', 'subtleties', 'Alvarez', 'fairness', 'vents', 'Steinhager', 'Probably', 'sixty', 'muffled', 'LaGuardia', 'self-control', 'Assemblies', 'blond', 'phonology', 'character', 'show', 'Cornell', 'protective', 'newborn', 'reader', 'prefers', 'deduct', 'ionosphere', 'inevitably', 'wiping', 'humble', 'Branch', \"Batista's\", 'Bend', 'tape', 'Belt', 'Girls', 'noon', 'dripping', 'crimson', 'Atty.', 'runway', 'reconsideration', 'registers', 'heated', 'coins', 'annihilation', 'joys', 'Dyer', 'rocket', 'titers', 'premises', 'Rookie', 'provided', 'foibles', 'politely', 'idiosyncrasies', 'peacefully', 'banister', 'heavens', 'visual', 'Manley', 'Delinquency', 'exclude', 'overgrown', 'sweat', 'Crawford', 'privileged', 'declaration', 'drills', 'mercenaries', 'devote', 'lust', 'westerly', 'outfield', 'Deer', \"D'Albert\", 'cackled', 'common', \"manufacturer's\", 'occasion', 'brightest', 'Noel', 'hastened', 'seekers', 'employs', 'glossary', 'outstanding', \"Europe's\", 'radiations', 'fixing', 'portrait', 'triamcinolone', 'Donnybrook', 'withholding', 'gymnasts', 'assures', \"let's\", 'corrupt', 'voted', 'contemplated', 'considerable', 'mates', 'Sales', 'philosophical', 'Raton', 'rewards', 'sandwiches', 'Pratt', 'protozoa', 'election', 'envelopes', 'scraps', 'bitterness', 'pimp', 'us', 'Manager', 'sired', 'follow', 'Treat', 'groupings', 'Justice', 'Draper', 'Move', 'NBC', 'Eromonga', 'donned', 'mountainside', 'mother', 'bachelor', 'watchdog', 'ideological', \"Authority's\", 'fruits', 'Catholic', 'deal', 'feast', 'grew', 'compiler', 'Non-Catholics', 'instituted', 'foams', 'trailer', 'assent', 'commuter', 'trial', 'A.B.', 'reduce', 'moon', 'Champlain', 'fee', 'alternatives', 'affairs', 'thrill', 'devilish', \"afternoon's\", 'blest', 'Merchant', 'chortled', 'Mrs.', 'town', 'taverns', 'attack', \"World's\", 'Vegas', 'deceived', 'diet', 'setting', 'predecessors', 'aims', 'underlying', 'shovel', 'prevented', 'Feb.', 'championship', 'capabilities', 'andrenas', 'choir', 'staggering', 'boulders', 'fares', 'recounts', 'Bombus', '&', 'remained', 'battling', 'applauded', 'controls', 'verse', 'passengers', 'Major', 'assemblage', 'column', 'Athletic', 'refusing', 'uselessly', 'newer', 'homozygous', 'Trig', 'Nursing', 'tilt', 'single-shot', 'bailing', 'elephant', 'evaluation', 'Hays', 'drinks', 'soybean', 'aptitude', 'vintage', 'rockets', 'dominates', 'underside', 'noblest', 'sand', 'stubby', 'reduction', 'analyst', 'Shan', 'waterfront', 'gain', 'fisherman', 'museum', 'revenge', 'Sophocles', 'lumber', 'advancing', 'proficiency', 'coffee', 'dispatched', 'sorghum', 'low-wage', 'Sis', 'Docherty', 'denoting', 'environment', 'spacing', 'Smithfield', 'virtues', 'coolness', 'suggests', 'computation', 'inboard', 'makes', 'tapestry', 'anticipated', 'pull', 'Gertrude', 'postulated', 'f-plane', 'mobilized', 'tracts', 'sternly', 'conduct', 'doses', 'likeness', 'inspiration', 'heat', 'associates', 'experts', 'documents', 'Devil', 'armies', 'high-school', 'Affairs', \"isn't\", 'Jeremiah', 'Doric', 'substantial', \"Where'd\", 'Book', 'Oscar', 'promotes', 'guardian', 'convict', 'looking', '1929', 'balls', '$.07', 'pausing', 'Leave', 'unavoidably', 'Accordingly', 'serenity', 'bliss', 'state', 'Wallace', 'strengthen', 'throats', 'compounds', 'sentence', \"Thomas'\", 'determined', 'hung', 'Suddenly', 'community', 'satisfactory', 'equitable', 'recovered', 'Garth', 'forfeit', 'non-military', 'meantime', 'drizzle', 'scanty', 'contraction', 'roulette', 'Hickory', 'carriers', 'truthfully', 'universally', 'allusion', 'olive', 'audacity', 'mid-June', 'mid-twentieth', 'some', 'bouts', 'pound', 'Holden', 'broad', 'explains', 'RCA', 'surveyor', 'Rayburn', 'wastes', 'basket', 'throbbed', 'biting', 'tang', 'corresponded', 'bel', 'disappeared', 'staying', 'desegregated', '-', 'adventures', 'note', 'libraries', 'servants', 'stub', 'lamplight', 'Arp', 'Biological', 'Riverside', 'extraction', 'Labor', 'Drew', 'Harrington', 'tultul', 'demythologization', 'Royal', '1948', 'deciding', 'unlock', 'optimality', 'Down', 'lane', 'Forerunner', 'inward', 'Nadine', 'cabin', 'smoke', 'Frenchman', 'grimace', 'educating', '368(a)(1)', 'expected', 'pictorial', 'sentiment', 'Protogeometric', 'increase', 'agility', 'Let', 'earn', 'substrate', 'gate', 'woods', 'Poetry', 'docile', 'strolled', 'Esther', 'swore', 'give', 'Longue', 'intend', 'counting', 'Pathet', 'fortunes', 'thicknesses', 'monitoring', 'Poynting-Robertson', 'Garcia', \"Andy's\", 'inquest', 'passenger', 'Latin', 'greeted', 'Geely', 'onto', 'objectionable', 'laborer', 'strenuous', 'high-priced', 'Coward', 'compelled', 'hath', 'listened', 'accelerator', 'Goddamn', 'fervor', 'packages', 'Berger', 'Shoup', 'Are', 'Selena', 'deceased', 'Temple', 'at', 'pantheon', 'identification', 'Elliott', 'rent', 'payday', 'bite', 'yet', 'Flying', 'handbag', 'Throat', 'parasympathetic', 'leaf', 'expanse', 'Clara', 'grant-in-aid', 'crept', 'generality', 'futile', 'redemption', 'formidable', 'Sinner', 'fold', 'three-year', 'Review', 'hurried', 'fees', \"They'd\", 'elder', 'Hollywood', 'purification', 'clues', 'Ferry', 'tubs', 'mischievous', 'hated', 'Past', 'prescribe', 'Di', 'demographic', 'sort', 'clients', 'Post', 'lean', 'Co.', 'Y.', 'Creighton', 'adept', 'withstood', 'chore', \"1''\", 'eyebrows', 'add', 'replies', 'merging', 'Joel', 'strongly', 'day-by-day', 'forgetting', 'throwing', 'same', 'vice-president', 'Glass', 'outbursts', 'psychologist', 'groundwave', 'darted', 'myocardial', 'anti-French', 'Alastor', 'field', 'specimen', 'Juniors', 'garden', 'powerless', 'shreds', \"'im\", 'Adam', 'chewed', 'viewed', 'shuddered', 'polyether', 'distrust', 'meteors', 'find', 'AID', 'neuroses', 'Or', 'Katie', 'frequency', 'township', 'giants', 'Iraq', 'arousal', 'sensational', 'Oct.', 'Universe', 'owns', 'kwhr', 'dined', 'appropriate', 'chosen', 'librarians', \"detective's\", 'discipline', 'Meek', 'desegregation', 'indication', 'Honor', 'caliber', 'Daniel', 'antipathy', 'directional', 'forest', 'while', 'jam', 'basement', 'cinch', \"Izaak's\", 'Manual', 'minimal', 'imperial', 'gods', 'have', 'Monet', 'unskilled', 'world-renowned', 'vocabulary', 'git', 'without', 'Kitti', 'worship', 'particle', 'restoring', 'centered', 'Diversified', 'hail', \"Dealers'\", 'Hamlet', 'swell', 'displacement', '**yf', 'Congressman', 'swings', 'tire', 'removed', 'Would', 'yelled', 'weaker', 'Leg', 'Justinian', 'clutched', 'air', 'transportation', 'vice', 'lbs.', 'secret', 'retired', 'antithyroid', 'allowable', 'transact', 'circles', 'pretext', 'Counsel', 'probability', 'banks', 'garment', 'bones', 'profit-maximizing', 'subspace', 'Payne', 'Lloyd', 'away', 'Pam', 'arrived', 'mules', 'Lester', 'Perdido', 'clearly', 'pure', 'guaranteed', 'bargain', 'logic', 'Directions', 'Pierce', 'cleverness', 'confirmation', 'nutrition', 'peeled', 'Simon', 'lush', 'buffered', 'Quaker', \"1920's\", 'vines', 'discussion', 'assignments', 'traditions', 'boiling', 'framed', 'modes', 'splendidly', 'schoolroom', 'ionic', 'swooped', 'Election', 'approached', 'Marion', 'spatial', 'actress', 'sauce', 'Office', 'anti-slavery', 'slick', 'Bay', 'differences', 'sterilization', 'butter', 'Maid', 'collapse', 'ghettos', 'macro-instructions', 'knit', 'dived', 'wheeled', 'omitted', 'Rooney', 'congregation', 'containing', 'truth', 'crystal', 'shareholders', 'COAHR', 'Done', 'costume', 'lobby', 'resent', 'matter', 'hunch', 'accommodate', 'wings', 'Bldg.', '1906', 'narrows', 'average', 'climbing', 'demoralize', 'Hood', 'Beauclerk', 'Ukrainian', 'Hawthorne', 'Roberts', 'helpless', 'behavioral', 'sampling', 'hopefully', 'oxygens', 'Band', 'Gentile-Jewish', 'concluding', 'Internal', 'during', 'Johns', '11th', 'thousandth', 'fantasies', 'negative', 'semester', 'windowless', 'irradiation', 'Microscopic', 'off-duty', 'down-to-earth', 'latter', 'substitutes', 'governor', 'map', 'victory', 'interpretation', 'justified', 'informal', 'berry', 'powerfully', 'palazzo', 'non-violence', 'Civic', 'black', '$125', 'Point', 'saved', 'thermometry', 'hazardous', 'panels', 'compete', 'subjugation', 'Yeah', 'perfecting', 'firms', 'unconscious', 'excerpt', 'supposed', \"'round\", 'inquire', 'Rd.', 'accord', 'counsel', 'locust', 'Eddie', 'advisors', \"artists'\", 'grownups', 'smallest', 'ensuing', 'citizens', 'endlessly', 'moss', 'appeasement', 'exception', 'draw', 'Registry', 'compensatory', 'inferred', 'Bourcier', 'wretched', 'continental', 'set', 'Five', 'Previously', \"arm's\", 'cage', 'bleakly', 'amazingly', 'religion', 'scales', 'old-time', 'study', 'Motive', 'Donna', 'queer', 'Israeli', 'explanation', 'psychological', 'hanged', 'curious', 'lullaby', 'somber', 'dissatisfaction', 'soggy', \"Miami's\", 'Reid', 'sportsman', 'counted', 'Honotassa', 'enforcement', 'financial', 'save', 'athletic', 'Australian', 'Especially', 'gasket', 'daylight', 'Shires', 'Operations', 'septa', 'Einstein', 'balancing', 'birds', 'salesmanship', 'due', 'short-run', 'succeeding', 'scrubbing', 'Provided', 'Does', 'undertook', 'except', 'indelible', 'cocoon', 'azaleas', 'catalogue', 'Guild', 'congruent', 'knack', 'Word', 'Bernard', \"han'\", 'treaties', 'occupied', 'wired', 'Marvin', 'counter', \"Wells's\", 'stalwart', 'affirmative', 'repetition', 'interface', 'Persian', 'no', 'lessons', 'loot', 'puzzles', 'The', 'Gas', 'consist', '1936', 'married', 'sponsoring', 'loyalty', 'suggestion', 'retinal', 'hollering', 'curving', 'doubles', 'devoted', 'stressing', 'undertake', 'aptly', 'discriminating', 'planting', 'spends', 'passionately', 'hope', 'Shreveport', 'specification', 'long', 'leaders', 'accelerometer', 'Nation', 'remainder', 'central', 'landing', 'affixed', 'tenacity', 'Lew', 'Piano', 'folklore', 'brigadier', 'camper', 'in.', 'nozzles', 'ineligible', \"You've\", 'drift', 'pools', 'skill', 'graying', 'seeming', 'Eighty-Four', 'jejunum', 'softer', 'frank', 'buffet', 'rancor', 'Alsatian', 'Acting', 'illegitimate', 'co-optation', 'directors', 'Liberals', 'Bradley', 'Ruanda-Urundi', 'vegetables', 'heroine', 'gonna', 'newt', 'meteorite', 'leading', 'activities', 'Calif.', 'say', 'Capital', 'parties', 'gifts', 'holstered', 'sports', 'Stay', 'rosy', 'crammed', 'trick', 'housekeeping', 'Berle', 'abandon', 'agglomeration', 'domination', 'Operating', 'cows', 'assimilated', 'Aeschylus', 'believing', 'practices', 'DuPont', 'jagged', 'stamping', 'ration', 'metropolis', 'dimensional', 'extensive', 'demography', 'disapproved', 'arena', 'reassemble', 'maximization', 'Utopian', 'twists', 'neutrality', 'misled', 'aggregate', 'educators', 'spotlight', 'dimensioning', 'Gursel', 'rectangular', 'hawk', 'wet', 'slob', 'subsidize', 'Houghton', 'Trenton', 'arouse', 'tribe', 'testament', 'Oh', 'None', 'Belgian', 'decreased', 'vagina', 'starvation', 'chapters', 'memorandum', 'clientele', 'lamps', 'indeterminate', 'arise', 'conscience', 'fathers', 'Blatz', 'crossroads', 'courts', 'license', 'twenties', 'mentality', 'expectation', 'best', 'trimmings', '20th', 'rebelliously', 'Steichen', 'Harpers', 'fan', 'delicacy', 'sexuality', 'rosebuds', 'standby', 'Phil', 'primitive', 'fiber-coupled', 'Be', 'waiters', 'incipient', 'marksmanship', 'religions', 'parishioners', 'perilous', 'Individual', 'acids', 'explained', 'bats', 'scours', 'Camaret', 'Feathertop', 'consent', 'usable', 'distributors', 'known', 'managing', 'dug', 'rats', 'guitar', 'nevertheless', 'rains', 'Sept.', 'Rose', \"Knife's\", 'whom', 'Bosis', 'taxable', 'nonexistent', 'Prompt', 'Farouk', 'segregated', 'Florence', 'handwriting', 'invitation', 'muddy', 'allegiance', 'Man', 'accurate', 'predictable', 'journals', 'survive', 'rival', 'church', 'honored', 'compensations', 'A.M.A.', 'stamps', 'panorama', 'scanning', 'dangerously', 'Possibly', 'Thor', 'professed', 'voyageurs', 'plans', 'Francis', 'ceramic', 'Tories', 'rubbing', 'dresses', 'unhappy', 'joyous', 'conquest', 'Sons', 'forms', 'pose', 'When', 'quarreling', 'dampened', 'Sources', 'Ireland', '40,000', 'instrumentalists', '21st', 'contains', 'choke', 'masonry', 'earnings', 'eighteen', 'microorganisms', 'wrists', 'gazing', 'looting', 'race-drivers', 'decks', 'fame', 'graphite', 'Newman', 'monk', 'ballistic', 'prosecuted', 'loathed', 'biographical', 'discouraging', 'manufacturing', 'All', 'Soak', 'practiced', 'Pictures', 'thankful', 'alternatively', 'Van', \"devil's\", 'freeways', 'conforms', 'anti-A', 'Call', 'earnestly', 'happens', \"Snow's\", 'represented', 'cancer', 'comforting', 'roll', 'striving', 'ozone', 'Edward', 'hopping', \"Morgan's\", \"body's\", 'Inventory', 'derivation', 'Estella', 'mix', 'Pastern', 'Midway', 'accented', 'doctrinal', 'trot', 'speaking', 'times', 'adversely', 'Mass', 'Hawk', 'texture', 'ridiculous', 'circumspect', 'notes', 'Guideposts', 'smart', 'advances', 'Myers', 'cushioning', 'NCTA', 'possessive', 'host', 'fists', 'skirmish', 'Kennedy', 'sera', 'Neitzbohr', 'Marmara', 'shoulder', 'Division', 'seems', 'store', 'outpost', 'Same', 'Fogg', 'Express', 'mortality', 'registration', 'contemplate', 'hopelessly', 'Marble', 'G', 'blackened', 'huddled', 'Members', 'Cadillac', 'abdominal', 'procured', 'idiom', 'Ratcliff', 'Sox', \"Sloan's\", 'alliance', 'spectacle', 'recreation', 'Corps', 'lot', 'thrust-to-weight', 'transforms', 'rode', 'yesteryear', 'persuaded', 'Elaine', 'tripod', 'inroads', 'rooms', 'universe', 'intensities', 'businessman', 'stratum', 'Chiefs', 'film', 'motif', 'Palazzo', 'pulley', 'trading', 'recapture', 'Worthy', 'Stalin', 'Egyptian', 'grape-arbor', 'near', 'du', 'suspended', 'ill-conceived', 'wanting', 'urges', 'bulwark', 'glance', 'computing', 'commence', 'Boyd', 'collection', 'avenue', 'Day', 'transpiration', 'Batavia', 'grasshoppers', 'plumb', 'overseas', 'Lunge', 'secular', 'units', 'ability', 'soprano', 'Incidentally', 'commentary', 'divinities', 'workable', 'bluff', 'definite', 'Educational', 'beats', 'countenance', 'Graham', 'plug', 'Dorset', 'vowed', 'fits', 'prone', 'continuous', 'congratulated', 'efficiencies', 'Gonzales', 'aliens', 'movements', 'Considering', 'swarming', 'hears', 'Often', 'helped', 'volumes', 'boyhood', 'sodium', 'integrated', 'immorality', 'drug', '1900', 'sweetly', 'Met', 'humiliation', 'drunks', 'spots', 'mistress', 'Herbert', 'anchored', 'weaving', 'banished', 'Ala.', 'mount', 'courting', 'alveolar', 'widen', 'picks', 'al', 'populations', 'Uh-huh', '1898', 'eagle', 'choppy', 'joined', 'piazza', 'Half', 'ultimatum', 'enlarge', 'screws', 'Frederick', 'agents', 'Boats', 'Limited', 'Boundary', 'lacking', 'Revolution', 'marinas', 'nonverbal', 'emphatically', 'Norton', 'Almagest', 'deficit', 'atrophic', 'finality', 'understatement', 'clinging', 'tucked', 'identities', 'findings', \"Fromm's\", 'inquiries', 'player', 'communication', 'morale', 'lifters', 'rapid', 'humming', 'diaphragm', 'mysteries', 'locality', 'slender', 'greatest', 'Northern', 'broaden', 'differ', 'progresses', 'festival', 'interfacial', 'rake', 'thirteen', 'Opportunities', 'Plenty', 'academy', 'pistol', 'watching', 'elect', 'Desegregation', 'solutions', 'Treasury', 'Virginia', 'flash', 'Nations', 'Sounion', 'one-man', 'far', 'activated', 'Oriental', 'lawmakers', 'announces', 'discrepancy', 'communicate', 'spinning', 'Grady', 'Sibylla', 'repudiation', 'Engineering', 'auditorium', 'Garryowen', 'radiator', 'Molesworth', 'Orioles', 'act', 'fascinated', 'heavenly', 'broader', 'brought', 'adequate', 'retreating', 'boxes', 'Worth', 'Tunisia', 'speaker', 'active', 'turret', 'Freddy', 'boundary', 'plank', 'co-operation', \"janitors'\", 'sensitivity', 'conventions', 'Harvie', 'Stubblefields', 'contented', 'Listen', 'withdrawn', 'interchangeable', 'life', 'chairmen', 'guerrilla', 'scholarship', 'facts', 'dialed', 'slightest', 'wallpaper', 'margins', 'understandingly', 'exaggerating', 'dictionary', 'arithmetic', 'coupler', 'self-examination', 'Forbes', 'thanks', 'vibrant', 'self-consciousness', 'fiery', 'animated', 'suggestibility', 'Golf', 'Princess', 'pavement', 'effectively', 'persistence', 'Guess', 'courses', 'System', 'fled', \"week's\", 'withheld', 'lousy', 'Columbia', 'autonomy', 'persecuted', 'worthy', 'numb', 'Drexel', 'tempo', 'trip', 'arrangement', 'disk', 'Parkersburg', 'consists', 'finite-dimensional', 'weary', 'wildcat', 'Baseball', 'blocked', 'really', 'vicar', 'vivid', 'Cubist', 'coughing', 'Stark', 'grandmother', 'chances', 'literate', 'President', 'needles', 'rustle', 'Welfare', 'pitchers', 'views', 'resultant', 'Bancroft', 'bequest', 'subsystems', 'retrograde', 'manually', 'village', 'obeying', 'Catskill', 'occasions', 'expression', 'poems', 'conservatism', 'Antonio', 'Divine', 'Gov.', 'typed', 'capitals', 'Cutting', 'plagued', \"'em\", 'mills', 'favoritism', 'history', 'edited', 'Tex.', 'Allies', 'Gabrielle', \"Mike's\", 'Foster', 'stress', 'breed', 'specificity', 'polite', 'loveliest', 'Catherine', '$14', 'fixed', 'sectors', 'furious', 'indigenous', 'coatings', 'Development', 'disconcerting', 'master', 'sailors', 'aunt', 'prevention', 'example', 'Increasing', 'Canyon', 'treasures', 'Fountain', 'Lines', 'cease', 'disobedience', 'Algol', 'China', 'rotunda', \"navy's\", 'Academy', 'exile', 'Gallery', '.', 'therapeutic', 'Primary', 'discharge', 'agenda', 'Meredith', 'brisk', 'allegorical', 'grenades', 'admit', 'embraces', 'fortified', 'bandages', 'pulsating', 'luxurious', 'hairy', 'Upper', 'nonfiction', 'ensembles', 'mechanization', 'result', 'though', 'supports', 'Restoration', 'Ierulli', 'Venice', 'seized', \"sun's\", 'positivist', 'Catt', 'supremacy', 'horns', 'incomparably', 'annoying', 'witches', 'disrupted', 'dogmatism', 'shone', 'leveling', 'serving', 'magistrate', 'Bailey', 'revel', 'designation', 'cheaply', 'Gerry', 'loveliness', 'murmured', 'loudest', 'will', 'Despite', \"Wilson's\", 'electrostatic', 'Energy', 'fascinating', 'considers', 'Alec', 'allied', 'fugitive', 'shocking', 'Town', 'patrolling', 'Pirates', 'Valley', 'Player', 'poetry-and-jazz', 'branch', 'startlingly', 'cannot', 'colonialism', 'felicity', 'seams', 'makings', 'precocious', 'carcass', \"Sweden's\", 'Mr.', 'recall', 'grocery', 'fateful', 'suspicions', 'questions', 'networks', 'inverted', 'satisfying', 'invaded', 'Voice', 'blinked', 'pas', 'rays', 'blackness', 'sly', 'picked', 'vein', 'cable', 'suspects', 'catastrophe', 'thrust', 'milestone', 'Count', 'shaky', 'ancient', 'interdependence', 'vacationing', 'transcribed', 'order', 'preparations', 'panting', 'Beech', 'regulations', 'domain', 'impeccable', 'Diane', 'surreptitiously', 'right', 'Ah', 'grimly', 'stimulus', 'Mae', 'prayer', 'nicely', 'traveled', 'Diego', 'stone', 'expecting', 'frankly', 'tektites', 'deck', 'delights', 'Conant', 'insuring', 'inventors', \"London's\", 'hydrolysis', 'consummated', 'porous', 'tended', 'temperatures', 'eliminated', 'awesome', 'featuring', 'compositions', 'Cooke', 'struggles', 'mattered', 'vine', 'Constitutions', 'bucks', 'launched', 'suited', 'thump', 'Hub', 'creaked', 'Chandler', 'hobbies', 'whispering', 'respiratory', 'Reply', 'grotesque', 'Steinberg', 'Magdalene', 'Murtaugh', 'old', 'warlike', 'one', 'queen', 'Times', 'sergeant', \"Throat's\", 'shaving', 'ages', 'completes', 'literally', 'Tuttle', 'reflexes', 'huh', 'drab', 'vinyl', 'implies', 'Schwartz', 'timber', 'bombers', '7-2', 'numerous', 'e.g.', 'slamming', 'triggered', \"secretary's\", 'Developments', 'neutralized', 'staining', 'holds', 'hardship', 'kittens', 'Grover', 'Musmanno', 'Could', \"Schubert's\", 'cooperative', 'symbolic', 'flashing', 'office', 'jails', 'fearful', 'distributor', 'handed', 'municipalities', 'centennial', 'Egyptians', 'nut', 'Southerners', 'conservation', 'water', 'build', 'Ariadne', 'Gregg', 'devotion', 'angel', 'pipes', 'seemed', 'desirable', \"Doaty's\", 'recipients', 'royalty', 'attacked', 'logistics', 'Zion', 'Fourteen', 'Menshikov', 'Appeals', 'guards', 'Easter', 'induce', 'blanks', 'gospel', 'behold', 'chorus', 'awful', 'Vale', 'wardrobe', 'pedigree', 'cohesion', 'publicized', 'medals', 'administrative', 'immortal', 'connoisseur', 'reality', 'sublime', 'Nobel', 'unending', 'frieze', 'fifteen', '0.1', 'youthful', 'smooth', 'Quite', 'Farrell', 'storage', 'neglected', 'villain', 'tethered', 'hinted', 'deserved', 'freckles', 'stables', 'ills', 'hr.', 'bundle', 'bloody', 'animosity', 'forty-seven', 'momentary', 'attachments', 'immaculate', 'July', '$700', 'Southerner', 'grammatical', 'shadowed', 'bookkeeping', 'Official', 'prosecution', 'negligible', 'innocently', 'astray', 'Byzantine', 'estimated', 'berated', 'domes', 'redder', 'theaters', 'friezes', 'United', 'layman', 'belched', 'implications', 'Congregationalists', 'lobes', 'upheld', 'adults', 'lenses', 'regretted', 'flew', 'violent', 'fuel', 'start', 'navy', 'Appeal', 'Dwyer', 'adjournment', 'implicit', 'generates', 'handles', 'Huntley', 'Signora', 'natural', 'research-staff', 'approximations', 'dazed', 'subgroups', 'Mainland', 'sown', 'equate', 'limited', 'boom', 'Philippines', '1834', 'receive', 'workshops', 'Purchase', 'abstraction', 'snow', 'Jackie', 'possession', 'intentions', 'competitors', 'Italy', 'uniqueness', 'bedding', 'nominee', 'seal', 'belongings', 'religious', 'Unless', 'lace', 'Vandiver', 'technology', 'unnecessarily', 'Polo', 'observation', 'squares', 'over', 'nonspecifically', 'based', 'cheap', 'Singing', 'absurd', 'elicit', 'soldiers', 'Serenissimus', 'Gentile', 'grapes', 'Charlotte', 'tendencies', 'recriminations', 'closer', 'Thinking', 'grin', 'heredity', 'pouring', 'Orthodox', 'systematically', 'covenant', 'interlocking', 'overtures', 'ink', 'difference', 'Number', 'displays', 'Palace', 'Tuesday', 'bluffs', 'delivering', 'primeval', 'cylindrical', 'dreamed', 'overhaul', 'Pelham', 'Elbow', 'turbulent', 'reporters', 'finals', 'completing', 'Chester', 'Broadway', \"Morse's\", 'floc', 'lever-action', 'rather', 'verbal', 'blame', 'memorized', 'Leo', 'hotels', 'subconsciously', 'formation', 'prejudiced', 'individualist', 'declining', 'introducing', 'spouted', 'pizza', 'port', 'usually', 'boast', 'calculating', 'damned', 'Switzerland', 'home', 'segregation', 'produced', 'correctness', 'Tom', 'our', 'boards', 'Throneberry', 'golfer', 'Vatican', 'proclaiming', 'Pilgrimage', 'molded', 'Communists', 'bravely', \"Earth's\", '1611', 'adjunct', 'variability', 'newspaper', 'beard', 'Geometric', 'Gordin', 'Vicksburg', 'vaults', \"kid's\", 'Israel', 'Drug', 'ambulance', \"Potemkin's\", 'written', 'Birds', 'Elisabeth', 'actual', 'hundreds', 'Made', 'Henri', 'reliable', 'blowing', 'staring', 'bee', 'atom', 'statistics', 'seas', 'Julie', 'previously', 'shooter', 'Anybody', 'Spirito', 'fundamentally', 'plastic', 'pertinent', 'Targo', 'brocade', 'compulsively', 'livestock', 'inheritance', 'Electronic', 'pelvic', 'cluster', 'rug', 'hypothetical', 'contemporary', 'point', 'November', 'grouping', 'monei', 'tangency', 'No.', 'rebuilding', 'Born', 'shiver', 'indefinitely', 'Churchill', 'requiring', 'crouched', \"Mann's\", 'bull', 'custom', 'maturing', 'hr', 'delegate', 'grants-in-aid', 'razor', 'stumps', 'caused', 'Wilson', 'engineers', 'and', 'celebrity', 'Arithmetic', 'Caroli', 'aggressiveness', 'wheels', 'autumn', 'poking', 'Tension', 'youngster', 'serial', 'sincere', 'demand', 'distant', 'contemplating', 'Out', 'circuit', 'entourage', 'fur', 'apparatus', 'remark', 'linkage', 'Superior', 'Somers', 'frontier', 'Lumpe', 'Special', 'fake', 'kissing', 'fuse', 'skeletal', 'blown', 'virgin', 'professions', 'services', 'octagonal', 'despised', 'cited', 'constant', 'Equally', 'Arbuckle', 'subsidized', 'Duncan', 'aroused', 'procession', 'unexpected', 'rice', 'defective', 'vistas', 'procure', 'Warwick', 'Feeley', 'artistically', 'banquet', 'typhus', 'Faced', 'tremble', 'gas', 'Australia', \"season's\", \"Rourke's\", 'submitting', 'planners', 'argon', 'Sports', 'soothing', 'meat', 'Above', 'brace', 'sun', 'obtained', 'distillation', 'shakers', 'resuming', 'lawyer', \"Virginia's\", 'gazed', 'Okay', 'rid', 'needs', 'selection', 'dragging', 'kitchens', 'joke', 'BOD', 'Hill', 'rainy', 'vending', 'negotiated', 'softened', 'lack', 'Violet', 'attorneys', 'rents', 'eh', 'proverb', 'Letter', 'ditties', 'Drs.', 'one-third', 'Henderson', 'Marin', 'Kahler', 'glamour', 'lowered', 'retracted', 'garments', 'Symposium', 'instructed', 'uninterrupted', 'Parliament', 'stereo', 'before', 'realized', 'blossom', 'colonies', 'half-dozen', 'afternoons', 'irradiated', 'Af-fold', 'Minneapolis', 'criticize', 'calculate', 'civilization', 'clock', 'stare', 'artillery', 'dignity', 'catching', 'address', \"There's\", 'Katherine', 'opposing', 'Home', 'tours', 'peasants', 'Nara', 'roiling', 'top', 'feats', 'Cattle', 'rack', 'fibers', 'afternoon', 'slam', 'pike', 'lest', 'Alexandria', 'unexplored', 'plush', 'x-ray', 'manufacturer', 'occupies', 'confidential', 'regular', 'spelling', 'buffer', 'fearing', 'fail', 'embroidered', 'countrymen', 'assembling', 'belongs', 'amplitude', 'spirited', 'garlic', 'distribution', 'Nancy', 'forthcoming', 'maple', 'births', '1922', 'drunkards', 'carpets', 'tolerant', 'popping', 'lags', 'hardtack', 'bank', 'locking', 'recognition', 'rebuff', 'analysis', 'solids', 'culminates', 'ass', 'depict', 'upper', 'mused', 'tomato', 'squarely', 'disregard', 'supermarkets', 'felt', 'nitrogen', 'Input/Output', 'Clean', 'respects', 'anode', '3%', 'bread', 'distribute', 'Concerning', 'shrink', 'landlord', '1.0', 'mixtures', 'stronghold', 'regulation', 'pan', 'nest', 'presidents', 'forehead', 'expert', 'stripe', 'law', 'questionable', 'hey', 'learning', 'telegraphic', 'Forgive', 'insights', 'beheld', 'alien', 'nineteenth', 'Hemisphere', 'speechless', 'Decca', 'directives', 'arm-elevation', 'surveying', 'personalities', 'jargon', 'Bishop', 'Phouma', 'compensate', 'stiffly', '$85', 'painted', '27', 'irrespective', 'rifleman', 'Portuguese', 'untrammeled', 'layer', 'cost', 'shovels', 'unto', 'pastry', 'Burlington', 'supplemented', 'forecasts', 'seven', \"Adams'\", 'veteran', 'hollow', 'Evelyn', 'paneling', '1.5', 'chaotic', 'marina', 'hauling', 'atmospheric', 'clarification', 'marketable', 'esoteric', 'organic', 'locker', 'bunker', 'traps', 'Redevelopment', 'Greville', 'Simultaneously', 'Capitol', 'sons', 'interviewed', 'biblical', 'sake', 'Coolidge', 'eight', 'tapped', 'caring', 'B', 'vigor', 'continuum', 'differentiable', 'play', 'Eastern', 'front', 'communal', 'intense', 'mask', 'tenor', 'metaphysical', 'lint', 'constancy', 'Loomis', 'doubling', 'ineffective', 'addition', 'revolving', 'retreat', 'bloc', 'Father', 'Hole', 'Stratton', 'control', 'pig', 'exchanging', 'Lena', 'equivalents', 'sovereign', 'mist', 'Sapio', 'socio-economic', 'folly', 'Catholicism', 'those', 'recovery', 'chart', 'condensed', 'assassination', 'tragedy', 'races', 'knocked', 'entertainers', 'airport', 'differentiation', 'rattling', 'pretended', 'gag', 'sentimental', 'plumpness', 'courteous', 'harmony', 'Republic', 'lithe', 'dime', 'controversial', 'mammals', '4-H', 'age', 'regulating', 'Alabama', 'distinguishable', 'appraise', 'undone', 'arches', 'pipeline', 'Parenthood', 'dislike', 'endogamy', 'Swadesh', 'Anne', 'unusually', 'penniless', 'fun', 'praise', 'Pasadena', 'arcs', 'pulling', 'anniversary', 'maximal', 'rude', 'ultrasonic', 'ministries', 'north', 'Fig.', 'camping', 'sat', 'Parkhouse', 'carries', 'Theoretical', 'fluorescent', 'Title', 'potassium', 'catalogued', 'laughs', 'Salem', 'festivities', 'Shall', 'traditionally', 'advantages', 'rough', 'pillage', 'simpler', 'cancel', 'Easy', 'entertained', 'maintain', 'wryly', 'combined', 'Dynafac', 'probing', 'murderer', 'Production', 'face', 'pioneered', 'republic', 'furnishings', 'They', 'prohibiting', 'regions', 'co-operate', 'not', 'Holmes', 'eventually', 'Florida', 'crops', 'opinion', 'conceptions', 'accentuated', 'sincerity', 'capable', 'amply', 'housewife', 'sprinkled', 'chap.', 'irreconcilable', 'pronouns', 'crosses', 'Bascom', 'gregarious', 'council', 'assistance', 'line', 'Christ', 'tangible', 'efficient', 'strangers', 'humility', 'motel', 'shoulders', 'Rider', 'bondage', 'wide-ranging', 'strive', 'Agreeable', 'concentrated', 'pronoun', 'tiger', 'multiplied', 'else', 'indirectly', 'secure', 'Part-time', 'crown', 'Taoism', 'singled', 'self-determination', 'winced', 'fulfilled', 'constructive', 'morally', 'accomplished', 'blanket', 'Carraway', 'serene', 'designers', '3-1/2', 'golden', 'lime', 'funds', 'Seated', 'regional', 'prescription', 'Cuban', 'Palmer', 'distinguished', 'resistance', 'rods', 'labor-management', 'farm', \"Smith's\", 'Skyline', 'murder', 'sunburn', 'propulsion', 'As', 'lecturer', 'ardor', '23rd', 'Compson', 'kicking', 'rhythm', 'superiority', 'authoritarian', 'galvanizing', 'explored', 'Tommy', 'Telephone', 'Cox', 'diagnosis', 'owned', 'positions', 'execute', 'intermittent', 'spheres', 'calibrated', 'Fritzie', 'disunity', 'tapping', 'Provinces', 'a', 'trap', 'three-part', 'kitchen', 'situated', 'Tropic', 'stairs', 'Wall', 'pacers', 'outback', 'sheds', 'votes', 'toe', 'minus', 'involves', 'Spurdle', 'revamped', 'rapidly', 'Waco', 'lance', 'reflectors', 'rationalize', 'containers', 'refused', 'Trinity', 'poetry', 'bitterly', 'wonders', 'solicitor', 'lightweight', \"Mercer's\", 'others', 'clearance', 'tenderly', 'annoyance', 'corporations', 'please', 'inauguration', 'sanctity', 'Larson', 'penny', 'reminiscent', 'good', 'deplores', 'appeal', 'cure', 'AIA', 'Remarks', 'present-day', 'Conversely', 'liberality', 'Mijbil', 'sweeping', 'accompaniment', 'outweighed', 'imagination', 'homogeneity', 'imperative', 'priorities', 'iron', 'Rogers', 'sportswriter', 'ambitious', 'reactants', 'wholly', 'attached', 'mint', 'identified', 'Topography', 'ft.', 'Acey', 'bravery', '?', 'scream', 'loosely', 'cooperatives', 'rail', 'pungent', 'Crosby', \"Here's\", 'regained', 'tightly', 'programing', 'arcade', 'County', 'mixture', 'bedroom', 'stressed', 'gal', 'bravado', 'Richmond', 'guarantees', 'capability', 'chronology', 'attained', 'disturbed', 'Reef', 'Napoleon', 'sorrow', 'withdrawal', 'Mountains', 'Thoughts', 'upsets', 'watershed', 'created', 'incestuous', 'peninsula', 'dessert', 'abandoning', 'Hundreds', 'hat', 'Otherwise', 'novelty', 'strengths', 'surface', \"Ma'am\", 'Nakamura', 'betrayed', 'limiting', 'cafe', 'thin', 'preserving', 'Lonsdale', 'inlets', 'Rudolph', 'tumbling', 'ache', 'upholstery', 'busy', \"car's\", 'shelter', 'dominance', 'Electrical', 'downhill', 'allowing', 'uncommitted', 'Squatting', 'clusters', 'urethane', \"yesterday's\", 'gulped', 'morphophonemics', 'Walt', 'spans', 'exaggeration', 'awhile', 'suit', \"You'd\", 'previous', 'fog', 'Souvanna', 'deference', 'specialties', \"Jonathan's\", 'speak', 'shiny', 'reminds', 'Damn', 'determining', \"Foundation's\", 'computed', 'loadings', 'complexity', 'exquisite', 'Younger', 'picket', 'eating', 'trill', 'mound', 'by-product', 'compelling', 'transition', 'gallantry', 'bend', 'Rockies', 'determination', 'butted', 'slightly', 'Jessica', 'individualism', 'bathing', 'salute', 'tempted', 'diffusion', 'place-kicking', '1926', 'I.', '2000', \"Penny's\", 'Widow', 'weapon', 'financially', 'rape', 'discontent', 'attrition', 'Specifications', \"girl's\", 'boxcar', 'Noting', 'drafts', 'Carnegie', 'negotiation', 'label', 'By', 'Paris', 'statewide', 'Treatment', 'trunk', 'alumni', 'normal', 'preferable', 'assurance', 'males', 'whip', 'task', 'und', 'ashamed', 'went', 'trees', 'resin', 'eroded', 'Milwaukee', 'dyed', 'asks', 'Prior', 'Magazine', 'Laura', 'clown', 'rebelling', 'Sweeney', 'opus', 'public', 'hide', 'misty', 'me', 'fouling', 'firing', 'progressive', 'forlorn', 'Active', 'nominate', 'procurement', 'Sounds', 'take', 'heart', 'honestly', 'kills', 'obsession', 'around', 'respondents', 'Sign', 'surrender', 'technical', 'Whether', 'mythological', 'hoc', 'Perry', 'ladder', 'stranger', 'Andover', 'complained', 'cruelty', 'lurking', 'skirts', 'backyards', 'creek', '76', 'glamor', 'loneliness', 'Physics', 'Henry', 'Teachers', 'silver', 'foaming', 'short-term', 'leadership', 'disabled', 'Chairman', 'sad', '14%', 'portrayed', 'probably', 'Senate', 'Standard', 'broadened', 'Mao', '1937', 'magnificent', 'suits', 'auxiliary', '70,000', 'Gen.', 'working', 'replenish', 'renaissance', 'Cemetery', 'projecting', 'G.', 'liberal', 'stretched', 'personnel', 'kerosene', 'communist', 'one-tenth', 'Coombs', 'bunched', 'creamer', 'Liberal', 'certainty', 'distort', 'industries', 'detachment', 'odd-lot', 'nights', 'sq.', 'nuclide', 'thyroxine', 'barrel', 'August', 'passport', 'deductible', 'uneasiness', 'Thus', 'proton', 'tube', 'Scripture', 'Gilborn', 'dissolution', 'warrior', 'trivial', 'manager', 'planetary', 'Carlson', 'telephones', 'gasp', 'Vickery', 'apportionment', 'malocclusion', 'latent', 'Humphrey', 'equations', 'draining', 'enthusiastic', 'Sister', 'editorial', 'joint', 'creates', 'highly', 'suds', 'Angry', \"game's\", 'Key', 'flourished', 'mornings', 'Venetian', 'Census', 'titled', 'Eh', 'prevailing', 'Mission', 'colde', 'poked', 'purported', 'testing', \"Stein's\", 'turnpike', 'Lilian', 'Cancer', 'pay', 'Costs', 'bickering', '450', 'fertility', 'remedy', 'summoned', 'prevails', 'Pathology', 'Boat', 'Ideas', 'unrealistic', 'apocalyptic', 'editorials', 'tariff', 'justifying', 'lad', 'Poles', 'shutdowns', 'Philosophy', 'platoon', 'slapped', 'heavier', 'Water', 'humane', 'overhead', 'Schweitzer', 'undistinguished', 'Goldwater', '16,000', 'Particularly', 'indices', 'continually', 'disagreement', 'broken', 'reflect', 'assistants', 'Garry', 'Cardinals', \"League's\", \"Pohl's\", 'reserve', 'prospects', 'Turks', 'galleys', 'Ohio', 'Intelligence', \"Dana's\", 'skywave', 'Roebuck', 'glinting', 'losses', 'jerking', 'alleviate', 'economy', 'Feed', 'columnist', 'seem', 'accusation', 'lacks', 'Fiat', 'seventeenth', 'Survivors', 'Werner', 'Maple', 'salted', 'hospitable', 'portray', 'treat', 'Dorado', 'utilities', 'curbside', 'Krystallographie', 'quest', 'basically', 'successful', 'liquid', 'unleashed', 'touched', 'accumulated', 'crowds', 'ribbon', 'compared', 'inexorably', 'sands', 'date', 'wink', 'suffering', 'providence', 'strategic', 'perhaps', 'Newburyport', 'soften', 'winds', 'subsidy', 'Zimmerman', 'Experience', 'Nishima', 'Eichmann', 'archaeology', 'flattered', 'terrible', 'Matunuck', 'Lt.', 'dead', 'cell', 'excited', 'cure-all', 'hatch', 'forecasting', 'coil', 'sings', 'credit', 'quantitatively', 'brokers', 'ecstasy', 'octillion', 'nails', 'tried', 'Bowman', 'graduation', 'philosophic', 'Dixieland', 'full', 'stale', 'eminent', 'sprouting', 'enabled', 'congregational', 'Hyde', 'emerging', 'mathematically', 'cells', 'abilities', 'malformed', 'comment', 'Wonder', 'extrapolation', 'booked', 'three-inch-wide', 'bobbing', 'encouragement', 'corpses', 'negotiating', 'corpus', 'unfriendly', 'barbell', 'Barry', 'construct', 'rows', 'fooling', 'culture', 'Neptune', 'bird', 'nationally', 'lights', '$1', 'obesity', 'democratic', 'sonatas', 'paws', 'lakes', '61', 'durable', 'prototype', 'shooting', 'Dulles', 'lyrics', 'Forks', 'adjacent', 'Economic', 'drilling', 'Hanoverian', 'rightfield', 'wildly', 'Mi', 'streaming', 'statute', 'aerosol', 'guesses', 'calves', 'agriculture', 'dropped', 'ailments', 'socioeconomic', 'commonplace', 'given', 'four-year', 'comprises', 'warehouse', 'Segovia', 'Means', 'accidental', 'shouldered', 'workout', 'cursed', 'turnpikes', 'exploit', 'adjustments', 'paramagnetic', 'Dorothy', 'coal', 'subsequent', 'blower', 'bleak', 'here', 'Class', 'Dogs', 'mores', 'flock', 'copies', 'fragmentary', 'costumes', 'personally-owned', 'sofas', 'Byrd', 'lurid', 'RAF', 'pall', 'clarifying', 'signed', 'Ages', 'Upon', 'music', 'leases', 'myth', 'Henrietta', 'D.A.', '4.2', 'lower', 'intended', 'see', 'freeway', 'surge', 'entered', 'northern', 'photograph', 'coefficients', 'settle', 'studded', 'strengthened', 'swift', 'Moos', 'obscure', 'ruffled', '180', 'land', 'belly', 'stained', 'airfields', 'entity', 'sensory', 'Drury', 'insistent', 'exploitation', 'Dodge', 'Unsinkable', 'processed', 'ownerships', 'Parrillo', 'batting', 'tablespoonful', 'hundred', 'Martin', 'bookshelves', 'approximately', 'signs', 'deliberate', 'welfare', 'disabling', 'Wrangler', 'pursued', 'sit', 'Calhoun', 'Next', 'Hettie', 'daytime', 'rotating', 'Mary', 'authors', 'scene', 'hottest', 'flyer', 'miners', 'Harmony', 'glory', 'beans', 'sterile', 'premiere', 'uncontrolled', 'search', 'homosexuals', 'white-clad', 'martyr', 'theologian', 'glottochronological', 'mapping', 'decreasing', 'persuading', 'transmuted', 'lecturing', 'kindness', 'View', 'experimentally', 'upper-middle-class', 'shaved', 'ax', 'loom', 'courtyard', 'Cable', 'Players', 'Linden', 'Wash.', 'foamed', 'residues', 'wandering', 'Bible', 'Oedipus', 'meetings', 'roofs', 'illustrious', 'concerto', 'cross-sectional', 'performed', 'Black', 'authorizing', 'region', 'designer', 'civilizational', 'objectives', 'Alma', '--', 'Line', 'Dixon', 'salts', 'ambush', 'succession', 'depriving', 'belonged', 'multiple', 'inverse', 'transverse', 'quietness', 'callers', 'Bear', 'Meyner', 'Nevada', 'types', 'buried', 'Schaefer', 'Masu', 'Oder', 'alloys', 'economists', \"Orleans'\", 'handsome', 'Workers', \"doctor's\", 'comfort', 'unbelievable', 'snubbed', 'guard', 'multiplicity', 'additional', 'lengths', 'Majdanek', 'rectifier', 'checkbook', '70', 'voltage', 'Barber', 'decimal', 'shelf', 'utilizing', '203', 'lifelike', 'spitting', 'Gladden', 'particular', 'St.', 'wager', '1954', 'Congo', 'secured', 'grandson', 'intensity', 'Persia', 'Economics', 'organization', 'hissing', \"Governor's\", 'wool', 'frustrated', 'decide', 'creating', 'Ivy', 'Silence', 'twins', 'again', 'wreaths', 'formerly', 'commodity', 'slowness', 'rupee', 'Funeral', 'transferred', 'evangelical', 'thrilling', 'beautiful', 'ears', 'groped', 'faltered', 'Attorney', 'symbolism', 'denotes', 'Draw', 'interviewing', 'footnote', 'patriotism', 'J', 'Monticello', 'opened', 'chains', 'potency', 'evokes', 'spasm', 'Jastrow', 'sandy', 'Twenty-four', 'appliance', 'traversed', 'ballads', 'Richard', 'excise', 'Junior', 'Burns', 'attributable', \"Lincoln's\", 'Evening', 'ghastly', 'meant', 'Application', 'Siberia', 'aid', 'voyage', 'accident', 'wheel', 'foremost', 'unilateral', 'proletariat', \"Selkirk's\", 'pulpit', 'Wendell', 'barracks', 'photographers', 'vogue', 'objective', 'Proceeding', 'Borden', 'Fellows', 'launches', 'Sancho', 'aluminum', 'southeastern', '4,000', 'spade', 'generals', 'shook', 'predictions', 'propel', 'goaded', 'inconvenience', 'excitedly', 'surveys', 'Virginian', 'emancipation', 'detective', 'illiterate', 'Beginning', 'enrich', '3', 'skills', 'Weld', 'Fe', 'obstructed', 'initials', 'religiously', 'Oklahoma', 'Almost', 'lake', 'citation', 'cu.', 'melodramatic', 'Memorial', 'fragmentation', 'upon', 'commanded', 'corps', 'uppon', 'consuming', 'consolidated', 'Judging', 'mute', 'appalling', 'scenic', 'deriving', 'darkening', 'E', 'horizon', 'subjects', '5-1', 'loaned', 'Delphine', 'discredited', 'wording', 'glad', 'catharsis', 'poisoning', 'hut', 'obligation', 'Garibaldi', 'herbs', 'dromozoa', 'saturation', 'Mills', 'Published', 'specially', 'Yank', 'protocol', 'muster', 'according', '332', 'jelly', 'shrines', 'Present', 'technological', 'mole', 'apartheid', 'Mike', 'Guests', \"who's\", 'gum', 'Walking', 'salaries', 'melted', '0.3', 'dignified', 'embodies', 'Beauty', 'alley', 'curiosity', 'ardent', 'oats', 'undoubtedly', '156', 'grateful', 'periodic', 'permanent', 'Program', 'sensual', 'chaplain', 'rushes', 'Navy', 'utensils', 'lines', 'Macneff', 'Myra', 'hood', 'counselors', 'figures', 'rodents', 'knelt', 'adsorbed', 'robbery', 'marry', 'nasty', 'pineapple', 'Ozagen', 'litter', 'sanity', 'safest', 'extraterrestrial', 'Horace', 'backgrounds', 'Sundays', 'drains', \"Hearst's\", 'chemical', 'card', 'I.Q.', 'level', 'declines', 'Woodward', 'donate', 'Fields', '$200', 'Completion', 'antibodies', 'subjectively', 'ignorance', 'upper-', 'eyed', 'falsity', 'opposite', 'envy', 'gross', 'poem', 'Yorker', 'vertex', 'summarizing', 'Anglo-Saxon', 'speedy', 'steam', 'reflex', 'classification', 'Douglas', 'Indies', 'yoke', 'an', 'expenditures', 'paradoxically', 'disability', 'exclaiming', 'increasingly', 'varies', 'Herb', 'offering', 'Construction', 'brows', 'pink', 'excitement', 'Determine', 'reunion', 'warping', 'Seeing', 'northward', 'contention', 'rained', 'Saxon', 'gone', 'beams', 'Mimesis', 'traits', 'Snow', 'fission', 'antagonism', 'resting', 'amusement', 'Was', 'liaison', 'prepositional', 'troops', 'impressionist', 'hostesses', 'Loveless', 'game', 'union', 'promptly', 'Victorian', 'T.', 'Dawn', 'overlook', 'ontological', 'insufficiently', 'considered', 'Arizona', 'newspaperman', 'cent', 'arranging', 'repeatedly', 'Nazis', 'dominion', '90-degrees', 'Best', 'improving', 'styled', 'tortoise', 'Thames', 'years', 'fanaticism', 'weakest', 'Juet', 'signature', 'fills', 'Mister', 'cured', \"novelist's\", 'Thailand', 'judgment', 'blamed', 'woodsmoke', 'Constantinople', 'abundant', 'Although', 'ignores', 'cartridges', 'attic', 'confidentially', 'trays', 'Grigorss', 'illumination', \"Kennedy's\", 'highroad', 'soloists', 'links', 'dialogue', 'Aug.', 'soles', 'count', 'machinery', 'nutritional', \"children's\", 'broadcasts', 'wasteland', 'slow', 'termed', 'eyeing', 'silhouettes', 'programmed', 'coolly', 'advance', 'prancing', 'fresh', 'informing', 'quieted', 'reveals', 'stolen', 'non-fiction', 'controlled', \"Georgia's\", 'outcome', 'Munich', 'remember', 'fanned', '110', 'Eta', 'co-operative', \"R's\", 'feeling', 'Neal', 'dissolving', 'toys', 'Talmud', 'grape', \"student's\", 'silent', 'underway', 'purified', 'indispensable', 'Students', 'up-to-date', 'gaze', 'newsletter', 'bulk', 'wept', 'annum', 'Hebrew', 'Artie', 'hit', 'private', 'parliament', 'burns', 'Devol', 'locate', 'doormen', 'speeds', 'encouraged', 'Gannon', 'crowding', 'railway', 'story', 'Amen', 'try', 'Irish', 'hunger', 'vast', 'tools', 'heads', 'directions', 'palette', 'Rodgers', 'dogma', 'Investigation', 'Jennie', 'Dance', 'amused', 'adulthood', 'goodness', 'auspices', 'Blumberg', 'Instinctively', 'altering', 'propaganda', 'Channel', 'mystical', 'slot', 'cocked', 'Nellie', 'maneuvered', 'Clint', 'staged', 'favors', 'speculative', 'affectionate', 'unbroken', 'relate', 'stiff', 'rested', 'dispatching', 'problems', 'platinum', \"wasn't\", 'versa', 'enters', 'Abolition', 'pilgrim', 'transposed', 'dragged', 'offerings', 'self-satisfaction', 'writer', 'Korea', 'gang', '8th', 'airs', 'Boun', 'transactions', 'condemnation', 'parted', 'Naturally', 'Sharpe', 'authorship', 'diagrams', 'accepts', 'growing', 'technique', 'columns', \"country's\", 'precise', 'consistently', 'arterial', 'devil', 'esthetic', 'owing', 'Oliver', 'tease', 'slowed', 'ethical', 'timbers', 'Patrolman', 'Turner', 'cadenza', 'End', 'Ironically', 'millidegrees', 'weakening', 'evidenced', 'rippling', 'anarchy', '5%', 'Marshall', 'historical', 'passionate', 'discrepancies', 'truce', 'Nassau', 'Kitty', 'Signal', 'uncomfortable', 'Hark', 'Employment', 'specifications', 'tolerable', 'remains', 'realities', 'Donovan', 'passage', 'stead', 'mature', 'figured', \"Lloyd's\", 'intrusion', 'bench', 'accused', 'knees', 'proven', 'incredible', 'mee', '5.7', 'completions', '2:30.3-:36', 'Pierre', 'equity', 'scored', 'dilemma', 'widespread', 'Publications', 'unaffected', 'horn', 'Near', 'blushed', 'Chesapeake', 'consult', 'Countries', 'striped', 'modifying', 'Bristol', 'cliff', 'build-up', \"Magwitch's\", 'fermentation', 'variable', 'chemicals', 'circulated', 'elected', 'autistic', 'impending', 'drop', 'nationalistic', 'pursuing', 'visitor', 'reorganized', 'raining', 'submarine', 'positivists', 'Bruckner', 'Emma', 'revive', 'Specific', 'including', 'Station', \"Poet's\", 'nothing', 'mergers', 'orchards', 'dismounted', 'World', 'cover', 'earthly', 'bastards', 'Radic', 'project', 'ripped', 'breakdown', \"Puccini's\", 'borderline', 'chin', 'Lieutenant', 'parts', 'fifty', 'Zealand', 'receives', 'delivered', 'Perrin', \"farmers'\", 'Extensive', '$2', 'Chamber', 'commensurate', 'U.S.S.R.', 'dishes', 'Klux', 'Cecilia', 'lunar', 'English', 'Rover', 'flooded', 'etiquette', 'teamsters', 'evasive', 'rabbit', 'jumping', 'throughout', 'reverent', 'predominantly', 'grief', 'fortunately', 'tasks', 'thirty-two', 'Hands', 'burdens', 'peoples', 'Vermejo', 'supplier', 'denoted', 'complexion', 'powders', \"Mickey's\", 'Committee', 'peaked', 'commotion', 'floated', 'firmness', 'Watch', 'spaciousness', 'permission', 'delegation', 'decisively', 'Looking', 'wander', 'sculpture', 'painters', 'torment', 'Wilmington', 'Enough', 'Company', 'commonly', 'total', 'inventive', 'tick', 'Industrial', 'Everyone', 'voter', 'messenger', 'hurting', 'implacable', 'vacated', 'radiance', 'wavelengths', \"Brumidi's\", 'traders', 'ship', 'edges', 'Week', 'sagging', 'habitants', 'nutrients', 'telegraphers', 'denominations', 'old-fashioned', \"women's\", 'unhappiness', 'leg', 'manhood', 'monsoon', 'shin', 'jist', 'lavatory', 'bound', 'cowboys', 'keenly', 'former', 'intolerable', 'individuals', 'look', 'nominal', 'tool', 'hindsight', 'Las', 'soberly', 'slug', 'sheik', 'concerts', 'as', 'dreams', 'shelves', 'cellar', 'escapes', 'baffled', 'decoration', 'scoffed', 'coronary', 'catsup', 'discuss', 'chemists', 'vows', 'tread', \"'\", 'Pennsylvania', 'pots', 'neurotic', 'self-indulgence', 'unstructured', 'emphasize', 'shuld', 'and/or', 'Chatham', 'adopt', 'Venus', 'Postmaster', 'Tudor', '16', 'Vietnam', 'elastic', 'conceptual', 'Paula', 'Paso', 'Government', 'science-fiction', 'palms', 'commanders', 'baton', 'coexistence', 'confer', 'demonstrating', 'Club', 'supervisor', 'stitches', 'earthquake', 'R-stage', 'Arkansas', 'McKee', 'Castro', 'altar', 'Shann', 'lease', 'canoe', 'witnessed', 'U.S.', 'quiet', 'm.p.h.', 'photo', 'bark', 'Sorrentino', 'studs', 'limits', 'Muscovy', 'Carey', 'future', 'popular', '100,000', 'rented', 'extreme', 'minded', 'ingenious', 'turkey', 'Certainly', 'ego', 'Laguerre', 'describes', 'Repeated', 'sensuality', 'breathless', \"poet's\", 'prompt', 'uncertainty', 'hande', 'superficially', 'Within', 'gm.', 'thank', 'scope', 'Morocco', 'tribunal', 'satin', 'mass', 'translations', 'untouched', 'divergent', '$3,000', 'Various', 'Approved', 'definitions', 'morals', 'concertos', 'Presidents', '750', 'Introduction', 'connotation', 'emblematic', 'handing', 'drank', 'Heiser', 'Secretariat', 'conditional', 'poured', 'colleague', 'coming', 'instrumentation', 'ace', 'licenses', 'Super-Sets', 'poorer', 'Tartuffe', 'Engineer', 'Amsterdam', 'Wrigley', 'orbiting', 'ripening', \"Leesona's\", 'page', 'Weston', 'Hoijer', 'AIMO', 'Bertha', 'Barker', 'child', 'indignation', \"he'll\", 'desperately', 'processing', \"General's\", 'training', 'walks', 'Pony', 'claimant', 'he', 'examining', 'performers', 'spectacles', 'swished', 'absorbing', 'physicians', 'superficial', 'diversions', 'Confrontation', 'correction', 'impulses', 'Fixed', 'pedestal', 'relationships', 'risked', 'Battle', '22', 'Kings', 'analogies', 'DeKalb', 'gram', 'schooner', 'heavily', 'pretending', 'nitrate', 'criss-crossed', 'Philharmonic', \"Black's\", 'naming', 'shirt', 'Rebs', 'philosophy', 'Ed', 'Adlai', '0.5', 'overnighters', 'gymnastics', 'lingering', 'repeat', 'Paradise', 'bundled', 'detergency', 'maladjustment', 'affecting', 'Augustus', 'text-form', 'diverting', 'inwardly', 'travelled', 'rule', 'reprisal', 'Yalta', 'delightfully', 'participating', 'marriages', 'participant', 'impeded', 'scratches', 'flexible', 'broth', 'accomplishment', 'uniformed', 'criticized', 'Coughlin', 'stooping', 'Documents', 'submits', 'Antler', 'responsibilities', 'internationally', 'guidance', 'insufficient', 'Shearing', 'mm.', 'hand', 'practitioners', '1912', 'stammered', 'sink', 'rustling', \"Dan's\", \"Senate's\", 'lambs', 'Why', 'dwellings', 'teachers', 'My', 'wipe', 'mail', 'homer', 'galaxies', 'Tao', 'notable', '1817', 'risk', '$25,000', 'highway', 'vascular', 'taut', 'Waters', 'Dill', 'concrete', 'adult', 'Sicilian', 'Nathan', 'farmhouse', 'outsiders', 'Carnival', 'Sullam', 'preach', 'hours', 'Dominant', 'collision', 'harassed', 'Sunday', 'upheaval', 'well', 'Schuyler', 'Ask', 'resources', 'structural', 'Rhine', 'dashed', 'survival', 'Janssen', 'Edith', 'Leonard', \"tomorrow's\", 'whining', 'files', 'shaft', 'suppressed', 'Pile', 'reckoned', 'trader', 'congratulations', 'evenly', 'raked', 'birthday', 'calling', 'avoiding', 'dentist', 'Pimen', 'Christian', 'schemes', 'conceal', 'integration', '7.5', '1875', 'Ferraros', 'assumption', \"we're\", 'Tobacco', 'Archbishop', 'pointed', 'yellow', 'habit', 'fertilizer', 'thwarted', 'Pakistan', 'enemy', 'Stands', 'pigs', 'stimulated', 'Benington', 'chaos', 'bargains', 'corresponds', 'Av.', 'Thank', 'were', 'soda', 'At', 'pilot', 'chiefs', 'Walter', 'Neiman-Marcus', 'outbreaks', 'mosaic', 'grey', 'scowled', 'shapeless', 'paces', 'design', 'Public', 'Yellow', 'strode', 'Bienville', 'antennae', 'Fighting', 'pint', 'scaffold', 'acrylic', 'purchasing', 'incensed', 'research', 'campus', 'Engine', 'SW', 'nervous', 'orientation', 'reagents', 'administering', 'refinement', 'landmark', 'turns', 'actives', 'visiting', 'departures', \"1/4''\", 'tires', 'oust', 'dawn', 'Crystal', 'chop', 'Lucille', 'hoop', 'differed', 'Sioux', 'subscribed', 'missile', 'resolved', 'saws', 'fighting', 'Blakey', 'merest', 'impetuous', 'Roland', 'tarnished', 'integrity', 'dominated', 'ethereal', 'reflections', 'Smythe', 'draft', 'shortest', 'otter', 'comprehending', 'railroads', 'separating', 'Something', 'parliamentary', 'Brenner', 'manuals', 'stab', 'moisture', 'sources', 'Large', 'strip', 'exercising', 'participation', 'Rev', 'payable', 'Airport', 'noisy', 'Sabella', '1919', 'reserving', 'produces', 'hydrogen', 'potatoes', 'introductory', 'tremendously', 'gigantic', 'purchased', 'graduated', 'geese', '1960', 'Katanga', 'teen-age', 'Her', 'schools', 'Boris', 'tuition', 'husband', 'societal', 'richest', 'missed', 'volatile', 'tablespoon', 'disclosures', 'sax', 'manufacture', 'telling', 'oxide', 'Kemble', 'narrowly', 'overwhelming', 'shorts', 'scholastic', 'establishing', 'oranges', 'spoken', 'unveiled', 'poverty', 'alerting', 'Mickie', 'ridicule', 'Godkin', 'infantry', 'soundly', 'Prieur', 'averted', 'rescued', 'publishers', 'decade', 'east-west', 'Stanton', 'currency', 'Deputy', 'squat', 'orthodox', 'likelihood', 'aristocracy', 'legislators', 'Leaning', 'devoid', 'hoodlum', 'rector', \"Gilborn's\", 'eastern', 'trio', 'Sesame', 'Chapters', 'understood', 'initiation', 'writ', '200,000', 'calf', 'Asia', 'Sir', 'dwarf', 'compulsive', 'Ticonderoga', 'unconsciously', 'drugged', 'hazy', 'Smiling', 'monstrous', 'IRSAC', 'hills', 'hired', 'stripes', 'distaste', 'protested', 'trusting', 'knock', 'forward', 'blankets', 'fulfilling', 'disc', 'psychiatrists', 'array', 'Gardner', 'scoreboard', 'attribute', 'Flannagan', 'signing', 'accumulation', 'manifest', 'brightly', 'Chattanooga', 'adolescents', 'upset', 'zeal', 'woke', 'productive', 'Electric', 'discomfort', 'heel', 'leather', 'lasting', 'U.N.', 'borough', 'number', 'eldest', 'stagnant', 'nuns', 'blessing', 'Leading', 'battered', 'covers', 'appreciably', 'Personal', 'journalist', 'telegrapher', 'Sorry', 'transferor', 'These', 'alone', 'cruelly', 'yourselves', 'pails', 'equally', 'dual', 'friendships', 'resignation', 'the', 'Gene', 'whenever', 'barrier', 'connect', 'onions', 'Avenue', 'noteworthy', 'Associations', 'wine', 'Lafayette', 'sway', 'planking', 'partner', 'role', 'undershirt', 'resistant', 'armchair', 'hen', 'manage', 'keeps', 'Thant', 'unwilling', 'His', 'gradual', 'tin', 'sooner', 'Type', 'precaution', 'enthusiastically', 'Cohn', 'Capt.', 'velocity', 'homecoming', 'honest', 'charted', 'juvenile', 'exciting', 'averages', 'pictures', 'clarity', 'inspect', 'Adriatic', 'overboard', 'ducks', 'romantics', 'baritone', 'diction', 'US', 'travel', 'X-ray', 'constituents', 'dictator', 'Fleischmanns', 'scarce', 'repelled', 'epidemic', 'builds', 'softness', 'ranged', 'bath', 'rituals', 'chisel', 'Orlick', 'leaves', 'indescribable', 'Protection', 'Sober', 'Gentleman', 'Share', 'ready', 'operating', 'gentile', 'tea', 'But', 'campaigns', '12-gauge', 'none', 'kinda', 'low-down', 'approve', 'Flannagans', 'senator', '1891', 'faults', 'lid', 'glaring', 'one-', 'divination', 'infamous', 'kisses', \"Mulligan's\", 'Lovejoy', 'Creek-Turn', 'grudge', 'A.D.', 'stop', 'worried', 'addressed', 'upgrade', 'maternal', 'finishing', 'Yacht', \"Jefferson's\", 'inflected', 'LD', 'munitions', 'oven', 'boss', 'homogeneous', 'sights', 'infinitesimal', 'enroll', 'Arbogast', 'Marsden', 'Uhhu', 'thinking', 'ranks', 'squeezed', 'utopia', 'Foreign', 'paradigm', 'infallible', 'finely', 'tantalizing', '200', 'territories', 'onion', 'hardware', 'routine', 'tiers', 'unprepared', 'clinic', 'converts', 'R.', 'Longhorns', 'skies', 'aspirin', 'Sol', 'hog', 'uppermost', 'chairman', 'sailed', 'Selden', '800,000', 'liquor', 'Your', 'drainage', 'harshly', 'morphophonemic', 'blotted', '$28', 'Satires', 'Gregorio', 'Beat', 'carried', 'oils', 'Ordinary', 'ballplayers', 'retardation', 'ate', 'Vue', 'overtones', 'pensions', 'wives', 'waves', 'bomb', 'Kathy', 'Afro-Asian', 'Scientific', 'Hank', \"Hamilton's\", 'consumed', 'Send', 'Kirov', 'photographic', 'named', 'seek', 'lesser', 'caresses', 'Similarly', 'a.', 'Millie', 'Suvorov', 'Seven', 'relative', 'civilizations', 'catkins', 'depends', 'negotiations', 'Danny', 'Hungary', 'quality', 'modulation', 'Melissa', 'centum', 'genetic', 'change', 'seventeen', 'upkeep', 'workmanship', 'analyzed', 'budgeting', 'disregarding', 'sensed', 'Coral', 'pity', 'Materials', 'Books', 'commitment', 'jealousy', \"Richard's\", 'naturalized', 'amazing', 'records', \"hadn't\", 'frozen', 'provoked', 'rocky', 'Kohnstamm-negative', 'Frick', 'Michael', 'manner', 'customs', 'fins', 'sophistication', 'scientific', 'check', 'conferences', 'decides', 'messages', 'Expectations', 'differs', 'picturesque', 'What', 'ecliptic', 'Mississippi', '38', 'Imperial', 'Hence', 'switched', 'trouble', 'exploded', 'metropolitan', 'fight', 'burglary', 'tormented', 'simple', 'so', 'H.M.S.', 'journal', 'Hiram', 'Herold', 'solo', 'cult', 'stabilization', 'allegory', 'Minor', 'strength', 'taunt', 'relentless', 'Product', 'feathered', 'going', 'argued', 'charts', 'despairing', 'excavation', 'congregations', 'popularly', 'inlet', 'laden', 'Wherever', 'correctly', 'nationalism', 'Tax', 'Last', 'Oranges', 'saline', 'smartly', 'Buffalo', 'Essex', 'Emerson', 'oak', 'Proper', 'Valery', 'criminals', 'Hessians', 'therefrom', 'publications', 'modifications', 'arriving', 'steeple', 'newest', 'discontinuity', 'bridegroom', 'altitude', 'hereafter', 'hearth', 'Abstract', 'plunge', 'Idje', '1.8', 'Aircraft', 'Rite', 'teach', 'ranking', 'generator', 'Citizens', 'quickly', 'canvases', 'Marsh', 'Scotch', 'composure', 'shrieked', 'sailor', 'Newton', 'volunteer', 'proposed', 'outlets', 'pad', 'unfortunately', 'fluttering', 'RDWS', 'Strauss', 'handclasp', \"earth's\", 'electrons', 'neatly', 'fortress', 'Mc/sec', 'shrinking', 'germ', 'scarcely', 'speculation', 'savoring', 'scholarships', 'stud', 'assessed', 'bewilderment', 'nightmare', 'SS', 'settlers', 'world-famous', 'Giffen', 'Wagner', 'Increases', 'quote', 'worthwhile', 'Prudence', 'stack', 'biceps', 'palm', 'Dead', 'Danes', 'Youth', 'prettiest', 'complication', 'tri-iodothyronine', 'Tribune', 'poster', 'snapped', 'Carruthers', 'ad', 'creaking', 'detectives', 'Buzz', 'teenage', 'revert', \"animal's\", 'monks', 'squeezing', 'endowments', 'recognizes', 'properly', 'abstracts', 'bought', 'Merrimack', 'bolted', 'monotony', 'potentialities', 'cigarettes', 'strokes', 'histories', 'double-step', 'Definition', 'scorn', '95', \"Coward's\", 'Bridge', 'advocacy', 'Somewhere', 'Abel', 'committed', 'special', 'accumulate', 'informally', 'flailing', 'list', 'curriculum', 'omitting', 'yellow-dwarf', 'Choir', 'sale', 'operate', 'lively', 'depreciation', 'ambition', 'polymers', 'spot', 'Mystery', 'p.', 'adjust', 'hypothalamus', 'Fellowship', 'installment', 'windows', 'bottles', 'Indonesia', 'copper', 'herself', 'meteoritic', 'lounged', '$30,000', 'dross', 'admirably', 'uneven', 'read', 'McKinley', \"Byrd's\", 'Yin', 'controversy', 'yields', 'Dallas', \"That'll\", 'deputy', 'estimate', 'figs.', 'quieter', 'evening', 'aide', 'document', 'Almighty', 'shanty', 'harder', 'oscillation', 'children', 'memory', 'sporadic', 'Wood', 'Vic', 'rubbed', 'skeptical', 'wife', 'Supreme', 'Combine', 'plainly', 'Watercolor', 'shopping', 'Society', 'half-breed', 'Hiroshima', 'peripheral', 'register', 'admitting', 'aircraft', 'pulmonary', 'prepares', 'ride', \"Maris's\", 'aerated', 'Goldberg', 'Pansies', 'Heydrich', 'Godwin', 'stride', 'Maryland', 'maladjusted', \"community's\", 'bowed', 'Education', 'Rabbi', 'mileage', 'recourse', '1832', 'intimidated', 'Guatemala', 'suitcase', 'shattering', 'Kansas', 'dipole', 'exhibited', 'thirty', 'frightened', 'flaming', 'candles', 'sessions', 'Inna', 'incapable', 'declined', 'Stickney', 'escalation', 'Dear', 'exaggerate', 'chicken', 'Harvard', 'supper', 'janitor', 'solemn', 'precincts', 'contaminated', 'Bush', 'passed', 'excluding', 'Chateau', 'Letch', 'soaked', 'utmost', 'veterans', 'John', 'autos', 'migration', 'stillness', 'decomposition', 'stadium', 'Jordan', 'sidewalks', 'by', 'Egypt', 'For', 'promoting', 'hillbilly', '23', 'molecules', 'pacing', 'disapprove', 'elaborately', 'conquer', 'wonder', 'self-destructive', 'ought', 'liver', 'hereunto', 'toward', 'clarified', 'bronchi', 'respected', 'accreditation', 'incorporated', 'sunk', 'profusely', 'insurance', 'ghetto', 'useless', 'tree', 'sister', 'thousands', 'tournament', 'disturbing', 'forestall', 'Ariz.', 'sleepy', 'killer', \"hasn't\", 'mainland', 'Redbirds', 'designate', 'tropical', 'conceivably', 'Observations', \"Stalin's\", 'emperor', 'Garland', 'middle', 'fiercely', 'Nile', 'grooves', 'veils', '1925', 'assertions', 'traditional', 'condemn', \"Curzon's\", 'campaigning', 'chatter', '30%', 'counseling', 'Heidenstam', 'Eyes', 'onslaught', 'groping', 'Flushing', 'caravan', 'Aid', 'resisted', 'one-inch', 'thrown', 'high-level', 'novels', 'hoarse', 'attempted', 'swept', 'fear', 'sensitive', 'hose', 'objectively', 'B-70', 'modal', 'Redoute', 'operators', 'blink', 'wrinkled', 'storms', 'hound', 'eliminating', 'soared', 'contract', 'illustration', \"we'll\", 'Associated', 'DUF', 'caps', 'accounting', 'integrals', 'cunning', 'prepolymer', 'rehabilitation', 'villa', 'jobs', 'Perhaps', 'eye', 'tales', 'Copenhagen', 'lb', 'scale', 'Washington', 'David', 'Corso', \"Sharpe's\", 'Orchestra', 'Emory', 'Market', 'attuned', 'averting', 'sash', 'Pearl', \"man's\", 'Nineteenth', 'streak', 'collected', 'Prince', 'wisely', 'Mattei', 'decayed', 'winged', 'prizes', 'base', 'self-conscious', 'Mayer', 'employer', \"o'clock\", 'fashioned', 'still', 'Joseph', 'alienation', 'Scottish', 'subordinates', 'pounded', '1964', 'bristled', 'undeveloped', 'confront', 'announcements', 'pray', 'Revolutionibus', 'mobilizing', 'mobility', 'kilometers', 'radiopasteurization', 'colleagues', 'enact', 'destroy', 'Mare', 'partial', 'goal', 'composite', 'Taking', \"Drug's\", 'throttle', 'N', 'which', 'grudgingly', 'H', 'repealed', 'gage', 'clerk', 'norms', 'Control', 'Prof.', 'Cod', 'gloves', 'metered', 'something', 'resembles', 'innings', 'embedded', 'Schiele', \"B.'s\", 'Sort', 'profiles', 'soil', 'enrolled', 'raise', 'mischief', 'deteriorated', 'stimuli', '1840', 'shoes', 'method', 'intimated', 'spontaneity', 'workers', 'weekend', 'silk', 'storing', 'endured', 'glazed', 'dissolve', 'Acropolis', 'lost', 'Gibby', 'Putting', 'golfers', 'dispersed', 'Jelke', 'synthetic', 'A-Z', 'heed', 'dictates', 'detail', 'efficacy', 'madrigal', 'kedgeree', 'get', 'stable', 'workmen', '1935', 'boatswain', 'monthly', 'achieves', 'ominous', 'concentrates', 'strays', 'friendly', 'fatigued', 'College', 'prior', 'arc', 'Mother', 'burn', 'cafeteria', 'freehand', 'Dominican', 'conditioned', 'desolate', \"durin'\", 'bivouac', 'anemia', 'relaxation', 'Colorado', 'disorderly', 'inscrutable', 'Dream', 'follow-up', 'Well', \"king's\", 'masked', 'pituitary', 'proportionate', 'Coopers', 'shivered', 'chambre', \"She'd\", \"Carmer's\", 'aggravated', 'pirates', 'subsection', 'rotting', 'racket', 'elementary-school', 'Suppose', 'provincialism', 'Barton', 'bent', 'interfering', 'probable', 'drained', 'conveyed', 'transformation', 'arteriolar', 'inveterate', 'Karamazov', 'flung', 'telepathy', \"Sandburg's\", 'rustler', 'rally', 'two-digit', 'rural', 'intertwined', 'rails', 'inquired', 'uncanny', 'frauds', 'sitting', 'corruptible', 'fraud', 'employ', 'mutilated', 'shimmering', 'Himself', 'coldest', 'quite', 'tangled', 'serviceable', 'fascinate', 'counterparts', 'Mose', 'residing', 'Tammany', 'splinter', 'frayed', 'rightfully', 'invest', 'Charter', \"Council's\", 'regulars', 'bunk', 'donor', 'extraordinarily', 'Presiding', '$100', 'destined', 'platforms', 'mansions', 'Achievement', 'castle', 'unjust', 'Iliad', 'persons', 'so-called', 'oiled', 'shipper', 'Quixote', 'odd', 'Common', 'allotted', 'Shot', 'sheep', 'grok', 'Nikita', 'tip', 'appropriation', 'percussive', 'purely', 'Matsuo', 'ready-made', 'dive', 'stay', 'fellows', 'reasonably', 'People', 'Recently', 'Island', 'Arabic', 'divisive', 'Ride', 'Bushell', 'throw', 'headless', 'prophets', 'heard', 'sprang', 'suspicious', 'trans-illuminated', 'Training', 'Tarzan', 'supernatural', 'beam', 'perversely', 'seating', 'intrinsically', 'irons', 'Persons', 'Snopes', 'Broun', 'repeating', 'thaw', 'added', 'northeast', 'fertilized', 'lexicostatistics', 'very', 'Malta', 'Just', 'deepest', 'Carefully', 'crop', 'nineteenth-century', 'entry', 'female', 'fruit', 'volunteered', 'schizophrenic', 'Garrison', 'lapsed', 'out-of-doors', 'Unifil', 'acting', 'Service', 'comprehension', 'appropriated', 'scared', 'C.', 'Francie', 'passages', 'environmental', 'incoherent', 'paced', 'September', 'BAM', 'University', 'porch', 'depot', 'spit', 'Remington', 'Tech', 'telegram', 'street', 'ludicrous', 'hint', 'dictum', 'justice', 'prints', 'ward', 'Sometimes', 'communicating', 'wanted', 'adapt', 'microns', 'limp', 'acres', 'pressures', 'Foss', 'amount', 'channels', 'auto', 'cockpit', 'Panama', 'Pleasant', 'secularized', \"Muller's\", 'Hubert', 'Seaboard', 'vices', 'wells', 'swarm', 'glitter', 'finite', 'buggy', 'Him', 'bled', 'boldly', 'flowed', 'edge', 'onrush', 'unfolded', 'cheer', 'socialization', 'Dowex-2-chloride', 'accompanied', 'Blackmer', 'coat', 'dressing', 'confesses', 'principals', 'Define', 'sense', 'tusks', 'feelings', 'televised', 'Jack', 'forcing', 'feet', 'vindication', 'luck', 'Rouge', 'Martians', 'trifle', 'lists', 'Ltd.', 'governess', 'righteous', 'catalyst', 'Recognizing', 'investors', 'Yes', 'coalition', 'Scots', 'annoyed', 'foster', 'abscesses', 'Copernicus', 'minced', 'believe', 'Lumumba', 'viewers', 'owning', 'amid', 'favor', 'state-owned', 'weighing', 'taxpayer', 'wishes', 'Durkheim', 'filtered', 'tastes', \"what's\", 'talkative', 'worked', 'kissed', 'genuine', 'viscosity', 'Order', 'bind', 'bothered', 'wing', 'exhibition', 'Equipment', 'inventions', 'enlargement', 'Hurry', 'wrecked', 'mated', 'oilseeds', 'underscored', 'replace', 'bursting', 'careers', 'meanness', 'no.', 'persuasion', 'Frelinghuysen', 'skull', 'beebread', 'cosmetics', 'tooth', \"writers'\", 'exactly', 'Library', 'postponed', 'well-known', 'talked', 'Demon', 'baseman', 'disagree', 'legislative', 'would', '$1,000', 'fetch', 'congressman', 'descending', 'conflicting', 'departing', 'swing', 'kernels', 'supplied', 'soldier', 'parks', 'sprinkling', 'Forty', 'slower', 'Human', 'sharpened', 'patriotic', 'knives', 'fourth', 'chewing', \"Oersted's\", 'stand', 'disgusting', 'exhaust', 'exposed', 'toner', 'twenty-eight', 'route', 'ingredients', 'gall', 'distinguishing', 'saving', 'Crouch', 'effort', 'forces', 'things', 'nomination', 'remove', 'disclose', 'Sonatas', 'pins', 'returns', '2-56', 'Planned', 'n', 'anger', 'knitted', 'fly', 'errors', 'sweep', 'beset', 'labored', 'Channing', 'price', 'Christians', 'property', 'rapidity', 'Central', 'Personnel', 'condensation', 'thorn', 'Jersey', \"that's\", 'gratitude', 'Tennessee', 'cultivated', 'approaching', 'gradient', 'harmless', 'Brumidi', 'Radiopasteurization', 'marginal', 'statues', 'profanity', 'facet-planes', 'spoke', 'Alfredo', 'pest', 'PBS', 'shutters', 'Phedre', 'back', 'lifetime', 'airborne', 'spectral', 'motifs', 'safer', 'remind', 'purest', 'bachelors', 'tantamount', 'pile', 'unitized', 'lash', 'Yuri', 'big', 'tuberculosis', 'searching', 'Shirley', 'orchestral', 'Jeff', 'Dennis', 'worn', \"child's\", 'deposited', 'cracking', 'expiration', 'polyester', 'Hong', 'Jennings', 'inability', 'tireless', 'Burke', 'Ryan', 'Fiske', 'Party', 'explanations', 'energy', 'pregnancy', 'clash', \"Grandma's\", \"Nadine's\", 'numerical', 'solidity', 'Bartlett', 'McKenzie', 'holder', 'precision', \"Czarina's\", 'influential', 'spouses', 'Year', 'kick', 'Annapolis', \"Garth's\", 'skilled', 'initiate', 'Prevot', 'firm', 'tank', 'bottle', 'tenderness', 'phase', 'traffic', 'friends', 'California', 'hesitation', 'Protestants', 'any', 'merely', 'conclusively', 'Hansen', 'relax', \"there'd\", 'ask', 'anti-party', 'orchestra', 'beast', 'permit', \"'52\", 'Ludie', 'shot', 'accents', 'people', 'doctored', 'whether', 'sunset', 'mistakes', 'moderate', 'thumbs', 'travelers', 'joy', 'surname', 'led', '1845', 'Wyoming', 'culturally', 'Staffe', 'fatigue', 'fuck', 'considerate', 'theologians', 'financed', 'acid', 'Clinton', 'blasphemy', 'milk', \"Aren't\", 'coward', 'hearing', 'diffusing', 'Vice-President', 'jaw', 'moving', 'Dexter', 'biscuits', 'Vaughan', 'Flock', '70%', 'hike', 'Freya', 'wrath', 'lawn', 'maniac', 'dividing', 'sends', 'Reverend', 'deducted', 'carne', 'upholding', 'ashes', 'submissive', 'trough', 'Passing', 'conformist', 'budgets', 'There', 'seacoast', 'slapping', 'afterwards', 'grades', 'overcame', 'reckoning', 'amended', '90', 'gracefully', 'salvation', 'even', 'suspense', 'Jane', 'Kehl', 'furs', 'methodical', 'all-important', 'larger', 'Comptroller', 'jolt', 'Woodruff', 'gully', 'Aids', 'helpful', 'focussed', 'mastered', 'sagged', 'foundations', 'sympathetically', 'midst', 'hill', 'food', 'boyish', 'turbine', 'embodied', 'ignoring', 'alike', 'witnessing', 'healed', 'patent', 'revelations', 'sorted', 'Register', 'frontiers', 'following', 'weeklies', 'Franklin', \"baseball's\", '104', 'honoring', \"Steele's\", 'calculated', 'Ruling', 'Certain', 'hidden', 'cutter', 'Jupiter', 'Batista', 'Baltic', 'inclined', 'pastel', 'algebraically', 'elimination', \"Gavin's\", 'Each', 'inhuman', 'Jet', 'months', 'Board', 'Tessie', 'Capone', 'stew', 'hauled', 'Jenks', 'hitting', 'fancy', 'Only', 'should', 'seasonal', 'Bayreuth', 'saga', 'hopeless', 'gravity', 'Melies', 'dramas', 'era', 'V.', 'grinding', 'shore', 'southern', 'neared', 'image', 'Della', 'London', 'menace', 'acquiring', 'Sims', 'Feeling', 'Herald', 'Jaycees', 'Recreation', 'answered', 'Stephens', \"Women's\", 'thrived', 'Ever', 'driven', 'surfaces', 'booth', 'overcomes', 'secrecy', \"Alex's\", '2:30', 'safeguard', 'Proclamation', 'retort', 'Corporations', 'elongation', 'ascending', 'Guest', 'isolate', 'meanwhile', 'beatnik', 'rubber', 'consumers', 'freedoms', 'upturn', 'arduous', 'Inc.', 'born', 'rinse', 'teenagers', 'clambered', 'Fall', 'Kappa', 'last', 'corrosive', \"Mayor's\", 'vanish', 'non-service-connected', 'Blue', 'Three', 'terrifying', 'Convocation', 'straighten', 'fullest', 'run', '10,000', 'demise', 'lounge', 'cartridge', 'chili', 'Kentucky', 'Greater', 'tourist', 'checking', 'autonomic', 'Shortly', 'selling', 'observable', 'vocal', 'Androfski', 'temptation', 'organ', 'nuts', 'decay', 'lard', 'Britain', 'narrator', 'nonetheless', 'non-violent', 'producing', 'retains', 'AFL-CIO', 'prop', 'pastors', '$25', 'Cut', 'chamber', 'baked', 'hole', 'fractionated', 'apprehensions', 'Stan', 'architects', 'disregarded', 'oedipal', 'proprietor', 'irritation', 'reproducible', 'academically', 'sunny', 'tract', 'Rifle', 'open-mouthed', 'glycerine', 'Mynheer', 'tranquilizers', '$500,000', \"sayin'\", 'idyllic', 'investigators', 'tested', 'unnecessary', 'distressing', 'Joe', 'easing', 'consonantal', 'beginning', 'opens', 'Augustine', 'unanimously', 'harvest', 'ducked', 'drunk', 'evidences', 'Crus', 'items', 'rupees', 'Speaker', 'unmarried', 'nested', 'projects', 'Depot', 'injuries', 'Higher', 'evoked', 'Babe', 'chanted', 'lazy', 'Another', 'Gorton', 'corners', 'undue', 'Inevitably', 'solely', \"host's\", 'Tomorrow', 'emaciated', 'window', 'network', 'descent', 'levy', \"Milton's\", 'mopping', 'Quincy', 'conductor', 'brave', 'fossilized', 'myths', 'winding', 'county', 'Space', 'Hudson', 'tack', 'intersect', 'flashed', 'Running', 'masculine', 'vile', 'choice', 'shadow', 'waspish', 'fixture', 'fond', 'grip', 'parable', 'sees', 'Luxemburg', 'absorption', '1885', 'assure', 'acquire', 'specialty', 'rookies', 'chops', 'poisonous', 'lets', 'Purdew', 'contemporaries', 'Tonight', 'skiing', 'albumin', 'Border', 'giving', 'brethren', 'A.L.A.M.', 'criteria', 'slavery', 'Free', \"D'\", 'manual', 'Asked', 'adjusted', 'boating', 'Regiment', 'undiminished', 'Trees', 'bees', 'signaling', 'pickers', 'watercolors', 'structures', 'Ephesians', 'means', 'Planning', 'log', 'percentages', 'hall', 'Bomb', 'Kind', 'adhered', 'You', 'lawns', 'arroyo', 'Rodney', 'haggling', 'Elinor', 'ritual', 'make-up', 'forty-nine', 'attracted', 'posing', 'chairs', 'rigors', 'betray', 'civilian', 'predicted', 'requesting', 'Brain', 'models', 'explicable', 'gravitational', 'Arlen', 'coupling', 'action', 'attitude', 'soloist', 'undertaken', 'bureau', 'surveillance', 'nine', 'Austin', 'motives', 'cash', 'stirring', 'recipe', 'patiently', 'sermon', 'England', 'heightened', 'SX-21', 'tetrachloride', 'constituency', 'impunity', 'chess', 'woolly', 'amen', 'proceeding', \"1930's\", 'retailers', 'respect', 'trade', 'prettier', 'Outer', 'nurse', 'radio-TV', 'Democrats', 'mechanically', 'hurt', 'pays', 'metallic', 'compatible', 'interstate', 'assertion', 'binding', 'subtracting', '1788', '1625', 'Georgia', 'principal', 'blade', 'patter', 'peered', 'compression', 'Julius', 'affords', 'El', 'pushed', 'disturbance', 'needy', 'revenues', 'marches', 'argues', 'Brooks', 'Bears', 'lonely', 'Gary', 'Laos', 'exchange', 'on', 'incubation', 'drunkenness', 'CTA', 'strategists', 'healthful', 'graph', 'talents', 'radiation', 'Interest', 'sounded', 'Divide', 'discern', 'apparent', 'Farm', 'plains', '348', 'concurrence', 'pockets', 'Sandalphon', 'reviews', 'Carolina', 'breast', \"Island's\", 'gray', 'transfers', \"Mahler's\", 'repent', 'chanced', 'adorable', 'valuable', 'Custer', 'pleading', 'counseled', 'unconditional', 'cochannel', 'terraces', 'dream', 'Altenburg', 'displace', 'affiliation', 'commenting', 'ways', 'commanding', 'winnings', 'extremity', 'Paul', 'militia', 'Baker', 'sever', 'Reaction', 'Drunk', 'high-speed', 'advocate', 'consumptive', 'commissioner', 'jocular', 'Continent', 'Measurements', 'cope', 'Constantine', 'outgrow', \"client's\", 'coasted', 'Artillery', 'slipper', 'cooled', 'concentration', 'exemplified', 'reflector', 'pointedly', 'divestiture', 'everybody', 'overhauling', 'sketching', 'convey', 'Janice', 'Agnese', 'Stratford', 'aorta', 'allies', 'stucco', 'cooling', 'cruiser', 'Faith', 'doorway', 'basis', 'feasible', 'slugger', 'Dictionary', 'quarrels', 'destroyed', 'pennant', 'telephone', 'P', 'Discussion', 'relieve', 'impatient', 'eligibility', 'scenes', 'pallid', 'fraternity', 'conceivable', 'contemplation', 'operational', 'too', 'f', 'decaying', '2.1', 'Bench', 'butchery', 'reconsider', 'lying', 'stretching', 'road', 'oyabun', 'ample', 'premature', 'hikes', 'demanded', 'Charley', 'Kafka', 'strangled', 'book', 'Presidency', 'finish', 'Gabriel', 'construed', 'outrun', 'cross-section', 'foul', 'entirely', 'Maestro', 'crushing', 'renew', 'vitamin', 'lock', 'existence', 'underwrite', 'effects', 'embodiment', 'Katharine', 'grasped', 'writhing', 'cut', 'Elman', 'authoritative', 'Beckworth', 'blooming', 'overcast', 'dispute', 'merchants', 'stability', 'penalty', 'become', 'Living', 'utopian', 'trends', 'foam', '12', 'accorded', 'Philadelphia', 'effected', 'sucked', 'greasy', 'perfectly', 'completed', \"Lord's\", 'Crumb', 'preamble', 'impassioned', 'specifies', 'hesitate', 'O.E.C.D.', 'chest', 'plantation', 'mortar', 'questioned', 'Willamette', 'installing', 'radioactive', 'niggers', 'fairly', 'promises', 'Stubblefield', 'fights', 'Eight', 'preaching', 'pumps', 'leaguer', \"worker's\", 'department', 'CD', 'one-story', 'amuse', 'magically', 'Child', 'Taoist', 'Confederate', 'Ritter', 'Gazette', 'modification', 'inconvenient', 'elders', 'Traverse', 'extravagant', 'finding', 'tribunals', 'con', 'probabilities', 'Southeast', 'yielding', 'generating', 'nomenclature', 'proportion', 'drone', 'reasons', 'huts', 'freezing', 'per', 'Judy', 'hammock', 'complexities', 'periphery', 'toughs', 'expressly', 'Moslem', 'knowledge', 'acquiescence', 'starts', 'missiles', \"city's\", 'blossoms', 'armed', 'drums', 'distorted', 'hamburger', 'dell', \"Hudson's\", 'poet', 'imagine', 'preventing', '18', 'topography', 'Quiney', 'sanctions', 'Thanks', 'carriage', 'scrape', 'Structures', 'pamphlets', 'glowing', 'rationing', 'Continuous', 'tension', 'unfolding', 'meets', 'nemesis', 'groom', 'Beth', 'clubhouse', 'Potter', 'prolusion', 'rococo', 'sprawling', 'Parsons', 'Hegelian', 'adopted', 'snobbery', 'Gilbert', 'menu', '30', 'requests', 'stories', 'Traffic', 'Apart', 'grass', 'theatre', 'henceforth', 'seals', 'Greer', 'suggesting', 'planet', 'canyon', 'Severe', 'coping', 'pail', 'Giselle', 'poison', 'southwest', 'lettering', 'Helva', 'framing', 'moonlight', 'reassuring', 'politic', 'NS', 'onset', 'Krogers', '10%', 'Argon', 'Hawksley', 'observance', 'Hernandez', 'Founders', 'simultaneous', \"1960's\", \"engineers'\", 'low', 'enormous', 'liberate', 'recommend', 'realizing', 'inclusion', 'Stowey', 'sector', 'honorably', 'ducts', 'Yokosuka', 'assembly', 'producers', 'Alliance', \"we've\", 'mined', 'disappearing', 'comparisons', 'twilight', 'dress', 'batch', 'liberties', 'bosom', 'Morning', 'Bonnor', 'threshold', 'bully', 'receipt', 'belts', 'arrow', 'miscellaneous', 'convincing', 'desolation', 'shunts', 'cyclist', 'fools', 'Classical', 'provision', 'Maine', 'persuasively', 'mad', 'cocky', 'mumbled', 'possessing', 'Clay', 'bubbles', 'inflated', 'unpopular', 'third', 'warn', 'hats', 'bracing', 'interference', 'fine-looking', 'camouflage', 'prepare', 'electrophoresis', 'phonologic', 'lend', 'conjugates', 'vying', 'abruptly', 'sorry', 'transitional', 'strewn', 'motivations', 'fishing', 'halfback', 'pleasantly', 'Jarrodsville', 'Whom', 'Throughout', 'wail', 'angels', 'credits', 'cause', 'alienated', 'extra-sensory', 'frustrations', 'mink', 'chipped', 'Projects', 'hammer', 'make', 'Abraham', 'publisher', 'feasibility', 'Later', 'reconsidered', 'verve', 'multiplying', 'sued', 'overlap', 'blurted', 'risky', 'soaring', 'demanding', 'dearly', 'Yosemite', 'assisting', 'glue', 'Lyon', 'minimum', \"Let's\", 'hardships', 'reflection', 'suggestive', 'incandescent', 'Baer', 'Sun', 'marriage', 'resort', 'demon', 'triangle', 'mediums', 'meteor', 'purchase', 'partly', \"Keith's\", 'stream', 'fluent', 'sabotage', 'oration', 'suffered', 'Beatrice', 'revolved', 'reflecting', 'trusts', 'Mussorgsky', 'connection', 'Arthur', 'She', 'ambivalence', 'unsuitable', 'retrospect', 'conducting', 'wrinkles', 'unifies', 'opening', 'colony', 'puzzle', 'reveal', 'gold', 'swelling', 'report', 'wallet', 'Schaack', 'diligence', 'triumphs', 'vaulting', 'injunctions', \"O'Banion's\", 'diplomat', 'stealing', 'coincide', 'causing', 'conformity', 'spherical', 'giant', 'Rumor', 'originating', 'chromium', 'agreement', 'intricate', 'footstep', 'keen', 'Springs', 'fragmented', 'maples', 'they', 'situations', 'photographer', 'Tri-State', 'stature', 'drier', 'vindicated', 'swollen', 'compel', 'bouquet', 'chic', \"play's\", 'Away', 'favorite', 'device', 'observed', 'lag', 'bears', 'sorbed', 'transport', 'event', 'doorknob', 'potters', 'pipe', 'calmed', 'compose', 'sail', 'opponents', 'admirable', 'servant', 'concert', 'infancy', 'permeated', 'focused', 'deliberately', 'understandably', 'degrees', 'dismissed', 'manometer', 'Hinton', 'ventures', 'diminishing', 'Nonetheless', \"victim's\", 'Design', 'misunderstood', 'casual', 'species', 'beneath', 'title', 'million', 'Toot', 'prelude', 'proper', 'nonwhite', 'published', 'Cromwell', 'site', 'Initially', 'imitated', 'dispersion', 'hostilities', 'muttered', 'Generale', 'Giants', 'hotel', 'roadblock', 'diagram', 'Eisenhower', 'Basic', 'Six', 'invasion', '$17,000', 'wishful', 'maintenance', 'subscription', 'Till', 'deformity', 'utilized', 'unrestricted', 'Hellenic', '7-1', 'tray', 'performances', 'nobility', 'uncertain', 'irony', 'visions', 'merits', 'watch', 'Bud', 'flourishes', 'presumes', 'displeased', 'allocated', 'money', 'intelligible', 'Fawkes', 'split', 'Baptists', \"A's\", 'Parks', 'bells', 'Cr', 'loses', 'reversed', 'building', '$1.1', 'lucky', '375-degrees-C', 'Aw', 'Havana', 'robots', 'bruised', 'Skolman', 'marksman', 'regression', 'Gosh', 'convicts', 'slicker', 'expansiveness', 'freshmen', 'weaken', 'slanted', 'Bennington', 'Poitrine', 'reassured', '360', 'Hez', 'roast', \"Company's\", 'treatment', 'tentatively', 'Macon', 'conservative', 'sizes', 'Boston', 'shrugged', 'tub', 'restricting', 'isle', 'pleased', 'immigration', 'affection', 'itself', 'staffed', 'scan', 'infected', 'four-hour', 'fates', 'Nowhere', 'mixed', 'formed', 'curtain', 'chromatographic', \"organization's\", 'reads', 'Starting', 'Richards', 'Portland', 'conclusions', 'dynamics', 'carved', 'authorities', 'etcetera', 'jazz', 'thrashed', 'ranch', 'Dolly', 'yarn', 'characterize', 'schematic', 'calories', 'fabric', 'claws', 'illustrated', 'inhibitions', 'Grosse', 'fairway', 'Charlie', 'retreated', 'disagreed', 'absent', 'applause', 'cloak', 'H.', 'straining', 'participated', 'Marine', 'modernized', 'prove', 'denies', 'Harry', 'restraint', 'honesty', 'salad', 'Rain', 'despair', 'burnt', 'bone', 'supervision', 'Less', 'thanked', 'jig', 'Skeletal', 'illumined', 'surprising', 'Growth', 'payments', 'next', 'languid', 'definitely', 'sediment', 'necessitates', 'bag', 'Milk', 'plows', 'atmospheres', \"analyst's\", 'floorboards', 'plan', 'Folklore', 'Montreal', 'exhausted', 'accidents', 'lyric', 'metal', \"mothers'\", 'magazines', 'meal', 'stacked', 'interfaces', 'disputes', 'Carl', 'loosened', 'Hendl', 'hoodlums', 'aching', 'ports', 'costly', 'Caper', 'violation', 'dark', 'enjoyed', 'revolution', 'Counties', 'officially', '1819', 'obscurity', 'know', 'strove', 'empires', 'clutch', 'cross-licensing', 'coach', 'dash', 'Alice', 'Cried', 'Molvar', 'Champion', 'dog', 'bony', 'advertising', 'men', 'arguing', 'Debonnie', 'moreover', 'intimidation', 'reasoning', 'aloft', 'awfully', 'anti-submarine', 'leap', 'handy', 'functioning', 'tied', 'rodder', 'lantern', 'responsible', 'interview', 'indulge', 'letting', 'favored', 'incurred', 'preparing', 'bore', 'stocks', 'Poetics', 'Americans', 'pounds', 'rope', 'flamboyant', 'dugout', 'Factory', 'populous', 'shines', 'transcends', 'agitation', 'suspicion', 'madmen', 'downstream', 'survivors', 'shorten', 'conversations', 'furor', 'Music', 'Phyfe', 'slim', 'governors', 'austere', 'universality', 'fried', 'hips', 'states', 'persecution', 'resolve', 'tuning', 'accordingly', 'ventricle', 'threatening', 'normally', 'courtiers', 'stupid', 'sentry', 'continued', 'threw', 'simulate', 'aeration', 'suitors', 'sighing', 'long-time', 'illness', 'fascicles', 'trail', 'distinguish', 'Alpert', 'saddle', 'Use', 'maneuvering', 'drifted', 'wire', 'turquoise', 'hostile', 'render', 'holding', '160', 'favoring', 'Maltese', 'esteem', 'Jury', 'Neck', 'Adler', 'piercing', 'registries', 'procreation', 'novel', 'rots', 'Hartford', 'Cologne', 'aisle', 'horsepower', 'walking', '10', 'profess', 'Vita', 'anti-Communist', 'adapted', 'apple', 'revivals', 'Officer', 'anecdotes', 'Burgundy', 'lord', 'inherent', 'veins', 'defiant', 'patents', 'rendered', 'betting', 'receding', 'generalized', 'awarded', \"woman's\", 'Future', 'manufactured', 'inactive', 'bleached', 'submit', 'Simply', 'reproduces', 'subscribers', 'Keeler', 'existential', 'zone', 'recruiting', 'waxed', 'must', 'weekly', 'pads', 'pick', 'wondered', 'homesick', 'Carleton', 'limb', 'sciences', 'Vocational', 'echoes', 'NATO', 'Harvey', 'salutary', 'smirk', 'applicable', 'bandits', 'sketch', 'lanes', 'renting', 'erecting', '6-3', 'cleaning', 'refined', 'lifted', 'holy', 'peddler', 'prefer', 'Matching', 'quack', 'having', 'advent', 'conditioner', 'bleachers', '$5', 'keeper', 'repressed', 'TSH', 'come', 'appraisal', 'Hold', 'accompanying', 'east', 'atmosphere', 'Boxell', 'Now', 'thrusting', 'lieutenants', 'shortsighted', 'adherence', 'Speed', '51', 'carrots', 'willed', '$.03', 'Interestingly', 'illustrate', 'curved', 'causal', 'offset', 'historic', 'heading', 'retaining', 'glibly', 'augmented', '6', 'pop', 'advertised', 'forgetfulness', 'idly', 'mammoth', 'McClellan', 'dynastic', 'justifications', 'Bantus', 'Marshal', 'tortuous', 'sounding', 'dividends', 'loved', 'understand', 'dipper', 'First', 'regard', 'Guy', 'anxiety', 'fibrous', 'Great', 'chauffeur', 'disposed', 'defunct', 'Songau', 'voluptuous', 'weep', 'unlined', 'Varlaam', 'attributes', \"Alec's\", 'tug', 'bits', 'over/under', 'McNair', 'materials', 'cater', 'illegal', 'ruled', 'philanthropic', 'passions', 'Compared', 'Macbeth', 'commerce', 'predecessor', \"day's\", 'leisure', 'kiss', 'attain', 'understandable', 'bass', 'Excelsior', 'recitation', 'Aureomycin', 'astonishingly', 'beware', 'weak', 'instrumental', 'paths', 'undersea', 'suffers', 'reversing', 'identifying', 'louder', 'indicated', 'evaluations', 'Criminal', 'dreaming', 'tracked', 'exceeding', 'entertainment', 'parting', 'Dog', 'Tiepolo', 'rehearsed', 'beads', 'counterpoint', 'Psalm', 'alteration', 'rush', 'coated', 'Mousie', 'aware', 'scoured', 'piano', 'injustice', 'tactual', 'Someone', 'nodded', 'cries', 'week-long', 'represents', 'unsolved', 'Fridays', 'seats', 'originally', 'housing', 'pervasive', 'Aricaras', 'ideally', 'swallowed', 'metabolite', 'Rosburg', 'Sara', 'Somehow', \"Antoine's\", 'disorder', 'Cannon', 'KC', 'Agricultural', 'collapsing', 'psychical', 'suspected', 'temper', 'magnetism', 'ante-bellum', 'hostages', 'Coast', 'rhetoric', 'Orleans', 'Walnut', 'begins', 'Rule', 'wasting', 'proprietorship', 'Domestic', 'perspectives', 'Doc', 'tailor-made', 'touring', 'loaves', 'milling', 'Men', 'precepts', 'breakdowns', 'Europeans', 'envelope', 'amongst', 'hate', 'arts', 'sensor', 'portraits', 'apologetic', 'Ike', 'fitness', 'apologized', 'education', 'Scriptures', 'taste', 'capsules', 'fleeting', 'brief', 'rugs', 'chattered', 'hummed', 'Commerce', 'aspects', 'Forces', 'rewarded', 'professors', 'institutionalized', 'Wabash', 'prejudicial', 'squared', 'recurred', 'Reactionary', 'anguish', 'lugged', 'Cappy', 'bandaged', \"pianist's\", 'lengthwise', 'huddling', 'him', 'self-imposed', 'forgot', 'duties', 'Roberta', 'Osaka', 'Baldrige', 'Presidential', 'menacing', 'fronting', 'convertible', '$45', 'smiles', 'Contact', 'ft', 'resolute', 'materialism', 'boost', 'termini', 'encourage', 'neural', 'doorman', 'Examiner', 'Fiberglas', '300,000', 'animals', 'tops', 'relies', 'apprentices', 'comfortable', 'citizenry', 'bombs', 'Reconstruction', 'Progress', 'instinctively', 'scrap', 'visibly', 'five-year', 'recently', 'counterpart', \"guard's\", 'disciple', 'immobility', 'drawled', 'wilt', 'Defense', 'So', 'bacterial', 'paramount', 'double-wall', \"Berger's\", 'agreeable', 'reach', 'Sonata', 'explore', 'prevalence', 'slashing', 'p.m.', 'coolers', 'motors', 'References', 'Elmer', '**yt', 'circuits', 'Edythe', 'Hello', 'devices', 'nagging', 'mirror', 'longing', 'coercion', 'blizzard', 'brings', 'Somebody', 'kicked', 'person', 'misdeeds', 'peg', 'crimes', 'round', 'fears', 'dwell', 'speck', 'therapist', 'holes', 'paradox', 'monumental', 'tubular', 'creative', 'unwarranted', 'sitter', '500', 'darned', 'Maureen', 'sporting', 'earned', 'Narragansett', 'wildlife', 'ownership', 'savings', 'Department', 'converse', 'combine', 'Minister', 'micrometeorites', 'giggled', 'inches', 'diameter', 'lemonade', 'philosopher', 'armhole', 'abstention', 'slugged', 'maybe', 'promised', 'publicly', 'thwart', 'recession', \"ain't\", 'wiped', 'immigrants', 'cleaned', 'listed', 'Troop', 'Police', 'Centennial', 'disguise', '100', 'lions', 'realistically', 'transpired', 'vigorously', 'self', 'vaguely', 'Flower', \"fund's\", 'games', 'fusion', 'founding', 'charge-excess', 'antiquated', 'Miles', 'axiomatic', 'selective', \"can't\", 'clot', 'petitions', 'tumbled', 'Sitwell', 'reap', 'stretch', 'them', 'Schools', 'reflective', '1864', 'delightful', 'sacred', 'stranded', 'Russ', 'arbitrary', '1818', 'merged', 'Giving', '1707', 'Palladio', 'enable', 'catch', 'John-and-Linda', 'dock', 'wished', 'obtaining', '14', 'Security', 'nationals', 'calcium', 'self-appointed', 'float', 'Manuel', 'wicked', 'professionally', 'hunters', 'milder', 'adhesive', \"moment's\", 'loudly', 'Other', 'took', 'Curzon', 'similarity', 'developmental', 'Brian', 'Wagon', 'offers', 'Friend', 'treats', 'eagerness', 'trespasses', 'Giles', 'pansy', 'wakeful', 'corner', 'tiled', 'egg', 'proof', 'scooped', 'indoors', 'stake-out', 'Jackson', 'coconut', 'cameras', 'earrings', 'File', 'ethnic', 'Adenauer', 'designing', 'While', 'hearty', \"Bultmann's\", 'revelation', 'hydrides', 'nationality', 'Scholar', 'floating', 'Ann', 'Anthea', 'grasp', 'scar', '$100,000', 'awaiting', 'powers', 'confronted', 'Moloch', 'aberrations', 'childishness', 'unallocable', 'purse', 'Read', 'Studio', 'eligible', 'robe', 'wherein', 'negotiate', 'flow', 'preservation', 'effluent', 'contradiction', 'saith', 'Hemphill', 'odors', 'neighbors', 'falls', 'Eustis', 'microphones', 'fighter', 'rag', 'Orthodoxy', 'voiced', 'unspeakable', 'necrosis', 'Perlman', 'curtains', 'Rousseau', 'shape', 'housed', 'tanks', 'hailed', 'stomachs', 'Injun', 'deserves', 'Sante', 'stain', 'had', 'take-off', 'dearth', 'reading', 'Bridget', 'laugh', 'athletics', 'encounter', 'general', 'orgasm', 'Check', 'terrorized', 'temple', 'contributes', 'invites', 'Sultan', 'sewers', 'punish', 'deprived', 'idleness', 'Pensacola', 'lids', 'Fiscal', 'gloomily', 'Andrena', 'commuting', '52', 'bloated', 'recorded', 'horseback', 'piece', 'eased', 'strongest', 'liberal-conservative', 'brands', 'assign', 'contingent', 'jurisdiction', 'chrome', 'needle', 'began', 'presenting', 'stairway', 'Century', 'ransacked', 'Drill', 'weeping', 'distributions', 'stage', 'trance', 'Minnesota', 'loaf', 'brilliant', 'prodded', 'regime', 'swamp', 'Atomic', 'Celtic', 'Nobody', 'X-region', 'Joshua', 'scabbard', 'examined', 'lunged', 'worlds', 'equated', 'connected', 'idealized', 'Southwest', 'proportionately', 'himself', 'Claims', 'authority', 'Woonsocket', 'pondered', 'dilution', 'gravest', 'excommunicated', 'hair', 'contested', 'Do', 'ESP', 'overweight', 'persuade', 'Persians', 'Idaho', 'rank', 'Lindemann', 'nerve', 'neurosis', 'buckets', 'arrivals', 'pork', 'Shadow', 'ingratiating', 'agglutinin', 'trooper', 'expended', 'depended', 'Jolliffe', \"Ruth's\", 'waiter', 'exultation', 'Europe', 'colors', 'diverted', 'Ku', 'charging', 'screening', 'laudanum', 'cues', 'finances', 'dissension', 'Meadow', 'amateur', 'esteemed', 'broadside', 'Its', 'rivalry', 'thought', 'transmutation', 'Son', 'Motor', 'Patchen', 'Hammarskjold', 'mundane', 'fanning', 'perceived', 'fronts', 'encampment', 'OH', 'spelled', 'straightened', 'Angels', 'imparted', 'anthology', 'Fund', 'Dylan', 'infliction', 'Baby', 'hiring', 'parody', 'detection', 'fortunate', 'Price', 'bangs', 'populace', 'Satan', '14th', 'evident', 'open', 'theoretically', 'bat', 'baths', 'recreational', 'compulsivity', 'tyranny', 'perjury', 'Pels', 'week', 'swallowing', \"Hardy's\", 'padding', '2-year-olds', 'Everybody', 'voters', 'castles', 'precisely', 'bourbon', 'International', 'trace', 'preference', 'NYU', 'flares', 'Representatives', 'specialization', 'unequivocally', 'Malraux', 'electricity', 'hem', 'bucking', 'baffling', 'experimented', 'Format', 'splashed', 'Score', 'implements', 'weakness', 'clenched', 'myriad', 'develops', 'dumped', 'cadre', 'observing', 'faint', \"America's\", 'sobering', 'comprising', 'Pocasset', 'repulsive', 'flu', 'high', 'adoption', 'foreman', 'ballad', 'wooded', '50%', 'planes', 'bust', 'Getting', 'Testament', '54', 'radii', 'adding', 'shattered', 'ya', 'outcry', 'coordinated', 'peanuts', 'appearance', 'Motel', 'neutralist', 'nailed', 'fellowship', 'taken', 'Bellows', 'Lear', 'employers', 'Forge', 'generation', 'fluid', 'Rotary', 'memorable', 'finest', 'beauties', 'collect', 'edifice', \"Juet's\", 'yellow-green', 'writers', 'disappointed', 'Yankees', 'Dickey', 'Smoky', 'spontaneously', 'barbecue', 'chancellor', 'bout', '1629', 'reduces', '75', 'marine', 'worthless', 'numbers', 'Stock', 'welded', 'conception', 'says', 'Chien', '$3', 'audible', 'combo', 'wrongs', 'San', 'livelihood', 'forked', 'explicitly', 'grievance', 'polynomials', 'workouts', 'Turn', 'reluctantly', 'fat', 'spires', 'spurred', 'Help', 'almost', 'begun', 'Lounge', 'moderates', 'contain', 'Pharmacy', 'obligations', 'stations', 'demonstrable', 'stubbornly', 'relied', 'fiction', 'garbage', 'villages', 'conquered', 'grinders', 'adjectival', 'injured', 'SAC', '99', 'Monday', 'severed', 'intensifier', 'ranges', 'Melville', 'tenable', 'steak', 'analyses', 'antisubmarine', 'gotta', 'infants', 'Manufacturers', 'diarrhea', 'pine', 'historically', 'servicing', 'Region', 'eccentricity', 'unpleasant', 'Hoag', 'surpluses', 'begotten', 'pony', 'Johnnie', 'outrigger', 'Far', 'temperament', 'Wisconsin', 'enjoy', 'half-man', 'Ulyate', 'posse', 'oysters', 'Beebe', 'vigilance', 'poker', 'pursuit', 'consisted', 'jerky', 'introduces', 'scrawled', 'aesthetic', 'mankind', 'Olgivanna', 'sucking', 'guilty', 'York', 'impressed', 'schoolboy', 'zoo', 'denials', 'investigating', 'visits', 'maintaining', 'Salt', 'sparked', 'unwillingness', 'Lowell', 'agrarian', 'warmed', 'welcome', 'Tahoe', 'ointment', 'enterprising', 'bulletin', 'blues', 'major-league', 'sealing', 'allotments', 'concentrate', 'Self', 'legitimized', 'consented', 'Welch', 'Hurok', 'against', 'portions', 'lever', 'Pasha', 'brightness', 'interrelation', 'Cossack', 'marines', 'Ada', 'polarization', 'Russians', 'puny', 'Sing', 'lavish', 'zinc', 'Martinelli', 'soup', 'SAMOS', 'limitations', 'apathy', 'uncharged', 'Completions', 'slammed', 'Rep.', '1941', 'job', 'nakedness', 'dismissal', 'buzzing', 'scratching', 'osmotic', 'loosen', 'granular', 'stunning', 'precipitated', 'Pamela', 'dubbed', 'viscoelasticity', 'attentive', 'prosper', 'news', 'themes', 'Hopkins', 'Giorgio', 'satisfies', 'Bisque', 'cardinal', 'resigned', 'apply', 'instance', 'swelled', 'chartered', 'Soviets', 'committing', 'squatting', 'crawled', 'despotism', 'Leyte', 'weeds', 'qualification', 'Beowulf', 'Ethel', 'Gehrig', 'hoss', 'psychic', 'resides', 'meats', 'parole', 'conscious', 'veto', 'runs', 'rowdy', 'tame', 'astonished', 'Abe', 'coolest', 'recommending', 'trudged', 'govern', 'Confucian', 'first-rate', 'Kid', 'pressed', 'radius', 'gaped', \"brother's\", 'thirties', 'disdain', 'echo', 'Yugoslav', 'confused', 'stasis', \"historian's\", 'royal', 'Phase', 'holders', 'proportional', 'expedient', 'zoning', 'discover', 'Trout', 'excludes', 'voltages', 'GOP', 'ads', 'enactment', 'Territory', 'Mankowski', 'uncle', 'inference', 'self-consciously', 'faculties', 'Aside', 'abortive', 'towers', 'boa', 'access', 'ecumenical', 'torrent', 'dishonest', 'groves', 'slump', 'row', 'Pausing', 'Dame', 'crowded', 'Brace', 'Strings', 'steaming', 'expressing', 'Mondrian', 'cautious', 'continuing', 'lapse', 'drawn', 'intentionally', 'withdraw', 'packed', 'Exchequer', 'Long', 'livery', 'moderately', 'ago', 'popularity', 'Beadle', 'savory', 'Everywhere', 'denote', 'aflame', 'Dashiell', 'management', 'mediocre', 'Benjamin', 'sec.', '9th', 'entertainments', 'lied', 'subdued', \"It's\", 'technically', 'buyers', 'relations', \"Nation's\", 'Dusseldorf', 'Finals', 'UPI', 'pit', 'assuming', 'Washizu', 'images', 'superintendent', 'interiors', 'muzzle', 'evoke', 'treasurer', 'exploding', 'prevalent', 'reproduction', 'niece', 'magical', 'Buick', 'duplication', 'governed', 'expectations', 'Orient', 'Dodgers', 'Constable', 'Brooklyn', 'concluded', 'self-pity', 'Eliot', 'Gyp', 'la', 'Blackwell', 'towels', 'flopped', 'applaud', 'cerebral', 'colorful', 'tones', 'resulted', 'warning', 'brink', 'millennium', 'swearing', 'Rivers', 'wrote', 'Clemente', 'psyche', 'proffered', 'hunter-killer', 'colleges', 'gusts', 'labeled', 'satiric', '2:34', 'three-month', 'pain', '1932', 'coast', 'Catholics', \"Hoijer's\", 'restoration', 'counterattack', '0.8', 'cooperation', 'Eye', 'estranged', 'deer', 'disseminated', 'hull', '1943', 'lethal', 'skirt', 'sack', 'cleaners', 'tight', 'perpetuating', 'fair', 'appreciated', 'smiling', 'Speak', 'tolerated', 'Young', 'Completing', 'substituting', 'provisions', 'clearer', 'contestants', 'economize', 'impersonal', 'Swedish', 'prey', 'deficient', 'cradled', 'syrup', 'grossly', 'humanism', 'bearded', 'Brannon', 'learn', 'elephants', 'woven', '1910', 'challenging', 'beautifully', 'convenience', 'quietly', 'on-the-job', 'Arger', 'dealers', 'bid', 'NW', 'astronomy', 'likewise', 'diagnose', 'Marty', 'Supply', 'settlements', 'cabana', 'languages', 'Member', 'animal', 'Hoyt', 'obligated', 'wrist', 'flapping', 'aberrant', 'sanitation', 'Curt', 'barber', 'frightful', 'erudite', 'extends', 'ol', \"Freddy's\", 'Treaty', 'earning', 'variously', 'excluded', 'Ethics', 'tour', 'sub', 'gyros', 'Those', 'Jazz', 'celestial', 'choreographed', 'grants', 'brandy', 'flexural', 'charitable', 'illustrates', 'League', 'Hull', 'Allstates', 'university', 'chiefly', 'trolley', 'circled', 'elasticity', 'aggression', 'reserved', \"mayor's\", \"countin'\", 'organizers', 'Eskimo', 'thrilled', 'spy', 'winked', 'dim', 'grotesquely', 'haven', 'sensibilities', 'also', 'pits', 'profitably', 'nightfall', 'wisdom', 'unnatural', 'resorting', 'well-established', 'fumes', 'purposes', 'divides', 'touch', 'tent', 'autobiography', 'obliged', 'Competition', 'left', 'abroad', 'symptoms', 'nozzle', 'maturation', 'Y-cell', 'drowning', 'Larry', 'Skies', 'airplanes', 'returned', 'Buddhism', 'radiant', 'slope', 'disarmed', 'item', 'Kodyke', 'varying', 'verbally', 'although', 'foil', 'marrying', 'Fresnel', 'universal', 'cringing', 'claimants', 'place-name', '36', 'Handsome', 'Bowl', 'type', 'covering', 'Gee', 'undertakings', 'forte', 'Nutcracker', 'rationally', 'glimpses', 'proposing', 'platform', 'incur', 'sauces', 'Ritchie', 'evolve', 'appears', 'mulch', 'Meeker', 'Protestant', 'Elements', 'able', 'Bar', 'Jo', \"U.N.'s\", 'Makes', 'boys', 'Premier', 'boasting', 'widowed', 'Fraction', 'descended', 'scratch', '700', 'denounced', 'Group', 'shifted', 'Budd', 'conformists', 'heroes', 'Methodist', 'uncounted', 'runways', 'preached', 'akin', 'caressed', 'masters', 'implying', 'perfume', 'cases', 'Always', 'bile', 'Manhattan', 'impression', 'stakes', 'closing', 'patient', 'eaten', '1904', 'Heat', 'Dwight', 'Due', 'banner', 'closes', 'prisoners', 'abstracting', \"night's\", 'frost', 'cane', 'agglutination', 'barges', 'monkey', 'specifying', 'urgency', 'penalized', \"Barco's\", 'America', 'waved', 'Baton', 'sacredness', 'star', 'reference', 'Godot', 'rolled', 'Hester', 'shed', 'collage', 'enlarged', 'Cape', 'violence', 'cathedral', 'Lauchli', 'Coney', 'DTF', 'extracting', 'parenchyma', 'parasites', 'statistical', 'spacers', 'generalize', 'shrill', 'channel', 'geometry', 'Santa', 'factory', 'Sedgwick', 'ally', 'Edwards', 'Income', 'rations', 'insane', 'chunks', 'thread', \"Where's\", 'regaining', 'emotionally', 'plugged', 'aunts', 'downwind', 'table', 'obsessed', 'psalmist', 'directness', 'professedly', 'fish', 'investigator', 'self-esteem', 'installed', 'verbenas', 'bugs', 'plowed', 'thermostat', 'illusion', 'Diana', 'throws', '1040', 'promotion', 'robes', 'jackets', 'musician', 'enlist', 'win', 'Torrio', 'foreseen', 'substances', 'prophecy', 'retribution', 'gets', 'delinquents', 'designs', 'Allied', 'designed', 'induced', 'parkway', 'imitate', 'Rock', 'mobile', 'repeated', 'Nieman', 'sue', \"Officers'\", 'Story', 'volume', 'Personally', 'respectability', 'rundown', 'space', 'symbolized', 'define', 'moment', '35', 'perceive', 'Directory', 'criticisms', 'sizable', 'delinquent', 'labour', 'summarize', 'invoke', 'frenzy', 'fucken', 'attempting', 'outskirts', 'translation', 'observer', 'laundering', 'Area', '1901', 'Gate', 'respecting', 'institutional', 'broad-brimmed', 'confuse', 'junction', 'Lalaurie', 'sprayed', 'Award', 'greed', 'single-step', 'skullcap', 'happiness', 'alerted', 'commented', \"she'd\", 'crises', 'plot', 'extracts', 'leveled', 'Salisbury', '1888', 'computers', 'belief', 'Igor', 'substantially', 'Isles', 'flowering', 'operation', 'warned', 'taught', 'Thirties', 'mystique', 'superiors', 'surely', 'impractical', 'exclaimed', 'booze', 'priests', 'volley', 'offshore', 'teachings', 'hinges', 'complex', 'premieres', 'aids', 'preserves', 'thinkin', 'Catatonia', 'megatons', 'converge', 'received', 'told', 'procedures', 'infinitely', 'Accacia', 'Bari', \"summer's\", 'admiration', 'Microscopically', 'High', 'consultation', 'nonsense', 'Brothers', \"blonde's\", 'Tennis', 'licked', 'drops', 'peer', 'Trimble', 'Consequently', 'studio', 'Muslim', 'brass', '$15', 'indirect', 'Festival', 'unbalanced', 'complaints', 'Blessed', 'Schaffner', 'marrow', 'replacement', 'Taliesin', 'bronchiole', 'inexplicable', 'forearm', 'terrific', 'premarital', 'Robbins', 'Mayor', 'unprecedented', '1803', 'obedience', 'phony', 'originality', 'Bede', 'vacation', 'aimed', 'salami', 'Muller', 'gardener', 'attends', 'drought', 'drilled', 'mining', 'Cars', 'unused', 'empty', 'famine', 'inorganic', 'divinely', 'librarian', 'Moriarty', 'dancers', 'minorities', 'Klan', 'codes', 'dots', 'Prosecutor', 'claret', 'present', 'Jenkins', 'intimately', 'Doaty', 'Indianapolis', 'lessen', 'photographs', 'deemed', 'Revulsion', 'compulsory', 'holiday', 'threaten', 'sunlight', 'defined', 'duty', 'Hogan', 'recollections', 'stag', 'catering', 'failed', 'distilled', 'involutions', 'X', 'Grafton', 'Welcome', 'above', 'would-be', 'obviously', 'sped', 'naturalistic', 'Defeat', 'trait', 'crazily', 'quitting', 'strict', 'Pagan', 'debutante', 'abused', 'race-driver', '1942', 'barns', 'pet', 'pushes', '**yc', 'terror', 'churchmen', 'crash', 'lewd', 'Cupply', 'arisen', 'capture', 'Little', \"herdin'\", 'hunting', 'quaint', 'lately', 'guts', 'insulting', 'Stacy', 'reasoned', 'pawnshop', 'storehouse', 'sub-interval', 'Fayette', 'striking', 'armor', 'trouser', 'nonsingular', 'flour', 'bankruptcy', 'key', 'envied', 'inhumane', 'up', 'transient', 'calmly', 'price-consciousness', 'silhouetted', 'swayed', \"Russia's\", 'all-Negro', 'fellow', 'Plymouth', \"Palfrey's\", 'proprietors', 'dental', 'stereotyped', 'Historically', 'semantic', 'hatred', 'planted', 'steel', 'ceaseless', 'alabaster', 'Barney', 'induction', 'blinded', 'interests', \"Year's\", 'configuration', 'lotion', 'mid-September', 'dilatation', 'fringed', 'instinct', 'adequacy', 'Canada', 'Sokol', 'revealing', 'necessitate', 'chariot', 'legacy', 'spacious', 'capacity', 'Legislature', 'casually', 'hopeful', 'blacked', 'DiMaggio', 'soap', 'Wild', 'modestly', 'sells', 'step', 'comply', \"Army's\", 'about', 'Meanwhile', 'flying', 'reconnaissance', 'Over', 'rest', 'levels', 'Albert', 'interest', 'Simms', 'indolent', 'stood', 'mottled', 'Hughes', 'drives', 'socialistic', 'symphonies', 'hysteria', 'Sandman', 'doll', \"They're\", 'amplified', 'soak', 'F.', 'Ballet', 'condemning', 'leaked', 'Pompeii', 'testified', 'uneasily', 'shorter', 'mate', 'erection', 'Robert', \"State's\", 'amounted', 'remotely', 'pitches', 'gadget', 'blow', 'consolidation', 'Benson', 'restraints', 'caught', 'Tone', 'Presumably', 'Notte', 'rich', 'trembled', \"state's\", 'convent', 'sixty-one', 'monstrosity', 'soluble', 'stepmother', '1-a', 'During', 'both', 'submerged', 'lick', 'undergone', \"lady's\", 'inflection', 'asleep', 'teaching', 'sing', 'Die', 'relatively', 'flashy', 'grain', 'This', 'Westminster', 'keyhole', 'communism', 'accelerate', 'unload', 'arrangements', 'virtually', 'attendants', 'impatiently', 'gnawing', 'antagonistic', 'tractor', 'capillary', 'cheese', 'quart', 'dynamite', 'traced', 'prodigious', 'bulbs', 'promotional', 'exalted', 'series', 'proposals', 'justify', 'Cotton', 'Know', 'turn', 'nothingness', 'Extensions', 'innocence', \"you're\", 'i.e.', 'Technology', 'chief', 'undefined', 'cutters', 'loomed', 'irritably', 'president', 'conveniently', 'leered', 'Until', 'manufacturers', 'sparring', 'Clements', 'Onsets', 'Jones', \"We're\", 'enchantment', 'face-saving', 'radiosterilization', '$450', 'mechanisms', 'keep', 'fumbling', 'smug', 'depredations', 'missing', 'Ethan', 'brevity', 'Amateur', 'clever', 'Fudomae', 'realism', 'satisfy', 'indicates', 'Money', 'Steel', \"Kipling's\", 'consultants', 'brushing', 'arsenal', 'rat', 'conceive', 'useful', 'parent', 'Max', 'pane', 'third-grade', 'Box', 'sensibility', 'hospitality', '2:01.1', 'franchise', 'spreads', 'built', 'Yang', 'Hi', 'liberals', 'epiphysis', 'introject', 'Dow', 'aimless', \"givin'\", 'churches', 'fields', 'assessment', 'SMU', 'outfit', 'beep', 'censuses', 'marketplace', 'out', 'index', 'bard', 'anxiously', 'contorted', 'selections', 'nickname', 'evolutionary', 'slit', 'taxation', 'Somerset', 'Freudian', 'Reno', 'slippers', 'uncover', 'Full', 'path', 'buy', 'strife', 'lawyers', 'Column', 'fruitless', 'anionic', 'citizen', 'Director', \"Johnson's\", 'addiction', 'ensemble', 'clergymen', '375', 'nestled', 'timberlands', 'incessant', 'bidders', 'habits', 'Marston', 'is', 'ostensible', 'rein', 'grows', 'horror', 'young', 'poorly', 'Calf', 'Lover', 'Saturn', 'satisfied', 'Madison', 'Law', 'markedly', 'slight', 'regularly', 'comprised', 'Olivetti', 'bills', 'contrary', 'residue', 'interior', 'wild', 'circumference', 'clinical', 'barricade', 'saucepan', 'epicenter', 'nearing', 'firmer', 'viewer', 'Arm', 'room', 'streamed', 'drastic', 'harsh', 'diffraction', 'mister', 'smoother', 'organism', 'beer', 'aggressive', 'package', 'inhabitants', 'Whitehead', 'Mmes', '33', 'Bank', 'Nonsense', 'impudent', 'Gaulle', 'spaced', 'Podger', 'D.C.', 'steeped', 'boughs', 'sighed', 'terminology', 'unexplained', 'top-level', 'chambermaid', 'cosmos', 'Rebel', 'profoundly', 'Conchita', 'dean', 'undermine', 'diminutive', 'overheard', 'Quarter', 'rage', 'streaks', 'cursing', 'struck', 'recent', 'mention', 'wrangler', 'begging', 'dated', 'ethyl', 'optimism', \"More's\", 'society', 'clubs', 'utilization', 'pretense', 'calibers', 'impartial', 'butts', 'supervised', 'shielding', 'impatience', \"Stanley's\", 'Nogol', 'erect', 'bet', 'headlines', 'plasma', 'issuing', 'particulars', 'caressing', 'trim', \"shouldn't\", 'acquired', 'Cady', 'rotor', 'exceptionally', 'Assumption', 'beacon', \"He'd\", 'Method', 'occupation', 'NE', 'curvature', 'defensible', 'heartening', 'cumbersome', 'functions', 'companies', 'Nazi', 'magnet', 'fire', 'fuses', 'whistled', 'thieves', 'passing', 'tappets', 'richer', 'whitened', 'flood', 'exhibits', 'Mahzeer', '7:30', 'saxophone', 'mutiny', 'inexhaustible', 'Kohnstamm-positive', 'suffocating', 'immature', 'extremely', 'happen', 'seasons', 'mindless', 'bullets', 'Nugent', 'deduction', 'exclamation', 'arrive', 'hormone', 'Kulturbund', 'dubious', 'Len', 'rigs', 'snatches', \"master's\", 'bear', 'lighter', 'imagined', 'multitude', 'secretary', 'likes', 'Veterans', 'multiplication', 'filing', 'excuse', 'colt', 'Base', 'thermocouples', 'crossed', 'recording', 'misgivings', 'yanked', \"o'\", 'walls', 'factions', 'surged', 'spectators', 'writings', 'intriguing', 'freeing', 'form', 'eighty-three', 'smoothly', 'sliding', 'frames', 'correspondence', 'signatures', 'younger', 'scrutinizing', 'prediction', 'comforts', 'appear', 'unsold', \"SAAMI's\", 'fountains', \"Shelley's\", 'emergence', 'peeling', 'Rod', 'stamped', 'categories', 'Langer', 'Held', 'pars', 'cherish', 'mustard', 'Authorities', 'graduates', 'assembled', 'poll', 'zealously', 'herds', 'addresses', 'weave', 'Miss.', 'ancestor', '25%', 'dissuade', 'Teller', 'outset', 'Twins', 'wandered', 'biology', 'Peters', 'frustration', 'Seventh', 'chain', 'glimmer', 'Nevertheless', 'larvae', 'issues', 'fingerprints', 'operative', 'non-profit', 'rebuild', 'Blackman', '39', 'chuckled', 'these', 'Rachel', 'orbit', 'Thurber', 'cup', 'clay', 'sculptured', 'assume', 'unstressed', 'boasted', 'acknowledge', 'Bad', 'About', 'Privately', 'bless', 'careless', 'freed', 'staging', '133', 'makers', 'ever-expanding', 'proclaim', 'pioneering', 'nearby', 'thickly', 'Reuben', 'reorganization', 'flower', 'advised', 'gravel', 'correct', 'transform', 'father', 'cabbage', 'ridden', 'Results', 'Susie', 'arrival', 'knows', 'loop', 'Average', 'W-region', 'feverish', 'ordering', 'policeman', 'alight', 'I', 'extensions', 'indifferent', 'tooling', 'crystallites', 'boundaries', 'Angie', 'Port', 'pocketbook', 'profile', 'raising', 'speculating', 'Figures', 'predicts', 'instantly', 'banged', 'sworn', 'exhibitions', 'borrowed', 'Undoubtedly', 'anti-Semites', '55', 'shows', 'junior', 'Works', 'More', 'within', 'slugging', 'Republican', 'clutches', 'Direct', 'implementation', 'Pawtuxet', 'care', 'Russia', 'appealing', 'Emmett', 'proves', 'premium', 'suburb', 'Curtis', 'bringing', 'veil', 'cardinals', 'scientists', 'script', 'sawdust', 'Digby', 'ocean', 'accomplish', 'favorably', 'information', 'widened', 'emitted', 'vessel', 'correlation', 'stated', '1810', 'analogous', 'Motors', 'locale', 'continuance', 'tendency', 'aides', 'serpents', 'Koussevitzky', 'Winthrop', 'somewhere', 'newly', 'underprivileged', 'structured', 'contributed', '114', 'majority', 'cholesterol', 'implementing', 'circumstances', 'Momoyama', 'marking', '11:20', 'brown', '59', 'petitioned', 'longer', 'plowing', 'Morris', 'wider', 'saves', 'bargaining', 'radish', 'merge', 'man-made', 'narrow', 'intelligently', 'Wives', 'dictatorship', 'beverages', 'slacks', 'proved', 'Robards', 'atrophy', 'revealed', 'ramifications', 'incorporates', 'occupying', 'powerful', 'couples', 'dominate', 'poor', 'consequent', 'notwithstanding', 'homely', 'William', 'Foundation', 'with', \"bride's\", 'scrutinized', 'exterior', 'cartoonist', 'conducts', '0.4', 'cookies', 'Ref.', 'civilized', 'handling', 'mercilessly', 'changing', 'pump', 'climactic', 'coordinator', 'Whatever', 'halfway', 'hydrochloride', 'Arriving', 'haunted', 'Drawing', 'Minutes', 'moves', 'live', 'band', 'alarm', 'conditions', 'flies', 'Northerner', 'Properties', 'Professional', 'geology', 'Tory', 'transit', 'Rob', 'natives', 'pickled', 'capes', '48', 'Resolved', 'sew', 'curses', 'Infantry', \"family's\", \"haven't\", 'Mecholyl', 'Vikings', '1959', 'ideologies', 'misbehavior', 'mounts', 'diagnostic', '1859', 'thence', 'sting', 'hatching', 'photos', 'expand', 'worm', 'ledger', 'knocking', 'Campbell', 'Ten', 'ideas', 'reservoir', 'Miriam', \"B'dikkat\", 'gaunt', 'paintings', 'shrinkage', 'sexually', 'analogy', 'Wiley', 'liberated', 'exposition', 'cookie', 'anyway', 'flux', \"Isn't\", 'airy', \"King's\", 'compartment', 'barren', 'Fromm', 'rooted', 'perfection', 'inducted', 'issuance', 'efficiently', 'flip', 'cathedrals', 'several', 'journey', 'Manas', 'amusing', 'circus', 'Courses', \"Rousseau's\", 'engage', 'government', 'talented', 'pregnant', 'Financial', 'adjusting', 'Luis', 'savage', 'irresponsibility', 'Superintendent', 'pleasure', 'grieving', 'claims', 'gallery', 'Killpath', 'ethos', 'spaces', 'tactic', 'Irving', 'longest', 'frail', 'dozens', 'showered', 'pronouncement', 'Skorich', 'Charlottesville', 'putt', 'picture', \"Eileen's\", '45-degree', 'tattered', 'curves', 'ascertained', 'dervishes', 'troupe', 'Township', 'range', 'lucrative', 'Commons', 'TR', 'rotated', 'Ripe', 'revenue', 'fashionable', 'barbecues', 'confirmed', 'insulation', 'catcher', 'severity', 'staff', 'Maintenance', 'imbedded', 'architecture', \"wouldn't\", 'calibration', 'inside', 'gossip', 'shell', 'solution', 'flicked', 'material', 'uncommon', 'Amendments', 'undertakes', 'embodying', 'clip', 'pitiable', 'Xydis', 'Macklin', 'heyday', 'Spring', 'Hawaii', \"Braque's\", 'kinesthetic', 'self-reliant', 'Advisory', 'momentous', 'constructed', 'derived', 'damnation', 'p', 'flare', 'kicks', 'Finance', 'lifting', 'Red', 'set-up', \"school's\", 'light', 'excessive', 'attaining', 'payment', 'duel', 'Pah', 'rational', 'Solution', \"baby's\", 'someday', 'parallelism', 'rock', 'Ch.', 'indicating', '44', 'Did', 'driers', 'Bureau', 'flags', 'Wellesley', 'income', 'consequences', 'spacecraft', 'inviolate', 'managed', 'couch', 'consummate', 'objection', 'Ronnie', 'theme', 'dunes', \"Speaker's\", 'always', 'latitude', 'Urethane', 'harmonies', 'primarily', '56', 'midway', 'confidence', 'ciliated', 'From', 'leader', 'assess', 'hardly', 'Formosa', 'decidedly', 'population', 'immersed', 'awaited', 'Were', 'behave', 'conceded', 'Real', 'kinds', 'proclaimed', 'Commonweal', 'extract', '1934', 'height', 'familiar', 'display', 'regiment', 'blushing', 'treatments', 'coarse', 'function', 'Weigand', 'Edison', 'enacting', 'bring', 'Cousin', 'parents', 'scientifically', 'spur', 'retention', 'Loop', 'mortgage', 'Newest', 'actively', 'camp', 'far-reaching', 'noise', 'Health', 'childbirth', 'slant', 'transitions', 'troubled', 'pitcher', 'Littlepage', 'outdated', 'enough', 'reputedly', 'headquarters', 'clipped', 'rabbits', 'Come', 'OK', 'reserves', 'administration', 'Foliage', 'Third', 'lunch', \"years'\", 'son-in-law', 'acknowledged', 'Oso', 'maintained', 'funny', 'superb', 'postponing', 'Bosphorus', 'Socialist', 'professionals', 'sleeping', 'strained', 'Gibbs', 'reason', \"Marx's\", 'relativity', \"Kirby's\", 'Ahmet', 'restricted', 'disposition', 'rites', \"Keys's\", 'fledgling', 'proposal', 'sides', 'transported', 'blew', 'generally', 'measurement', 'only', 'examine', 'Patrice', 'authentic', 'Rag', 'hydrogens', 'sedans', 'Everything', 'Essentially', '1965', \"Bruckner's\", 'N.C.', 'considerations', 'jar', 'Ricco', 'media', 'market', 'consecutive', 'bumblebees', 'sediments', 'Industry', 'bug', 'Increased', 'misleading', 'Richardson', 'Corp.', 'exceed', 'Fashion', 'Report', 'humorous', 'Montgomery', 'opponent', 'candidates', 'Sherry', 'Madonna', 'twentieth-century', 'oil', 'recruit', 'coincided', 'arrogance', 'airfield', 'pubescent', 'thesis', 'each', 'pour', 'Thursday', 'adaptations', 'stopping', 'stationed', 'twenty-five', 'Sheldon', 'select', 'warm', 'Bake', 'researcher', 'chickens', 'threatens', \"That's\", 'mistaken', 'monacle', 'uniformity', 'Athens', 'chopped', 'murky', 'grounded', 'maps', 'arylesterase', 'Wexler', 'McAuliffe', 'buildings', 'dependency', 'fifteen-minute', '1986', 'bill', 'braces', 'done', 'reflected', 'Variations', 'soils', 'hug', 'plastered', 'lieu', 'settler', 'Soon', 'Estate', 'engines', '1909', 'fatal', 'paired', 'six', 'Rex', \"Picasso's\", 'Lilly', 'effecting', 'gleaming', 'occurred', 'crazy', 'twisting', 'snowy', 'behalf', \"Brown's\", 'Studies', 'Af-stage', 'Figs.', 'heap', 'bites', 'southpaw', 'hampered', 'Operation', 'counters', 'Wilhelm', 'jerked', 'Uh', 'problem', 'helps', 'actions', 'Cranston', '135', 'cites', 'way', 'furrow', 'orderly', 'Moon', 'Anna', 'climbed', 'clocks', 'block', 'spraying', 'finally', 'disprove', 'Brisbane', 'poised', 'locks', 'quantitative', 'Facing', 'abyss', 'apparently', 'there', 'institute', 'micelles', 'pro-Western', 'Keys', 'Pilgrims', 'girl', 'taxes', 'deposit', 'mechanics', 'homemaker', 'intuition', 'reciprocal', 'whole', 'pier', 'Battery', 'hunt', 'versions', 'fitting', 'politically', 'applying', 'Chen', 'muttering', 'perpetuate', 'nervously', 'saloons', 'cops', 'Universal', 'coldly', '250', 'gentility', 'radios', 'balanced', 'Subdivision', 'sensors', 'warden', 'introduced', 'Plainfield', 'gangs', 'Blues', 'tiring', 'names', 'marred', 'ulcer', 'Ave.', 'patrolman', 'bets', 'rightful', 'Bizerte', 'Underlying', 'warranted', 'coup', 'moods', 'Jensen', 'demonstrates', 'developed', 'Mexicans', 'concurrent', 'grievances', 'Istanbul', 'museums', 'DA', 'canceled', 'microscope', 'disappointment', 'contingencies', 'construction', 'instantaneous', 'matron', 'resolution', 'Herr', '3,500', 'sinner', 'sleeve', 'Nick', 'ministry', 'Things', 'emerge', 'shoving', 'curbs', 'density', 'stamp', 'Sposato', 'diary', 'implication', 'bartender', 'appetites', 'Coons', 'brother-in-law', 'thinks', 'Steps', 'administrator', 'tests', 'clerks', 'irritated', 'hysterical', 'puffed', 'Cards', 'rupture', 'apothecary', 'cloudburst', 'influenced', 'ape', 'mammalian', 'fostered', 'loves', \"William's\", 'allowed', 'Alumni', 'Where', 'reactions', 'hits', 'shortages', 'exceeds', 'City', 'Portsmouth', '500,000', 'strides', 'monetary', 'pieces', 'George-Barden', 'Granny', 'mouse', 'carts', 'Phillies', 'dinnertime', 'eighty-sixth', \"Khrushchev's\", 'current', 'interval', \"she's\", 'endeavor', 'centrifuged', 'shortage', 'de', 'hotter', 'island', 'straws', 'Murray', 'strains', 'chandelier', 'diminish', 'Schnabel', 'temporal', 'rivers', 'moderator', 'Gables', 'roads', 'God', 'hens', 'custodian', 'foods', 'precious', 'buffalo', 'switching', 'Grecian', 'doubted', 'via', 'blooms', '168', 'tongues', 'classify', 'Both', 'operates', 'Prairie', \"Jubal's\", 'dislikes', 'amazement', 'suppose', 'inform', 'paints', 'prolonged', 'awakened', 'appointees', 'Fresh', 'violating', 'lb.', 'practical', 'Publication', 'protect', 'hold', 'handgun', 'Petrie', 'unfair', 'Coal', 'denial', 'Grands', 'conventional', 'tragic', 'disease', 'oath', 'railing', 'newsmen', 'wedge', 'significance', 'Practically', 'glorious', 'Shell', 'legendary', \"Dill's\", 'commissioners', \"Wasn't\", 'Fleet', 'talent', \"she'll\", 'symbol', 'inexperienced', 'rushed', 'engraved', 'Simple', 'participates', 'inviting', 'flaring', 'unlimited', 'angrily', 'Scotland', 'waters', 'broadcast', 'danger', 'enzymatic', 'worse', 'Open', 'well-meaning', 'gasping', 'insofar', 'monotone', 'scraped', 'from', 'spokesman', 'monopoly', 'Siddo', 'dedicated', 'commander', 'documented', 'timing', 'charmed', 'forecast', 'Follow', 'outboard', 'permanently', 'depend', 'precedent', \"water's\", 'businessmen', 'celebration', \"stranger's\", 'characters', 'tingling', 'ponies', 'local', 'ant', 'revival', 'intellectual', 'target', 'was', 'snag', 'editor', 'demonstration', 'harness', 'Old', 'champagne', 'slept', 'guarding', 'helpfully', 'techniques', 'simmer', 'referrals', 'creep', 'slip', 'heartily', 'apprehension', 'verified', 'trustee', 'spectacular', 'Towne', 'copied', 'Twenty-second', 'flapped', 'Plate', 'McCarthy', 'discourse', 'ripple', 'Stein', 'subconscious', \"someone's\", 'Picasso', 'disciples', 'reliance', 'Religious', 'interfaith', 'observant', 'sharks', 'Writing', \"I'd\", 'among', 'imperfect', 'M.A.', 'certified', 'exerted', 'imported', 'drywall', 'conscientious', 'floral', 'hustler', 'incompetence', 'Grazie', 'direction', 'reign', 'directs', 'denounce', 'hello', 'Cook', 'Shore', 'Fletcher', 'immigrant', 'wedding', 'goitre', 'carpentry', 'Available', 'cereals', 'solidly', 'Religion', 'defy', 'corrected', 'Buck', 'eqn.', 'Funk', 'restaurants', 'polycrystalline', 'unorthodox', 'whine', 'On', 'Bankers', 'physically', 'lodge', 'sticks', 'registrant', 'skipped', 'imposition', 'Moritz', 'bare', 'cast', 'relieved', 'Columns', 'McFeeley', 'crisp', 'Smith-Hughes', 'train', 'Randolph', 'Kern', 'testifies', 'birth', 'Baird', \"Indian's\", 'Concert', 'neighborhoods', 'triangular', 'authorizations', 'gloom', 'Called', 'cowboy', 'familial', '1776', 'Herman', 'energies', 'prejudices', 'valid', 'Damned', 'gripped', 'ever-present', 'exceptions', 'engaged', 'collusion', 'Miller', 'exploits', 'entrepreneur', 'Gus', \"Kitty's\", 'self-confidence', 'manor', 'swimming', 'burning', 'harm', 'bounced', 'comedian', 'expectancy', 'degree', 'Wayne', 'detecting', 'well-informed', 'got', 'sovereigns', 'Confederation', 'whereof', 'enigma', 'Orville', 'share', 'yield', 'Advocate', 'endangering', 'roaming', 'repeats', \"doesn't\", 'awed', 'enjoying', 'Newfoundland', 'fondness', 'procurer', 'Sound', 'Airlines', 'Brett', 'mentally', 'trails', 'in', 'Danube', 'illustrating', 'categorical', 'weight', 'jurisprudence', 'Java', 'breakup', 'spurs', 'incisive', 'self-defense', 'crib', 'success', 'queens', 'Parthenon', 'Tristano', 'responsiveness', 'benefactor', 'paid', 'Jerome', 'judicial', 'trembling', 'equilibrium', 'Johnny', \"didn't\", 'humbly', 'continual', 'Agency', 'intercept', 'sculptures', 'WBAI', 'sheepskin', 'outright', 'towel', 'urban', 'U.N.F.P.', 'decent', 'forbidden', 'earth', 'assessing', 'tables', 'Arundel', 'Jesuit', 'Daily', 'seriousness', 'reared', 'painfully', '1860', 'Lenin', 'Below', 'Greenland', 'Private', 'reflects', 'little', 'call', 'out-of-pocket', 'juice', 'Theatre', 'twice', 'Ward', 'ahead', 'Toynbee', 'traded', 'nothin', 'superimposed', 'Additional', 'echoed', 'concerned', 'Hirey', 'Ministry', 'Neutral', 'Index', 'Boeing', 'delinquency', 'Information', 'devastated', 'Monthly', 'illuminated', 'approximated', 'write', 'instruct', 'injecting', 'variant', 'Notes', 'indistinguishable', 'Fear', 'new', 'defeat', 'sores', 'desperate', 'abeyance', 'splitting', 'wasted', 'idealism', 'Hartman', 'trilogy', 'bars', 'easel', \"Jim's\", 'Regardless', 'frankness', 'Banks', \"another's\", 'bond', 'dropouts', 'abetted', 'accordance', 'crack', 'parochial', 'Ramsey', 'scholar', 'coaches', 'first-class', 'bored', 'stockade', 'lobe', 'avant-garde', 'fragrance', 'Sansom', 'therefore', 'stemmed', 'expeditions', 'lookup', 'Sen.', 'expose', 'climax', 'rationed', 'tensely', 'overly', 'Furthermore', 'rot', 'Schwarzkopf', 'totals', 'litigation', 'boil', 'recover', 'linen', 'courthouse', 'landed', 'greetings', 'Cambridge', \"Diane's\", 'meaning', \"Atlanta's\", 'assumes', 'farmers', 'slippery', 'performance', '$750', 'respectful', \"Bill's\", 'speed', 'bureaucracy', 'Marxist', 'Natural', 'enterprise', 'attending', 'goddess', 'halt', 'shining', 'safety', 'Petersburg', 'horsemanship', 'Printing', 'laborers', 'defended', '128', 'crystals', 'contrasted', 'salty', 'leaning', 'thirsty', 'tagged', 'Francisco', 'dismissing', 'discourage', 'supra', 'brute', 'Committeemen', 'ther', 'N.', 'militant', 'Tunisian', 'contours', 'slaked', 'Philmont', 'casting', 'priority', 'reputed', 'Age', 'unbearable', 'chambers', 'terminals', 'adjustment', 'reportedly', 'unanimous', 'conversational', 'die', 'Pope', 'advising', 'infrequent', 'charge', 'muted', 'youths', 'pollution', 'knew', 'P.M.', 'Secretary', 'Braves', 'valves', 'Moreland', 'Underneath', 'infatuation', 'dozing', 'ascribed', 'Braque', 'Siebern', '109-degrees-F', 'marching', 'Separate', 'Civil', 'interferometer', 'Amadee', 'melting', 'commencement', 'preceding', 'peasant', 'dissolved', 'defending', 'ruler', 'Englander', 'West', 'tasting', 'talking', 'Italians', 'plaintiffs', 'arrange', 'flame', 'asset', 'abuse', 'USSR', 'socially', 'go', 'recollection', 'Frisco', '32', 'canto', 'obstacle', 'Granted', 'Hamrick', 'possessed', 'malnutrition', 'lap', 'Sanitary', 'Northwestern', 'weakened', 'bevy', 'merriment', 'seclusion', \"Patrick's\", 'redundancy', 'calendars', 'collectors', 'breathing', 'interlaced', 'homeland', 'Trastevere', 'Joint', 'Measure', 'countries', 'measuring', 'bloomed', 'rental', 'objects', 'Gore', 'cobra', 'Train', 'Rall', 'imposing', 'fingerprint', 'lurked', 'grouped', 'samples', 'restrict', 'gypsy', 'protects', 'ultraviolet', 'AP', 'capitalize', 'inn', 'compensation', 'elated', 'sickness', 'separately', 'pumped', 'spin', 'outmoded', 'Substance', 'McCormick', 'tortured', 'Indeed', 'Algerian', '1868', 'keyboard', 'manipulation', 'points', 'microphone', 'supplies', 'Telegraph', 'Remarque', 'tilted', 'norm', 'basic', 'Bulletin', \"government's\", 'miraculous', 'refuses', 'bail', 'fired', 'confessing', 'Al', 'generations', 'skinny', 'banquets', 'indoor', \"Viola's\", 'Carla', 'auction', 'concerning', 'wetting', 'accrued', 'aft', 'internal', 'Robbery', 'cattlemen', 'wide', 'Hal', 'unforgettable', 'unreliable', 'Huxley', 'mating', 'flatness', 'cinema', 'crying', 'Peck', 'Battenkill', 'Between', 'runaway', 'difficulties', 'Transportation', 'Sparky', 'gait', 'gaudy', 'Kennan', 'honorable', 'distinctive', 'gymnastic', 'foliage', 'dismay', 'possibly', 'thiouracil', 'wits', 'dingy', 'Naval', 'Appendix', 'noticeable', 'promise', 'zigzagging', 'classified', 'measure', 'uncles', 'plasticity', 'rig', 'committees', 'fullness', 'individualized', 'stars', 'burdened', 'Hanover', '1791', 'studying', 'airways', 'potential', 'successive', 'stall', 'false', \"Malraux's\", 'Quakers', 'Bourbons', 'spices', ',', 'automatically', 'Grace', 'baroque', 'plea', 'tomorrow', 'occasional', 'supernaturalism', 'profound', 'fact', 'windshield', 'such', 'Since', 'unification', 'BW', 'exercise', 'insulated', 'ridges', 'extraordinary', 'usual', 'Claire', 'asking', 'award', 'gatherings', 'effect', 'Immediately', 'mocked', 'refuted', 'similarly', 'poisoned', 'jammed', 'Hot', 'assault', \"C'\", 'sequence', 'Corporation', 'detector', 'Kremlin', 'Matthew', 'Precious', 'fountain', 'genius', 'awe', 'forage', 'Messrs.', 'sheet', 'kneeling', 'choreographer', 'silently', 'Rector', 'void', 'examiner', 'draws', 'derrick', 'electrode', \"Einstein's\", 'woodwork', 'writing', 'calculation', 'cropped', 'confining', 'Fourth', 'juicy', 'breakthrough', 'Via', 'Courts', 'occupants', 'reproduce', 'torquers', 'repay', 'elementary', 'Continuation', 'unified', 'nectar', 'friction', 'ruined', 'elevator', 'heels', 'diagonalizable', 'keeping', 'conferred', 'words', 'insolence', 'code', 'unloaded', 'Got', 'Gardens', 'ill', 'outcomes', 'object', 'elegance', 'impinging', 'requirements', 'violin', 'delicious', 'orator', 'recoil', 'Andy', 'coachman', 'blocks', 'modeled', 'stores', 'Said', 'freer', 'quarterback', 'tissues', 'Stamford', 'expressive', 'tart', 'Military', 'inherit', 'channeled', 'gripping', 'slum', 'initiated', 'restored', 'Queens', 'Land', 'knights', 'Heaven', 'Sydney', 'photographed', '1876', '2,000', 'notch', \"He'll\", 'undisturbed', 'billing', 'situation', 'academic', 'exceeded', 'defining', 'European', 'sealed', 'slide', 'cabinet', 'supervising', 'alcoholics', 'secretly', 'Procedure', 'switch', 'harbored', 'tumors', 'Burnside', 'mold', 'related', 'postal', 'Act', 'birdied', 'dashing', 'heterogeneous', 'abide', 'regret', \"life's\", 'propagandistic', 'solve', 'process', 'intact', 'psychopathic', 'bas-relief', 'Finding', 'Conscience', 'slowly', 'Ash', 'remarkable', '1953', 'superstition', 'symbolize', 'slips', 'threadbare', 'Republicanism', 'restful', 'nighttime', 'slots', 'self-sustaining', 'shock', 'communion', 'Wolfe', 'enabling', 'frankfurters', 'Empire', 'GNP', 'President-elect', 'roar', 'hardest', 'eastward', 'rinsing', 'obeyed', \"Joe's\", 'interstage', 'ultra-violet', 'bestowed', 'moderns', \"horse's\", 'Negro-appeal', 'robberies', 'mastery', 'Savannah', 'Thorpe', 'slums', 'ventured', 'Kowalski', 'resulting', 'Kyoto', 'Michelangelo', 'foreigners', 'cavalry', 'brakes', 'heir', \"clerk's\", 'prosperity', 'spark', '300', 'bearings', 'tide', 'squinted', 'household', 'manifold', 'combination', '14-1/2', 'buff', 'speech', 'Sommers', 'Axis', 'outreach', \"name's\", 'Lublin', 'cavity', 'ambiguity', 'pattern', 'keys', 'movie', 'incredibly', 'backbone', 'accompaniments', 'dumb', 'facilitate', 'roses', 'operator', 'Star', 'injunction', 'observers', 'freight', 'antithesis', 'publicity', '20,000', 'unobtrusive', 'bulletins', 'faro', 'sure', 'sustained', 'dictated', '1815', 'downstairs', '92', 'thinner', 'sorts', 'reluctant', 'epithets', 'Willie', 'Cool', 'consonant', 'plays', 'assimilation', 'beneficial', '75%', 'whisky', 'foreboding', 'one-fourth', 'Edwin', '25', 'involuntary', 'enhanced', 'sinless', 'Piepsam', 'Centrality', 'spores', 'sullen', 'Bryan', 'pinch', 'instruction', 'outlines', 'amplifier', 'rabbi', 'expired', 'barrels', '$135', 'satellites', 'subordinated', 'gentler', 'efficiency', 'diversified', 'wax', 'furnace', 'pilgrimage', 'veterinary', 'scraping', 'association', 'discussed', 'Butcher', 'distinct', 'hurts', 'brains', 'intoned', 'terrier', 'prominent', 'flooring', 'gesture', 'Surely', 'memorial', 'organification', 'drifts', 'extended', 'collapsed', 'crashed', 'overcrowded', 'energetic', 'administrators', 'long-range', \"Barton's\", 'healing', 'thereof', 'nephews', 'nap', 'patronage', 'clapping', '381(a)', 'lifeboat', 'Navona', 'securing', 'impurities', 'Kimpton', 'chemistry', 'consequence', 'nonspecific', \"Government's\", 'editors', 'bean', 'highways', 'Estimate', 'Vice', 'democratize', 'cloth', 'saw', 'strangely', 'Serve', 'arbiter', 'setup', 'bud', 'verbs', 'sinister', 'Madeleine', 'Sec.', 'lowering', 'factor', 'lavishly', 'extruded', 'chines', 'principles', 'reacted', 'waste', 'Glen', 'motions', 'laughing', 'chieftain', 'Eugene', 'occurrences', 'lyrical', 'prison', 'Kohnstamm', 'hid', 'ironic', 'sheaf', 'lethargy', 'irrigation', 'instrument', 'Processing', 'standpoint', 'bridge', 'nowadays', 'folded', 'protected', 'Col.', 'obstruct', 'Mosk', 'Emperor', 'Winooski', 'Schuylkill', 'glistened', 'Pa.', 'college', 'petition', 'adolescent', 'Jan.', 'perspective', 'midnight', 'twist', 'humanist', 'emphasizing', 'June', 'composing', 'suppression', 'boosting', 'EQU', 'evidently', 'salons', 'Along', 'shudder', 'threats', 'winners', 'identifiable', 'defiance', '1812', 'Former', 'glisten', 'drivers', 'bows', 'fixtures', 'imprisoned', 'streetcar', 'verdict', 'technician', 'proteins', 'ores', 'Texan', 'Shelley', 'lighting', 'scenery', 'amateurish', 'confusions', 'Cynewulf', 'angular', 'juror', 'pocket', 'Ceylon', 'Occasional', 'notion', 'exuberant', 'scare', 'contributing', 'admirer', 'inconsequential', 'parenthood', 'affirm', 'boats', 'ten-foot', 'inadequate', 'cm', 'Streets', 'foreign', 'chipping', 'percentage', 'evangelism', 'muscles', 'Notice', 'Claude', 'Bearden', 'bitch', 'quackery', 'Seventeen', 'sadism', 'guitars', 'flattened', 'goat', 'militarism', 'encouraging', 'Z', 'sag', 'verses', 'restriction', 'cross', \"artist's\", 'mountainous', 'directly', 'Me', 'dapper', 'reactors', 'presentation', 'rise', 'earnestness', 'portal', 'manned', 'withdrew', 'seemingly', 'floor', 'Mel', 'Sherwood', 'Related', 'valuation', 'viewpoints', 'sphere', 'lens', 'masterpiece', 'Years', 'pneumonia', 'vantage', 'Purvis', 'upstairs', 'Find', 'cures', 'germanium', 'delivers', 'jail', 'user', 'hypothalamic-cortical', 'prize', 'communes', 'fortitude', 'Aj', 'judge', 'garage', 'well-defined', 'roasted', 'imprisonment', 'stabilizing', 'Kerr', 'listening', \"they'll\", 'polls', \"Trevelyan's\", 'compensated', 'reactor', 'disclosed', 'easily', 'circulation', 'force', 'someplace', 'sweetheart', 'shocks', 'declarative', 'perennial', 'tougher', 'Cunningham', 'Dana', 'B.C.', 'delineation', 'squinting', 'rated', 'aborigine', 'Problems', 'clattered', 'handicapped', 'Rossoff', 'presumed', 'radar-controlled', 'sixty-five', 'decency', 'enterprises', 'coherent', 'widely', 'snowing', 'nuances', 'wrong', 'Lot', 'manpower', 'abstracted', 'Sciences', 'Ministers', 'unaccompanied', 'Fine', 'Thrift', 'alas', 'Glimco', 'dreamy', 'subsidiary', 'distance', 'Opposite', 'Mound', 'principally', 'gradients', 'Dakota', 'Austrian', 'Mencken', 'Erhart', 'sprawled', 'restatement', 'torn', 'Legislators', 'Straits', 'relevant', 'vehemence', 'pecs', 'magnifying', 'detested', 'output', 'telescope', 'melt', 'planned', 'swung', 'partially', 'wearing', 'persistently', 'taxpayers', 'Sue', 'Fairview', 'Arnold', 'desert', 'bolster', 'bristles', 'grand', 'raid', 'fearless', 'phone', 'shop', 'muscular', \"Secretary's\", 'ropes', 'dice', 'quotes', 'projected', 'Spirit', 'insulin', 'shower', 'refer', 'diethylstilbestrol', 'supplement', 'comparing', 'observes', 'hour', \"Aristotle's\", 'everlasting', 'ambitions', 'mobs', 'preferred', 'brush', 'hasty', 'requires', 'filthy', 'candle', 'compresses', 'Marches', 'exceptional', 'dying', 'trailing', 'Thousands', 'Mando', 'Sprague', 'Mutual', \"enemy's\", 'bowl', '1850', 'collaborators', 'bypass', 'Giuseppe', 'Hague', 'earthy', 'Republicans', 'arrives', 'clung', 'milligram', 'opinions', 'strictly', 'Cloud', 'believers', 'finished', 'narrative', 'Creek', 'doorways', \"Thomas's\", '42', \"Gorton's\", \"Roberts'\", 'patting', 'employes', 'problematic', 'nationwide', 'troop', 'tentative', 'cooperating', 'cathodoluminescent', 'manure', 'lasted', 'Founding', 'virtuoso', 'Corinthian', \"Texas'\", 'bearing', '4.3', 'Holy', 'Inauguration', 'g', 'Export-Import', 'business', 'one-shot', 'unobtainable', 'freeze', 'millennia', 'costing', 'Ogden', 'Enright', 'Baltimore', 'between', 'miserable', 'Farmers', 'thermometers', 'Altogether', 'social', 'Friday', 'releases', 'dies', 'registered', 'unfortunate', 'ruins', 'U', '6th', 'Villa', 'placing', 'cat', 'fatty', 'reached', 'pool', 'hurling', 'Constitution', 'persisted', 'commander-in-chief', 'Charlayne', 'depths', 'Stop', 'chip', 'smoked', \"What's\", 'mystic', 'defenseless', 'players', 'styrene', 'Vincent', 'offices', 'Communese', 'spoon', 'identity', 'threefold', 'sill', 'Savoy', 'Runyon', 'extremists', 'beatniks', 'eliminates', 'experimental', 'patrons', 'hexameter', 'gravely', 'Skipjack', 'jacket', 'artery-pulmonary', 'Cheyennes', 'compliments', 'politicians', 'spite', 'pax-ordo', 'rattlesnakes', 'somehow', 'survived', 'sonnet', 'uniforms', 'cleverly', 'matched', 'Bavaria', 'stooped', \"Castro's\", 'congruence', 'jurist', 'congealed', 'Sanitation', 'Saturday', 'Izaak', 'Porter', 'intensifiers', 'debates', 'Biblical', 'Tomas', 'bronchioles', 'fabulous', 'Colt', 'Woodrow', 'SBA', 'recipient', 'Maude', 'Commonwealth', 'two-story', 'stray', 'Ernst', 'turf', 'pope', 'least', 'viewing', 'constituting', 'probation', 'studied', 'Wally', 'irregularly', 'foreigner', 'sneakers', 'Sharon', 'supersonic', 'infield', 'banana', 'proclamations', 'Oddly', 'escape', \"Woman's\", 'mark', 'neighbor', '$600', 'cry', 'tribes', 'maid', 'Troy', 'Head', 'Deep', 'Fla.', 'Gladdy', 'car', 'arrears', 'gouging', 'refund', 'failure', 'Ventilation', 'attendance', 'Joyce', 'summed', 'Augusta', 'tweed', 'Mars', 'Beautiful', 'cold', 'Communications', 'Magnum', \"Myra's\", 'Many', 'urged', 'visibility', 'global', 'advertisements', 'Dean', 'Aaron', 'predisposition', 'Pole', 'Minerals', \"O'Neill\", 'promoted', 'slogan', 'mob', 'La', 'cypress', \"Rector's\", 'substituted', 'saints', 'summer', 'plane', 'hospital', 'bias', 'might', 'wonderfully', 'haunt', 'defects', 'bronchial', 'Outside', 'forge', 'Quartet', 'Smallwood', 'approved', 'Orvis', 'gland', 'beaten', 'Hampshire', 'service', 'Composite', 'Coming', 'danced', 'Hindu', 'franks', 'dropping', 'compliance', 'Anta', 'anti-Semitic', 'retorted', 'kinetic', 'Marriage', 'automatic', 'francs', 'Hodgkin', 'redoubled', 'Dan', 'agony', 'flashlight', 'rationalist', 'pictured', 'bottled', 'importantly', 'goin', 'Four', 'reinforces', 'tune', 'worker', 'statutes', 'paused', 'charming', 'eternal', 'damages', 'openings', 'Elena', 'victories', 'Herter', 'blasted', 'soft', 'minds', 'bounty', 'shuddering', 'sigh', 'Gold', 'growth', 'out-of-state', 'medium', 'coordination', 'unstable', 'marks', 'nation', 'doings', 'eclectic', 'Sutherland', 'addicts', 'ounce', 'Bellini', \"they've\", 'settling', 'usage', 'Lay', 'contents', 'watercolor', \"adolescent's\", 'cried', 'defense', 'horrors', 'opposition', 'warriors', 'draperies', 'perceives', 'annual', 'Pocket', 'washes', 'sciatica', \"'61\", \"capital's\", 'innocent', 'fabrics', 'continuation', 'intervals', 'Vernon', \"How's\", 'Dumont', 'symbols', 'track', 'Errors', 'roundhead', '71', '1928', 'habitat', 'desires', 'either', 'substitute', 'painting', 'beings', 'cooperate', 'invalid', \"throwin'\", 'demonstrated', 'orthodontist', 'methods', 'succeeded', 'lessening', 'Neversink', 'spoilage', 'Add', 'Kingdom', 'Deacon', 'boat', 'push-up', 'mothers', 'Gantry', 'forged', 'unavoidable', 'fort', 'slopes', 'occurs', 'belt', 'Brandon', '43', 'CTCA', 'howls', 'tone', 'supporting', 'perfect', 'spirits', 'Lewis', 'Dolce', 'Kikuyu', 'Evangelism', 'Significantly', 'Wheelock', 'short', 'Asian', 'Wagner-Peyser', 'hamper', 'escaped', 'sharpening', 'examples', 'afterward', 'Curia', 'pilots', 'insignificant', 'chance', 'meaningless', 'interdependent', 'Earlier', 'Ghana', 'nip', 'nerves', 'burden', 'watered', 'punctured', 'steered', 'proposition', 'denunciation', 'Data', 'rackets', 'denied', 'granted', 'unwise', 'biological', 'Royce', '1896', 'licensing', 'contend', 'modular', 'novice', 'allowances', 'cowbirds', 'rainfall', 'unheard', 'dialects', 'darkened', 'boots', 'satisfactorily', 'interpret', 'load', 'uncompromising', 'Community', 'films', 'rookie', 'dances', 'cool', 'assemblies', 'Minnett', \"club's\", 'educator', 'To', 'deluge', 'beards', 'U.M.C.I.A.', '28', '120', 'glowed', 'Ellen', '1899', 'lightly', 'Ernest', 'Custom', 'ballet', 'Fulton', '1931', 'Arctic', 'crush', 'Beneath', 'substrates', 'underestimate', 'barbed', 'strange', 'throne', 'sorely', 'inseparable', 'clauses', 'guys', 'complacency', 'kerygma', 'autobiographical', \"Lilly's\", '77', '1918', 'foundation', 'foot', 'topped', 'growled', 'post-war', 'Playhouse', 'accepted', \"Conyers'\", 'printer', 'transcript', 'OAS', 'gem', 'excerpts', 'bush', 'gotten', 'unison', 'Independent', 'Pfohl', 'shouts', 'Hardly', 'tiles', 'backlog', 'Guardino', 'self-unloading', 'Hound', 'Industries', 'disciplines', 'arched', 'graciously', \"'58\", 'Oxford', 'seeds', 'songs', 'auditors', \"marine's\", 'pinpoint', 'simplify', 'responded', 'locked', 'miracle', 'swarmed', 'consultant', 'backers', 'hosts', 'vs.', 'domains', 'fats', 'Instead', 'advisory', 'reconstructed', 'surprise', 'Gospels', 'Authority', 'nilpotent', 'gelding', 'Nixon', 'horrified', \"people's\", 'Some', 'Carter', 'commencing', 'stake', 'fifteenth', 'gallop', '60', 'career', 'night', 'intellectually', 'chooses', 'peak', 'volunteers', 'uncovered', 'disguised', 'winner', 'Islanders', 'concentrations', 'washed', 'pessimism', 'spent', 'leaned', 'inaccurate', 'bin', 'Physical', 'honors', 'clergy', 'power', 'theories', 'seeks', \"Alexander's\", 'circular', 'constructing', 'shoreline', 'outdoors', 'grabs', 'episode', 'body', 'Back', 'to', 'Tilghman', 'passion', 'dealer', 'kilometer', 'Homicide', 'plotted', 'manifestation', 'administered', 'flowered', 'orange', 'anything', 'navigation', 'better', 'Tones', \"Sarah's\", '15th', 'psychotherapy', 'flowers', 'whereupon', 'clear', 'ill-starred', 'stopped', 'mortal', 'plenty', 'colonial', 'vanity', 'Products', 'indeed', 'explicit', 'Chrysler', 'ventilation', 'arises', 'thoroughly', 'attracting', 'Lacking', 'Person', 'zones', 'historians', 'salient', 'thighs', 'unemployed', 'betrayal', 'consumer', 'repaid', 'drumming', 'transom', 'wages', 'break', 'include', 'wailed', 'totalitarian', 'misunderstanding', 'served', 'Issue', 'advertise', 'PTA', 'Dick', 'seizure', 'Maturity', 'improvement', 'bulge', 'concave', 'intrigues', 'Knox', 'fence', 'accruing', \"father's\", 'question', 'tons', 'challenged', 'flared', 'ingested', 'itemized', 'Wednesday', 'gallium', 'light-weight', 'Brush', 'happiest', 'perfected', 'mailed', 'transmit', 'prevail', 'Classes', 'polyethylene', 'eminently', 'relaxing', 'peculiarities', 'carriages', 'wartime', 'interplanetary', 'presumably', 'Texans', 'Fabian', 'Francaise', 'resurgence', 'orienting', 'sweet', 'Administration', 'Creator', 'Saxons', 'beat', 'hell', 'homesteaders', 'typography', 'Jenny', 'internally', 'practically', 'protesting', 'Trustees', 'giveaway', 'privately', 'Krim', 'dinner', 'flexibility', 'exchanges', 'searches', 'secco', 'Steve', 'fuzz', 'postulate', 'shutdown', 'Change', 'Crystallographic', 'improve', 'profitable', 'musket', 'fading', 'mahogany', 'Barbara', 'Investors', 'confines', 'vested', 'FITC', 'enlightened', 'cheerful', 'awaken', 'ruin', 'retard', 'Langford', 'swim', 'comments', 'reported', 'session', 'salvage', 'hoops', 'Andrea', 'foyer', 'foraging', 'require', \"captain's\", 'Howe', 'concur', 'motto', 'Arlington', 'gather', \"workers'\", '8,000', 'Pressing', 'unkind', 'separated', 'shield', 'food-preservation', 'diplomatic', 'Moll', 'comrades', 'driveway', 'wholesale', 'been', 'reducing', 'Philip', 'Peterson', 'hemorrhage', 'infections', 'wave', 'secretaries', 'bad', 'quotations', 'leisurely', 'skins', 'inhibit', 'ceiling', 'investigative', 'Monmouth', 'Beyond', 'losing', 'beveled', 'Beer', 'indefinite', \"Oliver's\", 'ordo', 'thoughtless', 'executives', 'cultivation', 'coats', 'excitability', 'Western', 'Regulation', 'tolerance', 'flush', 'notably', 'woe', 'powdery', \"States'\", 'lit', 'diurnal', 'resumption', 'Finally', 'cores', 'wove', 'tangle', 'proceedings', 'tongue', 'Wells', 'bayonets', 'persist', 'rapture', 'quotation', 'program', 'Glory', 'completion', 'conversion', 'criterion', 'January', 'calculations', 'pennies', 'Loper', 'resonance', 'combed', 'renamed', 'conclusive', 'shutter', 'takes', 'Show', 'eyelids', 'beg', 'Mazeroski', 'watched', 'merciless', 'Deal', 'passes', 'alterations', 'Smithsonian', 'Daer', 'Balafrej', 'totaled', 'meters', 'Shakespearean', 'statue', \"farmer's\", 'singers', 'sheets', 'gallon', 'Greene', 'debris', 'knee', 'twenty-two', 'spokesmen', 'dealing', \"Charlotte's\", 'mindful', 'Place', 'withdrawing', 'musicianship', 'social-class', 'Light', 'assert', 'dry', 'anticipation', 'unfettered', 'psychologists', 'be', 'educational', 'cartoon', 'willow', 'dignitaries', 'M', 'engendered', 'Palm', 'self-sufficient', 'steering', 'hilt', 'feeds', 'healthy', 'fulfill', 'Hesiometer', 'redhead', 'refrigerated', 'reduced', 'Missouri', 'Gilman', 'do', 'summarized', 'Leona', 'opportunity', 'customer', 'Spread', \"Prince's\", 'Overlords', 'loan', 'voting', 'sunshine', \"Helva's\", 'district', 'Anthony', 'Cairo', 'Draft', 'preferably', \"what's-his-name\", 'Fort', 'Damascus', 'gently', 'indictment', 'transporting', \"Fogg's\", 'perceptual', 'gleamed', 'Army', 'oleophilic', 'hands', 'dormant', 'red', 'pollen', 'Berto', 'crossing', 'finger', 'sludge', 'fox', 'ignorant', 'Designers', 'grams', 'earnest', 'many', 'precedents', 'fires', 'Included', 'partisan', 'Plastics', 'acacia', 'falling', 'plate', 'destroyers', 'headlights', 'uncertainties', 'Alaska', '2.4', 'literature', \"Jess's\", 'capita', 'objected', 'avenues', '3rd', 'dimly', 'belonging', 'potted', '1940', '2:33', 'pumping', 'elsewhere', 'Juanita', 'flown', 'pessimistic', 'Graves', 'double-stage', 'ancestry', 'rub', 'Ekstrohm', 'Example', 'celebrating', 'how', 'headmaster', 'manslaughter', 'craftsmanship', 'Going', 'Lady', 'Air', 'contracting', 'sits', 'gangsters', 'Chapel', 'adjoining', 'machinist', 'Barre', 'embroidery', 'good-natured', 'swaying', 'Caesar', 'pleasant', 'grove', 'slice', 'seed', 'rights', 'Cash', 'Practices', 'fundamentals', 'cop', 'indisposed', 'replacing', 'M.', '1945', 'X-rays', 'Figure', '130', 'bodily', 'Shop', 'Adrian', 'ceramics', 'attempt', 'restrictions', 'Ensign', 'why', 'appointment', 'Shaefer', \"Gallery's\", 'Ernie', 'borrowing', 'grim', 'penetrate', 'furiously', 'decorators', 'scant', 'vacuum', 'banish', 'trained', 'eradication', 'graduate', 'interesting', 'Sartoris', 'piston', 'Generally', 'integrate', 'figuring', 'humiliating', 'skillful', 'linked', 'selfish', 'musicians', 'sewing', 'electrical', 'results', 'slanting', 'risks', 'Short', 'ironically', 'Anniversary', 'spree', 'Cross', 'Support', 'characteristics', 'priest', 'totaling', 'activity', 'intention', 'Bondi', 'breathed', 'stays', 'Peru', 'centering', 'mandate', 'knuckle', 'eternity', 'vicious', 'attachment', 'unwelcome', 'bureaucratic', 'accounts', 'Musical', 'forthright', 'Geraghty', 'supportive', 'Delaney', 'spindle', 'necessity', 'differently', 'insisted', 'proverbial', 'Alvin', 'Preliminary', 'reddish', 'viewpoint', 'Utah', 'equivalent', 'drain', 'Seebohm', 'crook', 'polypropylene', 'incidentally', 'inefficient', 'Inquirer', 'supporter', 'substance', \"Hammarskjold's\", 'Officials', 'chuck', 'glowered', 'awareness', 'queries', 'sundry', 'grandeur', 'ninety', 'e', 'filled', 'shifts', 'sounder', 'learns', 'anymore', 'cans', 'Chicken', 'algae', 'Acala', 'his', 'Keep', 'chat', 'cares', 'mails', 'awake', 'nuclear', 'Hans', 'Terry', 'ranked', 'dispatches', 'revolutionized', \"President's\", 'torsos', 'builder', 'autocollimator', 'quarreled', 'outgoing', 'yearning', \"he's\", 'Thirty', 'ones', 'Life', 'thinker', 'cinematic', \"John's\", 'glass', 'Handley', 'thirst', 'undesirable', 'rocking', 'toll-road', 'sweaty', 'Cap', 'bottoms', 'ripping', 'feels', 'accidentally', 'borne', 'irresponsible', 'propagation', 'Tim', 'sourly', 'philosophers', 'boon', 'sailing', 'ships', 'dammit', 'Waddell', 'Chief', 'Utopians', 'tale', 'diameters', 'gravy', 'shallow', 'pension', 'Proprietorships', 'autograph', 'unknown', 'four', 'controllers', 'imagery', 'comprise', 'reverse', 'Lolly', 'Dammit', 'empties', 'dried', 'bacon', 'freak', 'Hey', 'riot', 'Iceland', 'turpentine', \"Salyer's\", 'Article', 'avocados', 'sudden', 'burned', 'glimpse', 'screamed', 'tunnels', 'lax', 'Jacoby', 'ah', 'explosion', 'mat', 'confided', 'isolated', 'presented', 'silence', 'infrared', 'Sullivan', 'legend', 'Queen', 'variables', 'Doris', 'suite', 'endorsed', 'defect', 'coffin', 'qualitative', 'operand', 'morphological', 'rebellion', 'encroachment', 'conclude', 'Secondly', 'marked', 'classic', 'guessed', 'Mexico', 'Bruce', 'weaknesses', 'leering', 'Atlanta', 'two-hour', 'activation', 'goes', 'seduction', 'terribly', 'Andrew', 'bankers', 'province', 'cigar', 'uniquely', 'defendant', 'burst', 'innovation', 'conspired', 'non-taxable', 'fielder', 'violated', 'expandable', 'interrupt', 'usefulness', 'rigid', 'scent', 'judging', 'specified', 'charged', 'lusty', 'Temperature', 'Hospital', 'vehicle', 'saluted', 'electronics', 'wage', 'approach', 'imaginative', 'richness', 'Management', 'creditable', 'idea', 'cottages', 'rattle', 'overdeveloped', 'hesitated', 'recital', 'whoever', 'maneuver', \"parents'\", 'unsettled', 'ICBM', 'precautions', 'wounded', 'Prize', 'Jacques', 'originate', 'comes', 'privileges', 'archaeological', 'astonishment', 'suddenly', 'maximizing', 'warp', 'crowd', 'awards', \"Payne's\", 'purposeful', 'scientist', 'bullet', 'entails', 'sliced', 'judges', 'triumph', 'applies', 'roof', 'fluorescence', 'Anniston', 'chimney', 'challenge', 'originated', \"1/2''\", 'aboard', 'newcomer', 'yeah', 'alligator', 'confrontation', 'senatorial', '73', 'ball', 'Hardy', 'firearms', 'positivism', 'pit-run', 'errand', 'term', 'freshman', 'premix', 'dew', 'shoot', 'discovering', 'Venezuela', 'traveling', 'mouth', 'clergyman', 'cheek', 'modernization', 'certify', 'Groth', 'Hilo', 'bland', 'firemen', 'expanded', 'together', 'Aviation', 'ladies', \"Sant'\", 'clutching', 'Dartmouth', 'silenced', 'oppressed', 'septic', 'breaks', 'posts', 'aligned', 'Miami', 'Hough', 'assured', 'Wyatt', 'Chiang', 'regulated', 'waving', 'antibody', 'Thou', 'easiest', 'protein', 'provisional', 'disapproval', '!', 'board', 'School', '$20', 'breath', 'regardless', 'debated', 'perceptions', \"Curt's\", 'Field', 'F.D.R.', 'birthplace', 'tenants', 'feature', 'specialized', 'Tree', 'meadows', 'seller', 'confession', 'complain', 'Khaju', 'Mt.', 'Stand', 'Savior', 'sociological', 'Musial', 'mutually', '1950s', 'follower', 'hepatitis', 'Pasture', 'penetration', 'outfielder', 'Supper', 'Lots', 'charity', 'lengthening', 'unique', '44-year-old', 'wins', 'Forum', 'Hearst', 'polling', 'circulating', 'Rolls-Royce', 'assuredly', 'living', 'contest', 'jeopardy', 'extraneous', 'blissful', 'breathtaking', 'ribbons', 'reservation', 'hairs', 'Part', 'Governments', 'youth', 'allegations', 'strengthening', 'bitten', 'likened', 'small-town', 'pathways', 'ignored', \"they'd\", 'afford', 'Pageant', 'forth', 'donors', 'Divinity', 'greatcoat', 'vigorous', 'policy', 'Eden', 'disappears', 'Coe', 'sordid', 'appestat', 'Missiles', 'Billie', '20%', 'Grounds', 'three-hour', 'raucous', 'gambling', 'elevation', 'walnuts', 'Fitzgerald', 'knotted', 'portable', 'are', 'trailers', \"year-'round\", 'downs', 'aiding', 'rusty', 'tile', 'classrooms', 'islands', 'Chris', 'Riders', 'unless', 'A.M.', 'deprive', 'killing', \"Faulkner's\", 'belied', 'preoccupation', 'detached', 'Chart', 'sympathize', 'sonar', 'lived', 'procedure', 'oh', 'palaces', 'holdings', 'distortion', 'Norberg', 'Angelina', 'dwelling', 'shortcomings', 'incorrect', 'Stanley', 'Enver', \"Charles'\", 'discovered', 'strolling', 'Whitney', 'puppets', 'ingredient', 'monopolize', 'Caution', 'immunity', 'paie', 'Medal', \"Berlin's\", 'unclean', 'riders', 'equipment', 'fictional', 'perception', 'relic', 'coefficient', 'promising', 'physical', 'Anyway', 'nets', 'rigorous', 'magistrates', 'shied', 'unite', 'agricultural', 'sovereignty', 'esplanade', 'millimeter', 'stronger', 'sheath', 'coaching', 'lamp', 'part', 'plywood', 'instruments', 'arrows', 'formulate', 'employee', 'Churches', 'denouncing', 'Swiss', 'Globocnik', 'entropy', '2100', 'torso', 'estate', 'Poet', 'ghosts', 'A', 'basin', 'Salter', 'handful', 'advantageous', 'upward', 'choreography', 'occupational', 'Carroll', 'spine', 'clippings', 'silences', 'Quinzaine', 'handicap', 'blinking', 'learned', 'subtraction', 'Before', 'sites', 'strengthens', 'illegitimacy', 'destiny', 'Haven', \"anyone's\", 'Bourbon', 'signals', 'Simpson', 'Kiz', 'overlapped', 'underwater', 'does', 'closest', 'Stat.', 'witch', 'builders', 'thereby', 'garb', 'Night', 'Birkhead', 'off', 'knowing', '2', 'Trust', 'transcending', 'liner', 'shave', 'doubly', 'thru', 'psychologically', 'Look', 'salesman', 'bags', 'dedication', 'mildly', 'fantastic', 'damaging', 'Burmese', 'locally', 'improvements', 'topics', 'Newbury', 'announced', 'ice', 'seminar', \"Copernicus'\", 'compiled', 'aerosols', 'influence', 'many-sided', 'militarily', 'expressed', 'inappropriate', 'focal', '4-inch', 'Conn.', 'Davis', 'apex', 'Thelma', 'captured', 'vector', 'berth', 'rudimentary', \"they're\", 'joiner', 'impinge', 'virility', 'actresses', 'Maggie', 'Guilford-Martin', 'quirt', 'stand-ins', 'PTC', 'suites', 'successes', 'blunt', 'polymerization', 'stupor', 'occluded', 'eggs', 'whisper', 'occupant', 'shabby', 'Solar', 'luxury', 'morsel', 'Liberty', \"Grigori's\", 'resume', 'imports', 'despairingly', 'Try', 'intentional', 'hurricane', '24-hr.', 'affluence', 'muskets', 'roughly', 'mast', 'saloon', 'graduating', 'enjoys', 'pot', 'rationalism', 'nobody', 'Gavin', 'SEATO', 'Discovery', 'misconception', 'Pass', 'professional', '140', 'impose', 'pearl', 'ante', 'public-limit', 'summit', 'Ken', 'colder', 'methodological', 'identical', 'readings', 'Atlantic', 'stiffened', 'cruel', 'Deduction', 'fallen', 'Commission', 'angles', 'staircase', 'Turk', 'No', 'contributions', \"Willie's\", 'punch', 'Spencer', 'derision', 'guiding', 'puncher', 'BBB', 'greater', 'foe', 'presume', 'specimens', 'Fifties', 'Va.', \"Papa's\", 'presentations', 'intercollegiate', 'tumor', 'naked', '1.1', 'reminder', 'Say', \"couldn't\", 'Baptist', 'thou', 'large', 'now', 'service-connected', 'troublesome', 'flagrant', 'Strasbourg', 'full-time', 'miss', 'riflemen', 'irrational', 'evacuated', 'insect', 'especially', 'German', 'Drive', 'comprehensive', 'vertical', 'suspension', 'all-out', 'isotropic', 'Evanston', 'contraception', 'Russell', 'Pp.', 'installations', 'conjoined', 'style', 'impulse', 'Economy', 'Princeton', 'embark', 'nurture', 'Mrad', 'high-value', 'cradle', \"bull's-eyes\", 'class', 'gear', 'sharply', 'aqueous', 'slave', 'tactics', 'crutches', 'Business', 'injury', 'angle', '1908', 'tenure', 'brutal', 'disarmament', 'rammed', 'Brandywine', 'Bultmann', 'connecting', 'Encouraging', 'precedence', 'topical', 'Sloanaker', 'hiding', 'pigment', 'Any', 'Questions', 'found', 'Hoeve', 'traveller', 'Reynolds', 'purchasers', 'Welsh', 'rumor', 'Numbers', 'interfered', 'account', 'establishes', 'tax-exempt', 'Tshombe', 'Mutton', 'palace', 'audiences', '$10,000', 'savages', 'Connally', 'violently', 'Like', '$50', 'arrests', 'firmly', 'middle-', 'Rice', \"war's\", 'exclusively', 'necessary', 'affirmed', 'confined', 'Nantucket', 'goddamn', 'Hercules', 'heretofore', 'Argiento', 'nuisance', 'penance', 'deterministic', 'vacations', 'trimmed', 'supplements', 'Riefling', 'paradise', 'Peerless', 'Way', 'posture', 'polarity', 'Apollo', 'bronze', 'my', 'airplane', 'cease-fire', 'fertile', 'disinterest', 'credulity', 'perform', 'wines', 'centralization', 'flaw', 'organisms', 'Again', 'birefringence', 'Op.', 'increased', 'Action', \"Childhood's\", 'topic', 'contrived', 'motor', 'inhibited', 'secretion', 'considering', 'mere', 'undepicted', 'Greeks', 'deaths', 'includes', 'books', 'intercepted', 'inner', 'leaks', 'sized', 'truism', 'staunch', 're-examine', 'reappears', 'Saratoga', 'anatomy', 'sanctuary', 'chilling', 'meanings', 'happily', 'crowing', 'stroll', 'responsibility', 'diving', 'Platonism', 'ambassadors', 'broadcasting', 'compute', 'revision', 'pushers', 'thief', 'planter', 'entrance', \"Gabriel's\", '1887', 'allocable', 'earliest', 'Capitalism', 'intrigue', 'Scale', 'exodus', 'initially', 'economics', 'ugly', 'edition', 'flourish', 'toast', 'Birmingham', '1892', 'architect', 'economies', 'discrimination', 'when', \"months'\", 'Hail', 'undergraduates', 'ivory', 'shells', 'neglect', 'door', 'monotonous', 'strychnine', 'astrophysics', 'three-man', 'necessarily', 'deviation', 'Hetman', 'moderation', 'bunch', 'Sweeneys', 'plodding', 'stockholders', 'Atlas', 'Timothy', \"Sunday's\", 'attracts', 'clear-cut', 'teeth', 'inaction', 'Caribbean', 'lion', 'Armed', 'alveoli', 'rehearsals', \"Boris'\", 'pioneer', 'forgiven', '49', 'truths', 'geographically', 'junta', 'damp', 'scouting', 'Mayflower', 'magnification', 'pastor', 'pencils', 'flipped', \"South's\", 'badness', 'preserve', 'placid', 'swiftly', 'practicable', 'Left', \"world's\", 'potato', 'texts', 'parking', 'Lake', 'gauge', 'speakers', 'arguments', 'sentiments', 'foresight', 'Today', 'agencies', 'Louisiana', 'Grove', 'anxious', 'duly', \"Schiele's\", 'Dillon', 'Mount', 'invariant', 'besides', \"Negro's\", 'imply', 'clustered', 'pill', 'detailed', 'supplying', 'peculiarly', 'patterned', 'bounded', 'Fundamental', 'novelties', 'simulated', 'poultry', 'mythology', 'tending', 'artistic', 'stored', \"Byron's\", 'villains', 'welcomed', 'size', 'pardon', 'improvised', 'Hartsfield', 'shred', 'Then', 'fast', '111', 'jump', 'launch', 'alibi', 'turned', 'male', 'Bates', 'haunches', 'lightened', 'battery', 'conceived', 'Raymond', 'taxi', 'corrosion', 'Courtenay', 'splash', 'rejection', 'stresses', 'sculptor', 'toll', 'horsemen', 'Gordon', 'yachts', 'Senators', 'source', \"Player's\", 'corn', 'Art', 'companionship', 'unsatisfactory', 'automation', 'appropriations', 'nearly', 'Rudy', 'irritating', 'lending', 'thirty-five', 'shriek', 'scheme', 'filters', 'Cotten', 'ethic', 'K.', 'lineup', 'employing', 'Monsieur', 'legal', 'exercises', 'farfetched', 'calls', 'Secretaries', '8:30', 'anticipate', 'mono-iodotyrosine', 'Terms', 'qualifications', 'engagements', 'cabinets', 'headwaters', 'goals', 'inconclusive', 'Boniface', 'We', 'notified', 'showdown', 'quotas', \"I'll\", 'Oak', 'shame', 'superimpose', 'gluttons', 'lagoon', 'romance', 'carpenter', 'reporting', 'resist', 'forget', '25,000', 'rhythms', 'followers', 'senators', 'stalked', 'crackers', 'timed', 'rushing', 'Frequently', 'vest', 'ribs', 'calving', 'view', 'frightening', 'head', 'Albright', 'stalled', 'Partisan', 'worst', 'undo', 'generalizations', 'cruising', 'Changes', 'consensus', 'plight', 'recitals', 'puzzling', 'Felix', 'frame', 'notorious', 'compares', 'trenchant', 'brotherhood', 'patted', 'disadvantages', 'Piddington', 'standard', 'frowning', 'Sheets', 'operatic', 'appointments', 'psychoanalytic', 'used', 'ellipsoids', 'chapter', 'contractual', 'satire', 'deserts', 'viscoelastic', 'derives', 'mild', 'Color', 'mixing', 'assessments', 'em', 'Confederacy', 'socialized', 'Cohen', 'seaweed', 'end', 'fervent', 'Electronics', 'melancholy', 'profited', 'Angelo', 'rider', 'nineteen', 'realtors', 'compilation', 'imitation', 'railroad', 'proponents', 'theatrical', 'sums', 'reinforce', 'uphold', 'refrigeration', 'nude', 'Jim', 'subcommittee', 'enacted', 'infection', 'ankle', 'tired', 'dreary', 'wants', 'appreciate', 'Des', 'winder', 'dared', 'web', 'Actually', 'Should', 'entries', 'Crisis', 'remote', 'morality', 'affiliations', 'movable', 'inferences', 'infuriated', 'esprit', 'V-1', 'yearned', 'Luke', 'visitors', '60,000', 'interprets', 'Thirty-five', 'papal', \"grazin'\", 'IOCSIXF', 'Nelson', 'curled', 'gouged', 'theater', 'landscaped', 'apprehensively', 'chopping', 'thy', 'CDC', 'iodine', 'strikingly', '1951', 'Strike', 'oppression', 'Stavropoulos', 'infant', 'thirds', 'struggled', 'Georgetown', \"Monday's\", 'literalness', 'ankles', 'creature', 'sociology', 'betterment', 'afloat', 'plastics', 'Mexican', 'appreciation', 'Fiedler', 'dish', 'decades', 'collector', \"Pa's\", 'solvents', 'lessened', 'helping', 'Williams', 'Beverly', \"1890's\", 'incidental', 'safely', 'tomatoes', 'Close', 'fielding', 'MacPherson', 'stringy', 'satisfactions', 'contact', 'polished', 'pavilion', 'friendliness', 'biochemical', 'Metropolitan', 'Inquisition', 'incomplete', 'blue-eyed', 'Nicolas', 'mg', 'maker', 'stroke', \"Palmer's\", 'son', 'battles', 'tips', 'seashore', 'that', 'Mediterranean', \"he'd\", 'defend', 'disappear', 'knife', 'versus', 'exported', 'waiting', 'forgiveness', 'influx', '4th', 'kidnaped', 'History', 'Helion', 'fulfillment', 'blast', \"Russell's\", 'corrugated', \"Anderson's\", 'waver', 'wagon', 'watering', 'Sergeant', 'bombproof', 'materially', 'irregularity', 'boy', 'half-inch', 'devotees', 'Colors', 'preceded', 'sent', 'Harriet', 'covered', 'princess', 'initial', 'Seems', 'gates', 'hitched', 'Tuxapoka', \"Eisenhower's\", 'remarked', 'lieutenant', 'Gone', 'Walton', 'UN', 'washing', 'radicalism', 'family', 'desiring', 'immediacy', 'Sheraton-Biltmore', 'subservient', 'globe', 'theology', 'since', 'mishap', 'insist', 'once', 'Westfield', 'Important', 'Needham', 'millions', 'apron', 'spouse', 'prophetically', 'Winslow', 'howl', 'manservant', 'Duke', 'hindered', 'instincts', 'setback', 'teaches', 'billed', 'deduce', 'orchestras', 'phrases', 'admissible', 'clings', 'disastrous', 'under', 'Criticality', 'Village', 'Notre', 'stepped-up', 'Mail', 'aided', 'touching', '1610', 'dot', 'rocked', 'dispel', 'Naples', 'Burnsides', 'presidency', 'ripples', 'centers', 'Romeo', 'inflicting', 'landmarks', 'adverse', 'serve', 'Ching', 'repairs', '121', 'helium', 'National', 'opium', 'Republics', 'shipments', 'kitten', 'automotive', 'king', 'puzzled', 'scandal', 'paste', 'Deerstalker', 'dependence', 'Chevrolet', '1907', \"Tolley's\", 'visit', 'Szold', 'snows', 'Luther', '1863', 'senseless', 'ordained', 'Julia', 'inexorable', 'Soviet', 'Examples', 'crew', 'Restaurant', 'deadline', 'penalties', 'ecclesiastical', 'excellence', 'stiffening', 'measured', 'uncomfortably', 'reverence', 'restaurant', 'coop', 'ratification', 'feedback', 'Teaching', 'pompous', 'watersheds', 'Solid', \"Lewis's\", 'world-wide', 'Range', 'Comedie', \"Y'all\", 'annually', 'Currency', 'States', 'references', 'interruption', 'Text', 'romantic', 'liquids', 'stuff', 'Leigh', 'governing', 'quarterly', 'screaming', 'Changing', '1793', 'protestations', 'operated', 'a.m.', '17th', 'pledges', 'Juvenile', 'perpetrated', 'Cherkasov', 'Earthmen', 'conflict', 'Handicapped', 'poles', 'accomplishing', 'soiled', 'coveted', 'establishment', 'rendezvous', 'superbly', 'expressions', 'hobby', 'attributing', 'Auntie', 'Hohlbein', 'Ionic', 'expects', 'overtly', 'Yanks', 'attract', 'sole', 'apportioned', 'developer', 'That', 'melee', 'charters', 'alternative', 'owner', 'frustrate', 'tensile', 'shrubs', 'Mineralogy', 'Elizabethan', 'match', 'met', 'solidarity', 'candidate', 'yow', \"Motors'\", 'bishop', 'Histochemistry', 'defendants', 'Student', 'draped', 'captain', 'wait', 'unanimity', 'sensible', 'warped', 'lends', 'crest', 'two-thirds', 'headed', 'overalls', 'profits', 'lips', 'rosaries', 'sentenced', 'Spruce', 'grace', 'awkwardly', 'Source', 'behaviour', 'Slocum', 'blockade', 'selected', '1921', 'White', 'banked', 'decline', 'Protestantism', '57', 'Newcomers', 'Elsie', 'lilacs', 'micrometeorite', 'yeast', 'vastly', 'cleaner', 'crucial', 'envisioned', 'where', 'residence', 'to-day', 'Elizabeth', 'Eighteenth', 'wary', \"Mary's\", 'thoughts', 'Grasslands', 'mean', 'faced', 'evenings', 'explode', 'Privy', 'listen', 'wilderness', 'Salinger', 'Multnomah', 'Lucy', 'text', 'Hope', 'churning', 'acceptable', 'sixties', 'brood', 'requested', 'comin', 'Thayer', '1957', 'western', 'agonizing', 'refrigerator', 'happening', 'farming', 'anachronism', 'instrumentalities', 'downfall', 'Factors', 'affirmation', 'inspire', 'handkerchief', 'securely', 'variations', 'urge', 'fore', 'inflections', 'briskly', 'Membership', 'mutton', 'abolitionists', 'parlor', 'Japan', 'cosmic', 'drive', 'segments', 'avoids', 'condemned', 'Edna', 'dimensions', 'valleys', 'rebuffed', 'waist', 'motivating', 'wounds', 'juncture', 'Monument', 'dystopias', 'emulate', 'extenuating', 'dusting', 'unsympathetic', 'thus', 'Vicky', 'steamed', 'N.Y.', 'occasioned', 'enormously', 'matrimony', 'Dark', 'sexual', 'bristling', 'humanity', 'alongside', 'hoping', 'respectable', '1911', 'Plantations', 'diamonds', 'nursery', 'realizes', 'progressively', 'calisthenics', 'mending', 'figurative', 'whipped', 'witness', 'headline', 'fireworks', 'curricula', 'brim', 'communities', 'involve', 'beguiling', 'dispelled', 'Insurance', 'commit', '800', 'Chemical', 'clad', 'sadly', 'sauerkraut', 'spread', 'lay-offs', 'velvety', 'systematic', 'partition', 'surrendering', 'modernity', 'trusted', 'personal', 'chilly', 'audience', 'Being', 'indiscriminate', 'classics', 'borders', 'cylinders', 'incidents', 'south', 'united', 'efforts', 'laymen', 'monument', 'exhibiting', 'intersection', 'hazards', 'convicted', 'southward', 'rocker', 'faded', 'Northwest', 'smoothness', 'tracks', 'reaffirmed', 'growers', 'dough', 'lenient', '96', 'grille', 'splendid', 'perverse', 'cook', 'panic', 'recruits', 'hoarsely', 'Unity', 'liable', 'self-help', 'outrage', 'fault', \"Peter's\", 'insult', 'Current', \"Greville's\", 'corpse', 'reputable', 'Diseases', 'suspend', 'graceful', 'alleged', 'iodinating', 'unexpectedly', 'abundance', 'assumed', 'travels', 'shall', '1000', 'Attendance', 'Caravan', '1865', 'Philippi', 'involvement', 'ox', 'word', 'anybody', 'peril', 'suspiciously', 'pre-war', 'streets', 'cooks', 'Sane', 'fraction', 'Selkirk', 'simply', 'tenuous', 'guild', 'getting', 'Japanese', 'stretches', 'flask', 'Unitarian', 'beeps', 'Thanksgiving', 'policemen', 'pupils', 'stockings', 'acquiesce', 'ached', 'glories', 'corrupting', 'outlook', 'recurring', 'synagogue', 'thawed', 'audit', 'Duty', 'wars', 'soaking', 'giggles', 'Senator', 'Boulder', 'Johnston', 'pair', 'Adjustment', 'ignore', 'less', 'bay', 'Start', 'swooping', 'built-in', 'purposive', 'Falls', 'crystalline', 'neutrophils', '34', 'Lola', 'Vecchio', 'critical', \"wife's\", 'involution', 'abandonment', 'picnic', 'governments', 'Belgians', 'lovely', 'Subject', 'noble', 'Form', 'remarks', 'loose', 'termination', 'actor', 'all-time', 'liked', \"Newton's\", 'dryly', 'grease', 'Based', 'Freud', 'explain', 'kept', '1930', 'Lemma', 'whiskey', \"We'll\", 'tears', 'kindred', 'Del', 'Lockheed', 'twitch', 'patience', 'steeples', 'midsummer', 'sight', 'folds', 'worth', 'metals', 'bloat', 'expertise', '41', 'minority', 'understands', 'winning', 'discretion', 'ending', 'isolation', 'markets', 'Hilton', 'ear', 'Doyle', 'language', 'exceedingly', 'worldly', 'Askington', 'Ultimately', 'elapsed', 'Oersted', '7th', 'economically', 'forts', 'Snakes', 'dormitories', 'Car', 'diplomacy', 'hereinafter', 'faster', 'incited', 'comic', 'steps', 'Sr.', 'Words', 'portrayal', 'warnings', 'Brennan', 'chair', 'treason', 'genial', 'Flight', 'depression', 'taller', '1783', 'Once', 'Lucifer', 'spiced', 'Irenaeus', 'Dist.', 'Paxton', 'issued', '400', 'physiological', 'till', 'treating', 'looming', 'binomial', 'discrete', 'Yale', \"company's\", 'commands', 'hamlet', 'Trouble', 'addressing', 'shifting', 'acreage', 'conversions', 'Carolinians', 'independence', 'bands', 'pamphlet', 'pastime', 'flight', 'riverbank', 'Plato', 'ancestors', 'lioness', 'friend', 'backstitch', 'naive', 'Failing', 'inscribed', 'Medicine', 'abiding', 'Whereas', 'evidence', \"governor's\", 'additions', 'capital', 'ranchers', 'Springfield', 'essence', 'grunted', 'teaspoon', 'gratification', 'regarding', 'certainly', 'g{t}', 'Webster', 'Reserve', 'cc.', 'exports', 'thermal', 'fishermen', 'Ninth', 'pH', 'experimentation', 'erected', 'possessions', 'Fudo', \"Church's\", 'divide', 'Gradually', 'pronounced', 'most', 'brother', 'extension', 'updated', 'hastily', 'expresses', 'colonel', 'vulture', \"states'\", 'transmitter', 'mountain', 'sample', 'swallow', 'inhibition', 'currently', \"Watson's\", 'half', 'Gun', 'engaging', 'photochemical', 'skimming', 'inspired', 'diffuse', 'realm', 'policy-makers', 'Council', 'unreasonable', 'Systems', 'retain', 'sniffed', 'name', 'immoral', 'refinements', 'second', 'Cold', 'preventive', 'overlapping', 'uranium', 'into', 'demons', 'sceptical', 'insensitive', 'maleness', 'data', 'divine', 'acute', 'darkness', 'facto', 'summary', 'granting', 'compulsives', 'stir', 'century', 'Leopoldville', 'Virgin', 'lighted', 'enthralling', 'squabbles', 'Moliere', 'mourning', 'Time', 'Doctrine', 'dirty', 'exerts', 'concerns', 'f{t}', 'referred', 'Wherefore', 'Lexington', 'drag', 'choreographic', 'cheers', 'Others', 'evils', 'Ross', 'Cleveland', 'react', 'super-condamine', 'Hesperus', 'Herberet', 'Grafin', 'Very', 'deposition', 'relinquish', 'vue', 'provides', 'amethystine', 'Melzi', 'violinist', 'thereto', 'pace', 'grant', 'outrages', 'Frankfurt', 'endeavors', 'Triandos', '1963', 'announcement', 'lavender', 'fluids', 'leash', 'barrage', 'centralized', 'Browning', 'export', 'virtuous', 'upright', 'oppose', 'Tussle', 'softly', 'grade', 'Sheriff', 'Laban', 'humor', 'ties', 'mental', 'proclamation', 'Anxiety', 'likely', 'unnoticed', 'TNT', 'basing', 'talks', 'nephew', 'equipped', 'Succession', 'doors', 'fireplace', 'insured', 'spell', 'quantity', 'dictate', 'overthrow', 'Similar', 'resonant', 'largest', 'Preparation', 'Newport', 'keyed', 'invoking', 'lead', 'Run', 'huge', 'appeared', 'operations', 'formulae', 'Highlands', 'Quintus', \"Shakespeare's\", 'touches', 'settled', 'chasing', 'implicitly', 'incidence', 'agrees', 'garages', 'threaded', 'Sukarno', 'itinerary', 'antagonists', 'colored', 'trigger', 'clasping', 'smothered', 'merited', 'impart', 'margin', 'Charles', 'fasten', 'counties', 'sheriff', 'newcomers', 'storyteller', '13th', 'cynical', 'Tolley', 'convoy', 'Whipple', 'indicative', 'receiver', 'fabrication', 'Englishman', 'constitute', 'reigning', 'boulder', 'pegboard', 'organically', 'Discourse', 'because', 'bride', 'playful', 'patronne', 'alleging', 'chilled', 'Chinese', 'usages', 'geography', 'Roll', 'deficiencies', 'hot', 'brittle', 'cemented', 'singular', 'Margaret', 'bishops', 'classmates', 'disciplined', 'yarns', 'formal', 'Buchheister', 'policies', 'arbitrarily', 'emotional', 'pricing', 'moments', 'prostitute', 'bending', 'wear', 'Toronto', 'cm.', 'carry', 'distraction', 'ionized', 'monastic', 'harvesting', 'humans', 'specifically', 'trades', 'diseases', 'suck', 'notions', 'commitments', 'Paradoxically', 'slaves', 'stricken', 'shawl', 'nightclubs', 'guardians', 'rejected', 'Version', 'redecorating', 'continuity', 'crummy', 'putting', 'Sheep', 'included', 'magic', 'delegates', 'policing', 'talk', 'antiques', 'pause', 'Psithyrus', 'neat', 'economist', 'elbow', 'blind', 'missions', 'transmission', 'entertaining', 'reformation', 'format', 'twinge', 'Camusfearna', 'hatchet', 'carrying', 'zest', 'ridge', 'complains', \"dentist's\", 'Associate', 'currents', 'restrictive', 'dancer', 'unhurried', 'founder', 'context', 'teacher', 'underworld', 'forwarded', 'splendor', 'Given', 'thoughtfully', 'Opera', 'emeralds', 'snake', 'slipped', 'competent', 'Gap', 'accepting', 'Front', 'pertains', 'Hanch', 'Eileen', 'remembering', 'consumption', 'probe', 'Karipo', 'escorted', 'posterior', 'critically', 'certificate', 'blades', 'frills', 'creator', 'phoned', 'lemon', 'easier', 'snatch', 'mustached', 'retiring', 'faithful', 'diluted', 'Jay', 'workings', 'Depew', '1952', 'occurrence', 'collagen', 'invariably', 'hymns', 'inspection', 'Dalton', 'nearest', 'owe', 'Gray', 'participate', 'thermocouple', 'awoke', 'undeniable', 'textures', 'hys', 'simultaneously', 'dispatch', 'vomiting', 'may', 'East-West', 'hamburgers', 'Nice', 'fortune', 'Honolulu', 'Code', \"an'\", 'assurances', 'filly', 'accuse', 'fosters', 'Conferences', 'outdo', 'raft', 'extrapolated', 'Jan', 'Wise', 'insert', 'bearer', 'Continuing', 'doctors', 'cordial', 'visually', 'Modern', 'summon', 'smash', 'switches', 'congenial', 'surround', 'counteract', 'Adoniram', 'shots', 'red-haired', 'saddlebags', 'arm', 'opaque', 'paw', 'Worcestershire', 'Brazilian', 'paragraph', 'disarming', 'slovenly', 'arising', 'chick', 'impair', 'aspirations', 'gamblers', 'averaged', 'Neil', 'schedules', 'scurried', '1961', 'waking', 'themselves', 'diarrhoea', 'relinquished', 'fractionation', 'suffrage', 'sipping', 'momentum', 'nigger', 'buttons', 'Remember', 'alphabetical', 'rooster', 'Barth', 'innate', 'renditions', 'coolant', 'tearing', 'high-pitched', 'servo', 'savagely', 'defines', 'industrious', 'behaved', 'After', 'contrast', 'laboratory', 'adaptation', 'limbs', 'kennings', 'interrupted', 'until', 'rattlesnake', 'shoe', 'parallel', 'buns', 'Watson', 'fierce', \"everyone's\", 'outlined', 'shortened', 'week-end', 'Malcolm', 'cetera', 'essential', 'presidential', 'underwriters', 'WTV', 'umbrellas', 'highball', 'ultracentrifugation', 'starch', 'icy', 'skin', 'Kay', 'sexes', 'snakes', 'dirt', 'won', 'executive', 'monsters', 'well-made', 'tremendous', 'discussions', 'subject', 'rounds', 'unadjusted', 'laws', 'seventy', \"Navy's\", 'Plans', 'titles', 'feed', 'Greg', 'buses', 'Origen', 'listing', 'exhibit', \"today's\", 'reject', 'deviations', 'wiser', 'hard-surface', 'Philippine', 'Reformed', 'frequent', 'centuries', 'oxygen', 'Georgian', 'monopolies', 'analytic', 'convulsive', 'expansions', 'destination', 'itch', 'drunkenly', 'experience', 'paot', 'meager', 'frantically', 'Bell', 'proliferation', 'unfavorable', 'midday', 'V', 'penned', 'Jew', 'longstanding', 'constriction', 'billion', 'devastating', 'Theresa', 'speaks', \"Krim's\", 'radiochlorine', 'contended', 'ceases', 'legs', 'Ulanys', 'Pedersen', 'crests', 'sell', 'F', 'currencies', 'shaded', 'redeposition', 'Negroes', 'novelists', 'bastard', 'dumping', 'totally', 'sum', 'Johnson', \"lieutenant's\", 'suitably', 'marched', 'five', 'enjoyment', 'remaining', 'feather', 'attractions', 'vehicles', 'quit', 'churchyard', 'Fuller', 'vaudeville', 'parameter', 'particularly', 'guided', 'cubic', 'prime', 'Faget', 'ye', 'Boys', 'Experts', 'Volunteers', 'cousins', 'endings', 'IBM', 'over-all', 'clamping', 'contempt', 'However', 'heavy', 'peppery', 'Grubb', 'Lemon', 'rite', 'susceptible', 'restorability', '18th', 'interpretations', 'selects', 'Louis', 'devised', 'turtle', 'Solicitor', 'charm', 'Confucianism', 'noted', 'predicting', 'gruff', 'pastoral', 'Such', 'LeSourd', 'logging', 'promote', 'version', 'Rich', 'insecure', 'prices', 'U.S.A.', 'Geological', 'midwestern', 'exercised', 'Rio', 'experienced', 'targets', 'swells', 'album', 'Saint', 'communicative', 'spiral', 'deficiency', 'buys', 'umber', 'mighty', 'Eagles', 'staffs', 'wash', 'tablet', 'resemblance', 'analyze', 'Ga.', 'afflicted', 'utterance', 'hunter', 'captivity', 'discount', 'sailboats', 'vain', \"region's\", \"Mantle's\", 'rigidly', '1938', 'associated', 'Viscount', 'relationship', 'great', 'lung', 'examination', 'vague', 'Knife', 'neutral', 'suburbs', 'extremes', 'salt', 'colts', '15%', 'bruise', 'daily', 'distributing', 'testify', 'unsuccessful', 'gifted', 'Olympic', 'Convention', 'wickedness', 'federal', 'achieve', 'blood', 'disturbances', 'attributed', 'portrays', 'miles', 'Dept.', '80', 'Dutch', 'imminent', 'Stengel', 'denominational', 'Inside', 'rocks', 'forceful', 'concepts', 'weeks', 'achievement', 'vases', 'retailing', 'specialize', 'Commissioners', 'Dreams', '12,000', 'Stephen', 'strike', 'Autocracies', 'Happened', 'congressional', 'park', 'painless', 'rigged', \"there's\", 'holocaust', 'authorized', 'Spanish', '2nd', 'Schillinger', '24th', 'Adelia', 'cream', 'cities', 'designated', 'slanderer', 'refine', 'deduced', 'Rural', 'suitable', 'Pfaff', 'tappet', 'prophesied', 'Nothing', 'Escape', 'radiated', 'apartments', 'Anderson', '108', 'weekends', 'overlooks', 'hypothesis', 'Shylock', 'endurance', 'plots', 'sound', 'fails', 'debt', 'tear', 'Mizell', '$60', 'Maurice', 'moral', \"Chicago's\", 'cynics', 'decrees', 'Sitting', 'amorphous', 'excellent', \"one's\", 'post-attack', 'charities', 'continuously', '230', 'constellations', 'upsurge', 'chattering', 'frustrating', 'Structural', 'Rome', \"weren't\", 'est', 'virginity', 'exotic', 'lungs', 'Hayes', 'feeding', 'Puritan', 'House', 'Park', 'approximate', 'Rickards', 'Rh', '1-1/2', 'budge', 'faith', 'Hitler', 'jokes', 'hugging', 'Nine', 'Colmer', 'persists', 'filmed', '420', 'journalism', 'super', 'frontage', 'Griffin', 'Newspaper', 'twenty-three', 'constituent', 'tossed', 'medicine', 'tennis', 'shuffle', 'health', 'distinction', 'liberation', 'Stormy', 'we', 'determine', 'molecule', 'minerals', 'hang', 'landscape', 'Gospel', 'Rev.', 'vociferous', 'jumbled', 'depth', 'radically', 'laid', 'panel', 'grenade', 'Mine', 'sank', 'presumption', 'shouting', 'Cabinet', 'wicker', 'inspector', 'climate', 'single-valued', 'sacrifice', 'Ridge', 'reformer', 'rating', 'fussy', 'adjectives', 'Shakespeare', 'grapevine', 'strivings', 'recordings', 'unduly', 'peacetime', 'preparatory', 'nuclei', 'scrutiny', 'Study', '30,000', 'swords', 'females', 'pirouette', 'motley', 'Zoo', 'Rankin', 'Medfield', 'Pat', 'Remembering', 'oriented', 'erroneous', 'fruitful', 'smile', 'customarily', 'pertaining', 'pajamas', 'Bach', 'racketeers', 'breeze', 'purple', 'sunrise', 'utter', 'facing', 'workshop', 'Will', 'electoral', 'interminable', 'heritage', 'diplomats', 'Howard', 'upside', 'entities', 'incoming', 'Offices', 'makeshift', 'button', 'frowned', 'tackle', 'residents', 'existed', 'organdy', 'grandchildren', 'mantel', 'economic', 'launching', 'Beatie', \"Nick's\", 'Forest', 'pursue', 'artfully', 'prospective', 'crowned', '31', 'programmer', 'vineyards', 'symptom', 'reconstruction', 'Survey', '1902', 'postwar', 'greedy', 'Federation', 'eighteenth', 'smiled', 'bewildered', 'apart', 'horrible', 'attraction', 'extant', 'labor', 'otherwise', 'Hardwick', 'Ron', 'dusk', 'Note', 'genesis', 'weakly', 'possesses', \"Edward's\", 'alive', 'limitation', 'senses', 'benevolence', 'Germany', 'commentator', 'adequately', 'kidney', 'solvent', 'accept', 'gratuitous', 'teasing', 'psychology', 'puts', 'safe', 'equals', 'party', '64', 'saleslady', 'Praisegod', 'relentlessly', 'mill', 'managers', 'fascination', \"Haven't\", 'scooted', 'pro-Communist', 'nickel', 'slumped', 'frescoes', 'trustees', 'census', 'investment', 'abreast', 'facility', 'sore', 'barest', 'aerial', 'telephoning', 'Dunne', 'laughed', 'agent', 'clam', 'Body', 'bugging', 'Trujillo', 'C-plane', 'pepper', 'installation', 'swivel', 'mentions', 'classroom', 'galley', 'kitchenette', 'nominally', 'Erikson', '1947', 'eighteenth-century', 'prisoner', 'overtake', 'Moroccan', 'cooler', 'exact', 'military', 'murderous', 'inescapable', 'tournaments', 'relying', 'ADC', 'April', 'prisons', 'underground', 'minimized', 'batteries', 'providing', 'leaflets', 'reservations', 'Matilda', 'translated', 'pulls', 'Ted', 'anti-Semitism', 'outraged', 'Assembly', '2-1/2', 'Jude', '1872', 'disbelief', 'Twentieth', 'disillusionment', 'year-round', 'Independence', 'Squire', 'microscopy', 'smelt', 'Corinthians', 'neutralism', 'extending', 'Committees', 'reckless', 'experimenting', 'Calcium', 'Stewart', 'ten-year', 'shrewd', 'consulting', 'typically', 'Up', 'loathsome', 'raids', 'discouraged', 'migratory', 'mansion', 'provinces', 'Mahler', 'essentially', 'bury', 'decorating', 'alarmed', 'frequencies', 'radio', 'peculiar', 'employed', 'offended', 'factors', \"David's\", 'drawings', 'excessively', 'translate', 'spray', 'eve', 'mainly', 'vicinity', 'bulky', 'Happy', 'dimension', 'patched', 'sparkling', 'mania', 'Unfortunately', 'guise', 'hydrocarbon', 'insists', 'Fulke', 'Cafe', 'sheriffs', 'strikes', 'part-time', 'overrun', 'sick', 'padded', 'Making', 'hateful', 'request', 'hoofs', 'continents', 'anti-trust', 'structure', 'consummation', \"I've\", 'blended', 'Wade-Evans', 'approval', 'attacker', 'medical', 'airmail', 'nodding', 'Substances', 'freeholders', 'dissociation', 'permitted', 'printing', 'controversies', 'Ory', 'cannery', 'ideology', 'weigh', 'intuitive', 'Eighth', 'confederacy', 'executions', 'disturb', 'logs', 'mm', 'Mich.', 'crumpled', 'metaphor', 'attach', 'dairy', 'hitters', 'brilliance', 'Masonic', 'mystery', 'eliminate', 'storm', 'practicing', 'buck', 'Delta', 'skepticism', 'typing', 'specify', 'Marsicano', 'indebted', 'plants', 'distinctly', 'Nam', 'Gansevoort', 'Stronghold', 'barefoot', 'Rawson', 'quarters', 'revolutionary', 'Burr', 'typicality', 'phosphor', 'blackout', '47', 'pussy', 'imaginary', \"po'k\", \"university's\", 'smashed', 'Hon.', 'pride', 'packing', 'declares', 'aspect', 'zing', 'waged', 'lined', \"Garibaldi's\", 'features', 'offered', '$400', 'Aegean', 'statements', 'Laotian', 'Page', 'maze', 'vary', 'time-honored', 'commission', 'Alpha', 'defenders', 'hearts', 'development', 'Adolf', 'disks', 'telephoned', 'unawareness', 'aspiration', '50', 'cheery', 'Galli', 'raced', 'hearings', 'hungry', 'direct', 'ditch', \"Spencer's\", \"Schnabel's\", 'enthusiasts', 'fatally', 'dwindling', 'polar', 'Taras', 'agreed', 'Never', 'Sicily', 'verification', '10-year', 'stark', 'theorem', 'Jaguar', 'crystallization', \"Lumumba's\", 'therein', 'commercially', 'Seigner', 'compulsion', 'intent', 'formulaic', 'compromise', 'league', 'dam', 'middle-class', 'biography', 'tighten', 'invite', 'dynasty', 'papers', 'orchestration', 'muscle', 'Tucker', 'justifiable', 'pretend', 'confident', 'new-found', 'inspiring', 'love-making', 'Cossacks', 'Santayana', 'confronting', 'embarrassing', 'Agriculture', 'summers', 'Metrecal', 'tsunami', 'redcoat', 'boatman', 'survey', 'do-it-yourself', 'cheeks', 'footing', 'antique', 'engagement', 'Families', 'Connecticut', 'ecstatic', \"officer's\", 'alcoholic', 'Americana', 'periodical', \"Carl's\", 'True', 'post', 'Guam', 'toss', \"Lee's\", 'Rather', 'dump', 'digestive', 'satirical', 'Mobile', 'hypocrisy', 'largely', 'Packard', 'orthodontics', 'desks', 'Lucian', 'layers', 'Northerners', 'Commander', 'bids', 'python', 'elite', 'vengeance', 'coin', 'collecting', 'option', 'null', 'Houston', 'props', \"Tilghman's\", 'embarrassed', 'hardy', '30th', 'equating', 'cribs', 'lip', 'Am', 'flushed', 'outspoken', 'Slater', 'choreographers', 'posted', 'loath', 'resistor', 'stubborn', 'subsequently', 'twirler', 'justly', 'involved', '5000', 'pitch', 'buddies', 'chose', 'Services', 'acceptance', 'Continental', 'insides', 'sport', 'posterity', \"Wouldn't\", 'debate', 'vital', 'Bronx', 'melodies', 'deliberations', 'unimpressed', 'proposes', 'seconds', 'lain', 'ranging', 'Clarence', 'therewith', 'Tucson', 'disadvantage', 'gasps', 'preferential', 'plead', 'conviction', 'confessed', 'keynote', 'cultured', 'Marina', 'artists', 'towering', '**zg', 'Mosque', 'proceeded', 'ultimately', 'capitalism', 'Mitchell', 'sacrifices', 'publish', 'dully', 'Had', 'Everett', 'few', 'beef', 'Loan', 'attire', 'Heart', 'enrichment', 'Though', 'exasperation', 'neck', 'proficient', 'Sweden', 'Kimmell', 'Boards', '1821', 'allow', 'Not', 'bathe', 'faculty', 'plucked', 'taking', 'fragment', 'consequently', 'spectator', 'crippled', 'ruthless', 'dinners', 'socialism', 'studies', 'Talk', 'possibilities', 'interaction', 'Choctaws', 'sine', 'Jist', 'descriptions', 'convenient', 'robbed', 'C', 'breathe', 'tripled', 'looked', 'odor', 'infestations', 'reservoirs', 'opera', 'pillars', 'receivers', 'pleura', 'Communication', 'Goodis', 'candy', '53', 'Jen', 'Islamic', 'booking', 'slab', 'every', 'sow', 'signal', 'Screvane', 'admire', 'repel', 'strain', 'gasped', 'relatives', 'upstream', 'apologetically', \"it'll\", 'grill', 'conformation', 'sixteen', 'carload', 'assisted', 'quick', \"won't\", 'Twenty', 'shaking', 'police', 'factual', 'attorney', \"Wally's\", 'landscapes', 'Harlem', '$5000', 'anti-monopoly', 'alignment', 'Kearton', \"Britain's\", 'sweating', 'Iron', 'Right', 'owners', 'drew', 'Hungarian', 'startling', 'deceptive', \"corporation's\", 'bump', 'screeching', 'rhythmic', 'representatives', 'misery', \"Miller's\", 'shielded', \"Pont's\", 'derive', 'guarded', 'Germans', 'drum', ')', 'Tony', 'charting', 'benefits', 'Bond', 'spire', 'musicals', 'automobile', 'Assistant', 'wheat', 'surrounded', 'Cooperatives', 'fine', 'reviewed', 'Outdoor', 'Fisher', '1789', 'gyro', 'erupted', 'length', 'one-room', 'bequests', 'credo', 'predict', 'snack', 'whole-wheat', '75,000', 'Simpkins', 'expedition', 'Stettin', 'blindly', 'mock', 'angry', \"O'Connor\", 'backs', 'trips', 'two-year', 'weapons', 'acquaint', 'registering', 'Japs', \"neighbor's\", 'Hillsboro', 'Brave', 'deeds', 'audio-visual', \"latter's\"]\n"
     ]
    }
   ],
   "source": [
    "brown_unique_words = set(brown.words())\n",
    "brown_fd=nltk.FreqDist(brown.words())\n",
    "at_least_3times=[word for word in brown_unique_words if brown_fd[word]>2]\n",
    "print(at_least_3times)"
   ]
  },
  {
   "cell_type": "markdown",
   "id": "cd996719",
   "metadata": {},
   "source": [
    "**16.Write a program to generate a table of lexical diversity scores (i.e. token/type ratios), as we saw in 1.1. Include the full set of Brown Corpus genres `(nltk.corpus.brown.categories())`. Which genre has the lowest diversity (greatest number of tokens per type)? Is this what you would have expected?**"
   ]
  },
  {
   "cell_type": "code",
   "execution_count": null,
   "id": "7928c2a2",
   "metadata": {},
   "outputs": [],
   "source": [
    "print(\"Category, Tokens, Types, Lexical Diversity\")\n",
    "for cat in nltk.corpus.brown.categories():\n",
    "    category_words = brown.words(categories=cat)\n",
    "    print(cat,len(category_words),len(set(category_words)),lexical_diversity(category_words))"
   ]
  },
  {
   "cell_type": "code",
   "execution_count": null,
   "id": "32d86254",
   "metadata": {},
   "outputs": [],
   "source": []
  },
  {
   "cell_type": "markdown",
   "id": "e78ef3a3",
   "metadata": {},
   "source": [
    "**17.Write a function that finds the 50 most frequently occurring words of a text that are not stopwords.**"
   ]
  },
  {
   "cell_type": "code",
   "execution_count": 302,
   "id": "cb6d17bc",
   "metadata": {},
   "outputs": [],
   "source": [
    "# stopwords:high-frequency words,should be filtered out before further processing\n",
    "def top_freq_non_stopwords(num,text): # text type list\n",
    "    stpwds = stopwords.words('english')\n",
    "    # Get frequency dist of the text\n",
    "    words_fd_include = nltk.FreqDist(text)\n",
    "    # sort dist by frequency\n",
    "    words_fd_sort = sorted(words_fd_include.items(),key=lambda w:w[1],reverse=True)\n",
    "    # exclude stopwords\n",
    "    words_fd_exclude = [w[0] for w in words_fd_sort if w[0].lower() not in stpwds and w[0].lower().isalpha()]\n",
    "    return words_fd_exclude[0:num]"
   ]
  },
  {
   "cell_type": "code",
   "execution_count": 303,
   "id": "75e5f85d",
   "metadata": {
    "scrolled": true
   },
   "outputs": [
    {
     "data": {
      "text/plain": [
       "['one',\n",
       " 'would',\n",
       " 'said',\n",
       " 'could',\n",
       " 'time',\n",
       " 'two',\n",
       " 'may',\n",
       " 'first',\n",
       " 'like',\n",
       " 'man',\n",
       " 'made',\n",
       " 'new',\n",
       " 'must',\n",
       " 'also',\n",
       " 'Af',\n",
       " 'even',\n",
       " 'back',\n",
       " 'years',\n",
       " 'many',\n",
       " 'much',\n",
       " 'way',\n",
       " 'people',\n",
       " 'little',\n",
       " 'make',\n",
       " 'good',\n",
       " 'well',\n",
       " 'work',\n",
       " 'men',\n",
       " 'still',\n",
       " 'see',\n",
       " 'get',\n",
       " 'long',\n",
       " 'world',\n",
       " 'know',\n",
       " 'life',\n",
       " 'might',\n",
       " 'us',\n",
       " 'never',\n",
       " 'year',\n",
       " 'last',\n",
       " 'day',\n",
       " 'came',\n",
       " 'used',\n",
       " 'great',\n",
       " 'go',\n",
       " 'right',\n",
       " 'come',\n",
       " 'take',\n",
       " 'New',\n",
       " 'another']"
      ]
     },
     "execution_count": 303,
     "metadata": {},
     "output_type": "execute_result"
    }
   ],
   "source": [
    "top_freq_non_stopwords(50,brown.words())"
   ]
  },
  {
   "cell_type": "code",
   "execution_count": 298,
   "id": "3eb2b3bb",
   "metadata": {},
   "outputs": [],
   "source": [
    "# SOLUTION 2\n",
    "def top_freq_nt_stpwds(num,text):\n",
    "    # fd that includes stop words\n",
    "    most_freq_50_fd = nltk.FreqDist(text)\n",
    "    words=[word for word in most_freq_50_fd]\n",
    "    # fd that excludes stop words\n",
    "    for word in words:\n",
    "        if word.lower() in nltk.corpus.stopwords.words('english') or not word.isalpha():\n",
    "            most_freq_50_fd.pop(word)\n",
    "    # use .most_common() method to find top frequent words\n",
    "    return most_freq_50_fd.most_common(num)"
   ]
  },
  {
   "cell_type": "code",
   "execution_count": 299,
   "id": "dcf590c8",
   "metadata": {
    "scrolled": true
   },
   "outputs": [
    {
     "data": {
      "text/plain": [
       "[('one', 2873),\n",
       " ('would', 2677),\n",
       " ('said', 1943),\n",
       " ('could', 1580),\n",
       " ('time', 1556),\n",
       " ('two', 1311),\n",
       " ('may', 1292),\n",
       " ('first', 1242),\n",
       " ('like', 1237),\n",
       " ('man', 1151),\n",
       " ('made', 1122),\n",
       " ('new', 1060),\n",
       " ('must', 1003),\n",
       " ('also', 999),\n",
       " ('Af', 995),\n",
       " ('even', 985),\n",
       " ('back', 950),\n",
       " ('years', 943),\n",
       " ('many', 925),\n",
       " ('much', 900),\n",
       " ('way', 892),\n",
       " ('people', 811),\n",
       " ('little', 788),\n",
       " ('make', 768),\n",
       " ('good', 767),\n",
       " ('well', 757),\n",
       " ('work', 755),\n",
       " ('men', 736),\n",
       " ('still', 731),\n",
       " ('see', 728),\n",
       " ('get', 719),\n",
       " ('long', 713),\n",
       " ('world', 684),\n",
       " ('know', 679),\n",
       " ('life', 676),\n",
       " ('might', 670),\n",
       " ('us', 670),\n",
       " ('never', 664),\n",
       " ('year', 649),\n",
       " ('last', 636),\n",
       " ('day', 623),\n",
       " ('came', 621),\n",
       " ('used', 610),\n",
       " ('great', 608),\n",
       " ('go', 605),\n",
       " ('right', 597),\n",
       " ('come', 589),\n",
       " ('take', 577),\n",
       " ('New', 575),\n",
       " ('another', 573)]"
      ]
     },
     "execution_count": 299,
     "metadata": {},
     "output_type": "execute_result"
    }
   ],
   "source": [
    "top_freq_nt_stpwds(50,brown.words())"
   ]
  },
  {
   "cell_type": "markdown",
   "id": "4da071dd",
   "metadata": {},
   "source": [
    "**18.Write a program to print the 50 most frequent bigrams (pairs of adjacent words) of a text, omitting bigrams that contain stopwords.**"
   ]
  },
  {
   "cell_type": "code",
   "execution_count": 322,
   "id": "ad97751d",
   "metadata": {},
   "outputs": [
    {
     "data": {
      "text/plain": [
       "tuple"
      ]
     },
     "execution_count": 322,
     "metadata": {},
     "output_type": "execute_result"
    }
   ],
   "source": [
    "stpwds = stopwords.words('english')\n",
    "bgrms = list(nltk.bigrams(brown.words()))"
   ]
  },
  {
   "cell_type": "code",
   "execution_count": null,
   "id": "16e28f2f",
   "metadata": {},
   "outputs": [],
   "source": [
    "def top_freq_bigrams(num,text):\n",
    "    stpwds = stopwords.words('english')\n",
    "    bgrms = nltk.bigrams(text)\n",
    "    lst = list(nltk.bigrams(text))\n",
    "    for bundle in lst:\n",
    "        if (bundle[0] or bundle[1] in stpwds) or not bundle[0].isalpha() or bundle[1].isalpha():\n",
    "            bgrms.remove(bundle)\n",
    "    return bgrms.most_common(num)"
   ]
  },
  {
   "cell_type": "code",
   "execution_count": null,
   "id": "8ee5eb82",
   "metadata": {},
   "outputs": [],
   "source": [
    "top_freq_bigrams(50,brown.words())"
   ]
  },
  {
   "cell_type": "markdown",
   "id": "dd8b0e13",
   "metadata": {},
   "source": [
    "## exercise 2.8.23 on Zipf's law"
   ]
  },
  {
   "cell_type": "markdown",
   "id": "42e5bdfe",
   "metadata": {},
   "source": [
    "**23. Zipf's Law: Let f(w) be the frequency of a word w in free text. Suppose that all the words of a text are ranked according to their frequency, with the most frequent word first. Zipf's law states that the frequency of a word type is inversely proportional to its rank (i.e. f × r = k, for some constant k). For example, the 50th most common word type should occur three times as frequently as the 150th most common word type.**"
   ]
  },
  {
   "cell_type": "markdown",
   "id": "3d22a4a2",
   "metadata": {},
   "source": [
    "_a. Write a function to process a large text and plot word frequency against word rank using pylab.plot. Do you confirm Zipf's law? (Hint: it helps to use a logarithmic scale). What is going on at the extreme ends of the plotted line?_"
   ]
  },
  {
   "cell_type": "code",
   "execution_count": 671,
   "id": "efd9d91f",
   "metadata": {},
   "outputs": [],
   "source": [
    "def zipfs_law(text): # text: string/list\n",
    "    import pylab,math\n",
    "    # get word frequency distribution\n",
    "    fqds = nltk.FreqDist(text)\n",
    "    # get word frequency list and word rank\n",
    "    freq = [fqds[wd] for wd in fqds]\n",
    "    num = max(freq)\n",
    "    rank = range(len(freq))\n",
    "    \n",
    "    # plot word frequency against word rank\n",
    "    pylab.plot(rank,freq)\n",
    "    \n",
    "    # set limits,scales,labels and title of the plot\n",
    "    limy = math.log(num,10)+1\n",
    "    iimx = math.log(len(freq),10)+1\n",
    "    \n",
    "    pylab.ylim(10**0, 10**limy)\n",
    "    pylab.yscale('log')\n",
    "    pylab.xlim(10**0, 10**iimx)\n",
    "    pylab.xscale('log')\n",
    "    pylab.xlabel('word rank')\n",
    "    pylab.ylabel('word frequency')\n",
    "    pylab.title('Zipf\\'s law')"
   ]
  },
  {
   "cell_type": "code",
   "execution_count": 672,
   "id": "4be8387c",
   "metadata": {
    "scrolled": true
   },
   "outputs": [
    {
     "data": {
      "image/png": "[encoded data removed]",
      "text/plain": [
       "<Figure size 432x288 with 1 Axes>"
      ]
     },
     "metadata": {
      "needs_background": "light"
     },
     "output_type": "display_data"
    }
   ],
   "source": [
    "zipfs_law(zelda_text)"
   ]
  },
  {
   "cell_type": "markdown",
   "id": "2da777b7",
   "metadata": {},
   "source": [
    "_b. Generate random text, e.g., using `random.choice(\"abcdefg \")`, taking care to include the space character. You will need to `import random` first. Use the string concatenation operator to accumulate characters into a (very) long string. Then tokenize this string, and generate the Zipf plot as before, and compare the two plots. What do you make of Zipf's Law in the light of this?_"
   ]
  },
  {
   "cell_type": "code",
   "execution_count": 696,
   "id": "06cb09fa",
   "metadata": {},
   "outputs": [],
   "source": [
    "def rand_text(text,times):\n",
    "    import random,nltk\n",
    "    rands = ''\n",
    "    for i in range(1000):\n",
    "        rands+=random.choice(text)+' ' #include the space character\n",
    "    # tokenize the concatenation string \n",
    "    tokens = [token for token in nltk.word_tokenize(rands) if token.isalpha()]\n",
    "    return tokens"
   ]
  },
  {
   "cell_type": "code",
   "execution_count": 697,
   "id": "2176d7b0",
   "metadata": {
    "scrolled": true
   },
   "outputs": [
    {
     "data": {
      "image/png": "[encoded data removed]",
      "text/plain": [
       "<Figure size 432x288 with 1 Axes>"
      ]
     },
     "metadata": {
      "needs_background": "light"
     },
     "output_type": "display_data"
    }
   ],
   "source": [
    "rdtxt = rand_text(zelda_text,10000)\n",
    "zipfs_law(rdtxt)"
   ]
  },
  {
   "cell_type": "markdown",
   "id": "2426d6e1",
   "metadata": {},
   "source": [
    "**What do you make of Zipf's Law in the light of this?**<br>\n",
    "The rank-frequency distribution is an inverse relation. Word ranks high are more frequent. It's related to power law distribution."
   ]
  },
  {
   "cell_type": "markdown",
   "id": "7c4a989d",
   "metadata": {},
   "source": [
    "**Connection between Zipf's law and X property of the Barabasi-Albert networks**"
   ]
  },
  {
   "cell_type": "markdown",
   "id": "43df9066",
   "metadata": {},
   "source": [
    "They are both scale-free and have preferential attachment mechanism. This multiplicative stochastic growth process New nodes are more likely to connect with exsiting nodes with large degrees. "
   ]
  },
  {
   "cell_type": "markdown",
   "id": "a1afbfcc",
   "metadata": {},
   "source": [
    "**Other important instances of power-laws found on the internet.**"
   ]
  },
  {
   "cell_type": "markdown",
   "id": "164f4e43",
   "metadata": {},
   "source": [
    "1. It is present at social platforms. Top influencers have millions followers, while most have only a few. Besides, a number of posts attract enormous attention(like,comment,share) while some posts have few popularity.\n",
    "2. In vedio sharing websites like Youtube, a small subset of the whole will get a disproportionate amount of traffic.\n",
    "3. For digital newspaper forum, while there are millions of blogs out there, a relatively small number of them attract most of the readership."
   ]
  }
 ],
 "metadata": {
  "kernelspec": {
   "display_name": "Python 3",
   "language": "python",
   "name": "python3"
  },
  "language_info": {
   "codemirror_mode": {
    "name": "ipython",
    "version": 3
   },
   "file_extension": ".py",
   "mimetype": "text/x-python",
   "name": "python",
   "nbconvert_exporter": "python",
   "pygments_lexer": "ipython3",
   "version": "3.8.8"
  },
  "toc": {
   "base_numbering": 1,
   "nav_menu": {},
   "number_sections": true,
   "sideBar": true,
   "skip_h1_title": false,
   "title_cell": "Table of Contents",
   "title_sidebar": "Contents",
   "toc_cell": false,
   "toc_position": {
    "height": "calc(100% - 180px)",
    "left": "10px",
    "top": "150px",
    "width": "166.065px"
   },
   "toc_section_display": true,
   "toc_window_display": false
  }
 },
 "nbformat": 4,
 "nbformat_minor": 5
}
